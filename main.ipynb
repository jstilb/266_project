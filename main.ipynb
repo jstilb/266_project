{
 "cells": [
  {
   "cell_type": "code",
   "execution_count": 1,
   "id": "4c98004b",
   "metadata": {},
   "outputs": [
    {
     "name": "stdout",
     "output_type": "stream",
     "text": [
      "/bin/bash: /home/jstil/miniconda3/envs/tf/lib/libtinfo.so.6: no version information available (required by /bin/bash)\n",
      "Defaulting to user installation because normal site-packages is not writeable\n",
      "Requirement already satisfied: transformers in /home/jstil/.local/lib/python3.10/site-packages (4.23.1)\n",
      "Requirement already satisfied: filelock in /home/jstil/.local/lib/python3.10/site-packages (from transformers) (3.8.0)\n",
      "Requirement already satisfied: packaging>=20.0 in /home/jstil/.local/lib/python3.10/site-packages (from transformers) (21.3)\n",
      "Requirement already satisfied: regex!=2019.12.17 in /home/jstil/.local/lib/python3.10/site-packages (from transformers) (2022.9.13)\n",
      "Requirement already satisfied: tokenizers!=0.11.3,<0.14,>=0.11.1 in /home/jstil/.local/lib/python3.10/site-packages (from transformers) (0.13.1)\n",
      "Requirement already satisfied: huggingface-hub<1.0,>=0.10.0 in /home/jstil/.local/lib/python3.10/site-packages (from transformers) (0.10.1)\n",
      "Requirement already satisfied: pyyaml>=5.1 in /usr/lib/python3/dist-packages (from transformers) (5.3.1)\n",
      "Requirement already satisfied: tqdm>=4.27 in /home/jstil/.local/lib/python3.10/site-packages (from transformers) (4.64.1)\n",
      "Requirement already satisfied: requests in /usr/lib/python3/dist-packages (from transformers) (2.22.0)\n",
      "Requirement already satisfied: numpy>=1.17 in /usr/lib/python3/dist-packages (from transformers) (1.17.4)\n",
      "Requirement already satisfied: typing-extensions>=3.7.4.3 in /home/jstil/.local/lib/python3.10/site-packages (from huggingface-hub<1.0,>=0.10.0->transformers) (4.4.0)\n",
      "Requirement already satisfied: pyparsing!=3.0.5,>=2.0.2 in /usr/lib/python3/dist-packages (from packaging>=20.0->transformers) (2.4.6)\n",
      "/bin/bash: /home/jstil/miniconda3/envs/tf/lib/libtinfo.so.6: no version information available (required by /bin/bash)\n",
      "Defaulting to user installation because normal site-packages is not writeable\n",
      "Requirement already satisfied: sentencepiece in /home/jstil/.local/lib/python3.10/site-packages (0.1.97)\n",
      "/bin/bash: /home/jstil/miniconda3/envs/tf/lib/libtinfo.so.6: no version information available (required by /bin/bash)\n",
      "Defaulting to user installation because normal site-packages is not writeable\n",
      "Requirement already satisfied: openpyxl in /home/jstil/.local/lib/python3.10/site-packages (3.0.10)\n",
      "Requirement already satisfied: et-xmlfile in /home/jstil/.local/lib/python3.10/site-packages (from openpyxl) (1.1.0)\n"
     ]
    }
   ],
   "source": [
    "!pip install transformers\n",
    "!pip install sentencepiece\n",
    "!pip install openpyxl"
   ]
  },
  {
   "cell_type": "code",
   "execution_count": 24,
   "id": "17d087bd",
   "metadata": {},
   "outputs": [
    {
     "name": "stdout",
     "output_type": "stream",
     "text": [
      "/bin/bash: /home/jstil/miniconda3/envs/tf/lib/libtinfo.so.6: no version information available (required by /bin/bash)\n",
      "Sat Oct 29 10:02:46 2022       \n",
      "+-----------------------------------------------------------------------------+\n",
      "| NVIDIA-SMI 520.61.05    Driver Version: 522.25       CUDA Version: 11.8     |\n",
      "|-------------------------------+----------------------+----------------------+\n",
      "| GPU  Name        Persistence-M| Bus-Id        Disp.A | Volatile Uncorr. ECC |\n",
      "| Fan  Temp  Perf  Pwr:Usage/Cap|         Memory-Usage | GPU-Util  Compute M. |\n",
      "|                               |                      |               MIG M. |\n",
      "|===============================+======================+======================|\n",
      "|   0  NVIDIA GeForce ...  On   | 00000000:01:00.0  On |                  N/A |\n",
      "| N/A   60C    P8    16W /  N/A |   6889MiB /  8192MiB |      8%      Default |\n",
      "|                               |                      |                  N/A |\n",
      "+-------------------------------+----------------------+----------------------+\n",
      "                                                                               \n",
      "+-----------------------------------------------------------------------------+\n",
      "| Processes:                                                                  |\n",
      "|  GPU   GI   CI        PID   Type   Process name                  GPU Memory |\n",
      "|        ID   ID                                                   Usage      |\n",
      "|=============================================================================|\n",
      "|    0   N/A  N/A     27636      C   /python3.10                     N/A      |\n",
      "+-----------------------------------------------------------------------------+\n"
     ]
    }
   ],
   "source": [
    "!nvidia-smi"
   ]
  },
  {
   "cell_type": "code",
   "execution_count": 1,
   "id": "952491bf",
   "metadata": {},
   "outputs": [
    {
     "name": "stderr",
     "output_type": "stream",
     "text": [
      "2022-11-04 21:47:04.413629: I tensorflow/core/platform/cpu_feature_guard.cc:193] This TensorFlow binary is optimized with oneAPI Deep Neural Network Library (oneDNN) to use the following CPU instructions in performance-critical operations:  AVX2 FMA\n",
      "To enable them in other operations, rebuild TensorFlow with the appropriate compiler flags.\n",
      "2022-11-04 21:47:04.831198: E tensorflow/stream_executor/cuda/cuda_blas.cc:2981] Unable to register cuBLAS factory: Attempting to register factory for plugin cuBLAS when one has already been registered\n",
      "2022-11-04 21:47:05.497730: W tensorflow/stream_executor/platform/default/dso_loader.cc:64] Could not load dynamic library 'libnvinfer.so.7'; dlerror: libnvinfer.so.7: cannot open shared object file: No such file or directory; LD_LIBRARY_PATH: :/home/jstil/miniconda3/envs/tf/lib/\n",
      "2022-11-04 21:47:05.499515: W tensorflow/stream_executor/platform/default/dso_loader.cc:64] Could not load dynamic library 'libnvinfer_plugin.so.7'; dlerror: libnvinfer_plugin.so.7: cannot open shared object file: No such file or directory; LD_LIBRARY_PATH: :/home/jstil/miniconda3/envs/tf/lib/\n",
      "2022-11-04 21:47:05.499525: W tensorflow/compiler/tf2tensorrt/utils/py_utils.cc:38] TF-TRT Warning: Cannot dlopen some TensorRT libraries. If you would like to use Nvidia GPU with TensorRT, please make sure the missing libraries mentioned above are installed properly.\n"
     ]
    }
   ],
   "source": [
    "import sys\n",
    "import os\n",
    "import time\n",
    "import re\n",
    "import random\n",
    "from typing import Dict, List, Optional, Union\n",
    "import pandas as pd\n",
    "import numpy as np\n",
    "import matplotlib.pyplot as plt\n",
    "\n",
    "from sklearn.model_selection import train_test_split, KFold, StratifiedKFold\n",
    "from sklearn.metrics import accuracy_score, f1_score, precision_score, recall_score\n",
    "import tensorflow as tf\n",
    "from transformers import BertTokenizer, BertConfig, TFBertForSequenceClassification\n",
    "from transformers import DistilBertTokenizer, TFDistilBertForSequenceClassification\n",
    "from transformers import RobertaTokenizer, TFRobertaForSequenceClassification\n",
    "from transformers import ElectraTokenizer, TFElectraForSequenceClassification\n",
    "from transformers import XLNetTokenizer, TFXLNetForSequenceClassification\n",
    "from transformers import LongformerTokenizer, TFLongformerForSequenceClassification\n",
    "from transformers import DebertaTokenizer, TFDebertaForSequenceClassification"
   ]
  },
  {
   "cell_type": "code",
   "execution_count": 2,
   "id": "4bf0bdd7",
   "metadata": {},
   "outputs": [],
   "source": [
    "# set seed, TF uses python ramdom and numpy library, so these must also be fixed\n",
    "tf.random.set_seed(0)\n",
    "random.seed(0)\n",
    "np.random.seed(0)\n",
    "os.environ['PYTHONHASHSEED']=str(0)\n",
    "os.environ['TF_DETERMINISTIC_OPS'] = '0'"
   ]
  },
  {
   "cell_type": "code",
   "execution_count": 3,
   "id": "49b41841",
   "metadata": {},
   "outputs": [
    {
     "name": "stderr",
     "output_type": "stream",
     "text": [
      "2022-11-04 21:47:06.781729: I tensorflow/stream_executor/cuda/cuda_gpu_executor.cc:966] could not open file to read NUMA node: /sys/bus/pci/devices/0000:01:00.0/numa_node\n",
      "Your kernel may have been built without NUMA support.\n",
      "2022-11-04 21:47:06.812361: I tensorflow/stream_executor/cuda/cuda_gpu_executor.cc:966] could not open file to read NUMA node: /sys/bus/pci/devices/0000:01:00.0/numa_node\n",
      "Your kernel may have been built without NUMA support.\n",
      "2022-11-04 21:47:06.812878: I tensorflow/stream_executor/cuda/cuda_gpu_executor.cc:966] could not open file to read NUMA node: /sys/bus/pci/devices/0000:01:00.0/numa_node\n",
      "Your kernel may have been built without NUMA support.\n"
     ]
    },
    {
     "data": {
      "text/plain": [
       "[PhysicalDevice(name='/physical_device:CPU:0', device_type='CPU'),\n",
       " PhysicalDevice(name='/physical_device:GPU:0', device_type='GPU')]"
      ]
     },
     "execution_count": 3,
     "metadata": {},
     "output_type": "execute_result"
    }
   ],
   "source": [
    "# see if hardware accelerator available\n",
    "tf.config.experimental.list_physical_devices()"
   ]
  },
  {
   "cell_type": "code",
   "execution_count": 4,
   "id": "f0d1e5d5",
   "metadata": {},
   "outputs": [
    {
     "name": "stderr",
     "output_type": "stream",
     "text": [
      "2022-11-04 21:47:06.829412: I tensorflow/core/platform/cpu_feature_guard.cc:193] This TensorFlow binary is optimized with oneAPI Deep Neural Network Library (oneDNN) to use the following CPU instructions in performance-critical operations:  AVX2 FMA\n",
      "To enable them in other operations, rebuild TensorFlow with the appropriate compiler flags.\n"
     ]
    },
    {
     "data": {
      "text/plain": [
       "'/device:GPU:0'"
      ]
     },
     "execution_count": 4,
     "metadata": {},
     "output_type": "execute_result"
    },
    {
     "name": "stderr",
     "output_type": "stream",
     "text": [
      "2022-11-04 21:47:06.832102: I tensorflow/stream_executor/cuda/cuda_gpu_executor.cc:966] could not open file to read NUMA node: /sys/bus/pci/devices/0000:01:00.0/numa_node\n",
      "Your kernel may have been built without NUMA support.\n",
      "2022-11-04 21:47:06.832958: I tensorflow/stream_executor/cuda/cuda_gpu_executor.cc:966] could not open file to read NUMA node: /sys/bus/pci/devices/0000:01:00.0/numa_node\n",
      "Your kernel may have been built without NUMA support.\n",
      "2022-11-04 21:47:06.833734: I tensorflow/stream_executor/cuda/cuda_gpu_executor.cc:966] could not open file to read NUMA node: /sys/bus/pci/devices/0000:01:00.0/numa_node\n",
      "Your kernel may have been built without NUMA support.\n",
      "2022-11-04 21:47:08.031834: I tensorflow/stream_executor/cuda/cuda_gpu_executor.cc:966] could not open file to read NUMA node: /sys/bus/pci/devices/0000:01:00.0/numa_node\n",
      "Your kernel may have been built without NUMA support.\n",
      "2022-11-04 21:47:08.032904: I tensorflow/stream_executor/cuda/cuda_gpu_executor.cc:966] could not open file to read NUMA node: /sys/bus/pci/devices/0000:01:00.0/numa_node\n",
      "Your kernel may have been built without NUMA support.\n",
      "2022-11-04 21:47:08.032930: I tensorflow/core/common_runtime/gpu/gpu_device.cc:1700] Could not identify NUMA node of platform GPU id 0, defaulting to 0.  Your kernel may not have been built with NUMA support.\n",
      "2022-11-04 21:47:08.033623: I tensorflow/stream_executor/cuda/cuda_gpu_executor.cc:966] could not open file to read NUMA node: /sys/bus/pci/devices/0000:01:00.0/numa_node\n",
      "Your kernel may have been built without NUMA support.\n",
      "2022-11-04 21:47:08.033730: I tensorflow/core/common_runtime/gpu/gpu_device.cc:1616] Created device /device:GPU:0 with 5947 MB memory:  -> device: 0, name: NVIDIA GeForce RTX 2070, pci bus id: 0000:01:00.0, compute capability: 7.5\n"
     ]
    }
   ],
   "source": [
    "tf.test.gpu_device_name()"
   ]
  },
  {
   "cell_type": "code",
   "execution_count": 5,
   "id": "de2780fb",
   "metadata": {},
   "outputs": [
    {
     "data": {
      "text/html": [
       "<div>\n",
       "<style scoped>\n",
       "    .dataframe tbody tr th:only-of-type {\n",
       "        vertical-align: middle;\n",
       "    }\n",
       "\n",
       "    .dataframe tbody tr th {\n",
       "        vertical-align: top;\n",
       "    }\n",
       "\n",
       "    .dataframe thead th {\n",
       "        text-align: right;\n",
       "    }\n",
       "</style>\n",
       "<table border=\"1\" class=\"dataframe\">\n",
       "  <thead>\n",
       "    <tr style=\"text-align: right;\">\n",
       "      <th></th>\n",
       "      <th>sentence</th>\n",
       "      <th>news_link</th>\n",
       "      <th>outlet</th>\n",
       "      <th>topic</th>\n",
       "      <th>type</th>\n",
       "      <th>Label_bias</th>\n",
       "      <th>label_opinion</th>\n",
       "      <th>biased_words</th>\n",
       "    </tr>\n",
       "  </thead>\n",
       "  <tbody>\n",
       "    <tr>\n",
       "      <th>0</th>\n",
       "      <td>The Republican president assumed he was helpin...</td>\n",
       "      <td>http://www.msnbc.com/rachel-maddow-show/auto-i...</td>\n",
       "      <td>msnbc</td>\n",
       "      <td>environment</td>\n",
       "      <td>left</td>\n",
       "      <td>Biased</td>\n",
       "      <td>Expresses writer’s opinion</td>\n",
       "      <td>[]</td>\n",
       "    </tr>\n",
       "    <tr>\n",
       "      <th>1</th>\n",
       "      <td>Though the indictment of a woman for her own p...</td>\n",
       "      <td>https://eu.usatoday.com/story/news/nation/2019...</td>\n",
       "      <td>usa-today</td>\n",
       "      <td>abortion</td>\n",
       "      <td>center</td>\n",
       "      <td>Non-biased</td>\n",
       "      <td>Somewhat factual but also opinionated</td>\n",
       "      <td>[]</td>\n",
       "    </tr>\n",
       "    <tr>\n",
       "      <th>2</th>\n",
       "      <td>Ingraham began the exchange by noting American...</td>\n",
       "      <td>https://www.breitbart.com/economy/2020/01/12/d...</td>\n",
       "      <td>breitbart</td>\n",
       "      <td>immigration</td>\n",
       "      <td>right</td>\n",
       "      <td>No agreement</td>\n",
       "      <td>No agreement</td>\n",
       "      <td>['flood']</td>\n",
       "    </tr>\n",
       "    <tr>\n",
       "      <th>3</th>\n",
       "      <td>The tragedy of America’s 18 years in Afghanist...</td>\n",
       "      <td>http://feedproxy.google.com/~r/breitbart/~3/ER...</td>\n",
       "      <td>breitbart</td>\n",
       "      <td>international-politics-and-world-news</td>\n",
       "      <td>right</td>\n",
       "      <td>Biased</td>\n",
       "      <td>Somewhat factual but also opinionated</td>\n",
       "      <td>['tragedy', 'stubborn']</td>\n",
       "    </tr>\n",
       "    <tr>\n",
       "      <th>4</th>\n",
       "      <td>The justices threw out a challenge from gun ri...</td>\n",
       "      <td>https://www.huffpost.com/entry/supreme-court-g...</td>\n",
       "      <td>msnbc</td>\n",
       "      <td>gun-control</td>\n",
       "      <td>left</td>\n",
       "      <td>Non-biased</td>\n",
       "      <td>Entirely factual</td>\n",
       "      <td>[]</td>\n",
       "    </tr>\n",
       "  </tbody>\n",
       "</table>\n",
       "</div>"
      ],
      "text/plain": [
       "                                            sentence  \\\n",
       "0  The Republican president assumed he was helpin...   \n",
       "1  Though the indictment of a woman for her own p...   \n",
       "2  Ingraham began the exchange by noting American...   \n",
       "3  The tragedy of America’s 18 years in Afghanist...   \n",
       "4  The justices threw out a challenge from gun ri...   \n",
       "\n",
       "                                           news_link     outlet  \\\n",
       "0  http://www.msnbc.com/rachel-maddow-show/auto-i...      msnbc   \n",
       "1  https://eu.usatoday.com/story/news/nation/2019...  usa-today   \n",
       "2  https://www.breitbart.com/economy/2020/01/12/d...  breitbart   \n",
       "3  http://feedproxy.google.com/~r/breitbart/~3/ER...  breitbart   \n",
       "4  https://www.huffpost.com/entry/supreme-court-g...      msnbc   \n",
       "\n",
       "                                   topic    type    Label_bias  \\\n",
       "0                            environment    left        Biased   \n",
       "1                               abortion  center    Non-biased   \n",
       "2                            immigration   right  No agreement   \n",
       "3  international-politics-and-world-news   right        Biased   \n",
       "4                            gun-control    left    Non-biased   \n",
       "\n",
       "                           label_opinion             biased_words  \n",
       "0             Expresses writer’s opinion                       []  \n",
       "1  Somewhat factual but also opinionated                       []  \n",
       "2                           No agreement                ['flood']  \n",
       "3  Somewhat factual but also opinionated  ['tragedy', 'stubborn']  \n",
       "4                       Entirely factual                       []  "
      ]
     },
     "execution_count": 5,
     "metadata": {},
     "output_type": "execute_result"
    }
   ],
   "source": [
    "PATH_sg1 = \"data/final_labels_SG1.xlsx\"\n",
    "PATH_sg2 = \"data/final_labels_SG2.xlsx\"\n",
    "df_sg1 = pd.read_excel(PATH_sg1)\n",
    "df_sg2 = pd.read_excel(PATH_sg2)\n",
    "df_sg1.rename(columns={'text': 'sentence', 'label_bias': 'Label_bias'}, inplace=True)\n",
    "df_sg2.rename(columns={'text': 'sentence', 'label_bias': 'Label_bias'}, inplace=True)\n",
    "df_sg1.head()"
   ]
  },
  {
   "cell_type": "code",
   "execution_count": 6,
   "id": "d7a7000e",
   "metadata": {},
   "outputs": [],
   "source": [
    "# binarize classification problem\n",
    "df_sg1 = df_sg1[df_sg1['Label_bias']!='No agreement']\n",
    "df_sg1 = df_sg1[df_sg1['Label_bias'].isna()==False]\n",
    "df_sg1.replace(to_replace='Biased', value=1, inplace=True)\n",
    "df_sg1.replace(to_replace='Non-biased', value=0, inplace=True)\n",
    "\n",
    "df_sg2 = df_sg2[df_sg2['Label_bias']!='No agreement']\n",
    "df_sg2.replace(to_replace='Biased', value=1, inplace=True)\n",
    "df_sg2.replace(to_replace='Non-biased', value=0, inplace=True)\n",
    "\n",
    "# # test pipeline set\n",
    "# df_sg1, exclude = train_test_split(df_sg1, test_size=0.95)\n",
    "# df_sg2, exclude = train_test_split(df_sg2, test_size=0.95)"
   ]
  },
  {
   "cell_type": "code",
   "execution_count": 7,
   "id": "08d5fdf0",
   "metadata": {},
   "outputs": [],
   "source": [
    "# Stratified k-Fold instance\n",
    "skfold = StratifiedKFold(n_splits=5, shuffle=True, random_state=42)"
   ]
  },
  {
   "cell_type": "code",
   "execution_count": 8,
   "id": "b4e37878",
   "metadata": {},
   "outputs": [],
   "source": [
    "# helper functions called in skfold loop\n",
    "\n",
    "def pd_to_tf(df):\n",
    "    \"\"\"convert a pandas dataframe into a tensorflow dataset\"\"\"\n",
    "    target = df.pop('Label_bias')\n",
    "    sentence = df.pop('sentence')\n",
    "    return tf.data.Dataset.from_tensor_slices((sentence.values, target.values))\n",
    "\n",
    "def plot_graphs(history, metric):\n",
    "    plt.plot(history.history[metric])\n",
    "    plt.plot(history.history['val_'+metric], '')\n",
    "    plt.xlabel(\"Epochs\")\n",
    "    plt.ylabel(metric)\n",
    "    plt.legend([metric, 'val_'+metric])\n",
    "    plt.show()\n",
    "\n",
    "def tokenize(df, model_name):\n",
    "    \"\"\"convert a pandas dataframe into a tensorflow dataset and run hugging face's tokenizer on data\"\"\"\n",
    "    df2 = df.copy(deep=False)\n",
    "    target = df2.pop('Label_bias')\n",
    "    sentence = df2.pop('sentence')\n",
    "    \n",
    "    if model_name=='bert':\n",
    "        tokenizer = BertTokenizer.from_pretrained('bert-base-uncased')\n",
    "    elif model_name=='roberta':\n",
    "        tokenizer = RobertaTokenizer.from_pretrained('roberta-base')\n",
    "    elif model_name=='deberta':\n",
    "        tokenizer = DebertaTokenizer.from_pretrained(\"kamalkraj/deberta-base\")\n",
    "    elif model_name=='distilbert':\n",
    "        tokenizer = DistilBertTokenizer.from_pretrained('distilbert-base-uncased')\n",
    "    elif model_name=='electra':\n",
    "        tokenizer = ElectraTokenizer.from_pretrained('google/electra-small-discriminator')\n",
    "    elif model_name=='xlnet':\n",
    "        tokenizer = XLNetTokenizer.from_pretrained('xlnet-base-cased')\n",
    "\n",
    "    train_encodings = tokenizer(\n",
    "                        sentence.tolist(),                      \n",
    "                        add_special_tokens = True, # add [CLS], [SEP]\n",
    "                        truncation = True, # cut off at max length of the text that can go to BERT\n",
    "                        padding = True, # add [PAD] tokens\n",
    "                        return_attention_mask = True, # add attention mask to not focus on pad tokens\n",
    "              )\n",
    "    \n",
    "    dataset = tf.data.Dataset.from_tensor_slices(\n",
    "        (dict(train_encodings), \n",
    "         target.tolist()))\n",
    "    return dataset"
   ]
  },
  {
   "cell_type": "code",
   "execution_count": 9,
   "id": "bb710374",
   "metadata": {},
   "outputs": [],
   "source": [
    "def run_model_5fold(df_name, df_train, model_name, freeze_encoder=False, pretrained=False, plot=False, batch_size=12):\n",
    "    \"\"\"\"freeze flags whether encoder layer should be frozen to not destroy transfer learning. Only set to false when enough data is provided\"\"\"\n",
    "\n",
    "    # these variables will be needed for skfold to select indices\n",
    "    Y = df_train['Label_bias']\n",
    "    X = df_train['sentence']\n",
    "\n",
    "    # hyperparams\n",
    "    BUFFER_SIZE = 10000\n",
    "    BATCH_SIZE = batch_size\n",
    "    k = 1\n",
    "\n",
    "    val_loss = []\n",
    "    val_acc = []\n",
    "    val_prec = []\n",
    "    val_rec = []\n",
    "    val_f1 = []\n",
    "    val_f1_micro = []\n",
    "    val_f1_wmacro = []\n",
    "    \n",
    "    if pretrained==True:\n",
    "        optimizer = tf.keras.optimizers.Adam(learning_rate=5e-5)\n",
    "        \n",
    "        if model_name=='bert':\n",
    "            transfer_model = TFBertForSequenceClassification.from_pretrained('bert-base-uncased')\n",
    "            \n",
    "        elif model_name=='roberta':\n",
    "            transfer_model = TFRobertaForSequenceClassification.from_pretrained('roberta-base')\n",
    "            \n",
    "        elif model_name=='deberta':\n",
    "            transfer_model = TFDebertaForSequenceClassification.from_pretrained(\"kamalkraj/deberta-base\")\n",
    "            \n",
    "        transfer_model.compile(optimizer=optimizer, loss='binary_crossentropy') \n",
    "        transfer_model.load_weights(f'./checkpoints/{model_name}_final_checkpoint_news_headlines_USA')\n",
    "        trained_model_layer = transfer_model.get_layer(index=0).get_weights()\n",
    "            \n",
    "\n",
    "    for train_index, val_index in skfold.split(X,Y):\n",
    "        print('### Start fold {}'.format(k))\n",
    "\n",
    "        # split into train and validation set\n",
    "        train_dataset = df_train.iloc[train_index]\n",
    "        val_dataset = df_train.iloc[val_index]\n",
    "\n",
    "        # prepare data for transformer\n",
    "        train_dataset = tokenize(train_dataset, model_name)\n",
    "        val_dataset = tokenize(val_dataset, model_name)\n",
    "\n",
    "        # mini-batch it\n",
    "        train_dataset = train_dataset.shuffle(BUFFER_SIZE).batch(BATCH_SIZE).prefetch(tf.data.experimental.AUTOTUNE)\n",
    "        val_dataset = val_dataset.batch(BATCH_SIZE).prefetch(tf.data.experimental.AUTOTUNE)\n",
    "\n",
    "        # create new model\n",
    "        if model_name == 'bert':\n",
    "            model = TFBertForSequenceClassification.from_pretrained(\"bert-base-uncased\")\n",
    "        if model_name == 'distilbert':\n",
    "            model = TFDistilBertForSequenceClassification.from_pretrained('distilbert-base-uncased')\n",
    "        elif model_name == 'roberta':\n",
    "            model = TFRobertaForSequenceClassification.from_pretrained('roberta-base')\n",
    "        elif model_name == 'electra':\n",
    "            model = TFElectraForSequenceClassification.from_pretrained('google/electra-small-discriminator')\n",
    "        elif model_name == 'xlnet':\n",
    "            model = TFXLNetForSequenceClassification.from_pretrained('xlnet-base-cased')\n",
    "        elif model_name == 'deberta':\n",
    "            model = TFDebertaForSequenceClassification.from_pretrained(\"kamalkraj/deberta-base\")\n",
    "\n",
    "\n",
    "        if freeze_encoder == True:\n",
    "            for w in model.get_layer(index=0).weights:\n",
    "                w._trainable = False\n",
    "\n",
    "        # compile it\n",
    "        optimizer = tf.keras.optimizers.Adam(learning_rate=5e-5) \n",
    "        model.compile(optimizer=optimizer, loss='binary_crossentropy') \n",
    "\n",
    "        # transfer learning\n",
    "        if pretrained == True:\n",
    "            model.get_layer(index=0).set_weights(trained_model_layer) # load bias-specific weights\n",
    "\n",
    "        # after 2 epochs without improvement, stop training\n",
    "        callback = tf.keras.callbacks.EarlyStopping(monitor='val_loss', patience=1, restore_best_weights=True)\n",
    "\n",
    "        # fit it\n",
    "        history = model.fit(train_dataset, epochs=1, validation_data = val_dataset, callbacks=[callback])\n",
    "\n",
    "        # plot history\n",
    "        if plot:\n",
    "            plot_graphs(history,'loss')\n",
    "\n",
    "        # evaluate\n",
    "        loss = model.evaluate(val_dataset)\n",
    "\n",
    "        if model_name == 'xlnet':\n",
    "            tokenizer = XLNetTokenizer.from_pretrained('xlnet-base-cased')\n",
    "            yhats = []\n",
    "            for row in df_train.iloc[val_index]['sentence']:\n",
    "                input = tokenizer(row, return_tensors=\"tf\")\n",
    "                output = model(input)\n",
    "                logits = output.logits.numpy()[0]\n",
    "                candidates = logits.tolist()\n",
    "                decision = candidates.index(max(candidates))\n",
    "                yhats.append(decision)\n",
    "        else:\n",
    "            logits = model.predict(val_dataset)  \n",
    "            yhats = []\n",
    "            for i in logits[0]:\n",
    "                # assign class label according to highest logit\n",
    "                candidates = i.tolist()\n",
    "                decision = candidates.index(max(candidates))\n",
    "                yhats.append(decision)\n",
    "\n",
    "        y = []\n",
    "        for text, label in val_dataset.unbatch():   \n",
    "            y.append(label.numpy())\n",
    "\n",
    "        val_loss.append(loss)\n",
    "        val_acc.append(accuracy_score(y, yhats))\n",
    "        val_prec.append(precision_score(y, yhats))\n",
    "        val_rec.append(recall_score(y, yhats))\n",
    "        val_f1.append(f1_score(y, yhats))\n",
    "        val_f1_micro.append(f1_score(y, yhats, average='micro'))\n",
    "        val_f1_wmacro.append(f1_score(y, yhats, average='weighted'))\n",
    "\n",
    "        tf.keras.backend.clear_session()\n",
    "\n",
    "        k += 1\n",
    "\n",
    "    return {'loss': val_loss, 'acc': val_acc, 'prec': val_prec, 'rec': val_rec, 'f1': val_f1, \n",
    "            'f1_micro': val_f1_micro, 'f1_wmacro': val_f1_wmacro, 'model_name': model_name, \n",
    "            'distant': pretrained, 'df_name': df_name} "
   ]
  },
  {
   "cell_type": "code",
   "execution_count": 10,
   "id": "7efd6c76",
   "metadata": {},
   "outputs": [],
   "source": [
    "def measure(d, results):\n",
    "    loss_cv = np.mean(d['loss'])\n",
    "    acc_cv = np.mean(d['acc'])\n",
    "    prec_cv = np.mean(d['prec'])\n",
    "    rec_cv = np.mean(d['rec'])\n",
    "    f1_cv = np.mean(d['f1'])\n",
    "    f1_micro_cv = np.mean(d['f1_micro'])\n",
    "    f1_wmacro_cv = np.mean(d['f1_wmacro'])\n",
    "    \n",
    "    row = {\n",
    "        'Dataset': d['df_name'],\n",
    "        'Model': d['model_name'], \n",
    "        'Distant': d['distant'], \n",
    "        'Loss': loss_cv, \n",
    "        'Accuracy': acc_cv, \n",
    "        'Precision': prec_cv, \n",
    "        'Recall': rec_cv, \n",
    "        'F1': f1_cv, \n",
    "        'F1 Micro': f1_micro_cv, \n",
    "        'F1 Weighted': f1_wmacro_cv\n",
    "    }\n",
    "    \n",
    "    results = results.append(row, ignore_index=True)\n",
    "    print(row)\n",
    "    return results\n"
   ]
  },
  {
   "cell_type": "code",
   "execution_count": 11,
   "id": "5a70f390",
   "metadata": {},
   "outputs": [],
   "source": [
    "## instantiate results df\n",
    "columns = ['Dataset', 'Model', 'Distant', 'Loss', 'Accuracy', 'Precision', 'Recall', 'F1', 'F1 Micro', 'F1 Weighted']\n",
    "results = pd.DataFrame(columns=columns)"
   ]
  },
  {
   "cell_type": "markdown",
   "id": "e12d34f6",
   "metadata": {},
   "source": [
    "## Bert"
   ]
  },
  {
   "cell_type": "code",
   "execution_count": 15,
   "id": "e4fb65b6",
   "metadata": {},
   "outputs": [
    {
     "name": "stdout",
     "output_type": "stream",
     "text": [
      "### Start fold 1\n"
     ]
    },
    {
     "name": "stderr",
     "output_type": "stream",
     "text": [
      "2022-11-04 17:40:10.127552: W tensorflow/core/framework/cpu_allocator_impl.cc:82] Allocation of 93763584 exceeds 10% of free system memory.\n",
      "All model checkpoint layers were used when initializing TFBertForSequenceClassification.\n",
      "\n",
      "Some layers of TFBertForSequenceClassification were not initialized from the model checkpoint at bert-base-uncased and are newly initialized: ['classifier']\n",
      "You should probably TRAIN this model on a down-stream task to be able to use it for predictions and inference.\n"
     ]
    },
    {
     "name": "stdout",
     "output_type": "stream",
     "text": [
      "103/103 [==============================] - ETA: 0s - loss: 1.3657"
     ]
    },
    {
     "name": "stderr",
     "output_type": "stream",
     "text": [
      "2022-11-04 17:40:56.033725: W tensorflow/core/framework/cpu_allocator_impl.cc:82] Allocation of 93763584 exceeds 10% of free system memory.\n"
     ]
    },
    {
     "name": "stdout",
     "output_type": "stream",
     "text": [
      "103/103 [==============================] - 48s 334ms/step - loss: 1.3657 - val_loss: 0.6988\n",
      "26/26 [==============================] - 3s 96ms/step - loss: 0.6988\n",
      "26/26 [==============================] - 5s 90ms/step\n",
      "### Start fold 2\n"
     ]
    },
    {
     "name": "stderr",
     "output_type": "stream",
     "text": [
      "All model checkpoint layers were used when initializing TFBertForSequenceClassification.\n",
      "\n",
      "Some layers of TFBertForSequenceClassification were not initialized from the model checkpoint at bert-base-uncased and are newly initialized: ['classifier']\n",
      "You should probably TRAIN this model on a down-stream task to be able to use it for predictions and inference.\n"
     ]
    },
    {
     "name": "stdout",
     "output_type": "stream",
     "text": [
      "104/104 [==============================] - 48s 332ms/step - loss: 1.5060 - val_loss: 0.8601\n",
      "26/26 [==============================] - 3s 112ms/step - loss: 0.8601\n",
      "26/26 [==============================] - 5s 107ms/step\n",
      "### Start fold 3\n"
     ]
    },
    {
     "name": "stderr",
     "output_type": "stream",
     "text": [
      "All model checkpoint layers were used when initializing TFBertForSequenceClassification.\n",
      "\n",
      "Some layers of TFBertForSequenceClassification were not initialized from the model checkpoint at bert-base-uncased and are newly initialized: ['classifier']\n",
      "You should probably TRAIN this model on a down-stream task to be able to use it for predictions and inference.\n"
     ]
    },
    {
     "name": "stdout",
     "output_type": "stream",
     "text": [
      "104/104 [==============================] - 46s 316ms/step - loss: 0.9388 - val_loss: 0.6406\n",
      "26/26 [==============================] - 2s 92ms/step - loss: 0.6406\n",
      "26/26 [==============================] - 5s 93ms/step\n",
      "### Start fold 4\n"
     ]
    },
    {
     "name": "stderr",
     "output_type": "stream",
     "text": [
      "All model checkpoint layers were used when initializing TFBertForSequenceClassification.\n",
      "\n",
      "Some layers of TFBertForSequenceClassification were not initialized from the model checkpoint at bert-base-uncased and are newly initialized: ['classifier']\n",
      "You should probably TRAIN this model on a down-stream task to be able to use it for predictions and inference.\n"
     ]
    },
    {
     "name": "stdout",
     "output_type": "stream",
     "text": [
      "104/104 [==============================] - 46s 318ms/step - loss: 0.8912 - val_loss: 0.5908\n",
      "26/26 [==============================] - 2s 94ms/step - loss: 0.5908\n",
      "26/26 [==============================] - 5s 94ms/step\n",
      "### Start fold 5\n"
     ]
    },
    {
     "name": "stderr",
     "output_type": "stream",
     "text": [
      "All model checkpoint layers were used when initializing TFBertForSequenceClassification.\n",
      "\n",
      "Some layers of TFBertForSequenceClassification were not initialized from the model checkpoint at bert-base-uncased and are newly initialized: ['classifier']\n",
      "You should probably TRAIN this model on a down-stream task to be able to use it for predictions and inference.\n"
     ]
    },
    {
     "name": "stdout",
     "output_type": "stream",
     "text": [
      "104/104 [==============================] - 47s 328ms/step - loss: 0.7692 - val_loss: 0.6326\n",
      "26/26 [==============================] - 3s 114ms/step - loss: 0.6326\n",
      "26/26 [==============================] - 5s 112ms/step\n",
      "{'Dataset': 'sg1', 'Model': 'bert', 'Distant': False, 'Loss': 0.6845779299736023, 'Accuracy': 0.5057459024950413, 'Precision': 0.4486722050757875, 'Recall': 0.6606263982102909, 'F1': 0.5053876906598085, 'F1 Micro': 0.5057459024950413, 'F1 Weighted': 0.4204947460977285}\n",
      "  Dataset Model Distant      Loss  Accuracy  Precision    Recall        F1  \\\n",
      "0     sg1  bert   False  0.684578  0.505746   0.448672  0.660626  0.505388   \n",
      "\n",
      "   F1 Micro  F1 Weighted  \n",
      "0  0.505746     0.420495  \n"
     ]
    },
    {
     "name": "stderr",
     "output_type": "stream",
     "text": [
      "/tmp/ipykernel_29352/70255357.py:23: FutureWarning: The frame.append method is deprecated and will be removed from pandas in a future version. Use pandas.concat instead.\n",
      "  results = results.append(row, ignore_index=True)\n"
     ]
    }
   ],
   "source": [
    "# Sg1 \n",
    "results = measure(run_model_5fold('sg1', df_sg1, 'bert', freeze_encoder=False, pretrained=False, plot=False), results)\n",
    "print(results)"
   ]
  },
  {
   "cell_type": "code",
   "execution_count": 16,
   "id": "9e445144",
   "metadata": {},
   "outputs": [
    {
     "name": "stdout",
     "output_type": "stream",
     "text": [
      "### Start fold 1\n"
     ]
    },
    {
     "name": "stderr",
     "output_type": "stream",
     "text": [
      "All model checkpoint layers were used when initializing TFBertForSequenceClassification.\n",
      "\n",
      "Some layers of TFBertForSequenceClassification were not initialized from the model checkpoint at bert-base-uncased and are newly initialized: ['classifier']\n",
      "You should probably TRAIN this model on a down-stream task to be able to use it for predictions and inference.\n"
     ]
    },
    {
     "name": "stdout",
     "output_type": "stream",
     "text": [
      "245/245 [==============================] - 85s 293ms/step - loss: 0.6929 - val_loss: 0.6105\n",
      "62/62 [==============================] - 6s 90ms/step - loss: 0.6105\n",
      "62/62 [==============================] - 8s 91ms/step\n",
      "### Start fold 2\n"
     ]
    },
    {
     "name": "stderr",
     "output_type": "stream",
     "text": [
      "All model checkpoint layers were used when initializing TFBertForSequenceClassification.\n",
      "\n",
      "Some layers of TFBertForSequenceClassification were not initialized from the model checkpoint at bert-base-uncased and are newly initialized: ['classifier']\n",
      "You should probably TRAIN this model on a down-stream task to be able to use it for predictions and inference.\n"
     ]
    },
    {
     "name": "stdout",
     "output_type": "stream",
     "text": [
      "245/245 [==============================] - 87s 306ms/step - loss: 0.7389 - val_loss: 0.6848\n",
      "62/62 [==============================] - 7s 105ms/step - loss: 0.6848\n",
      "62/62 [==============================] - 9s 102ms/step\n",
      "### Start fold 3\n"
     ]
    },
    {
     "name": "stderr",
     "output_type": "stream",
     "text": [
      "All model checkpoint layers were used when initializing TFBertForSequenceClassification.\n",
      "\n",
      "Some layers of TFBertForSequenceClassification were not initialized from the model checkpoint at bert-base-uncased and are newly initialized: ['classifier']\n",
      "You should probably TRAIN this model on a down-stream task to be able to use it for predictions and inference.\n"
     ]
    },
    {
     "name": "stdout",
     "output_type": "stream",
     "text": [
      "245/245 [==============================] - 93s 325ms/step - loss: 1.2743 - val_loss: 0.5654\n",
      "62/62 [==============================] - 7s 107ms/step - loss: 0.5654\n",
      "62/62 [==============================] - 9s 103ms/step\n",
      "### Start fold 4\n"
     ]
    },
    {
     "name": "stderr",
     "output_type": "stream",
     "text": [
      "All model checkpoint layers were used when initializing TFBertForSequenceClassification.\n",
      "\n",
      "Some layers of TFBertForSequenceClassification were not initialized from the model checkpoint at bert-base-uncased and are newly initialized: ['classifier']\n",
      "You should probably TRAIN this model on a down-stream task to be able to use it for predictions and inference.\n"
     ]
    },
    {
     "name": "stdout",
     "output_type": "stream",
     "text": [
      "245/245 [==============================] - 94s 331ms/step - loss: 0.8433 - val_loss: 0.5058\n",
      "62/62 [==============================] - 7s 119ms/step - loss: 0.5058\n",
      "62/62 [==============================] - 9s 113ms/step\n",
      "### Start fold 5\n"
     ]
    },
    {
     "name": "stderr",
     "output_type": "stream",
     "text": [
      "All model checkpoint layers were used when initializing TFBertForSequenceClassification.\n",
      "\n",
      "Some layers of TFBertForSequenceClassification were not initialized from the model checkpoint at bert-base-uncased and are newly initialized: ['classifier']\n",
      "You should probably TRAIN this model on a down-stream task to be able to use it for predictions and inference.\n"
     ]
    },
    {
     "name": "stdout",
     "output_type": "stream",
     "text": [
      "245/245 [==============================] - 89s 312ms/step - loss: 1.0630 - val_loss: 4.1868\n",
      "62/62 [==============================] - 8s 127ms/step - loss: 4.1868\n",
      "62/62 [==============================] - 10s 123ms/step\n",
      "{'Dataset': 'sg2', 'Model': 'bert', 'Distant': False, 'Loss': 1.3106484293937684, 'Accuracy': 0.5395903538527127, 'Precision': 0.5476513882959688, 'Recall': 0.9143646408839778, 'F1': 0.6639547979611393, 'F1 Micro': 0.5395903538527127, 'F1 Weighted': 0.4147783041142715}\n",
      "  Dataset Model Distant      Loss  Accuracy  Precision    Recall        F1  \\\n",
      "0     sg1  bert   False  0.684578  0.505746   0.448672  0.660626  0.505388   \n",
      "1     sg2  bert   False  1.310648  0.539590   0.547651  0.914365  0.663955   \n",
      "\n",
      "   F1 Micro  F1 Weighted  \n",
      "0  0.505746     0.420495  \n",
      "1  0.539590     0.414778  \n"
     ]
    },
    {
     "name": "stderr",
     "output_type": "stream",
     "text": [
      "/tmp/ipykernel_29352/70255357.py:23: FutureWarning: The frame.append method is deprecated and will be removed from pandas in a future version. Use pandas.concat instead.\n",
      "  results = results.append(row, ignore_index=True)\n",
      "/tmp/ipykernel_29352/70255357.py:23: FutureWarning: In a future version, object-dtype columns with all-bool values will not be included in reductions with bool_only=True. Explicitly cast to bool dtype instead.\n",
      "  results = results.append(row, ignore_index=True)\n"
     ]
    }
   ],
   "source": [
    "# Sg2 \n",
    "results = measure(run_model_5fold('sg2', df_sg2, 'bert', freeze_encoder=False, pretrained=False, plot=False), results)\n",
    "print(results)"
   ]
  },
  {
   "cell_type": "markdown",
   "id": "836d083b",
   "metadata": {},
   "source": [
    "## Bert w/ Distant"
   ]
  },
  {
   "cell_type": "code",
   "execution_count": 17,
   "id": "1d557ff9",
   "metadata": {},
   "outputs": [
    {
     "name": "stderr",
     "output_type": "stream",
     "text": [
      "All model checkpoint layers were used when initializing TFBertForSequenceClassification.\n",
      "\n",
      "Some layers of TFBertForSequenceClassification were not initialized from the model checkpoint at bert-base-uncased and are newly initialized: ['classifier']\n",
      "You should probably TRAIN this model on a down-stream task to be able to use it for predictions and inference.\n"
     ]
    },
    {
     "name": "stdout",
     "output_type": "stream",
     "text": [
      "### Start fold 1\n"
     ]
    },
    {
     "name": "stderr",
     "output_type": "stream",
     "text": [
      "All model checkpoint layers were used when initializing TFBertForSequenceClassification.\n",
      "\n",
      "Some layers of TFBertForSequenceClassification were not initialized from the model checkpoint at bert-base-uncased and are newly initialized: ['classifier']\n",
      "You should probably TRAIN this model on a down-stream task to be able to use it for predictions and inference.\n"
     ]
    },
    {
     "name": "stdout",
     "output_type": "stream",
     "text": [
      "103/103 [==============================] - 46s 317ms/step - loss: 4.0782 - val_loss: 0.7518\n",
      "26/26 [==============================] - 2s 90ms/step - loss: 0.7518\n",
      "26/26 [==============================] - 5s 94ms/step\n",
      "### Start fold 2\n"
     ]
    },
    {
     "name": "stderr",
     "output_type": "stream",
     "text": [
      "All model checkpoint layers were used when initializing TFBertForSequenceClassification.\n",
      "\n",
      "Some layers of TFBertForSequenceClassification were not initialized from the model checkpoint at bert-base-uncased and are newly initialized: ['classifier']\n",
      "You should probably TRAIN this model on a down-stream task to be able to use it for predictions and inference.\n"
     ]
    },
    {
     "name": "stdout",
     "output_type": "stream",
     "text": [
      "104/104 [==============================] - 45s 317ms/step - loss: 0.8701 - val_loss: 0.5874\n",
      "26/26 [==============================] - 3s 109ms/step - loss: 0.5874\n",
      "26/26 [==============================] - 6s 108ms/step\n",
      "### Start fold 3\n"
     ]
    },
    {
     "name": "stderr",
     "output_type": "stream",
     "text": [
      "/home/jstil/.local/lib/python3.10/site-packages/sklearn/metrics/_classification.py:1334: UndefinedMetricWarning: Precision is ill-defined and being set to 0.0 due to no predicted samples. Use `zero_division` parameter to control this behavior.\n",
      "  _warn_prf(average, modifier, msg_start, len(result))\n",
      "All model checkpoint layers were used when initializing TFBertForSequenceClassification.\n",
      "\n",
      "Some layers of TFBertForSequenceClassification were not initialized from the model checkpoint at bert-base-uncased and are newly initialized: ['classifier']\n",
      "You should probably TRAIN this model on a down-stream task to be able to use it for predictions and inference.\n"
     ]
    },
    {
     "name": "stdout",
     "output_type": "stream",
     "text": [
      "104/104 [==============================] - 45s 314ms/step - loss: 0.7089 - val_loss: 0.6470\n",
      "26/26 [==============================] - 2s 90ms/step - loss: 0.6470\n",
      "26/26 [==============================] - 5s 91ms/step\n",
      "### Start fold 4\n"
     ]
    },
    {
     "name": "stderr",
     "output_type": "stream",
     "text": [
      "All model checkpoint layers were used when initializing TFBertForSequenceClassification.\n",
      "\n",
      "Some layers of TFBertForSequenceClassification were not initialized from the model checkpoint at bert-base-uncased and are newly initialized: ['classifier']\n",
      "You should probably TRAIN this model on a down-stream task to be able to use it for predictions and inference.\n"
     ]
    },
    {
     "name": "stdout",
     "output_type": "stream",
     "text": [
      "104/104 [==============================] - 53s 330ms/step - loss: 7.4444 - val_loss: 7.4379\n",
      "26/26 [==============================] - 3s 94ms/step - loss: 7.4379\n",
      "26/26 [==============================] - 5s 93ms/step\n",
      "### Start fold 5\n"
     ]
    },
    {
     "name": "stderr",
     "output_type": "stream",
     "text": [
      "All model checkpoint layers were used when initializing TFBertForSequenceClassification.\n",
      "\n",
      "Some layers of TFBertForSequenceClassification were not initialized from the model checkpoint at bert-base-uncased and are newly initialized: ['classifier']\n",
      "You should probably TRAIN this model on a down-stream task to be able to use it for predictions and inference.\n"
     ]
    },
    {
     "name": "stdout",
     "output_type": "stream",
     "text": [
      "104/104 [==============================] - 47s 319ms/step - loss: 3.9527 - val_loss: 0.7807\n",
      "26/26 [==============================] - 3s 109ms/step - loss: 0.7807\n",
      "26/26 [==============================] - 5s 110ms/step\n",
      "WARNING:tensorflow:Detecting that an object or model or tf.train.Checkpoint is being deleted with unrestored values. See the following logs for the specific values in question. To silence these warnings, use `status.expect_partial()`. See https://www.tensorflow.org/api_docs/python/tf/train/Checkpoint#restorefor details about the status object returned by the restore function.\n",
      "WARNING:tensorflow:Value in checkpoint could not be found in the restored object: (root).optimizer.iter\n",
      "WARNING:tensorflow:Value in checkpoint could not be found in the restored object: (root).optimizer.beta_1\n",
      "WARNING:tensorflow:Value in checkpoint could not be found in the restored object: (root).optimizer.beta_2\n",
      "WARNING:tensorflow:Value in checkpoint could not be found in the restored object: (root).optimizer.decay\n",
      "WARNING:tensorflow:Value in checkpoint could not be found in the restored object: (root).optimizer.learning_rate\n",
      "{'Dataset': 'sg1', 'Model': 'bert', 'Distant': True, 'Loss': 2.0409685611724853, 'Accuracy': 0.5045411838396492, 'Precision': 0.3954679311867356, 'Recall': 0.7543624161073825, 'F1': 0.5177566906678607, 'F1 Micro': 0.5045411838396492, 'F1 Weighted': 0.37350068053963575}\n",
      "  Dataset Model Distant      Loss  Accuracy  Precision    Recall        F1  \\\n",
      "0     sg1  bert   False  0.684578  0.505746   0.448672  0.660626  0.505388   \n",
      "1     sg2  bert   False  1.310648  0.539590   0.547651  0.914365  0.663955   \n",
      "2     sg1  bert    True  2.040969  0.504541   0.395468  0.754362  0.517757   \n",
      "\n",
      "   F1 Micro  F1 Weighted  \n",
      "0  0.505746     0.420495  \n",
      "1  0.539590     0.414778  \n",
      "2  0.504541     0.373501  \n"
     ]
    },
    {
     "name": "stderr",
     "output_type": "stream",
     "text": [
      "/tmp/ipykernel_29352/70255357.py:23: FutureWarning: The frame.append method is deprecated and will be removed from pandas in a future version. Use pandas.concat instead.\n",
      "  results = results.append(row, ignore_index=True)\n",
      "/tmp/ipykernel_29352/70255357.py:23: FutureWarning: In a future version, object-dtype columns with all-bool values will not be included in reductions with bool_only=True. Explicitly cast to bool dtype instead.\n",
      "  results = results.append(row, ignore_index=True)\n"
     ]
    }
   ],
   "source": [
    "# Sg1 \n",
    "results = measure(run_model_5fold('sg1', df_sg1, 'bert', freeze_encoder=False, pretrained=True, plot=False), results)\n",
    "print(results)"
   ]
  },
  {
   "cell_type": "code",
   "execution_count": 10,
   "id": "36f6650d",
   "metadata": {},
   "outputs": [
    {
     "name": "stderr",
     "output_type": "stream",
     "text": [
      "2022-11-04 18:34:07.967670: I tensorflow/stream_executor/cuda/cuda_gpu_executor.cc:966] could not open file to read NUMA node: /sys/bus/pci/devices/0000:01:00.0/numa_node\n",
      "Your kernel may have been built without NUMA support.\n",
      "2022-11-04 18:34:08.020034: I tensorflow/stream_executor/cuda/cuda_gpu_executor.cc:966] could not open file to read NUMA node: /sys/bus/pci/devices/0000:01:00.0/numa_node\n",
      "Your kernel may have been built without NUMA support.\n",
      "2022-11-04 18:34:08.020585: I tensorflow/stream_executor/cuda/cuda_gpu_executor.cc:966] could not open file to read NUMA node: /sys/bus/pci/devices/0000:01:00.0/numa_node\n",
      "Your kernel may have been built without NUMA support.\n",
      "2022-11-04 18:34:08.021728: I tensorflow/core/platform/cpu_feature_guard.cc:193] This TensorFlow binary is optimized with oneAPI Deep Neural Network Library (oneDNN) to use the following CPU instructions in performance-critical operations:  AVX2 FMA\n",
      "To enable them in other operations, rebuild TensorFlow with the appropriate compiler flags.\n",
      "2022-11-04 18:34:08.024427: I tensorflow/stream_executor/cuda/cuda_gpu_executor.cc:966] could not open file to read NUMA node: /sys/bus/pci/devices/0000:01:00.0/numa_node\n",
      "Your kernel may have been built without NUMA support.\n",
      "2022-11-04 18:34:08.024985: I tensorflow/stream_executor/cuda/cuda_gpu_executor.cc:966] could not open file to read NUMA node: /sys/bus/pci/devices/0000:01:00.0/numa_node\n",
      "Your kernel may have been built without NUMA support.\n",
      "2022-11-04 18:34:08.025458: I tensorflow/stream_executor/cuda/cuda_gpu_executor.cc:966] could not open file to read NUMA node: /sys/bus/pci/devices/0000:01:00.0/numa_node\n",
      "Your kernel may have been built without NUMA support.\n",
      "2022-11-04 18:34:09.781679: I tensorflow/stream_executor/cuda/cuda_gpu_executor.cc:966] could not open file to read NUMA node: /sys/bus/pci/devices/0000:01:00.0/numa_node\n",
      "Your kernel may have been built without NUMA support.\n",
      "2022-11-04 18:34:09.782760: I tensorflow/stream_executor/cuda/cuda_gpu_executor.cc:966] could not open file to read NUMA node: /sys/bus/pci/devices/0000:01:00.0/numa_node\n",
      "Your kernel may have been built without NUMA support.\n",
      "2022-11-04 18:34:09.782787: I tensorflow/core/common_runtime/gpu/gpu_device.cc:1700] Could not identify NUMA node of platform GPU id 0, defaulting to 0.  Your kernel may not have been built with NUMA support.\n",
      "2022-11-04 18:34:09.783493: I tensorflow/stream_executor/cuda/cuda_gpu_executor.cc:966] could not open file to read NUMA node: /sys/bus/pci/devices/0000:01:00.0/numa_node\n",
      "Your kernel may have been built without NUMA support.\n",
      "2022-11-04 18:34:09.783723: I tensorflow/core/common_runtime/gpu/gpu_device.cc:1616] Created device /job:localhost/replica:0/task:0/device:GPU:0 with 5947 MB memory:  -> device: 0, name: NVIDIA GeForce RTX 2070, pci bus id: 0000:01:00.0, compute capability: 7.5\n",
      "All model checkpoint layers were used when initializing TFBertForSequenceClassification.\n",
      "\n",
      "Some layers of TFBertForSequenceClassification were not initialized from the model checkpoint at bert-base-uncased and are newly initialized: ['classifier']\n",
      "You should probably TRAIN this model on a down-stream task to be able to use it for predictions and inference.\n"
     ]
    },
    {
     "name": "stdout",
     "output_type": "stream",
     "text": [
      "### Start fold 1\n"
     ]
    },
    {
     "name": "stderr",
     "output_type": "stream",
     "text": [
      "All model checkpoint layers were used when initializing TFBertForSequenceClassification.\n",
      "\n",
      "Some layers of TFBertForSequenceClassification were not initialized from the model checkpoint at bert-base-uncased and are newly initialized: ['classifier']\n",
      "You should probably TRAIN this model on a down-stream task to be able to use it for predictions and inference.\n"
     ]
    },
    {
     "name": "stdout",
     "output_type": "stream",
     "text": [
      "245/245 [==============================] - 87s 296ms/step - loss: 0.7730 - val_loss: 0.7206\n",
      "62/62 [==============================] - 6s 92ms/step - loss: 0.7206\n",
      "62/62 [==============================] - 8s 92ms/step\n",
      "### Start fold 2\n"
     ]
    },
    {
     "name": "stderr",
     "output_type": "stream",
     "text": [
      "All model checkpoint layers were used when initializing TFBertForSequenceClassification.\n",
      "\n",
      "Some layers of TFBertForSequenceClassification were not initialized from the model checkpoint at bert-base-uncased and are newly initialized: ['classifier']\n",
      "You should probably TRAIN this model on a down-stream task to be able to use it for predictions and inference.\n"
     ]
    },
    {
     "name": "stdout",
     "output_type": "stream",
     "text": [
      "245/245 [==============================] - 88s 308ms/step - loss: 3.3643 - val_loss: 0.6133\n",
      "62/62 [==============================] - 7s 107ms/step - loss: 0.6133\n",
      "62/62 [==============================] - 9s 105ms/step\n",
      "### Start fold 3\n"
     ]
    },
    {
     "name": "stderr",
     "output_type": "stream",
     "text": [
      "All model checkpoint layers were used when initializing TFBertForSequenceClassification.\n",
      "\n",
      "Some layers of TFBertForSequenceClassification were not initialized from the model checkpoint at bert-base-uncased and are newly initialized: ['classifier']\n",
      "You should probably TRAIN this model on a down-stream task to be able to use it for predictions and inference.\n"
     ]
    },
    {
     "name": "stdout",
     "output_type": "stream",
     "text": [
      "245/245 [==============================] - 92s 324ms/step - loss: 4.1054 - val_loss: 4.0479\n",
      "62/62 [==============================] - 7s 109ms/step - loss: 4.0479\n",
      "62/62 [==============================] - 9s 101ms/step\n",
      "### Start fold 4\n"
     ]
    },
    {
     "name": "stderr",
     "output_type": "stream",
     "text": [
      "All model checkpoint layers were used when initializing TFBertForSequenceClassification.\n",
      "\n",
      "Some layers of TFBertForSequenceClassification were not initialized from the model checkpoint at bert-base-uncased and are newly initialized: ['classifier']\n",
      "You should probably TRAIN this model on a down-stream task to be able to use it for predictions and inference.\n"
     ]
    },
    {
     "name": "stdout",
     "output_type": "stream",
     "text": [
      "245/245 [==============================] - 94s 331ms/step - loss: 0.6372 - val_loss: 0.6650\n",
      "62/62 [==============================] - 7s 118ms/step - loss: 0.6650\n",
      "62/62 [==============================] - 10s 116ms/step\n"
     ]
    },
    {
     "name": "stderr",
     "output_type": "stream",
     "text": [
      "/home/jstil/.local/lib/python3.10/site-packages/sklearn/metrics/_classification.py:1334: UndefinedMetricWarning: Precision is ill-defined and being set to 0.0 due to no predicted samples. Use `zero_division` parameter to control this behavior.\n",
      "  _warn_prf(average, modifier, msg_start, len(result))\n"
     ]
    },
    {
     "name": "stdout",
     "output_type": "stream",
     "text": [
      "### Start fold 5\n"
     ]
    },
    {
     "name": "stderr",
     "output_type": "stream",
     "text": [
      "All model checkpoint layers were used when initializing TFBertForSequenceClassification.\n",
      "\n",
      "Some layers of TFBertForSequenceClassification were not initialized from the model checkpoint at bert-base-uncased and are newly initialized: ['classifier']\n",
      "You should probably TRAIN this model on a down-stream task to be able to use it for predictions and inference.\n"
     ]
    },
    {
     "name": "stdout",
     "output_type": "stream",
     "text": [
      "245/245 [==============================] - 89s 310ms/step - loss: 0.8327 - val_loss: 0.6927\n",
      "62/62 [==============================] - 8s 126ms/step - loss: 0.6927\n",
      "62/62 [==============================] - 10s 122ms/step\n",
      "WARNING:tensorflow:Detecting that an object or model or tf.train.Checkpoint is being deleted with unrestored values. See the following logs for the specific values in question. To silence these warnings, use `status.expect_partial()`. See https://www.tensorflow.org/api_docs/python/tf/train/Checkpoint#restorefor details about the status object returned by the restore function.\n",
      "WARNING:tensorflow:Value in checkpoint could not be found in the restored object: (root).optimizer.iter\n",
      "WARNING:tensorflow:Value in checkpoint could not be found in the restored object: (root).optimizer.beta_1\n",
      "WARNING:tensorflow:Value in checkpoint could not be found in the restored object: (root).optimizer.beta_2\n",
      "WARNING:tensorflow:Value in checkpoint could not be found in the restored object: (root).optimizer.decay\n",
      "WARNING:tensorflow:Value in checkpoint could not be found in the restored object: (root).optimizer.learning_rate\n",
      "{'Dataset': 'sg2', 'Model': 'bert', 'Distant': True, 'Loss': 1.3478875994682311, 'Accuracy': 0.4408014977108009, 'Precision': 0.30427887183426255, 'Recall': 0.44972375690607735, 'F1': 0.3280262398556598, 'F1 Micro': 0.4408014977108009, 'F1 Weighted': 0.3241086958680499}\n",
      "  Dataset Model Distant      Loss  Accuracy  Precision    Recall        F1  \\\n",
      "0     sg2  bert    True  1.347888  0.440801   0.304279  0.449724  0.328026   \n",
      "\n",
      "   F1 Micro  F1 Weighted  \n",
      "0  0.440801     0.324109  \n"
     ]
    },
    {
     "name": "stderr",
     "output_type": "stream",
     "text": [
      "/tmp/ipykernel_31725/70255357.py:23: FutureWarning: The frame.append method is deprecated and will be removed from pandas in a future version. Use pandas.concat instead.\n",
      "  results = results.append(row, ignore_index=True)\n"
     ]
    }
   ],
   "source": [
    "# Sg2 \n",
    "results = measure(run_model_5fold('sg2', df_sg2, 'bert', freeze_encoder=False, pretrained=True, plot=False), results)\n",
    "print(results)"
   ]
  },
  {
   "cell_type": "markdown",
   "id": "1e4f92b4",
   "metadata": {},
   "source": [
    "## Roberta"
   ]
  },
  {
   "cell_type": "code",
   "execution_count": 11,
   "id": "c8420cec",
   "metadata": {},
   "outputs": [
    {
     "name": "stdout",
     "output_type": "stream",
     "text": [
      "### Start fold 1\n"
     ]
    },
    {
     "name": "stderr",
     "output_type": "stream",
     "text": [
      "All model checkpoint layers were used when initializing TFRobertaForSequenceClassification.\n",
      "\n",
      "Some layers of TFRobertaForSequenceClassification were not initialized from the model checkpoint at roberta-base and are newly initialized: ['classifier']\n",
      "You should probably TRAIN this model on a down-stream task to be able to use it for predictions and inference.\n"
     ]
    },
    {
     "name": "stdout",
     "output_type": "stream",
     "text": [
      "103/103 [==============================] - 48s 319ms/step - loss: 0.8301 - val_loss: 0.6804\n",
      "26/26 [==============================] - 2s 89ms/step - loss: 0.6804\n",
      "26/26 [==============================] - 5s 89ms/step\n",
      "### Start fold 2\n"
     ]
    },
    {
     "name": "stderr",
     "output_type": "stream",
     "text": [
      "/home/jstil/.local/lib/python3.10/site-packages/sklearn/metrics/_classification.py:1334: UndefinedMetricWarning: Precision is ill-defined and being set to 0.0 due to no predicted samples. Use `zero_division` parameter to control this behavior.\n",
      "  _warn_prf(average, modifier, msg_start, len(result))\n",
      "All model checkpoint layers were used when initializing TFRobertaForSequenceClassification.\n",
      "\n",
      "Some layers of TFRobertaForSequenceClassification were not initialized from the model checkpoint at roberta-base and are newly initialized: ['classifier']\n",
      "You should probably TRAIN this model on a down-stream task to be able to use it for predictions and inference.\n"
     ]
    },
    {
     "name": "stdout",
     "output_type": "stream",
     "text": [
      "104/104 [==============================] - 46s 324ms/step - loss: 0.8909 - val_loss: 0.6768\n",
      "26/26 [==============================] - 3s 108ms/step - loss: 0.6768\n",
      "26/26 [==============================] - 5s 110ms/step\n",
      "### Start fold 3\n"
     ]
    },
    {
     "name": "stderr",
     "output_type": "stream",
     "text": [
      "/home/jstil/.local/lib/python3.10/site-packages/sklearn/metrics/_classification.py:1334: UndefinedMetricWarning: Precision is ill-defined and being set to 0.0 due to no predicted samples. Use `zero_division` parameter to control this behavior.\n",
      "  _warn_prf(average, modifier, msg_start, len(result))\n",
      "All model checkpoint layers were used when initializing TFRobertaForSequenceClassification.\n",
      "\n",
      "Some layers of TFRobertaForSequenceClassification were not initialized from the model checkpoint at roberta-base and are newly initialized: ['classifier']\n",
      "You should probably TRAIN this model on a down-stream task to be able to use it for predictions and inference.\n"
     ]
    },
    {
     "name": "stdout",
     "output_type": "stream",
     "text": [
      "104/104 [==============================] - 46s 320ms/step - loss: 0.8623 - val_loss: 1.1006\n",
      "26/26 [==============================] - 2s 93ms/step - loss: 1.1006\n",
      "26/26 [==============================] - 5s 92ms/step\n",
      "### Start fold 4\n"
     ]
    },
    {
     "name": "stderr",
     "output_type": "stream",
     "text": [
      "All model checkpoint layers were used when initializing TFRobertaForSequenceClassification.\n",
      "\n",
      "Some layers of TFRobertaForSequenceClassification were not initialized from the model checkpoint at roberta-base and are newly initialized: ['classifier']\n",
      "You should probably TRAIN this model on a down-stream task to be able to use it for predictions and inference.\n"
     ]
    },
    {
     "name": "stdout",
     "output_type": "stream",
     "text": [
      "104/104 [==============================] - 46s 324ms/step - loss: 0.7796 - val_loss: 0.5541\n",
      "26/26 [==============================] - 2s 92ms/step - loss: 0.5541\n",
      "26/26 [==============================] - 6s 92ms/step\n",
      "### Start fold 5\n"
     ]
    },
    {
     "name": "stderr",
     "output_type": "stream",
     "text": [
      "All model checkpoint layers were used when initializing TFRobertaForSequenceClassification.\n",
      "\n",
      "Some layers of TFRobertaForSequenceClassification were not initialized from the model checkpoint at roberta-base and are newly initialized: ['classifier']\n",
      "You should probably TRAIN this model on a down-stream task to be able to use it for predictions and inference.\n"
     ]
    },
    {
     "name": "stdout",
     "output_type": "stream",
     "text": [
      "104/104 [==============================] - 46s 326ms/step - loss: 1.3416 - val_loss: 0.9448\n",
      "26/26 [==============================] - 3s 111ms/step - loss: 0.9448\n",
      "26/26 [==============================] - 5s 111ms/step\n",
      "{'Dataset': 'sg1', 'Model': 'roberta', 'Distant': False, 'Loss': 0.7913413882255554, 'Accuracy': 0.5194070362250758, 'Precision': 0.2197734627831715, 'Recall': 0.24966442953020135, 'F1': 0.20094440149599882, 'F1 Micro': 0.5194070362250758, 'F1 Weighted': 0.37787281124846717}\n",
      "  Dataset    Model Distant      Loss  Accuracy  Precision    Recall        F1  \\\n",
      "0     sg2     bert    True  1.347888  0.440801   0.304279  0.449724  0.328026   \n",
      "1     sg1  roberta   False  0.791341  0.519407   0.219773  0.249664  0.200944   \n",
      "\n",
      "   F1 Micro  F1 Weighted  \n",
      "0  0.440801     0.324109  \n",
      "1  0.519407     0.377873  \n"
     ]
    },
    {
     "name": "stderr",
     "output_type": "stream",
     "text": [
      "/home/jstil/.local/lib/python3.10/site-packages/sklearn/metrics/_classification.py:1334: UndefinedMetricWarning: Precision is ill-defined and being set to 0.0 due to no predicted samples. Use `zero_division` parameter to control this behavior.\n",
      "  _warn_prf(average, modifier, msg_start, len(result))\n",
      "/tmp/ipykernel_31725/70255357.py:23: FutureWarning: The frame.append method is deprecated and will be removed from pandas in a future version. Use pandas.concat instead.\n",
      "  results = results.append(row, ignore_index=True)\n",
      "/tmp/ipykernel_31725/70255357.py:23: FutureWarning: In a future version, object-dtype columns with all-bool values will not be included in reductions with bool_only=True. Explicitly cast to bool dtype instead.\n",
      "  results = results.append(row, ignore_index=True)\n"
     ]
    }
   ],
   "source": [
    "# Sg1 \n",
    "results = measure(run_model_5fold('sg1', df_sg1, 'roberta', freeze_encoder=False, pretrained=False, plot=False), results)\n",
    "print(results)"
   ]
  },
  {
   "cell_type": "code",
   "execution_count": 12,
   "id": "a0a6aa66",
   "metadata": {},
   "outputs": [
    {
     "name": "stdout",
     "output_type": "stream",
     "text": [
      "### Start fold 1\n"
     ]
    },
    {
     "name": "stderr",
     "output_type": "stream",
     "text": [
      "All model checkpoint layers were used when initializing TFRobertaForSequenceClassification.\n",
      "\n",
      "Some layers of TFRobertaForSequenceClassification were not initialized from the model checkpoint at roberta-base and are newly initialized: ['classifier']\n",
      "You should probably TRAIN this model on a down-stream task to be able to use it for predictions and inference.\n"
     ]
    },
    {
     "name": "stdout",
     "output_type": "stream",
     "text": [
      "245/245 [==============================] - 93s 326ms/step - loss: 0.8962 - val_loss: 0.7187\n",
      "62/62 [==============================] - 7s 112ms/step - loss: 0.7187\n",
      "62/62 [==============================] - 9s 109ms/step\n",
      "### Start fold 2\n"
     ]
    },
    {
     "name": "stderr",
     "output_type": "stream",
     "text": [
      "All model checkpoint layers were used when initializing TFRobertaForSequenceClassification.\n",
      "\n",
      "Some layers of TFRobertaForSequenceClassification were not initialized from the model checkpoint at roberta-base and are newly initialized: ['classifier']\n",
      "You should probably TRAIN this model on a down-stream task to be able to use it for predictions and inference.\n"
     ]
    },
    {
     "name": "stdout",
     "output_type": "stream",
     "text": [
      "245/245 [==============================] - 94s 331ms/step - loss: 0.7479 - val_loss: 0.7447\n",
      "62/62 [==============================] - 7s 106ms/step - loss: 0.7447\n",
      "62/62 [==============================] - 9s 101ms/step\n"
     ]
    },
    {
     "name": "stderr",
     "output_type": "stream",
     "text": [
      "/home/jstil/.local/lib/python3.10/site-packages/sklearn/metrics/_classification.py:1334: UndefinedMetricWarning: Precision is ill-defined and being set to 0.0 due to no predicted samples. Use `zero_division` parameter to control this behavior.\n",
      "  _warn_prf(average, modifier, msg_start, len(result))\n"
     ]
    },
    {
     "name": "stdout",
     "output_type": "stream",
     "text": [
      "### Start fold 3\n"
     ]
    },
    {
     "name": "stderr",
     "output_type": "stream",
     "text": [
      "All model checkpoint layers were used when initializing TFRobertaForSequenceClassification.\n",
      "\n",
      "Some layers of TFRobertaForSequenceClassification were not initialized from the model checkpoint at roberta-base and are newly initialized: ['classifier']\n",
      "You should probably TRAIN this model on a down-stream task to be able to use it for predictions and inference.\n"
     ]
    },
    {
     "name": "stdout",
     "output_type": "stream",
     "text": [
      "245/245 [==============================] - 95s 335ms/step - loss: 0.8058 - val_loss: 0.6521\n",
      "62/62 [==============================] - 7s 114ms/step - loss: 0.6521\n",
      "62/62 [==============================] - 10s 106ms/step\n",
      "### Start fold 4\n"
     ]
    },
    {
     "name": "stderr",
     "output_type": "stream",
     "text": [
      "All model checkpoint layers were used when initializing TFRobertaForSequenceClassification.\n",
      "\n",
      "Some layers of TFRobertaForSequenceClassification were not initialized from the model checkpoint at roberta-base and are newly initialized: ['classifier']\n",
      "You should probably TRAIN this model on a down-stream task to be able to use it for predictions and inference.\n"
     ]
    },
    {
     "name": "stdout",
     "output_type": "stream",
     "text": [
      "245/245 [==============================] - 95s 337ms/step - loss: 0.6882 - val_loss: 0.6090\n",
      "62/62 [==============================] - 7s 117ms/step - loss: 0.6090\n",
      "62/62 [==============================] - 9s 108ms/step\n",
      "### Start fold 5\n"
     ]
    },
    {
     "name": "stderr",
     "output_type": "stream",
     "text": [
      "All model checkpoint layers were used when initializing TFRobertaForSequenceClassification.\n",
      "\n",
      "Some layers of TFRobertaForSequenceClassification were not initialized from the model checkpoint at roberta-base and are newly initialized: ['classifier']\n",
      "You should probably TRAIN this model on a down-stream task to be able to use it for predictions and inference.\n"
     ]
    },
    {
     "name": "stdout",
     "output_type": "stream",
     "text": [
      "245/245 [==============================] - 91s 316ms/step - loss: 0.7455 - val_loss: 0.7118\n",
      "62/62 [==============================] - 8s 126ms/step - loss: 0.7118\n",
      "62/62 [==============================] - 10s 118ms/step\n",
      "{'Dataset': 'sg2', 'Model': 'roberta', 'Distant': False, 'Loss': 0.6872531771659851, 'Accuracy': 0.5096250162190217, 'Precision': 0.27268651024456136, 'Recall': 0.37071823204419896, 'F1': 0.3004246529808211, 'F1 Micro': 0.5096250162190217, 'F1 Weighted': 0.4013159745746312}\n",
      "  Dataset    Model Distant      Loss  Accuracy  Precision    Recall        F1  \\\n",
      "0     sg2     bert    True  1.347888  0.440801   0.304279  0.449724  0.328026   \n",
      "1     sg1  roberta   False  0.791341  0.519407   0.219773  0.249664  0.200944   \n",
      "2     sg2  roberta   False  0.687253  0.509625   0.272687  0.370718  0.300425   \n",
      "\n",
      "   F1 Micro  F1 Weighted  \n",
      "0  0.440801     0.324109  \n",
      "1  0.519407     0.377873  \n",
      "2  0.509625     0.401316  \n"
     ]
    },
    {
     "name": "stderr",
     "output_type": "stream",
     "text": [
      "/home/jstil/.local/lib/python3.10/site-packages/sklearn/metrics/_classification.py:1334: UndefinedMetricWarning: Precision is ill-defined and being set to 0.0 due to no predicted samples. Use `zero_division` parameter to control this behavior.\n",
      "  _warn_prf(average, modifier, msg_start, len(result))\n",
      "/tmp/ipykernel_31725/70255357.py:23: FutureWarning: The frame.append method is deprecated and will be removed from pandas in a future version. Use pandas.concat instead.\n",
      "  results = results.append(row, ignore_index=True)\n",
      "/tmp/ipykernel_31725/70255357.py:23: FutureWarning: In a future version, object-dtype columns with all-bool values will not be included in reductions with bool_only=True. Explicitly cast to bool dtype instead.\n",
      "  results = results.append(row, ignore_index=True)\n"
     ]
    }
   ],
   "source": [
    "# Sg2 \n",
    "results = measure(run_model_5fold('sg2', df_sg2, 'roberta', freeze_encoder=False, pretrained=False, plot=False), results)\n",
    "print(results)"
   ]
  },
  {
   "cell_type": "markdown",
   "id": "1cd8dcca",
   "metadata": {},
   "source": [
    "## Roberta w/ Distant"
   ]
  },
  {
   "cell_type": "code",
   "execution_count": 10,
   "id": "6aacaf2f",
   "metadata": {},
   "outputs": [
    {
     "name": "stderr",
     "output_type": "stream",
     "text": [
      "2022-11-04 19:40:24.572872: I tensorflow/stream_executor/cuda/cuda_gpu_executor.cc:966] could not open file to read NUMA node: /sys/bus/pci/devices/0000:01:00.0/numa_node\n",
      "Your kernel may have been built without NUMA support.\n",
      "2022-11-04 19:40:24.593429: I tensorflow/stream_executor/cuda/cuda_gpu_executor.cc:966] could not open file to read NUMA node: /sys/bus/pci/devices/0000:01:00.0/numa_node\n",
      "Your kernel may have been built without NUMA support.\n",
      "2022-11-04 19:40:24.593968: I tensorflow/stream_executor/cuda/cuda_gpu_executor.cc:966] could not open file to read NUMA node: /sys/bus/pci/devices/0000:01:00.0/numa_node\n",
      "Your kernel may have been built without NUMA support.\n",
      "2022-11-04 19:40:24.594820: I tensorflow/core/platform/cpu_feature_guard.cc:193] This TensorFlow binary is optimized with oneAPI Deep Neural Network Library (oneDNN) to use the following CPU instructions in performance-critical operations:  AVX2 FMA\n",
      "To enable them in other operations, rebuild TensorFlow with the appropriate compiler flags.\n",
      "2022-11-04 19:40:24.596673: I tensorflow/stream_executor/cuda/cuda_gpu_executor.cc:966] could not open file to read NUMA node: /sys/bus/pci/devices/0000:01:00.0/numa_node\n",
      "Your kernel may have been built without NUMA support.\n",
      "2022-11-04 19:40:24.597137: I tensorflow/stream_executor/cuda/cuda_gpu_executor.cc:966] could not open file to read NUMA node: /sys/bus/pci/devices/0000:01:00.0/numa_node\n",
      "Your kernel may have been built without NUMA support.\n",
      "2022-11-04 19:40:24.597583: I tensorflow/stream_executor/cuda/cuda_gpu_executor.cc:966] could not open file to read NUMA node: /sys/bus/pci/devices/0000:01:00.0/numa_node\n",
      "Your kernel may have been built without NUMA support.\n",
      "2022-11-04 19:40:25.491660: I tensorflow/stream_executor/cuda/cuda_gpu_executor.cc:966] could not open file to read NUMA node: /sys/bus/pci/devices/0000:01:00.0/numa_node\n",
      "Your kernel may have been built without NUMA support.\n",
      "2022-11-04 19:40:25.492677: I tensorflow/stream_executor/cuda/cuda_gpu_executor.cc:966] could not open file to read NUMA node: /sys/bus/pci/devices/0000:01:00.0/numa_node\n",
      "Your kernel may have been built without NUMA support.\n",
      "2022-11-04 19:40:25.492706: I tensorflow/core/common_runtime/gpu/gpu_device.cc:1700] Could not identify NUMA node of platform GPU id 0, defaulting to 0.  Your kernel may not have been built with NUMA support.\n",
      "2022-11-04 19:40:25.493468: I tensorflow/stream_executor/cuda/cuda_gpu_executor.cc:966] could not open file to read NUMA node: /sys/bus/pci/devices/0000:01:00.0/numa_node\n",
      "Your kernel may have been built without NUMA support.\n",
      "2022-11-04 19:40:25.493585: I tensorflow/core/common_runtime/gpu/gpu_device.cc:1616] Created device /job:localhost/replica:0/task:0/device:GPU:0 with 5947 MB memory:  -> device: 0, name: NVIDIA GeForce RTX 2070, pci bus id: 0000:01:00.0, compute capability: 7.5\n",
      "All model checkpoint layers were used when initializing TFRobertaForSequenceClassification.\n",
      "\n",
      "Some layers of TFRobertaForSequenceClassification were not initialized from the model checkpoint at roberta-base and are newly initialized: ['classifier']\n",
      "You should probably TRAIN this model on a down-stream task to be able to use it for predictions and inference.\n"
     ]
    },
    {
     "name": "stdout",
     "output_type": "stream",
     "text": [
      "### Start fold 1\n"
     ]
    },
    {
     "name": "stderr",
     "output_type": "stream",
     "text": [
      "All model checkpoint layers were used when initializing TFRobertaForSequenceClassification.\n",
      "\n",
      "Some layers of TFRobertaForSequenceClassification were not initialized from the model checkpoint at roberta-base and are newly initialized: ['classifier']\n",
      "You should probably TRAIN this model on a down-stream task to be able to use it for predictions and inference.\n"
     ]
    },
    {
     "name": "stdout",
     "output_type": "stream",
     "text": [
      "412/412 [==============================] - 76s 150ms/step - loss: 0.7609 - val_loss: 0.6955\n",
      "104/104 [==============================] - 7s 67ms/step - loss: 0.6955\n",
      "104/104 [==============================] - 9s 63ms/step\n",
      "### Start fold 2\n"
     ]
    },
    {
     "name": "stderr",
     "output_type": "stream",
     "text": [
      "/home/jstil/.local/lib/python3.10/site-packages/sklearn/metrics/_classification.py:1334: UndefinedMetricWarning: Precision is ill-defined and being set to 0.0 due to no predicted samples. Use `zero_division` parameter to control this behavior.\n",
      "  _warn_prf(average, modifier, msg_start, len(result))\n",
      "All model checkpoint layers were used when initializing TFRobertaForSequenceClassification.\n",
      "\n",
      "Some layers of TFRobertaForSequenceClassification were not initialized from the model checkpoint at roberta-base and are newly initialized: ['classifier']\n",
      "You should probably TRAIN this model on a down-stream task to be able to use it for predictions and inference.\n"
     ]
    },
    {
     "name": "stdout",
     "output_type": "stream",
     "text": [
      "413/413 [==============================] - 77s 155ms/step - loss: 2.6149 - val_loss: 4.0653\n",
      "103/103 [==============================] - 7s 65ms/step - loss: 4.0653\n",
      "103/103 [==============================] - 9s 68ms/step\n"
     ]
    },
    {
     "name": "stderr",
     "output_type": "stream",
     "text": [
      "/home/jstil/.local/lib/python3.10/site-packages/sklearn/metrics/_classification.py:1334: UndefinedMetricWarning: Precision is ill-defined and being set to 0.0 due to no predicted samples. Use `zero_division` parameter to control this behavior.\n",
      "  _warn_prf(average, modifier, msg_start, len(result))\n"
     ]
    },
    {
     "name": "stdout",
     "output_type": "stream",
     "text": [
      "### Start fold 3\n"
     ]
    },
    {
     "name": "stderr",
     "output_type": "stream",
     "text": [
      "All model checkpoint layers were used when initializing TFRobertaForSequenceClassification.\n",
      "\n",
      "Some layers of TFRobertaForSequenceClassification were not initialized from the model checkpoint at roberta-base and are newly initialized: ['classifier']\n",
      "You should probably TRAIN this model on a down-stream task to be able to use it for predictions and inference.\n"
     ]
    },
    {
     "name": "stdout",
     "output_type": "stream",
     "text": [
      "413/413 [==============================] - 78s 158ms/step - loss: 0.8305 - val_loss: 0.7328\n",
      "103/103 [==============================] - 7s 64ms/step - loss: 0.7328\n",
      "103/103 [==============================] - 9s 65ms/step\n",
      "### Start fold 4\n"
     ]
    },
    {
     "name": "stderr",
     "output_type": "stream",
     "text": [
      "All model checkpoint layers were used when initializing TFRobertaForSequenceClassification.\n",
      "\n",
      "Some layers of TFRobertaForSequenceClassification were not initialized from the model checkpoint at roberta-base and are newly initialized: ['classifier']\n",
      "You should probably TRAIN this model on a down-stream task to be able to use it for predictions and inference.\n"
     ]
    },
    {
     "name": "stdout",
     "output_type": "stream",
     "text": [
      "413/413 [==============================] - 78s 158ms/step - loss: 1.4463 - val_loss: 0.7727\n",
      "103/103 [==============================] - 7s 68ms/step - loss: 0.7727\n",
      "103/103 [==============================] - 10s 64ms/step\n",
      "### Start fold 5\n"
     ]
    },
    {
     "name": "stderr",
     "output_type": "stream",
     "text": [
      "All model checkpoint layers were used when initializing TFRobertaForSequenceClassification.\n",
      "\n",
      "Some layers of TFRobertaForSequenceClassification were not initialized from the model checkpoint at roberta-base and are newly initialized: ['classifier']\n",
      "You should probably TRAIN this model on a down-stream task to be able to use it for predictions and inference.\n"
     ]
    },
    {
     "name": "stdout",
     "output_type": "stream",
     "text": [
      "413/413 [==============================] - 78s 157ms/step - loss: 0.7731 - val_loss: 0.7667\n",
      "103/103 [==============================] - 7s 67ms/step - loss: 0.7667\n",
      "103/103 [==============================] - 9s 64ms/step\n",
      "WARNING:tensorflow:Detecting that an object or model or tf.train.Checkpoint is being deleted with unrestored values. See the following logs for the specific values in question. To silence these warnings, use `status.expect_partial()`. See https://www.tensorflow.org/api_docs/python/tf/train/Checkpoint#restorefor details about the status object returned by the restore function.\n",
      "WARNING:tensorflow:Value in checkpoint could not be found in the restored object: (root).optimizer.iter\n",
      "WARNING:tensorflow:Value in checkpoint could not be found in the restored object: (root).optimizer.beta_1\n",
      "WARNING:tensorflow:Value in checkpoint could not be found in the restored object: (root).optimizer.beta_2\n",
      "WARNING:tensorflow:Value in checkpoint could not be found in the restored object: (root).optimizer.decay\n",
      "WARNING:tensorflow:Value in checkpoint could not be found in the restored object: (root).optimizer.learning_rate\n",
      "{'Dataset': 'sg1', 'Model': 'roberta', 'Distant': True, 'Loss': 1.406602418422699, 'Accuracy': 0.49545881616035076, 'Precision': 0.28898415500357244, 'Recall': 0.5986577181208054, 'F1': 0.3898024901340621, 'F1 Micro': 0.49545881616035076, 'F1 Weighted': 0.3289035999085809}\n",
      "  Dataset    Model Distant      Loss  Accuracy  Precision    Recall        F1  \\\n",
      "0     sg1  roberta    True  1.406602  0.495459   0.288984  0.598658  0.389802   \n",
      "\n",
      "   F1 Micro  F1 Weighted  \n",
      "0  0.495459     0.328904  \n"
     ]
    },
    {
     "name": "stderr",
     "output_type": "stream",
     "text": [
      "/tmp/ipykernel_2014/70255357.py:23: FutureWarning: The frame.append method is deprecated and will be removed from pandas in a future version. Use pandas.concat instead.\n",
      "  results = results.append(row, ignore_index=True)\n"
     ]
    }
   ],
   "source": [
    "# Sg1 \n",
    "results = measure(run_model_5fold('sg1', df_sg1, 'roberta', freeze_encoder=False, pretrained=True, plot=False, batch_size=3), results)\n",
    "print(results)"
   ]
  },
  {
   "cell_type": "code",
   "execution_count": 12,
   "id": "53bd4247",
   "metadata": {},
   "outputs": [
    {
     "name": "stderr",
     "output_type": "stream",
     "text": [
      "2022-11-04 20:12:03.190776: I tensorflow/stream_executor/cuda/cuda_gpu_executor.cc:966] could not open file to read NUMA node: /sys/bus/pci/devices/0000:01:00.0/numa_node\n",
      "Your kernel may have been built without NUMA support.\n",
      "2022-11-04 20:12:03.191435: I tensorflow/stream_executor/cuda/cuda_gpu_executor.cc:966] could not open file to read NUMA node: /sys/bus/pci/devices/0000:01:00.0/numa_node\n",
      "Your kernel may have been built without NUMA support.\n",
      "2022-11-04 20:12:03.191982: I tensorflow/stream_executor/cuda/cuda_gpu_executor.cc:966] could not open file to read NUMA node: /sys/bus/pci/devices/0000:01:00.0/numa_node\n",
      "Your kernel may have been built without NUMA support.\n",
      "2022-11-04 20:12:03.192703: I tensorflow/stream_executor/cuda/cuda_gpu_executor.cc:966] could not open file to read NUMA node: /sys/bus/pci/devices/0000:01:00.0/numa_node\n",
      "Your kernel may have been built without NUMA support.\n",
      "2022-11-04 20:12:03.192717: I tensorflow/core/common_runtime/gpu/gpu_device.cc:1700] Could not identify NUMA node of platform GPU id 0, defaulting to 0.  Your kernel may not have been built with NUMA support.\n",
      "2022-11-04 20:12:03.193207: I tensorflow/stream_executor/cuda/cuda_gpu_executor.cc:966] could not open file to read NUMA node: /sys/bus/pci/devices/0000:01:00.0/numa_node\n",
      "Your kernel may have been built without NUMA support.\n",
      "2022-11-04 20:12:03.193247: I tensorflow/core/common_runtime/gpu/gpu_device.cc:1616] Created device /job:localhost/replica:0/task:0/device:GPU:0 with 5947 MB memory:  -> device: 0, name: NVIDIA GeForce RTX 2070, pci bus id: 0000:01:00.0, compute capability: 7.5\n",
      "All model checkpoint layers were used when initializing TFRobertaForSequenceClassification.\n",
      "\n",
      "Some layers of TFRobertaForSequenceClassification were not initialized from the model checkpoint at roberta-base and are newly initialized: ['classifier']\n",
      "You should probably TRAIN this model on a down-stream task to be able to use it for predictions and inference.\n"
     ]
    },
    {
     "name": "stdout",
     "output_type": "stream",
     "text": [
      "### Start fold 1\n"
     ]
    },
    {
     "name": "stderr",
     "output_type": "stream",
     "text": [
      "All model checkpoint layers were used when initializing TFRobertaForSequenceClassification.\n",
      "\n",
      "Some layers of TFRobertaForSequenceClassification were not initialized from the model checkpoint at roberta-base and are newly initialized: ['classifier']\n",
      "You should probably TRAIN this model on a down-stream task to be able to use it for predictions and inference.\n"
     ]
    },
    {
     "name": "stdout",
     "output_type": "stream",
     "text": [
      "2938/2938 [==============================] - 387s 127ms/step - loss: 7.1630 - val_loss: 7.5970\n",
      "735/735 [==============================] - 47s 64ms/step - loss: 7.5970\n",
      "735/735 [==============================] - 45s 58ms/step\n"
     ]
    },
    {
     "name": "stderr",
     "output_type": "stream",
     "text": [
      "/home/jstil/.local/lib/python3.10/site-packages/sklearn/metrics/_classification.py:1334: UndefinedMetricWarning: Precision is ill-defined and being set to 0.0 due to no predicted samples. Use `zero_division` parameter to control this behavior.\n",
      "  _warn_prf(average, modifier, msg_start, len(result))\n"
     ]
    },
    {
     "name": "stdout",
     "output_type": "stream",
     "text": [
      "### Start fold 2\n"
     ]
    },
    {
     "name": "stderr",
     "output_type": "stream",
     "text": [
      "All model checkpoint layers were used when initializing TFRobertaForSequenceClassification.\n",
      "\n",
      "Some layers of TFRobertaForSequenceClassification were not initialized from the model checkpoint at roberta-base and are newly initialized: ['classifier']\n",
      "You should probably TRAIN this model on a down-stream task to be able to use it for predictions and inference.\n"
     ]
    },
    {
     "name": "stdout",
     "output_type": "stream",
     "text": [
      "2938/2938 [==============================] - 379s 125ms/step - loss: 3.9510 - val_loss: 4.1579\n",
      "735/735 [==============================] - 46s 63ms/step - loss: 4.1579\n",
      "735/735 [==============================] - 46s 59ms/step\n"
     ]
    },
    {
     "name": "stderr",
     "output_type": "stream",
     "text": [
      "/home/jstil/.local/lib/python3.10/site-packages/sklearn/metrics/_classification.py:1334: UndefinedMetricWarning: Precision is ill-defined and being set to 0.0 due to no predicted samples. Use `zero_division` parameter to control this behavior.\n",
      "  _warn_prf(average, modifier, msg_start, len(result))\n"
     ]
    },
    {
     "name": "stdout",
     "output_type": "stream",
     "text": [
      "### Start fold 3\n"
     ]
    },
    {
     "name": "stderr",
     "output_type": "stream",
     "text": [
      "All model checkpoint layers were used when initializing TFRobertaForSequenceClassification.\n",
      "\n",
      "Some layers of TFRobertaForSequenceClassification were not initialized from the model checkpoint at roberta-base and are newly initialized: ['classifier']\n",
      "You should probably TRAIN this model on a down-stream task to be able to use it for predictions and inference.\n"
     ]
    },
    {
     "name": "stdout",
     "output_type": "stream",
     "text": [
      "2938/2938 [==============================] - 381s 125ms/step - loss: 3.4377 - val_loss: 4.1479\n",
      "735/735 [==============================] - 46s 62ms/step - loss: 4.1479\n",
      "735/735 [==============================] - 48s 62ms/step\n"
     ]
    },
    {
     "name": "stderr",
     "output_type": "stream",
     "text": [
      "/home/jstil/.local/lib/python3.10/site-packages/sklearn/metrics/_classification.py:1334: UndefinedMetricWarning: Precision is ill-defined and being set to 0.0 due to no predicted samples. Use `zero_division` parameter to control this behavior.\n",
      "  _warn_prf(average, modifier, msg_start, len(result))\n"
     ]
    },
    {
     "name": "stdout",
     "output_type": "stream",
     "text": [
      "### Start fold 4\n"
     ]
    },
    {
     "name": "stderr",
     "output_type": "stream",
     "text": [
      "All model checkpoint layers were used when initializing TFRobertaForSequenceClassification.\n",
      "\n",
      "Some layers of TFRobertaForSequenceClassification were not initialized from the model checkpoint at roberta-base and are newly initialized: ['classifier']\n",
      "You should probably TRAIN this model on a down-stream task to be able to use it for predictions and inference.\n"
     ]
    },
    {
     "name": "stdout",
     "output_type": "stream",
     "text": [
      "2939/2939 [==============================] - 396s 130ms/step - loss: 7.5997 - val_loss: 7.6074\n",
      "734/734 [==============================] - 46s 62ms/step - loss: 7.6074\n",
      "734/734 [==============================] - 48s 63ms/step\n"
     ]
    },
    {
     "name": "stderr",
     "output_type": "stream",
     "text": [
      "/home/jstil/.local/lib/python3.10/site-packages/sklearn/metrics/_classification.py:1334: UndefinedMetricWarning: Precision is ill-defined and being set to 0.0 due to no predicted samples. Use `zero_division` parameter to control this behavior.\n",
      "  _warn_prf(average, modifier, msg_start, len(result))\n"
     ]
    },
    {
     "name": "stdout",
     "output_type": "stream",
     "text": [
      "### Start fold 5\n"
     ]
    },
    {
     "name": "stderr",
     "output_type": "stream",
     "text": [
      "All model checkpoint layers were used when initializing TFRobertaForSequenceClassification.\n",
      "\n",
      "Some layers of TFRobertaForSequenceClassification were not initialized from the model checkpoint at roberta-base and are newly initialized: ['classifier']\n",
      "You should probably TRAIN this model on a down-stream task to be able to use it for predictions and inference.\n"
     ]
    },
    {
     "name": "stdout",
     "output_type": "stream",
     "text": [
      "2939/2939 [==============================] - 377s 124ms/step - loss: 7.5998 - val_loss: 7.6074\n",
      "734/734 [==============================] - 45s 62ms/step - loss: 7.6074\n",
      "734/734 [==============================] - 46s 59ms/step\n",
      "WARNING:tensorflow:Detecting that an object or model or tf.train.Checkpoint is being deleted with unrestored values. See the following logs for the specific values in question. To silence these warnings, use `status.expect_partial()`. See https://www.tensorflow.org/api_docs/python/tf/train/Checkpoint#restorefor details about the status object returned by the restore function.\n",
      "WARNING:tensorflow:Value in checkpoint could not be found in the restored object: (root).optimizer.iter\n",
      "WARNING:tensorflow:Value in checkpoint could not be found in the restored object: (root).optimizer.beta_1\n",
      "WARNING:tensorflow:Value in checkpoint could not be found in the restored object: (root).optimizer.beta_2\n",
      "WARNING:tensorflow:Value in checkpoint could not be found in the restored object: (root).optimizer.decay\n",
      "WARNING:tensorflow:Value in checkpoint could not be found in the restored object: (root).optimizer.learning_rate\n",
      "{'Dataset': 'sg2', 'Model': 'roberta', 'Distant': True, 'Loss': 6.223529911041259, 'Accuracy': 0.5044897959183674, 'Precision': 0.09863760217983651, 'Recall': 0.2, 'F1': 0.13211678832116788, 'F1 Micro': 0.5044897959183674, 'F1 Weighted': 0.33835280553931646}\n",
      "  Dataset    Model Distant     Loss  Accuracy  Precision  Recall        F1  \\\n",
      "0     sg2  roberta    True  6.22353   0.50449   0.098638     0.2  0.132117   \n",
      "\n",
      "   F1 Micro  F1 Weighted  \n",
      "0   0.50449     0.338353  \n"
     ]
    },
    {
     "name": "stderr",
     "output_type": "stream",
     "text": [
      "/tmp/ipykernel_3499/70255357.py:23: FutureWarning: The frame.append method is deprecated and will be removed from pandas in a future version. Use pandas.concat instead.\n",
      "  results = results.append(row, ignore_index=True)\n"
     ]
    }
   ],
   "source": [
    "# Sg2 \n",
    "results = measure(run_model_5fold('sg2', df_sg2, 'roberta', freeze_encoder=False, pretrained=True, plot=False, batch_size=1), results)\n",
    "print(results)"
   ]
  },
  {
   "cell_type": "markdown",
   "id": "220cd051",
   "metadata": {},
   "source": [
    "## Deberta"
   ]
  },
  {
   "cell_type": "code",
   "execution_count": 12,
   "id": "19a684ef",
   "metadata": {},
   "outputs": [
    {
     "name": "stdout",
     "output_type": "stream",
     "text": [
      "### Start fold 1\n"
     ]
    },
    {
     "name": "stderr",
     "output_type": "stream",
     "text": [
      "Asking to truncate to max_length but no maximum length is provided and the model has no predefined maximum length. Default to no truncation.\n",
      "2022-11-04 21:01:26.354003: I tensorflow/stream_executor/cuda/cuda_gpu_executor.cc:966] could not open file to read NUMA node: /sys/bus/pci/devices/0000:01:00.0/numa_node\n",
      "Your kernel may have been built without NUMA support.\n",
      "2022-11-04 21:01:26.354872: I tensorflow/stream_executor/cuda/cuda_gpu_executor.cc:966] could not open file to read NUMA node: /sys/bus/pci/devices/0000:01:00.0/numa_node\n",
      "Your kernel may have been built without NUMA support.\n",
      "2022-11-04 21:01:26.355639: I tensorflow/stream_executor/cuda/cuda_gpu_executor.cc:966] could not open file to read NUMA node: /sys/bus/pci/devices/0000:01:00.0/numa_node\n",
      "Your kernel may have been built without NUMA support.\n",
      "2022-11-04 21:01:26.356675: I tensorflow/stream_executor/cuda/cuda_gpu_executor.cc:966] could not open file to read NUMA node: /sys/bus/pci/devices/0000:01:00.0/numa_node\n",
      "Your kernel may have been built without NUMA support.\n",
      "2022-11-04 21:01:26.356705: I tensorflow/core/common_runtime/gpu/gpu_device.cc:1700] Could not identify NUMA node of platform GPU id 0, defaulting to 0.  Your kernel may not have been built with NUMA support.\n",
      "2022-11-04 21:01:26.357201: I tensorflow/stream_executor/cuda/cuda_gpu_executor.cc:966] could not open file to read NUMA node: /sys/bus/pci/devices/0000:01:00.0/numa_node\n",
      "Your kernel may have been built without NUMA support.\n",
      "2022-11-04 21:01:26.357245: I tensorflow/core/common_runtime/gpu/gpu_device.cc:1616] Created device /job:localhost/replica:0/task:0/device:GPU:0 with 5947 MB memory:  -> device: 0, name: NVIDIA GeForce RTX 2070, pci bus id: 0000:01:00.0, compute capability: 7.5\n",
      "Asking to truncate to max_length but no maximum length is provided and the model has no predefined maximum length. Default to no truncation.\n",
      "All model checkpoint layers were used when initializing TFDebertaForSequenceClassification.\n",
      "\n",
      "Some layers of TFDebertaForSequenceClassification were not initialized from the model checkpoint at kamalkraj/deberta-base and are newly initialized: ['classifier', 'cls_dropout', 'pooler']\n",
      "You should probably TRAIN this model on a down-stream task to be able to use it for predictions and inference.\n"
     ]
    },
    {
     "name": "stdout",
     "output_type": "stream",
     "text": [
      "WARNING:tensorflow:From /home/jstil/.local/lib/python3.10/site-packages/transformers/models/deberta/modeling_tf_deberta.py:123: Bernoulli.__init__ (from tensorflow.python.ops.distributions.bernoulli) is deprecated and will be removed after 2019-01-01.\n",
      "Instructions for updating:\n",
      "The TensorFlow Distributions library has moved to TensorFlow Probability (https://github.com/tensorflow/probability). You should update all references to use `tfp.distributions` instead of `tf.distributions`.\n",
      "WARNING:tensorflow:From /home/jstil/miniconda3/envs/tf/lib/python3.10/site-packages/tensorflow/python/ops/distributions/bernoulli.py:86: Distribution.__init__ (from tensorflow.python.ops.distributions.distribution) is deprecated and will be removed after 2019-01-01.\n",
      "Instructions for updating:\n",
      "The TensorFlow Distributions library has moved to TensorFlow Probability (https://github.com/tensorflow/probability). You should update all references to use `tfp.distributions` instead of `tf.distributions`.\n",
      "103/103 [==============================] - 93s 617ms/step - loss: 0.9657 - val_loss: 4.2263\n",
      "26/26 [==============================] - 3s 107ms/step - loss: 4.2263\n",
      "26/26 [==============================] - 8s 103ms/step\n"
     ]
    },
    {
     "name": "stderr",
     "output_type": "stream",
     "text": [
      "/home/jstil/.local/lib/python3.10/site-packages/sklearn/metrics/_classification.py:1334: UndefinedMetricWarning: Precision is ill-defined and being set to 0.0 due to no predicted samples. Use `zero_division` parameter to control this behavior.\n",
      "  _warn_prf(average, modifier, msg_start, len(result))\n"
     ]
    },
    {
     "name": "stdout",
     "output_type": "stream",
     "text": [
      "### Start fold 2\n"
     ]
    },
    {
     "name": "stderr",
     "output_type": "stream",
     "text": [
      "Asking to truncate to max_length but no maximum length is provided and the model has no predefined maximum length. Default to no truncation.\n",
      "Asking to truncate to max_length but no maximum length is provided and the model has no predefined maximum length. Default to no truncation.\n",
      "All model checkpoint layers were used when initializing TFDebertaForSequenceClassification.\n",
      "\n",
      "Some layers of TFDebertaForSequenceClassification were not initialized from the model checkpoint at kamalkraj/deberta-base and are newly initialized: ['classifier', 'cls_dropout', 'pooler']\n",
      "You should probably TRAIN this model on a down-stream task to be able to use it for predictions and inference.\n"
     ]
    },
    {
     "name": "stdout",
     "output_type": "stream",
     "text": [
      "104/104 [==============================] - 91s 619ms/step - loss: 7.4527 - val_loss: 7.8960\n",
      "26/26 [==============================] - 3s 126ms/step - loss: 7.8960\n",
      "26/26 [==============================] - 9s 124ms/step\n"
     ]
    },
    {
     "name": "stderr",
     "output_type": "stream",
     "text": [
      "/home/jstil/.local/lib/python3.10/site-packages/sklearn/metrics/_classification.py:1334: UndefinedMetricWarning: Precision is ill-defined and being set to 0.0 due to no predicted samples. Use `zero_division` parameter to control this behavior.\n",
      "  _warn_prf(average, modifier, msg_start, len(result))\n"
     ]
    },
    {
     "name": "stdout",
     "output_type": "stream",
     "text": [
      "### Start fold 3\n"
     ]
    },
    {
     "name": "stderr",
     "output_type": "stream",
     "text": [
      "Asking to truncate to max_length but no maximum length is provided and the model has no predefined maximum length. Default to no truncation.\n",
      "Asking to truncate to max_length but no maximum length is provided and the model has no predefined maximum length. Default to no truncation.\n",
      "All model checkpoint layers were used when initializing TFDebertaForSequenceClassification.\n",
      "\n",
      "Some layers of TFDebertaForSequenceClassification were not initialized from the model checkpoint at kamalkraj/deberta-base and are newly initialized: ['classifier', 'cls_dropout', 'pooler']\n",
      "You should probably TRAIN this model on a down-stream task to be able to use it for predictions and inference.\n"
     ]
    },
    {
     "name": "stdout",
     "output_type": "stream",
     "text": [
      "104/104 [==============================] - 89s 604ms/step - loss: 7.2480 - val_loss: 7.4379\n",
      "26/26 [==============================] - 3s 105ms/step - loss: 7.4379\n",
      "26/26 [==============================] - 8s 104ms/step\n",
      "### Start fold 4\n"
     ]
    },
    {
     "name": "stderr",
     "output_type": "stream",
     "text": [
      "Asking to truncate to max_length but no maximum length is provided and the model has no predefined maximum length. Default to no truncation.\n",
      "Asking to truncate to max_length but no maximum length is provided and the model has no predefined maximum length. Default to no truncation.\n",
      "All model checkpoint layers were used when initializing TFDebertaForSequenceClassification.\n",
      "\n",
      "Some layers of TFDebertaForSequenceClassification were not initialized from the model checkpoint at kamalkraj/deberta-base and are newly initialized: ['classifier', 'cls_dropout', 'pooler']\n",
      "You should probably TRAIN this model on a down-stream task to be able to use it for predictions and inference.\n"
     ]
    },
    {
     "name": "stdout",
     "output_type": "stream",
     "text": [
      "104/104 [==============================] - 90s 608ms/step - loss: 7.4444 - val_loss: 7.4379\n",
      "26/26 [==============================] - 3s 107ms/step - loss: 7.4379\n",
      "26/26 [==============================] - 8s 105ms/step\n"
     ]
    },
    {
     "name": "stderr",
     "output_type": "stream",
     "text": [
      "/home/jstil/.local/lib/python3.10/site-packages/sklearn/metrics/_classification.py:1334: UndefinedMetricWarning: Precision is ill-defined and being set to 0.0 due to no predicted samples. Use `zero_division` parameter to control this behavior.\n",
      "  _warn_prf(average, modifier, msg_start, len(result))\n"
     ]
    },
    {
     "name": "stdout",
     "output_type": "stream",
     "text": [
      "### Start fold 5\n"
     ]
    },
    {
     "name": "stderr",
     "output_type": "stream",
     "text": [
      "Asking to truncate to max_length but no maximum length is provided and the model has no predefined maximum length. Default to no truncation.\n",
      "Asking to truncate to max_length but no maximum length is provided and the model has no predefined maximum length. Default to no truncation.\n",
      "All model checkpoint layers were used when initializing TFDebertaForSequenceClassification.\n",
      "\n",
      "Some layers of TFDebertaForSequenceClassification were not initialized from the model checkpoint at kamalkraj/deberta-base and are newly initialized: ['classifier', 'cls_dropout', 'pooler']\n",
      "You should probably TRAIN this model on a down-stream task to be able to use it for predictions and inference.\n"
     ]
    },
    {
     "name": "stdout",
     "output_type": "stream",
     "text": [
      "104/104 [==============================] - 92s 625ms/step - loss: 3.0622 - val_loss: 0.6837\n",
      "26/26 [==============================] - 3s 128ms/step - loss: 0.6837\n",
      "26/26 [==============================] - 10s 128ms/step\n",
      "{'Dataset': 'sg1', 'Model': 'deberta', 'Distant': False, 'Loss': 5.5363799929618835, 'Accuracy': 0.5032258064516129, 'Precision': 0.19288025889967636, 'Recall': 0.4, 'F1': 0.26026200873362443, 'F1 Micro': 0.5032258064516129, 'F1 Weighted': 0.3370982826616396}\n",
      "  Dataset    Model Distant     Loss  Accuracy  Precision  Recall        F1  \\\n",
      "0     sg1  deberta   False  5.53638  0.503226    0.19288     0.4  0.260262   \n",
      "\n",
      "   F1 Micro  F1 Weighted  \n",
      "0  0.503226     0.337098  \n"
     ]
    },
    {
     "name": "stderr",
     "output_type": "stream",
     "text": [
      "/tmp/ipykernel_4205/70255357.py:23: FutureWarning: The frame.append method is deprecated and will be removed from pandas in a future version. Use pandas.concat instead.\n",
      "  results = results.append(row, ignore_index=True)\n"
     ]
    }
   ],
   "source": [
    "# Sg1 \n",
    "results = measure(run_model_5fold('sg1', df_sg1, 'deberta', freeze_encoder=False, pretrained=False, plot=False), results)\n",
    "print(results)"
   ]
  },
  {
   "cell_type": "code",
   "execution_count": 13,
   "id": "02bb2a21",
   "metadata": {},
   "outputs": [
    {
     "name": "stdout",
     "output_type": "stream",
     "text": [
      "### Start fold 1\n"
     ]
    },
    {
     "name": "stderr",
     "output_type": "stream",
     "text": [
      "Asking to truncate to max_length but no maximum length is provided and the model has no predefined maximum length. Default to no truncation.\n",
      "Asking to truncate to max_length but no maximum length is provided and the model has no predefined maximum length. Default to no truncation.\n",
      "All model checkpoint layers were used when initializing TFDebertaForSequenceClassification.\n",
      "\n",
      "Some layers of TFDebertaForSequenceClassification were not initialized from the model checkpoint at kamalkraj/deberta-base and are newly initialized: ['classifier', 'cls_dropout', 'pooler']\n",
      "You should probably TRAIN this model on a down-stream task to be able to use it for predictions and inference.\n"
     ]
    },
    {
     "name": "stdout",
     "output_type": "stream",
     "text": [
      "245/245 [==============================] - 174s 594ms/step - loss: 1.5359 - val_loss: 0.6792\n",
      "62/62 [==============================] - 8s 127ms/step - loss: 0.6792\n",
      "62/62 [==============================] - 13s 120ms/step\n",
      "### Start fold 2\n"
     ]
    },
    {
     "name": "stderr",
     "output_type": "stream",
     "text": [
      "Asking to truncate to max_length but no maximum length is provided and the model has no predefined maximum length. Default to no truncation.\n",
      "Asking to truncate to max_length but no maximum length is provided and the model has no predefined maximum length. Default to no truncation.\n",
      "All model checkpoint layers were used when initializing TFDebertaForSequenceClassification.\n",
      "\n",
      "Some layers of TFDebertaForSequenceClassification were not initialized from the model checkpoint at kamalkraj/deberta-base and are newly initialized: ['classifier', 'cls_dropout', 'pooler']\n",
      "You should probably TRAIN this model on a down-stream task to be able to use it for predictions and inference.\n"
     ]
    },
    {
     "name": "stdout",
     "output_type": "stream",
     "text": [
      "245/245 [==============================] - 173s 600ms/step - loss: 2.4936 - val_loss: 0.7449\n",
      "62/62 [==============================] - 8s 126ms/step - loss: 0.7449\n",
      "62/62 [==============================] - 14s 113ms/step\n",
      "### Start fold 3\n"
     ]
    },
    {
     "name": "stderr",
     "output_type": "stream",
     "text": [
      "Asking to truncate to max_length but no maximum length is provided and the model has no predefined maximum length. Default to no truncation.\n",
      "Asking to truncate to max_length but no maximum length is provided and the model has no predefined maximum length. Default to no truncation.\n",
      "All model checkpoint layers were used when initializing TFDebertaForSequenceClassification.\n",
      "\n",
      "Some layers of TFDebertaForSequenceClassification were not initialized from the model checkpoint at kamalkraj/deberta-base and are newly initialized: ['classifier', 'cls_dropout', 'pooler']\n",
      "You should probably TRAIN this model on a down-stream task to be able to use it for predictions and inference.\n"
     ]
    },
    {
     "name": "stdout",
     "output_type": "stream",
     "text": [
      "245/245 [==============================] - 174s 602ms/step - loss: 4.1881 - val_loss: 4.1493\n",
      "62/62 [==============================] - 8s 132ms/step - loss: 4.1493\n",
      "62/62 [==============================] - 12s 116ms/step\n"
     ]
    },
    {
     "name": "stderr",
     "output_type": "stream",
     "text": [
      "/home/jstil/.local/lib/python3.10/site-packages/sklearn/metrics/_classification.py:1334: UndefinedMetricWarning: Precision is ill-defined and being set to 0.0 due to no predicted samples. Use `zero_division` parameter to control this behavior.\n",
      "  _warn_prf(average, modifier, msg_start, len(result))\n"
     ]
    },
    {
     "name": "stdout",
     "output_type": "stream",
     "text": [
      "### Start fold 4\n"
     ]
    },
    {
     "name": "stderr",
     "output_type": "stream",
     "text": [
      "Asking to truncate to max_length but no maximum length is provided and the model has no predefined maximum length. Default to no truncation.\n",
      "Asking to truncate to max_length but no maximum length is provided and the model has no predefined maximum length. Default to no truncation.\n",
      "All model checkpoint layers were used when initializing TFDebertaForSequenceClassification.\n",
      "\n",
      "Some layers of TFDebertaForSequenceClassification were not initialized from the model checkpoint at kamalkraj/deberta-base and are newly initialized: ['classifier', 'cls_dropout', 'pooler']\n",
      "You should probably TRAIN this model on a down-stream task to be able to use it for predictions and inference.\n"
     ]
    },
    {
     "name": "stdout",
     "output_type": "stream",
     "text": [
      "245/245 [==============================] - 173s 594ms/step - loss: 7.4869 - val_loss: 7.7285\n",
      "62/62 [==============================] - 8s 130ms/step - loss: 7.7285\n",
      "62/62 [==============================] - 13s 124ms/step\n",
      "### Start fold 5\n"
     ]
    },
    {
     "name": "stderr",
     "output_type": "stream",
     "text": [
      "Asking to truncate to max_length but no maximum length is provided and the model has no predefined maximum length. Default to no truncation.\n",
      "Asking to truncate to max_length but no maximum length is provided and the model has no predefined maximum length. Default to no truncation.\n",
      "All model checkpoint layers were used when initializing TFDebertaForSequenceClassification.\n",
      "\n",
      "Some layers of TFDebertaForSequenceClassification were not initialized from the model checkpoint at kamalkraj/deberta-base and are newly initialized: ['classifier', 'cls_dropout', 'pooler']\n",
      "You should probably TRAIN this model on a down-stream task to be able to use it for predictions and inference.\n"
     ]
    },
    {
     "name": "stdout",
     "output_type": "stream",
     "text": [
      "245/245 [==============================] - 163s 549ms/step - loss: 3.6388 - val_loss: 7.6679\n",
      "62/62 [==============================] - 9s 142ms/step - loss: 7.6679\n",
      "62/62 [==============================] - 15s 130ms/step\n",
      "{'Dataset': 'sg2', 'Model': 'deberta', 'Distant': False, 'Loss': 4.193958270549774, 'Accuracy': 0.4941496598639456, 'Precision': 0.19331386117264227, 'Recall': 0.381767955801105, 'F1': 0.25662009957944604, 'F1 Micro': 0.4941496598639456, 'F1 Weighted': 0.33465556742634206}\n",
      "  Dataset    Model Distant      Loss  Accuracy  Precision    Recall        F1  \\\n",
      "0     sg1  deberta   False  5.536380  0.503226   0.192880  0.400000  0.260262   \n",
      "1     sg2  deberta   False  4.193958  0.494150   0.193314  0.381768  0.256620   \n",
      "\n",
      "   F1 Micro  F1 Weighted  \n",
      "0  0.503226     0.337098  \n",
      "1  0.494150     0.334656  \n"
     ]
    },
    {
     "name": "stderr",
     "output_type": "stream",
     "text": [
      "/home/jstil/.local/lib/python3.10/site-packages/sklearn/metrics/_classification.py:1334: UndefinedMetricWarning: Precision is ill-defined and being set to 0.0 due to no predicted samples. Use `zero_division` parameter to control this behavior.\n",
      "  _warn_prf(average, modifier, msg_start, len(result))\n",
      "/tmp/ipykernel_4205/70255357.py:23: FutureWarning: The frame.append method is deprecated and will be removed from pandas in a future version. Use pandas.concat instead.\n",
      "  results = results.append(row, ignore_index=True)\n",
      "/tmp/ipykernel_4205/70255357.py:23: FutureWarning: In a future version, object-dtype columns with all-bool values will not be included in reductions with bool_only=True. Explicitly cast to bool dtype instead.\n",
      "  results = results.append(row, ignore_index=True)\n"
     ]
    }
   ],
   "source": [
    "# Sg2 \n",
    "results = measure(run_model_5fold('sg2', df_sg2, 'deberta', freeze_encoder=False, pretrained=False, plot=False), results)\n",
    "print(results)"
   ]
  },
  {
   "cell_type": "markdown",
   "id": "bbeca876",
   "metadata": {},
   "source": [
    "## Deberta w/ Distant"
   ]
  },
  {
   "cell_type": "code",
   "execution_count": 12,
   "id": "8bb34cd6",
   "metadata": {},
   "outputs": [
    {
     "name": "stderr",
     "output_type": "stream",
     "text": [
      "2022-11-04 21:47:26.869578: I tensorflow/stream_executor/cuda/cuda_gpu_executor.cc:966] could not open file to read NUMA node: /sys/bus/pci/devices/0000:01:00.0/numa_node\n",
      "Your kernel may have been built without NUMA support.\n",
      "2022-11-04 21:47:26.870331: I tensorflow/stream_executor/cuda/cuda_gpu_executor.cc:966] could not open file to read NUMA node: /sys/bus/pci/devices/0000:01:00.0/numa_node\n",
      "Your kernel may have been built without NUMA support.\n",
      "2022-11-04 21:47:26.870904: I tensorflow/stream_executor/cuda/cuda_gpu_executor.cc:966] could not open file to read NUMA node: /sys/bus/pci/devices/0000:01:00.0/numa_node\n",
      "Your kernel may have been built without NUMA support.\n",
      "2022-11-04 21:47:26.872008: I tensorflow/stream_executor/cuda/cuda_gpu_executor.cc:966] could not open file to read NUMA node: /sys/bus/pci/devices/0000:01:00.0/numa_node\n",
      "Your kernel may have been built without NUMA support.\n",
      "2022-11-04 21:47:26.872023: I tensorflow/core/common_runtime/gpu/gpu_device.cc:1700] Could not identify NUMA node of platform GPU id 0, defaulting to 0.  Your kernel may not have been built with NUMA support.\n",
      "2022-11-04 21:47:26.872580: I tensorflow/stream_executor/cuda/cuda_gpu_executor.cc:966] could not open file to read NUMA node: /sys/bus/pci/devices/0000:01:00.0/numa_node\n",
      "Your kernel may have been built without NUMA support.\n",
      "2022-11-04 21:47:26.872609: I tensorflow/core/common_runtime/gpu/gpu_device.cc:1616] Created device /job:localhost/replica:0/task:0/device:GPU:0 with 5947 MB memory:  -> device: 0, name: NVIDIA GeForce RTX 2070, pci bus id: 0000:01:00.0, compute capability: 7.5\n",
      "All model checkpoint layers were used when initializing TFDebertaForSequenceClassification.\n",
      "\n",
      "Some layers of TFDebertaForSequenceClassification were not initialized from the model checkpoint at kamalkraj/deberta-base and are newly initialized: ['pooler', 'cls_dropout', 'classifier']\n",
      "You should probably TRAIN this model on a down-stream task to be able to use it for predictions and inference.\n"
     ]
    },
    {
     "name": "stdout",
     "output_type": "stream",
     "text": [
      "### Start fold 1\n"
     ]
    },
    {
     "name": "stderr",
     "output_type": "stream",
     "text": [
      "Asking to truncate to max_length but no maximum length is provided and the model has no predefined maximum length. Default to no truncation.\n",
      "Asking to truncate to max_length but no maximum length is provided and the model has no predefined maximum length. Default to no truncation.\n",
      "All model checkpoint layers were used when initializing TFDebertaForSequenceClassification.\n",
      "\n",
      "Some layers of TFDebertaForSequenceClassification were not initialized from the model checkpoint at kamalkraj/deberta-base and are newly initialized: ['pooler', 'cls_dropout', 'classifier']\n",
      "You should probably TRAIN this model on a down-stream task to be able to use it for predictions and inference.\n"
     ]
    },
    {
     "name": "stdout",
     "output_type": "stream",
     "text": [
      "WARNING:tensorflow:From /home/jstil/.local/lib/python3.10/site-packages/transformers/models/deberta/modeling_tf_deberta.py:123: Bernoulli.__init__ (from tensorflow.python.ops.distributions.bernoulli) is deprecated and will be removed after 2019-01-01.\n",
      "Instructions for updating:\n",
      "The TensorFlow Distributions library has moved to TensorFlow Probability (https://github.com/tensorflow/probability). You should update all references to use `tfp.distributions` instead of `tf.distributions`.\n",
      "WARNING:tensorflow:From /home/jstil/miniconda3/envs/tf/lib/python3.10/site-packages/tensorflow/python/ops/distributions/bernoulli.py:86: Distribution.__init__ (from tensorflow.python.ops.distributions.distribution) is deprecated and will be removed after 2019-01-01.\n",
      "Instructions for updating:\n",
      "The TensorFlow Distributions library has moved to TensorFlow Probability (https://github.com/tensorflow/probability). You should update all references to use `tfp.distributions` instead of `tf.distributions`.\n",
      "1236/1236 [==============================] - 332s 245ms/step - loss: 7.7775 - val_loss: 7.8706\n",
      "310/310 [==============================] - 20s 64ms/step - loss: 7.8706\n",
      "310/310 [==============================] - 26s 67ms/step\n",
      "### Start fold 2\n"
     ]
    },
    {
     "name": "stderr",
     "output_type": "stream",
     "text": [
      "Asking to truncate to max_length but no maximum length is provided and the model has no predefined maximum length. Default to no truncation.\n",
      "Asking to truncate to max_length but no maximum length is provided and the model has no predefined maximum length. Default to no truncation.\n",
      "All model checkpoint layers were used when initializing TFDebertaForSequenceClassification.\n",
      "\n",
      "Some layers of TFDebertaForSequenceClassification were not initialized from the model checkpoint at kamalkraj/deberta-base and are newly initialized: ['pooler', 'cls_dropout', 'classifier']\n",
      "You should probably TRAIN this model on a down-stream task to be able to use it for predictions and inference.\n"
     ]
    },
    {
     "name": "stdout",
     "output_type": "stream",
     "text": [
      "1237/1237 [==============================] - 329s 245ms/step - loss: 1.6887 - val_loss: 0.6949\n",
      "309/309 [==============================] - 22s 71ms/step - loss: 0.6949\n",
      "309/309 [==============================] - 25s 66ms/step\n"
     ]
    },
    {
     "name": "stderr",
     "output_type": "stream",
     "text": [
      "/home/jstil/.local/lib/python3.10/site-packages/sklearn/metrics/_classification.py:1334: UndefinedMetricWarning: Precision is ill-defined and being set to 0.0 due to no predicted samples. Use `zero_division` parameter to control this behavior.\n",
      "  _warn_prf(average, modifier, msg_start, len(result))\n"
     ]
    },
    {
     "name": "stdout",
     "output_type": "stream",
     "text": [
      "### Start fold 3\n"
     ]
    },
    {
     "name": "stderr",
     "output_type": "stream",
     "text": [
      "Asking to truncate to max_length but no maximum length is provided and the model has no predefined maximum length. Default to no truncation.\n",
      "Asking to truncate to max_length but no maximum length is provided and the model has no predefined maximum length. Default to no truncation.\n",
      "All model checkpoint layers were used when initializing TFDebertaForSequenceClassification.\n",
      "\n",
      "Some layers of TFDebertaForSequenceClassification were not initialized from the model checkpoint at kamalkraj/deberta-base and are newly initialized: ['pooler', 'cls_dropout', 'classifier']\n",
      "You should probably TRAIN this model on a down-stream task to be able to use it for predictions and inference.\n"
     ]
    },
    {
     "name": "stdout",
     "output_type": "stream",
     "text": [
      "1237/1237 [==============================] - 340s 253ms/step - loss: 2.4799 - val_loss: 0.6928\n",
      "309/309 [==============================] - 21s 69ms/step - loss: 0.6928\n",
      "309/309 [==============================] - 25s 65ms/step\n"
     ]
    },
    {
     "name": "stderr",
     "output_type": "stream",
     "text": [
      "/home/jstil/.local/lib/python3.10/site-packages/sklearn/metrics/_classification.py:1334: UndefinedMetricWarning: Precision is ill-defined and being set to 0.0 due to no predicted samples. Use `zero_division` parameter to control this behavior.\n",
      "  _warn_prf(average, modifier, msg_start, len(result))\n"
     ]
    },
    {
     "name": "stdout",
     "output_type": "stream",
     "text": [
      "### Start fold 4\n"
     ]
    },
    {
     "name": "stderr",
     "output_type": "stream",
     "text": [
      "Asking to truncate to max_length but no maximum length is provided and the model has no predefined maximum length. Default to no truncation.\n",
      "Asking to truncate to max_length but no maximum length is provided and the model has no predefined maximum length. Default to no truncation.\n",
      "2022-11-04 22:07:03.624010: W tensorflow/core/common_runtime/bfc_allocator.cc:479] Allocator (GPU_0_bfc) ran out of memory trying to allocate 147.26MiB (rounded to 154414080)requested by op AssignVariableOp\n",
      "If the cause is memory fragmentation maybe the environment variable 'TF_GPU_ALLOCATOR=cuda_malloc_async' will improve the situation. \n",
      "Current allocation summary follows.\n",
      "Current allocation summary follows.\n",
      "2022-11-04 22:07:03.624194: I tensorflow/core/common_runtime/bfc_allocator.cc:1033] BFCAllocator dump for GPU_0_bfc\n",
      "2022-11-04 22:07:03.624206: I tensorflow/core/common_runtime/bfc_allocator.cc:1040] Bin (256): \tTotal Chunks: 58, Chunks in use: 56. 14.5KiB allocated for chunks. 14.0KiB in use in bin. 341B client-requested in use in bin.\n",
      "2022-11-04 22:07:03.624213: I tensorflow/core/common_runtime/bfc_allocator.cc:1040] Bin (512): \tTotal Chunks: 1, Chunks in use: 0. 512B allocated for chunks. 0B in use in bin. 0B client-requested in use in bin.\n",
      "2022-11-04 22:07:03.624231: I tensorflow/core/common_runtime/bfc_allocator.cc:1040] Bin (1024): \tTotal Chunks: 1, Chunks in use: 1. 1.2KiB allocated for chunks. 1.2KiB in use in bin. 1.0KiB client-requested in use in bin.\n",
      "2022-11-04 22:07:03.624235: I tensorflow/core/common_runtime/bfc_allocator.cc:1040] Bin (2048): \tTotal Chunks: 1083, Chunks in use: 1083. 3.18MiB allocated for chunks. 3.18MiB in use in bin. 3.17MiB client-requested in use in bin.\n",
      "2022-11-04 22:07:03.624240: I tensorflow/core/common_runtime/bfc_allocator.cc:1040] Bin (4096): \tTotal Chunks: 38, Chunks in use: 37. 200.2KiB allocated for chunks. 194.2KiB in use in bin. 141.0KiB client-requested in use in bin.\n",
      "2022-11-04 22:07:03.624244: I tensorflow/core/common_runtime/bfc_allocator.cc:1040] Bin (8192): \tTotal Chunks: 95, Chunks in use: 94. 1.11MiB allocated for chunks. 1.10MiB in use in bin. 1.10MiB client-requested in use in bin.\n",
      "2022-11-04 22:07:03.624249: I tensorflow/core/common_runtime/bfc_allocator.cc:1040] Bin (16384): \tTotal Chunks: 27, Chunks in use: 26. 533.0KiB allocated for chunks. 512.0KiB in use in bin. 312.0KiB client-requested in use in bin.\n",
      "2022-11-04 22:07:03.624252: I tensorflow/core/common_runtime/bfc_allocator.cc:1040] Bin (32768): \tTotal Chunks: 1, Chunks in use: 0. 60.0KiB allocated for chunks. 0B in use in bin. 0B client-requested in use in bin.\n",
      "2022-11-04 22:07:03.624256: I tensorflow/core/common_runtime/bfc_allocator.cc:1040] Bin (65536): \tTotal Chunks: 1, Chunks in use: 0. 102.8KiB allocated for chunks. 0B in use in bin. 0B client-requested in use in bin.\n",
      "2022-11-04 22:07:03.624260: I tensorflow/core/common_runtime/bfc_allocator.cc:1040] Bin (131072): \tTotal Chunks: 1, Chunks in use: 0. 138.8KiB allocated for chunks. 0B in use in bin. 0B client-requested in use in bin.\n",
      "2022-11-04 22:07:03.624264: I tensorflow/core/common_runtime/bfc_allocator.cc:1040] Bin (262144): \tTotal Chunks: 0, Chunks in use: 0. 0B allocated for chunks. 0B in use in bin. 0B client-requested in use in bin.\n",
      "2022-11-04 22:07:03.624267: I tensorflow/core/common_runtime/bfc_allocator.cc:1040] Bin (524288): \tTotal Chunks: 0, Chunks in use: 0. 0B allocated for chunks. 0B in use in bin. 0B client-requested in use in bin.\n",
      "2022-11-04 22:07:03.624270: I tensorflow/core/common_runtime/bfc_allocator.cc:1040] Bin (1048576): \tTotal Chunks: 1, Chunks in use: 0. 1.83MiB allocated for chunks. 0B in use in bin. 0B client-requested in use in bin.\n",
      "2022-11-04 22:07:03.624276: I tensorflow/core/common_runtime/bfc_allocator.cc:1040] Bin (2097152): \tTotal Chunks: 380, Chunks in use: 378. 876.21MiB allocated for chunks. 871.71MiB in use in bin. 858.00MiB client-requested in use in bin.\n",
      "2022-11-04 22:07:03.624280: I tensorflow/core/common_runtime/bfc_allocator.cc:1040] Bin (4194304): \tTotal Chunks: 97, Chunks in use: 96. 650.40MiB allocated for chunks. 643.65MiB in use in bin. 639.00MiB client-requested in use in bin.\n",
      "2022-11-04 22:07:03.624284: I tensorflow/core/common_runtime/bfc_allocator.cc:1040] Bin (8388608): \tTotal Chunks: 267, Chunks in use: 266. 2.48GiB allocated for chunks. 2.47GiB in use in bin. 2.28GiB client-requested in use in bin.\n",
      "2022-11-04 22:07:03.624288: I tensorflow/core/common_runtime/bfc_allocator.cc:1040] Bin (16777216): \tTotal Chunks: 0, Chunks in use: 0. 0B allocated for chunks. 0B in use in bin. 0B client-requested in use in bin.\n",
      "2022-11-04 22:07:03.624291: I tensorflow/core/common_runtime/bfc_allocator.cc:1040] Bin (33554432): \tTotal Chunks: 0, Chunks in use: 0. 0B allocated for chunks. 0B in use in bin. 0B client-requested in use in bin.\n",
      "2022-11-04 22:07:03.624296: I tensorflow/core/common_runtime/bfc_allocator.cc:1040] Bin (67108864): \tTotal Chunks: 0, Chunks in use: 0. 0B allocated for chunks. 0B in use in bin. 0B client-requested in use in bin.\n",
      "2022-11-04 22:07:03.624300: I tensorflow/core/common_runtime/bfc_allocator.cc:1040] Bin (134217728): \tTotal Chunks: 11, Chunks in use: 11. 1.83GiB allocated for chunks. 1.83GiB in use in bin. 1.58GiB client-requested in use in bin.\n",
      "2022-11-04 22:07:03.624337: I tensorflow/core/common_runtime/bfc_allocator.cc:1040] Bin (268435456): \tTotal Chunks: 0, Chunks in use: 0. 0B allocated for chunks. 0B in use in bin. 0B client-requested in use in bin.\n",
      "2022-11-04 22:07:03.624360: I tensorflow/core/common_runtime/bfc_allocator.cc:1056] Bin for 147.26MiB was 128.00MiB, Chunk State: \n",
      "2022-11-04 22:07:03.624364: I tensorflow/core/common_runtime/bfc_allocator.cc:1069] Next region of size 6235881472\n",
      "2022-11-04 22:07:03.624390: I tensorflow/core/common_runtime/bfc_allocator.cc:1089] InUse at 510600000 of size 256 next 1\n",
      "2022-11-04 22:07:03.624397: I tensorflow/core/common_runtime/bfc_allocator.cc:1089] InUse at 510600100 of size 1280 next 2\n",
      "2022-11-04 22:07:03.624401: I tensorflow/core/common_runtime/bfc_allocator.cc:1089] InUse at 510600600 of size 256 next 21\n",
      "2022-11-04 22:07:03.624404: I tensorflow/core/common_runtime/bfc_allocator.cc:1089] InUse at 510600700 of size 256 next 4\n",
      "2022-11-04 22:07:03.624407: I tensorflow/core/common_runtime/bfc_allocator.cc:1089] InUse at 510600800 of size 256 next 5\n",
      "2022-11-04 22:07:03.624409: I tensorflow/core/common_runtime/bfc_allocator.cc:1089] InUse at 510600900 of size 256 next 6\n",
      "2022-11-04 22:07:03.624412: I tensorflow/core/common_runtime/bfc_allocator.cc:1089] InUse at 510600a00 of size 256 next 8\n",
      "2022-11-04 22:07:03.624415: I tensorflow/core/common_runtime/bfc_allocator.cc:1089] InUse at 510600b00 of size 3328 next 22\n",
      "2022-11-04 22:07:03.624418: I tensorflow/core/common_runtime/bfc_allocator.cc:1089] InUse at 510601800 of size 3072 next 23\n",
      "2022-11-04 22:07:03.624422: I tensorflow/core/common_runtime/bfc_allocator.cc:1089] InUse at 510602400 of size 256 next 39\n",
      "2022-11-04 22:07:03.624425: I tensorflow/core/common_runtime/bfc_allocator.cc:1089] InUse at 510602500 of size 256 next 50\n",
      "2022-11-04 22:07:03.624427: I tensorflow/core/common_runtime/bfc_allocator.cc:1089] InUse at 510602600 of size 3328 next 32\n",
      "2022-11-04 22:07:03.624430: I tensorflow/core/common_runtime/bfc_allocator.cc:1089] InUse at 510603300 of size 256 next 33\n",
      "2022-11-04 22:07:03.624433: I tensorflow/core/common_runtime/bfc_allocator.cc:1089] InUse at 510603400 of size 256 next 34\n",
      "2022-11-04 22:07:03.624436: I tensorflow/core/common_runtime/bfc_allocator.cc:1089] InUse at 510603500 of size 256 next 38\n",
      "2022-11-04 22:07:03.624439: I tensorflow/core/common_runtime/bfc_allocator.cc:1089] InUse at 510603600 of size 256 next 36\n",
      "2022-11-04 22:07:03.624442: I tensorflow/core/common_runtime/bfc_allocator.cc:1089] InUse at 510603700 of size 256 next 37\n",
      "2022-11-04 22:07:03.624445: I tensorflow/core/common_runtime/bfc_allocator.cc:1089] InUse at 510603800 of size 3072 next 31\n",
      "2022-11-04 22:07:03.624448: I tensorflow/core/common_runtime/bfc_allocator.cc:1089] InUse at 510604400 of size 3072 next 25\n",
      "2022-11-04 22:07:03.624450: I tensorflow/core/common_runtime/bfc_allocator.cc:1089] InUse at 510605000 of size 256 next 30\n",
      "2022-11-04 22:07:03.624453: I tensorflow/core/common_runtime/bfc_allocator.cc:1089] InUse at 510605100 of size 256 next 28\n",
      "2022-11-04 22:07:03.624456: I tensorflow/core/common_runtime/bfc_allocator.cc:1089] InUse at 510605200 of size 256 next 49\n",
      "2022-11-04 22:07:03.624459: I tensorflow/core/common_runtime/bfc_allocator.cc:1089] InUse at 510605300 of size 5120 next 43\n",
      "2022-11-04 22:07:03.624463: I tensorflow/core/common_runtime/bfc_allocator.cc:1089] InUse at 510606700 of size 3072 next 44\n",
      "2022-11-04 22:07:03.624466: I tensorflow/core/common_runtime/bfc_allocator.cc:1089] InUse at 510607300 of size 19456 next 9\n",
      "2022-11-04 22:07:03.624469: I tensorflow/core/common_runtime/bfc_allocator.cc:1089] InUse at 51060bf00 of size 256 next 7\n",
      "2022-11-04 22:07:03.624472: I tensorflow/core/common_runtime/bfc_allocator.cc:1089] InUse at 51060c000 of size 3072 next 12\n",
      "2022-11-04 22:07:03.624475: I tensorflow/core/common_runtime/bfc_allocator.cc:1089] InUse at 51060cc00 of size 256 next 13\n",
      "2022-11-04 22:07:03.624478: I tensorflow/core/common_runtime/bfc_allocator.cc:1089] InUse at 51060cd00 of size 3328 next 15\n",
      "2022-11-04 22:07:03.624481: I tensorflow/core/common_runtime/bfc_allocator.cc:1089] InUse at 51060da00 of size 256 next 18\n",
      "2022-11-04 22:07:03.624484: I tensorflow/core/common_runtime/bfc_allocator.cc:1089] InUse at 51060db00 of size 256 next 16\n",
      "2022-11-04 22:07:03.624487: I tensorflow/core/common_runtime/bfc_allocator.cc:1089] InUse at 51060dc00 of size 3072 next 51\n",
      "2022-11-04 22:07:03.624490: I tensorflow/core/common_runtime/bfc_allocator.cc:1089] InUse at 51060e800 of size 3072 next 59\n",
      "2022-11-04 22:07:03.624493: I tensorflow/core/common_runtime/bfc_allocator.cc:1089] InUse at 51060f400 of size 3072 next 220\n",
      "2022-11-04 22:07:03.624498: I tensorflow/core/common_runtime/bfc_allocator.cc:1089] InUse at 510610000 of size 256 next 188\n",
      "2022-11-04 22:07:03.624501: I tensorflow/core/common_runtime/bfc_allocator.cc:1089] InUse at 510610100 of size 256 next 181\n",
      "2022-11-04 22:07:03.624503: I tensorflow/core/common_runtime/bfc_allocator.cc:1089] InUse at 510610200 of size 256 next 112\n",
      "2022-11-04 22:07:03.624506: I tensorflow/core/common_runtime/bfc_allocator.cc:1089] InUse at 510610300 of size 256 next 632\n",
      "2022-11-04 22:07:03.624509: I tensorflow/core/common_runtime/bfc_allocator.cc:1089] InUse at 510610400 of size 256 next 633\n",
      "2022-11-04 22:07:03.624512: I tensorflow/core/common_runtime/bfc_allocator.cc:1089] InUse at 510610500 of size 256 next 634\n",
      "2022-11-04 22:07:03.624515: I tensorflow/core/common_runtime/bfc_allocator.cc:1089] InUse at 510610600 of size 256 next 1551\n",
      "2022-11-04 22:07:03.624518: I tensorflow/core/common_runtime/bfc_allocator.cc:1089] InUse at 510610700 of size 256 next 1030\n",
      "2022-11-04 22:07:03.624521: I tensorflow/core/common_runtime/bfc_allocator.cc:1089] Free  at 510610800 of size 256 next 2011\n",
      "2022-11-04 22:07:03.624524: I tensorflow/core/common_runtime/bfc_allocator.cc:1089] InUse at 510610900 of size 256 next 818\n",
      "2022-11-04 22:07:03.624527: I tensorflow/core/common_runtime/bfc_allocator.cc:1089] InUse at 510610a00 of size 256 next 798\n",
      "2022-11-04 22:07:03.624529: I tensorflow/core/common_runtime/bfc_allocator.cc:1089] InUse at 510610b00 of size 256 next 231\n",
      "2022-11-04 22:07:03.624532: I tensorflow/core/common_runtime/bfc_allocator.cc:1089] InUse at 510610c00 of size 3072 next 235\n",
      "2022-11-04 22:07:03.624535: I tensorflow/core/common_runtime/bfc_allocator.cc:1089] InUse at 510611800 of size 3072 next 219\n",
      "2022-11-04 22:07:03.624538: I tensorflow/core/common_runtime/bfc_allocator.cc:1089] InUse at 510612400 of size 3072 next 625\n",
      "2022-11-04 22:07:03.624541: I tensorflow/core/common_runtime/bfc_allocator.cc:1089] InUse at 510613000 of size 3072 next 223\n",
      "2022-11-04 22:07:03.624544: I tensorflow/core/common_runtime/bfc_allocator.cc:1089] InUse at 510613c00 of size 12288 next 17\n",
      "2022-11-04 22:07:03.624546: I tensorflow/core/common_runtime/bfc_allocator.cc:1089] InUse at 510616c00 of size 12288 next 41\n",
      "2022-11-04 22:07:03.624549: I tensorflow/core/common_runtime/bfc_allocator.cc:1089] InUse at 510619c00 of size 3072 next 35\n",
      "2022-11-04 22:07:03.624552: I tensorflow/core/common_runtime/bfc_allocator.cc:1089] InUse at 51061a800 of size 3072 next 88\n",
      "2022-11-04 22:07:03.624555: I tensorflow/core/common_runtime/bfc_allocator.cc:1089] InUse at 51061b400 of size 3072 next 126\n",
      "2022-11-04 22:07:03.624558: I tensorflow/core/common_runtime/bfc_allocator.cc:1089] InUse at 51061c000 of size 3072 next 143\n",
      "2022-11-04 22:07:03.624561: I tensorflow/core/common_runtime/bfc_allocator.cc:1089] InUse at 51061cc00 of size 3072 next 183\n",
      "2022-11-04 22:07:03.624564: I tensorflow/core/common_runtime/bfc_allocator.cc:1089] InUse at 51061d800 of size 3072 next 245\n",
      "2022-11-04 22:07:03.624567: I tensorflow/core/common_runtime/bfc_allocator.cc:1089] InUse at 51061e400 of size 3072 next 241\n",
      "2022-11-04 22:07:03.624597: I tensorflow/core/common_runtime/bfc_allocator.cc:1089] InUse at 51061f000 of size 3072 next 237\n",
      "2022-11-04 22:07:03.624600: I tensorflow/core/common_runtime/bfc_allocator.cc:1089] InUse at 51061fc00 of size 3072 next 247\n",
      "2022-11-04 22:07:03.624603: I tensorflow/core/common_runtime/bfc_allocator.cc:1089] InUse at 510620800 of size 3072 next 240\n",
      "2022-11-04 22:07:03.624621: I tensorflow/core/common_runtime/bfc_allocator.cc:1089] InUse at 510621400 of size 3072 next 246\n",
      "2022-11-04 22:07:03.624624: I tensorflow/core/common_runtime/bfc_allocator.cc:1089] InUse at 510622000 of size 12288 next 248\n",
      "2022-11-04 22:07:03.624627: I tensorflow/core/common_runtime/bfc_allocator.cc:1089] InUse at 510625000 of size 12288 next 249\n",
      "2022-11-04 22:07:03.624630: I tensorflow/core/common_runtime/bfc_allocator.cc:1089] InUse at 510628000 of size 3072 next 252\n",
      "2022-11-04 22:07:03.624648: I tensorflow/core/common_runtime/bfc_allocator.cc:1089] InUse at 510628c00 of size 3072 next 253\n",
      "2022-11-04 22:07:03.624651: I tensorflow/core/common_runtime/bfc_allocator.cc:1089] InUse at 510629800 of size 3072 next 254\n",
      "2022-11-04 22:07:03.624653: I tensorflow/core/common_runtime/bfc_allocator.cc:1089] InUse at 51062a400 of size 3072 next 255\n",
      "2022-11-04 22:07:03.624656: I tensorflow/core/common_runtime/bfc_allocator.cc:1089] InUse at 51062b000 of size 3072 next 256\n",
      "2022-11-04 22:07:03.624659: I tensorflow/core/common_runtime/bfc_allocator.cc:1089] InUse at 51062bc00 of size 3072 next 257\n",
      "2022-11-04 22:07:03.624662: I tensorflow/core/common_runtime/bfc_allocator.cc:1089] InUse at 51062c800 of size 3072 next 258\n",
      "2022-11-04 22:07:03.624679: I tensorflow/core/common_runtime/bfc_allocator.cc:1089] InUse at 51062d400 of size 3072 next 259\n",
      "2022-11-04 22:07:03.624682: I tensorflow/core/common_runtime/bfc_allocator.cc:1089] InUse at 51062e000 of size 3072 next 260\n",
      "2022-11-04 22:07:03.624684: I tensorflow/core/common_runtime/bfc_allocator.cc:1089] InUse at 51062ec00 of size 3072 next 261\n",
      "2022-11-04 22:07:03.624687: I tensorflow/core/common_runtime/bfc_allocator.cc:1089] InUse at 51062f800 of size 12288 next 264\n",
      "2022-11-04 22:07:03.624690: I tensorflow/core/common_runtime/bfc_allocator.cc:1089] InUse at 510632800 of size 16384 next 86\n",
      "2022-11-04 22:07:03.624693: I tensorflow/core/common_runtime/bfc_allocator.cc:1089] InUse at 510636800 of size 3072 next 80\n",
      "2022-11-04 22:07:03.624696: I tensorflow/core/common_runtime/bfc_allocator.cc:1089] InUse at 510637400 of size 3072 next 57\n",
      "2022-11-04 22:07:03.624699: I tensorflow/core/common_runtime/bfc_allocator.cc:1089] InUse at 510638000 of size 3072 next 75\n",
      "2022-11-04 22:07:03.624701: I tensorflow/core/common_runtime/bfc_allocator.cc:1089] InUse at 510638c00 of size 3072 next 84\n",
      "2022-11-04 22:07:03.624704: I tensorflow/core/common_runtime/bfc_allocator.cc:1089] InUse at 510639800 of size 3072 next 87\n",
      "2022-11-04 22:07:03.624707: I tensorflow/core/common_runtime/bfc_allocator.cc:1089] InUse at 51063a400 of size 3072 next 121\n",
      "2022-11-04 22:07:03.624710: I tensorflow/core/common_runtime/bfc_allocator.cc:1089] InUse at 51063b000 of size 3072 next 56\n",
      "2022-11-04 22:07:03.624713: I tensorflow/core/common_runtime/bfc_allocator.cc:1089] InUse at 51063bc00 of size 3072 next 103\n",
      "2022-11-04 22:07:03.624716: I tensorflow/core/common_runtime/bfc_allocator.cc:1089] InUse at 51063c800 of size 5120 next 123\n",
      "2022-11-04 22:07:03.624718: I tensorflow/core/common_runtime/bfc_allocator.cc:1089] InUse at 51063dc00 of size 3072 next 136\n",
      "2022-11-04 22:07:03.624721: I tensorflow/core/common_runtime/bfc_allocator.cc:1089] InUse at 51063e800 of size 3072 next 117\n",
      "2022-11-04 22:07:03.624724: I tensorflow/core/common_runtime/bfc_allocator.cc:1089] InUse at 51063f400 of size 3072 next 125\n",
      "2022-11-04 22:07:03.624727: I tensorflow/core/common_runtime/bfc_allocator.cc:1089] InUse at 510640000 of size 3072 next 133\n",
      "2022-11-04 22:07:03.624730: I tensorflow/core/common_runtime/bfc_allocator.cc:1089] InUse at 510640c00 of size 3072 next 107\n",
      "2022-11-04 22:07:03.624733: I tensorflow/core/common_runtime/bfc_allocator.cc:1089] InUse at 510641800 of size 21760 next 148\n",
      "2022-11-04 22:07:03.624736: I tensorflow/core/common_runtime/bfc_allocator.cc:1089] InUse at 510646d00 of size 3072 next 147\n",
      "2022-11-04 22:07:03.624754: I tensorflow/core/common_runtime/bfc_allocator.cc:1089] InUse at 510647900 of size 3072 next 153\n",
      "2022-11-04 22:07:03.624757: I tensorflow/core/common_runtime/bfc_allocator.cc:1089] InUse at 510648500 of size 3072 next 144\n",
      "2022-11-04 22:07:03.624760: I tensorflow/core/common_runtime/bfc_allocator.cc:1089] InUse at 510649100 of size 3072 next 157\n",
      "2022-11-04 22:07:03.624763: I tensorflow/core/common_runtime/bfc_allocator.cc:1089] InUse at 510649d00 of size 3072 next 102\n",
      "2022-11-04 22:07:03.624766: I tensorflow/core/common_runtime/bfc_allocator.cc:1089] InUse at 51064a900 of size 3072 next 98\n",
      "2022-11-04 22:07:03.624769: I tensorflow/core/common_runtime/bfc_allocator.cc:1089] InUse at 51064b500 of size 3072 next 74\n",
      "2022-11-04 22:07:03.624771: I tensorflow/core/common_runtime/bfc_allocator.cc:1089] InUse at 51064c100 of size 3072 next 95\n",
      "2022-11-04 22:07:03.624790: I tensorflow/core/common_runtime/bfc_allocator.cc:1089] InUse at 51064cd00 of size 3072 next 72\n",
      "2022-11-04 22:07:03.624794: I tensorflow/core/common_runtime/bfc_allocator.cc:1089] InUse at 51064d900 of size 12288 next 135\n",
      "2022-11-04 22:07:03.624819: I tensorflow/core/common_runtime/bfc_allocator.cc:1089] InUse at 510650900 of size 18432 next 128\n",
      "2022-11-04 22:07:03.624853: I tensorflow/core/common_runtime/bfc_allocator.cc:1089] InUse at 510655100 of size 3328 next 134\n",
      "2022-11-04 22:07:03.624858: I tensorflow/core/common_runtime/bfc_allocator.cc:1089] InUse at 510655e00 of size 3072 next 130\n",
      "2022-11-04 22:07:03.624861: I tensorflow/core/common_runtime/bfc_allocator.cc:1089] InUse at 510656a00 of size 3072 next 124\n",
      "2022-11-04 22:07:03.624864: I tensorflow/core/common_runtime/bfc_allocator.cc:1089] InUse at 510657600 of size 3072 next 164\n",
      "2022-11-04 22:07:03.624867: I tensorflow/core/common_runtime/bfc_allocator.cc:1089] InUse at 510658200 of size 3072 next 195\n",
      "2022-11-04 22:07:03.624869: I tensorflow/core/common_runtime/bfc_allocator.cc:1089] InUse at 510658e00 of size 6144 next 45\n",
      "2022-11-04 22:07:03.624887: I tensorflow/core/common_runtime/bfc_allocator.cc:1089] InUse at 51065a600 of size 6144 next 202\n",
      "2022-11-04 22:07:03.624890: I tensorflow/core/common_runtime/bfc_allocator.cc:1089] InUse at 51065be00 of size 3072 next 62\n",
      "2022-11-04 22:07:03.624892: I tensorflow/core/common_runtime/bfc_allocator.cc:1089] InUse at 51065ca00 of size 3072 next 92\n",
      "2022-11-04 22:07:03.624895: I tensorflow/core/common_runtime/bfc_allocator.cc:1089] InUse at 51065d600 of size 12288 next 89\n",
      "2022-11-04 22:07:03.624899: I tensorflow/core/common_runtime/bfc_allocator.cc:1089] InUse at 510660600 of size 12288 next 71\n",
      "2022-11-04 22:07:03.624901: I tensorflow/core/common_runtime/bfc_allocator.cc:1089] InUse at 510663600 of size 3072 next 159\n",
      "2022-11-04 22:07:03.624904: I tensorflow/core/common_runtime/bfc_allocator.cc:1089] InUse at 510664200 of size 3072 next 149\n",
      "2022-11-04 22:07:03.624907: I tensorflow/core/common_runtime/bfc_allocator.cc:1089] InUse at 510664e00 of size 3072 next 205\n",
      "2022-11-04 22:07:03.624910: I tensorflow/core/common_runtime/bfc_allocator.cc:1089] InUse at 510665a00 of size 3072 next 176\n",
      "2022-11-04 22:07:03.624927: I tensorflow/core/common_runtime/bfc_allocator.cc:1089] InUse at 510666600 of size 3072 next 162\n",
      "2022-11-04 22:07:03.624930: I tensorflow/core/common_runtime/bfc_allocator.cc:1089] InUse at 510667200 of size 12288 next 191\n",
      "2022-11-04 22:07:03.624932: I tensorflow/core/common_runtime/bfc_allocator.cc:1089] InUse at 51066a200 of size 3072 next 217\n",
      "2022-11-04 22:07:03.624980: I tensorflow/core/common_runtime/bfc_allocator.cc:1089] InUse at 51066ae00 of size 3072 next 214\n",
      "2022-11-04 22:07:03.624987: I tensorflow/core/common_runtime/bfc_allocator.cc:1089] InUse at 51066ba00 of size 3072 next 216\n",
      "2022-11-04 22:07:03.624990: I tensorflow/core/common_runtime/bfc_allocator.cc:1089] InUse at 51066c600 of size 3072 next 211\n",
      "2022-11-04 22:07:03.624993: I tensorflow/core/common_runtime/bfc_allocator.cc:1089] InUse at 51066d200 of size 3072 next 224\n",
      "2022-11-04 22:07:03.624996: I tensorflow/core/common_runtime/bfc_allocator.cc:1089] InUse at 51066de00 of size 3072 next 207\n",
      "2022-11-04 22:07:03.624999: I tensorflow/core/common_runtime/bfc_allocator.cc:1089] InUse at 51066ea00 of size 3072 next 210\n",
      "2022-11-04 22:07:03.625002: I tensorflow/core/common_runtime/bfc_allocator.cc:1089] InUse at 51066f600 of size 12288 next 230\n",
      "2022-11-04 22:07:03.625004: I tensorflow/core/common_runtime/bfc_allocator.cc:1089] InUse at 510672600 of size 3072 next 244\n",
      "2022-11-04 22:07:03.625007: I tensorflow/core/common_runtime/bfc_allocator.cc:1089] InUse at 510673200 of size 3072 next 238\n",
      "2022-11-04 22:07:03.625010: I tensorflow/core/common_runtime/bfc_allocator.cc:1089] InUse at 510673e00 of size 3072 next 27\n",
      "2022-11-04 22:07:03.625013: I tensorflow/core/common_runtime/bfc_allocator.cc:1089] InUse at 510674a00 of size 4864 next 225\n",
      "2022-11-04 22:07:03.625017: I tensorflow/core/common_runtime/bfc_allocator.cc:1089] InUse at 510675d00 of size 4096 next 228\n",
      "2022-11-04 22:07:03.625020: I tensorflow/core/common_runtime/bfc_allocator.cc:1089] InUse at 510676d00 of size 3072 next 233\n",
      "2022-11-04 22:07:03.625023: I tensorflow/core/common_runtime/bfc_allocator.cc:1089] InUse at 510677900 of size 3072 next 227\n",
      "2022-11-04 22:07:03.625025: I tensorflow/core/common_runtime/bfc_allocator.cc:1089] InUse at 510678500 of size 3072 next 222\n",
      "2022-11-04 22:07:03.625028: I tensorflow/core/common_runtime/bfc_allocator.cc:1089] InUse at 510679100 of size 256 next 10\n",
      "2022-11-04 22:07:03.625031: I tensorflow/core/common_runtime/bfc_allocator.cc:1089] InUse at 510679200 of size 256 next 141\n",
      "2022-11-04 22:07:03.625034: I tensorflow/core/common_runtime/bfc_allocator.cc:1089] InUse at 510679300 of size 256 next 623\n",
      "2022-11-04 22:07:03.625037: I tensorflow/core/common_runtime/bfc_allocator.cc:1089] InUse at 510679400 of size 5632 next 177\n",
      "2022-11-04 22:07:03.625041: I tensorflow/core/common_runtime/bfc_allocator.cc:1089] InUse at 51067aa00 of size 3072 next 158\n",
      "2022-11-04 22:07:03.625045: I tensorflow/core/common_runtime/bfc_allocator.cc:1089] InUse at 51067b600 of size 3072 next 184\n",
      "2022-11-04 22:07:03.625050: I tensorflow/core/common_runtime/bfc_allocator.cc:1089] InUse at 51067c200 of size 3072 next 186\n",
      "2022-11-04 22:07:03.625056: I tensorflow/core/common_runtime/bfc_allocator.cc:1089] InUse at 51067ce00 of size 3072 next 167\n",
      "2022-11-04 22:07:03.625061: I tensorflow/core/common_runtime/bfc_allocator.cc:1089] InUse at 51067da00 of size 3072 next 175\n",
      "2022-11-04 22:07:03.625066: I tensorflow/core/common_runtime/bfc_allocator.cc:1089] InUse at 51067e600 of size 3072 next 641\n",
      "2022-11-04 22:07:03.625071: I tensorflow/core/common_runtime/bfc_allocator.cc:1089] InUse at 51067f200 of size 4608 next 658\n",
      "2022-11-04 22:07:03.625074: I tensorflow/core/common_runtime/bfc_allocator.cc:1089] InUse at 510680400 of size 3072 next 649\n",
      "2022-11-04 22:07:03.625078: I tensorflow/core/common_runtime/bfc_allocator.cc:1089] InUse at 510681000 of size 5376 next 67\n",
      "2022-11-04 22:07:03.625081: I tensorflow/core/common_runtime/bfc_allocator.cc:1089] InUse at 510682500 of size 3072 next 68\n",
      "2022-11-04 22:07:03.625083: I tensorflow/core/common_runtime/bfc_allocator.cc:1089] InUse at 510683100 of size 3072 next 73\n",
      "2022-11-04 22:07:03.625086: I tensorflow/core/common_runtime/bfc_allocator.cc:1089] InUse at 510683d00 of size 3072 next 55\n",
      "2022-11-04 22:07:03.625089: I tensorflow/core/common_runtime/bfc_allocator.cc:1089] InUse at 510684900 of size 3072 next 58\n",
      "2022-11-04 22:07:03.625092: I tensorflow/core/common_runtime/bfc_allocator.cc:1089] InUse at 510685500 of size 3072 next 63\n",
      "2022-11-04 22:07:03.625095: I tensorflow/core/common_runtime/bfc_allocator.cc:1089] InUse at 510686100 of size 3072 next 54\n",
      "2022-11-04 22:07:03.625098: I tensorflow/core/common_runtime/bfc_allocator.cc:1089] InUse at 510686d00 of size 3072 next 60\n",
      "2022-11-04 22:07:03.625101: I tensorflow/core/common_runtime/bfc_allocator.cc:1089] InUse at 510687900 of size 3072 next 77\n",
      "2022-11-04 22:07:03.625104: I tensorflow/core/common_runtime/bfc_allocator.cc:1089] InUse at 510688500 of size 3072 next 90\n",
      "2022-11-04 22:07:03.625107: I tensorflow/core/common_runtime/bfc_allocator.cc:1089] InUse at 510689100 of size 3072 next 100\n",
      "2022-11-04 22:07:03.625110: I tensorflow/core/common_runtime/bfc_allocator.cc:1089] InUse at 510689d00 of size 3072 next 105\n",
      "2022-11-04 22:07:03.625114: I tensorflow/core/common_runtime/bfc_allocator.cc:1089] InUse at 51068a900 of size 3072 next 104\n",
      "2022-11-04 22:07:03.625117: I tensorflow/core/common_runtime/bfc_allocator.cc:1089] InUse at 51068b500 of size 3072 next 106\n",
      "2022-11-04 22:07:03.625121: I tensorflow/core/common_runtime/bfc_allocator.cc:1089] InUse at 51068c100 of size 3072 next 99\n",
      "2022-11-04 22:07:03.625124: I tensorflow/core/common_runtime/bfc_allocator.cc:1089] InUse at 51068cd00 of size 4352 next 111\n",
      "2022-11-04 22:07:03.625127: I tensorflow/core/common_runtime/bfc_allocator.cc:1089] InUse at 51068de00 of size 3072 next 115\n",
      "2022-11-04 22:07:03.625146: I tensorflow/core/common_runtime/bfc_allocator.cc:1089] InUse at 51068ea00 of size 3072 next 120\n",
      "2022-11-04 22:07:03.625149: I tensorflow/core/common_runtime/bfc_allocator.cc:1089] InUse at 51068f600 of size 22272 next 42\n",
      "2022-11-04 22:07:03.625168: I tensorflow/core/common_runtime/bfc_allocator.cc:1089] InUse at 510694d00 of size 2359296 next 69\n",
      "2022-11-04 22:07:03.625172: I tensorflow/core/common_runtime/bfc_allocator.cc:1089] InUse at 5108d4d00 of size 3425024 next 20\n",
      "2022-11-04 22:07:03.625177: I tensorflow/core/common_runtime/bfc_allocator.cc:1089] InUse at 510c19000 of size 2359296 next 40\n",
      "2022-11-04 22:07:03.625181: I tensorflow/core/common_runtime/bfc_allocator.cc:1089] InUse at 510e59000 of size 10223616 next 64\n",
      "2022-11-04 22:07:03.625186: I tensorflow/core/common_runtime/bfc_allocator.cc:1089] InUse at 511819000 of size 3072 next 119\n",
      "2022-11-04 22:07:03.625190: I tensorflow/core/common_runtime/bfc_allocator.cc:1089] InUse at 511819c00 of size 3072 next 94\n",
      "2022-11-04 22:07:03.625194: I tensorflow/core/common_runtime/bfc_allocator.cc:1089] InUse at 51181a800 of size 3072 next 108\n",
      "2022-11-04 22:07:03.625198: I tensorflow/core/common_runtime/bfc_allocator.cc:1089] InUse at 51181b400 of size 3072 next 139\n",
      "2022-11-04 22:07:03.625202: I tensorflow/core/common_runtime/bfc_allocator.cc:1089] InUse at 51181c000 of size 3072 next 145\n",
      "2022-11-04 22:07:03.625207: I tensorflow/core/common_runtime/bfc_allocator.cc:1089] InUse at 51181cc00 of size 3072 next 172\n",
      "2022-11-04 22:07:03.625210: I tensorflow/core/common_runtime/bfc_allocator.cc:1089] InUse at 51181d800 of size 3072 next 169\n",
      "2022-11-04 22:07:03.625215: I tensorflow/core/common_runtime/bfc_allocator.cc:1089] InUse at 51181e400 of size 3072 next 170\n",
      "2022-11-04 22:07:03.625218: I tensorflow/core/common_runtime/bfc_allocator.cc:1089] InUse at 51181f000 of size 3072 next 154\n",
      "2022-11-04 22:07:03.625221: I tensorflow/core/common_runtime/bfc_allocator.cc:1089] InUse at 51181fc00 of size 4096 next 165\n",
      "2022-11-04 22:07:03.625224: I tensorflow/core/common_runtime/bfc_allocator.cc:1089] InUse at 511820c00 of size 3072 next 160\n",
      "2022-11-04 22:07:03.625226: I tensorflow/core/common_runtime/bfc_allocator.cc:1089] InUse at 511821800 of size 3072 next 46\n",
      "2022-11-04 22:07:03.625230: I tensorflow/core/common_runtime/bfc_allocator.cc:1089] InUse at 511822400 of size 3072 next 142\n",
      "2022-11-04 22:07:03.625233: I tensorflow/core/common_runtime/bfc_allocator.cc:1089] InUse at 511823000 of size 17664 next 173\n",
      "2022-11-04 22:07:03.625236: I tensorflow/core/common_runtime/bfc_allocator.cc:1089] InUse at 511827500 of size 3072 next 178\n",
      "2022-11-04 22:07:03.625239: I tensorflow/core/common_runtime/bfc_allocator.cc:1089] InUse at 511828100 of size 3072 next 203\n",
      "2022-11-04 22:07:03.625241: I tensorflow/core/common_runtime/bfc_allocator.cc:1089] InUse at 511828d00 of size 3072 next 200\n",
      "2022-11-04 22:07:03.625244: I tensorflow/core/common_runtime/bfc_allocator.cc:1089] InUse at 511829900 of size 3072 next 201\n",
      "2022-11-04 22:07:03.625247: I tensorflow/core/common_runtime/bfc_allocator.cc:1089] InUse at 51182a500 of size 3072 next 198\n",
      "2022-11-04 22:07:03.625250: I tensorflow/core/common_runtime/bfc_allocator.cc:1089] InUse at 51182b100 of size 4096 next 196\n",
      "2022-11-04 22:07:03.625253: I tensorflow/core/common_runtime/bfc_allocator.cc:1089] InUse at 51182c100 of size 3072 next 192\n",
      "2022-11-04 22:07:03.625256: I tensorflow/core/common_runtime/bfc_allocator.cc:1089] InUse at 51182cd00 of size 3072 next 267\n",
      "2022-11-04 22:07:03.625259: I tensorflow/core/common_runtime/bfc_allocator.cc:1089] InUse at 51182d900 of size 3072 next 268\n",
      "2022-11-04 22:07:03.625262: I tensorflow/core/common_runtime/bfc_allocator.cc:1089] InUse at 51182e500 of size 3072 next 269\n",
      "2022-11-04 22:07:03.625265: I tensorflow/core/common_runtime/bfc_allocator.cc:1089] InUse at 51182f100 of size 3072 next 270\n",
      "2022-11-04 22:07:03.625268: I tensorflow/core/common_runtime/bfc_allocator.cc:1089] InUse at 51182fd00 of size 3072 next 271\n",
      "2022-11-04 22:07:03.625286: I tensorflow/core/common_runtime/bfc_allocator.cc:1089] InUse at 511830900 of size 3072 next 272\n",
      "2022-11-04 22:07:03.625289: I tensorflow/core/common_runtime/bfc_allocator.cc:1089] InUse at 511831500 of size 3072 next 273\n",
      "2022-11-04 22:07:03.625291: I tensorflow/core/common_runtime/bfc_allocator.cc:1089] InUse at 511832100 of size 3072 next 274\n",
      "2022-11-04 22:07:03.625315: I tensorflow/core/common_runtime/bfc_allocator.cc:1089] InUse at 511832d00 of size 3072 next 275\n",
      "2022-11-04 22:07:03.625318: I tensorflow/core/common_runtime/bfc_allocator.cc:1089] InUse at 511833900 of size 3072 next 276\n",
      "2022-11-04 22:07:03.625321: I tensorflow/core/common_runtime/bfc_allocator.cc:1089] InUse at 511834500 of size 12288 next 279\n",
      "2022-11-04 22:07:03.625342: I tensorflow/core/common_runtime/bfc_allocator.cc:1089] InUse at 511837500 of size 12288 next 280\n",
      "2022-11-04 22:07:03.625349: I tensorflow/core/common_runtime/bfc_allocator.cc:1089] InUse at 51183a500 of size 3072 next 282\n",
      "2022-11-04 22:07:03.625352: I tensorflow/core/common_runtime/bfc_allocator.cc:1089] InUse at 51183b100 of size 3072 next 283\n",
      "2022-11-04 22:07:03.625355: I tensorflow/core/common_runtime/bfc_allocator.cc:1089] InUse at 51183bd00 of size 3072 next 284\n",
      "2022-11-04 22:07:03.625357: I tensorflow/core/common_runtime/bfc_allocator.cc:1089] InUse at 51183c900 of size 3072 next 285\n",
      "2022-11-04 22:07:03.625360: I tensorflow/core/common_runtime/bfc_allocator.cc:1089] InUse at 51183d500 of size 3072 next 286\n",
      "2022-11-04 22:07:03.625363: I tensorflow/core/common_runtime/bfc_allocator.cc:1089] InUse at 51183e100 of size 3072 next 287\n",
      "2022-11-04 22:07:03.625366: I tensorflow/core/common_runtime/bfc_allocator.cc:1089] InUse at 51183ed00 of size 3072 next 288\n",
      "2022-11-04 22:07:03.625369: I tensorflow/core/common_runtime/bfc_allocator.cc:1089] InUse at 51183f900 of size 3072 next 289\n",
      "2022-11-04 22:07:03.625372: I tensorflow/core/common_runtime/bfc_allocator.cc:1089] InUse at 511840500 of size 3072 next 290\n",
      "2022-11-04 22:07:03.625375: I tensorflow/core/common_runtime/bfc_allocator.cc:1089] InUse at 511841100 of size 3072 next 291\n",
      "2022-11-04 22:07:03.625378: I tensorflow/core/common_runtime/bfc_allocator.cc:1089] InUse at 511841d00 of size 12288 next 294\n",
      "2022-11-04 22:07:03.625394: I tensorflow/core/common_runtime/bfc_allocator.cc:1089] InUse at 511844d00 of size 12288 next 295\n",
      "2022-11-04 22:07:03.625397: I tensorflow/core/common_runtime/bfc_allocator.cc:1089] InUse at 511847d00 of size 3072 next 298\n",
      "2022-11-04 22:07:03.625400: I tensorflow/core/common_runtime/bfc_allocator.cc:1089] InUse at 511848900 of size 3072 next 299\n",
      "2022-11-04 22:07:03.625424: I tensorflow/core/common_runtime/bfc_allocator.cc:1089] InUse at 511849500 of size 3072 next 300\n",
      "2022-11-04 22:07:03.625427: I tensorflow/core/common_runtime/bfc_allocator.cc:1089] InUse at 51184a100 of size 3072 next 301\n",
      "2022-11-04 22:07:03.625429: I tensorflow/core/common_runtime/bfc_allocator.cc:1089] InUse at 51184ad00 of size 3072 next 302\n",
      "2022-11-04 22:07:03.625432: I tensorflow/core/common_runtime/bfc_allocator.cc:1089] InUse at 51184b900 of size 3072 next 303\n",
      "2022-11-04 22:07:03.625435: I tensorflow/core/common_runtime/bfc_allocator.cc:1089] InUse at 51184c500 of size 3072 next 304\n",
      "2022-11-04 22:07:03.625438: I tensorflow/core/common_runtime/bfc_allocator.cc:1089] InUse at 51184d100 of size 3072 next 305\n",
      "2022-11-04 22:07:03.625441: I tensorflow/core/common_runtime/bfc_allocator.cc:1089] InUse at 51184dd00 of size 3072 next 306\n",
      "2022-11-04 22:07:03.625444: I tensorflow/core/common_runtime/bfc_allocator.cc:1089] InUse at 51184e900 of size 3072 next 307\n",
      "2022-11-04 22:07:03.625447: I tensorflow/core/common_runtime/bfc_allocator.cc:1089] InUse at 51184f500 of size 12288 next 310\n",
      "2022-11-04 22:07:03.625450: I tensorflow/core/common_runtime/bfc_allocator.cc:1089] InUse at 511852500 of size 12288 next 311\n",
      "2022-11-04 22:07:03.625452: I tensorflow/core/common_runtime/bfc_allocator.cc:1089] InUse at 511855500 of size 3072 next 314\n",
      "2022-11-04 22:07:03.625455: I tensorflow/core/common_runtime/bfc_allocator.cc:1089] InUse at 511856100 of size 3072 next 315\n",
      "2022-11-04 22:07:03.625458: I tensorflow/core/common_runtime/bfc_allocator.cc:1089] InUse at 511856d00 of size 3072 next 316\n",
      "2022-11-04 22:07:03.625461: I tensorflow/core/common_runtime/bfc_allocator.cc:1089] InUse at 511857900 of size 3072 next 317\n",
      "2022-11-04 22:07:03.625464: I tensorflow/core/common_runtime/bfc_allocator.cc:1089] InUse at 511858500 of size 3072 next 318\n",
      "2022-11-04 22:07:03.625467: I tensorflow/core/common_runtime/bfc_allocator.cc:1089] InUse at 511859100 of size 3072 next 319\n",
      "2022-11-04 22:07:03.625470: I tensorflow/core/common_runtime/bfc_allocator.cc:1089] InUse at 511859d00 of size 3072 next 320\n",
      "2022-11-04 22:07:03.625473: I tensorflow/core/common_runtime/bfc_allocator.cc:1089] InUse at 51185a900 of size 3072 next 321\n",
      "2022-11-04 22:07:03.625476: I tensorflow/core/common_runtime/bfc_allocator.cc:1089] InUse at 51185b500 of size 3072 next 322\n",
      "2022-11-04 22:07:03.625479: I tensorflow/core/common_runtime/bfc_allocator.cc:1089] InUse at 51185c100 of size 3072 next 323\n",
      "2022-11-04 22:07:03.625482: I tensorflow/core/common_runtime/bfc_allocator.cc:1089] InUse at 51185cd00 of size 12288 next 326\n",
      "2022-11-04 22:07:03.625487: I tensorflow/core/common_runtime/bfc_allocator.cc:1089] InUse at 51185fd00 of size 12288 next 327\n",
      "2022-11-04 22:07:03.625493: I tensorflow/core/common_runtime/bfc_allocator.cc:1089] InUse at 511862d00 of size 3072 next 330\n",
      "2022-11-04 22:07:03.625497: I tensorflow/core/common_runtime/bfc_allocator.cc:1089] InUse at 511863900 of size 3072 next 331\n",
      "2022-11-04 22:07:03.625502: I tensorflow/core/common_runtime/bfc_allocator.cc:1089] InUse at 511864500 of size 3072 next 332\n",
      "2022-11-04 22:07:03.625507: I tensorflow/core/common_runtime/bfc_allocator.cc:1089] InUse at 511865100 of size 3072 next 333\n",
      "2022-11-04 22:07:03.625531: I tensorflow/core/common_runtime/bfc_allocator.cc:1089] InUse at 511865d00 of size 3072 next 334\n",
      "2022-11-04 22:07:03.625539: I tensorflow/core/common_runtime/bfc_allocator.cc:1089] InUse at 511866900 of size 3072 next 335\n",
      "2022-11-04 22:07:03.625546: I tensorflow/core/common_runtime/bfc_allocator.cc:1089] InUse at 511867500 of size 3072 next 336\n",
      "2022-11-04 22:07:03.625569: I tensorflow/core/common_runtime/bfc_allocator.cc:1089] InUse at 511868100 of size 3072 next 337\n",
      "2022-11-04 22:07:03.625581: I tensorflow/core/common_runtime/bfc_allocator.cc:1089] InUse at 511868d00 of size 3072 next 338\n",
      "2022-11-04 22:07:03.625588: I tensorflow/core/common_runtime/bfc_allocator.cc:1089] InUse at 511869900 of size 5120 next 213\n",
      "2022-11-04 22:07:03.625594: I tensorflow/core/common_runtime/bfc_allocator.cc:1089] InUse at 51186ad00 of size 3072 next 209\n",
      "2022-11-04 22:07:03.625600: I tensorflow/core/common_runtime/bfc_allocator.cc:1089] InUse at 51186b900 of size 4380416 next 26\n",
      "2022-11-04 22:07:03.625606: I tensorflow/core/common_runtime/bfc_allocator.cc:1089] InUse at 511c99000 of size 9437184 next 81\n",
      "2022-11-04 22:07:03.625611: I tensorflow/core/common_runtime/bfc_allocator.cc:1089] InUse at 512599000 of size 2359296 next 82\n",
      "2022-11-04 22:07:03.625617: I tensorflow/core/common_runtime/bfc_allocator.cc:1089] InUse at 5127d9000 of size 2359296 next 52\n",
      "2022-11-04 22:07:03.625629: I tensorflow/core/common_runtime/bfc_allocator.cc:1089] InUse at 512a19000 of size 2359296 next 29\n",
      "2022-11-04 22:07:03.625636: I tensorflow/core/common_runtime/bfc_allocator.cc:1089] InUse at 512c59000 of size 9437184 next 48\n",
      "2022-11-04 22:07:03.625648: I tensorflow/core/common_runtime/bfc_allocator.cc:1089] InUse at 513559000 of size 9437184 next 47\n",
      "2022-11-04 22:07:03.625653: I tensorflow/core/common_runtime/bfc_allocator.cc:1089] InUse at 513e59000 of size 2359296 next 24\n",
      "2022-11-04 22:07:03.625658: I tensorflow/core/common_runtime/bfc_allocator.cc:1089] InUse at 514099000 of size 7077888 next 53\n",
      "2022-11-04 22:07:03.625665: I tensorflow/core/common_runtime/bfc_allocator.cc:1089] InUse at 514759000 of size 2359296 next 96\n",
      "2022-11-04 22:07:03.625670: I tensorflow/core/common_runtime/bfc_allocator.cc:1089] InUse at 514999000 of size 2359296 next 97\n",
      "2022-11-04 22:07:03.625674: I tensorflow/core/common_runtime/bfc_allocator.cc:1089] InUse at 514bd9000 of size 7077888 next 631\n",
      "2022-11-04 22:07:03.625678: I tensorflow/core/common_runtime/bfc_allocator.cc:1089] InUse at 515299000 of size 7077888 next 70\n",
      "2022-11-04 22:07:03.625683: I tensorflow/core/common_runtime/bfc_allocator.cc:1089] InUse at 515959000 of size 9437184 next 66\n",
      "2022-11-04 22:07:03.625705: I tensorflow/core/common_runtime/bfc_allocator.cc:1089] InUse at 516259000 of size 9437184 next 61\n",
      "2022-11-04 22:07:03.625735: I tensorflow/core/common_runtime/bfc_allocator.cc:1089] InUse at 516b59000 of size 2359296 next 113\n",
      "2022-11-04 22:07:03.625742: I tensorflow/core/common_runtime/bfc_allocator.cc:1089] InUse at 516d99000 of size 2359296 next 114\n",
      "2022-11-04 22:07:03.625751: I tensorflow/core/common_runtime/bfc_allocator.cc:1089] InUse at 516fd9000 of size 2359296 next 79\n",
      "2022-11-04 22:07:03.625760: I tensorflow/core/common_runtime/bfc_allocator.cc:1089] InUse at 517219000 of size 2359296 next 76\n",
      "2022-11-04 22:07:03.625770: I tensorflow/core/common_runtime/bfc_allocator.cc:1089] InUse at 517459000 of size 9437184 next 65\n",
      "2022-11-04 22:07:03.625777: I tensorflow/core/common_runtime/bfc_allocator.cc:1089] InUse at 517d59000 of size 9437184 next 85\n",
      "2022-11-04 22:07:03.625781: I tensorflow/core/common_runtime/bfc_allocator.cc:1089] InUse at 518659000 of size 9437184 next 78\n",
      "2022-11-04 22:07:03.625783: I tensorflow/core/common_runtime/bfc_allocator.cc:1089] InUse at 518f59000 of size 2359296 next 118\n",
      "2022-11-04 22:07:03.625787: I tensorflow/core/common_runtime/bfc_allocator.cc:1089] InUse at 519199000 of size 16515072 next 83\n",
      "2022-11-04 22:07:03.625790: I tensorflow/core/common_runtime/bfc_allocator.cc:1089] InUse at 51a159000 of size 9437184 next 101\n",
      "2022-11-04 22:07:03.625793: I tensorflow/core/common_runtime/bfc_allocator.cc:1089] InUse at 51aa59000 of size 9437184 next 93\n",
      "2022-11-04 22:07:03.625796: I tensorflow/core/common_runtime/bfc_allocator.cc:1089] InUse at 51b359000 of size 2359296 next 140\n",
      "2022-11-04 22:07:03.625799: I tensorflow/core/common_runtime/bfc_allocator.cc:1089] InUse at 51b599000 of size 2359296 next 146\n",
      "2022-11-04 22:07:03.625802: I tensorflow/core/common_runtime/bfc_allocator.cc:1089] InUse at 51b7d9000 of size 2359296 next 152\n",
      "2022-11-04 22:07:03.625805: I tensorflow/core/common_runtime/bfc_allocator.cc:1089] InUse at 51ba19000 of size 11796480 next 122\n",
      "2022-11-04 22:07:03.625808: I tensorflow/core/common_runtime/bfc_allocator.cc:1089] InUse at 51c559000 of size 9437184 next 116\n",
      "2022-11-04 22:07:03.625811: I tensorflow/core/common_runtime/bfc_allocator.cc:1089] InUse at 51ce59000 of size 2359296 next 110\n",
      "2022-11-04 22:07:03.625814: I tensorflow/core/common_runtime/bfc_allocator.cc:1089] InUse at 51d099000 of size 2359296 next 129\n",
      "2022-11-04 22:07:03.625817: I tensorflow/core/common_runtime/bfc_allocator.cc:1089] InUse at 51d2d9000 of size 11796480 next 127\n",
      "2022-11-04 22:07:03.625820: I tensorflow/core/common_runtime/bfc_allocator.cc:1089] InUse at 51de19000 of size 2359296 next 161\n",
      "2022-11-04 22:07:03.625822: I tensorflow/core/common_runtime/bfc_allocator.cc:1089] InUse at 51e059000 of size 2359296 next 166\n",
      "2022-11-04 22:07:03.625825: I tensorflow/core/common_runtime/bfc_allocator.cc:1089] InUse at 51e299000 of size 2359296 next 155\n",
      "2022-11-04 22:07:03.625828: I tensorflow/core/common_runtime/bfc_allocator.cc:1089] InUse at 51e4d9000 of size 2359296 next 138\n",
      "2022-11-04 22:07:03.625831: I tensorflow/core/common_runtime/bfc_allocator.cc:1089] InUse at 51e719000 of size 9437184 next 137\n",
      "2022-11-04 22:07:03.625834: I tensorflow/core/common_runtime/bfc_allocator.cc:1089] InUse at 51f019000 of size 2359296 next 150\n",
      "2022-11-04 22:07:03.625837: I tensorflow/core/common_runtime/bfc_allocator.cc:1089] InUse at 51f259000 of size 7077888 next 109\n",
      "2022-11-04 22:07:03.625840: I tensorflow/core/common_runtime/bfc_allocator.cc:1089] InUse at 51f919000 of size 2359296 next 197\n",
      "2022-11-04 22:07:03.625843: I tensorflow/core/common_runtime/bfc_allocator.cc:1089] InUse at 51fb59000 of size 2359296 next 187\n",
      "2022-11-04 22:07:03.625846: I tensorflow/core/common_runtime/bfc_allocator.cc:1089] InUse at 51fd99000 of size 2359296 next 208\n",
      "2022-11-04 22:07:03.625849: I tensorflow/core/common_runtime/bfc_allocator.cc:1089] InUse at 51ffd9000 of size 2359296 next 132\n",
      "2022-11-04 22:07:03.625852: I tensorflow/core/common_runtime/bfc_allocator.cc:1089] InUse at 520219000 of size 9437184 next 156\n",
      "2022-11-04 22:07:03.625855: I tensorflow/core/common_runtime/bfc_allocator.cc:1089] InUse at 520b19000 of size 11796480 next 131\n",
      "2022-11-04 22:07:03.625858: I tensorflow/core/common_runtime/bfc_allocator.cc:1089] InUse at 521659000 of size 2359296 next 151\n",
      "2022-11-04 22:07:03.625861: I tensorflow/core/common_runtime/bfc_allocator.cc:1089] InUse at 521899000 of size 3145728 next 171\n",
      "2022-11-04 22:07:03.625864: I tensorflow/core/common_runtime/bfc_allocator.cc:1089] InUse at 521b99000 of size 3072 next 640\n",
      "2022-11-04 22:07:03.625867: I tensorflow/core/common_runtime/bfc_allocator.cc:1089] InUse at 521b99c00 of size 3072 next 832\n",
      "2022-11-04 22:07:03.625870: I tensorflow/core/common_runtime/bfc_allocator.cc:1089] InUse at 521b9a800 of size 3072 next 667\n",
      "2022-11-04 22:07:03.625873: I tensorflow/core/common_runtime/bfc_allocator.cc:1089] InUse at 521b9b400 of size 3072 next 677\n",
      "2022-11-04 22:07:03.625876: I tensorflow/core/common_runtime/bfc_allocator.cc:1089] InUse at 521b9c000 of size 3072 next 639\n",
      "2022-11-04 22:07:03.625878: I tensorflow/core/common_runtime/bfc_allocator.cc:1089] InUse at 521b9cc00 of size 3072 next 843\n",
      "2022-11-04 22:07:03.625881: I tensorflow/core/common_runtime/bfc_allocator.cc:1089] InUse at 521b9d800 of size 3072 next 646\n",
      "2022-11-04 22:07:03.625884: I tensorflow/core/common_runtime/bfc_allocator.cc:1089] InUse at 521b9e400 of size 3072 next 637\n",
      "2022-11-04 22:07:03.625887: I tensorflow/core/common_runtime/bfc_allocator.cc:1089] InUse at 521b9f000 of size 3072 next 691\n",
      "2022-11-04 22:07:03.625890: I tensorflow/core/common_runtime/bfc_allocator.cc:1089] InUse at 521b9fc00 of size 3072 next 674\n",
      "2022-11-04 22:07:03.625893: I tensorflow/core/common_runtime/bfc_allocator.cc:1089] InUse at 521ba0800 of size 3072 next 656\n",
      "2022-11-04 22:07:03.625896: I tensorflow/core/common_runtime/bfc_allocator.cc:1089] InUse at 521ba1400 of size 3072 next 654\n",
      "2022-11-04 22:07:03.625899: I tensorflow/core/common_runtime/bfc_allocator.cc:1089] InUse at 521ba2000 of size 12288 next 684\n",
      "2022-11-04 22:07:03.625901: I tensorflow/core/common_runtime/bfc_allocator.cc:1089] InUse at 521ba5000 of size 3072 next 698\n",
      "2022-11-04 22:07:03.625904: I tensorflow/core/common_runtime/bfc_allocator.cc:1089] InUse at 521ba5c00 of size 3072 next 1037\n",
      "2022-11-04 22:07:03.625907: I tensorflow/core/common_runtime/bfc_allocator.cc:1089] InUse at 521ba6800 of size 3072 next 801\n",
      "2022-11-04 22:07:03.625910: I tensorflow/core/common_runtime/bfc_allocator.cc:1089] InUse at 521ba7400 of size 3072 next 833\n",
      "2022-11-04 22:07:03.625913: I tensorflow/core/common_runtime/bfc_allocator.cc:1089] InUse at 521ba8000 of size 3072 next 820\n",
      "2022-11-04 22:07:03.625916: I tensorflow/core/common_runtime/bfc_allocator.cc:1089] InUse at 521ba8c00 of size 6144 next 1306\n",
      "2022-11-04 22:07:03.625919: I tensorflow/core/common_runtime/bfc_allocator.cc:1089] InUse at 521baa400 of size 21504 next 689\n",
      "2022-11-04 22:07:03.625922: I tensorflow/core/common_runtime/bfc_allocator.cc:1089] InUse at 521baf800 of size 3072 next 657\n",
      "2022-11-04 22:07:03.625925: I tensorflow/core/common_runtime/bfc_allocator.cc:1089] InUse at 521bb0400 of size 3072 next 663\n",
      "2022-11-04 22:07:03.625928: I tensorflow/core/common_runtime/bfc_allocator.cc:1089] InUse at 521bb1000 of size 3072 next 652\n",
      "2022-11-04 22:07:03.625931: I tensorflow/core/common_runtime/bfc_allocator.cc:1089] InUse at 521bb1c00 of size 3072 next 669\n",
      "2022-11-04 22:07:03.625934: I tensorflow/core/common_runtime/bfc_allocator.cc:1089] InUse at 521bb2800 of size 3072 next 643\n",
      "2022-11-04 22:07:03.625937: I tensorflow/core/common_runtime/bfc_allocator.cc:1089] InUse at 521bb3400 of size 3072 next 660\n",
      "2022-11-04 22:07:03.625939: I tensorflow/core/common_runtime/bfc_allocator.cc:1089] InUse at 521bb4000 of size 3072 next 678\n",
      "2022-11-04 22:07:03.625942: I tensorflow/core/common_runtime/bfc_allocator.cc:1089] InUse at 521bb4c00 of size 3072 next 682\n",
      "2022-11-04 22:07:03.625945: I tensorflow/core/common_runtime/bfc_allocator.cc:1089] InUse at 521bb5800 of size 3072 next 668\n",
      "2022-11-04 22:07:03.625948: I tensorflow/core/common_runtime/bfc_allocator.cc:1089] InUse at 521bb6400 of size 3072 next 672\n",
      "2022-11-04 22:07:03.625951: I tensorflow/core/common_runtime/bfc_allocator.cc:1089] InUse at 521bb7000 of size 15360 next 846\n",
      "2022-11-04 22:07:03.625954: I tensorflow/core/common_runtime/bfc_allocator.cc:1089] InUse at 521bbac00 of size 3072 next 681\n",
      "2022-11-04 22:07:03.625957: I tensorflow/core/common_runtime/bfc_allocator.cc:1089] InUse at 521bbb800 of size 3072 next 648\n",
      "2022-11-04 22:07:03.625960: I tensorflow/core/common_runtime/bfc_allocator.cc:1089] InUse at 521bbc400 of size 3787776 next 185\n",
      "2022-11-04 22:07:03.625964: I tensorflow/core/common_runtime/bfc_allocator.cc:1089] InUse at 521f59000 of size 196542464 next 163\n",
      "2022-11-04 22:07:03.625967: I tensorflow/core/common_runtime/bfc_allocator.cc:1089] InUse at 52dac9000 of size 9437184 next 180\n",
      "2022-11-04 22:07:03.625970: I tensorflow/core/common_runtime/bfc_allocator.cc:1089] InUse at 52e3c9000 of size 2359296 next 174\n",
      "2022-11-04 22:07:03.625973: I tensorflow/core/common_runtime/bfc_allocator.cc:1089] InUse at 52e609000 of size 3145728 next 1035\n",
      "2022-11-04 22:07:03.625976: I tensorflow/core/common_runtime/bfc_allocator.cc:1089] InUse at 52e909000 of size 13369344 next 232\n",
      "2022-11-04 22:07:03.625979: I tensorflow/core/common_runtime/bfc_allocator.cc:1089] InUse at 52f5c9000 of size 3145728 next 14\n",
      "2022-11-04 22:07:03.625982: I tensorflow/core/common_runtime/bfc_allocator.cc:1089] InUse at 52f8c9000 of size 12288 next 19\n",
      "2022-11-04 22:07:03.625985: I tensorflow/core/common_runtime/bfc_allocator.cc:1089] InUse at 52f8cc000 of size 3919872 next 199\n",
      "2022-11-04 22:07:03.625988: I tensorflow/core/common_runtime/bfc_allocator.cc:1089] InUse at 52fc89000 of size 9437184 next 179\n",
      "2022-11-04 22:07:03.625991: I tensorflow/core/common_runtime/bfc_allocator.cc:1089] InUse at 530589000 of size 9437184 next 190\n",
      "2022-11-04 22:07:03.625994: I tensorflow/core/common_runtime/bfc_allocator.cc:1089] InUse at 530e89000 of size 2359296 next 204\n",
      "2022-11-04 22:07:03.625997: I tensorflow/core/common_runtime/bfc_allocator.cc:1089] InUse at 5310c9000 of size 9437184 next 218\n",
      "2022-11-04 22:07:03.626000: I tensorflow/core/common_runtime/bfc_allocator.cc:1089] InUse at 5319c9000 of size 2359296 next 189\n",
      "2022-11-04 22:07:03.626003: I tensorflow/core/common_runtime/bfc_allocator.cc:1089] InUse at 531c09000 of size 2359296 next 215\n",
      "2022-11-04 22:07:03.626006: I tensorflow/core/common_runtime/bfc_allocator.cc:1089] InUse at 531e49000 of size 9437184 next 212\n",
      "2022-11-04 22:07:03.626009: I tensorflow/core/common_runtime/bfc_allocator.cc:1089] InUse at 532749000 of size 2359296 next 194\n",
      "2022-11-04 22:07:03.626011: I tensorflow/core/common_runtime/bfc_allocator.cc:1089] InUse at 532989000 of size 7077888 next 206\n",
      "2022-11-04 22:07:03.626014: I tensorflow/core/common_runtime/bfc_allocator.cc:1089] InUse at 533049000 of size 9437184 next 234\n",
      "2022-11-04 22:07:03.626017: I tensorflow/core/common_runtime/bfc_allocator.cc:1089] InUse at 533949000 of size 9437184 next 229\n",
      "2022-11-04 22:07:03.626020: I tensorflow/core/common_runtime/bfc_allocator.cc:1089] InUse at 534249000 of size 3145728 next 242\n",
      "2022-11-04 22:07:03.626023: I tensorflow/core/common_runtime/bfc_allocator.cc:1089] InUse at 534549000 of size 3145728 next 236\n",
      "2022-11-04 22:07:03.626026: I tensorflow/core/common_runtime/bfc_allocator.cc:1089] InUse at 534849000 of size 3145728 next 226\n",
      "2022-11-04 22:07:03.626029: I tensorflow/core/common_runtime/bfc_allocator.cc:1089] InUse at 534b49000 of size 9437184 next 11\n",
      "2022-11-04 22:07:03.626032: I tensorflow/core/common_runtime/bfc_allocator.cc:1089] InUse at 535449000 of size 7077888 next 168\n",
      "2022-11-04 22:07:03.626035: I tensorflow/core/common_runtime/bfc_allocator.cc:1089] InUse at 535b09000 of size 9437184 next 182\n",
      "2022-11-04 22:07:03.626038: I tensorflow/core/common_runtime/bfc_allocator.cc:1089] InUse at 536409000 of size 9437184 next 193\n",
      "2022-11-04 22:07:03.626041: I tensorflow/core/common_runtime/bfc_allocator.cc:1089] InUse at 536d09000 of size 9437184 next 243\n",
      "2022-11-04 22:07:03.626043: I tensorflow/core/common_runtime/bfc_allocator.cc:1089] InUse at 537609000 of size 9437184 next 239\n",
      "2022-11-04 22:07:03.626046: I tensorflow/core/common_runtime/bfc_allocator.cc:1089] InUse at 537f09000 of size 9437184 next 250\n",
      "2022-11-04 22:07:03.626049: I tensorflow/core/common_runtime/bfc_allocator.cc:1089] InUse at 538809000 of size 9437184 next 251\n",
      "2022-11-04 22:07:03.626052: I tensorflow/core/common_runtime/bfc_allocator.cc:1089] InUse at 539109000 of size 9437184 next 262\n",
      "2022-11-04 22:07:03.626055: I tensorflow/core/common_runtime/bfc_allocator.cc:1089] InUse at 539a09000 of size 9437184 next 263\n",
      "2022-11-04 22:07:03.626058: I tensorflow/core/common_runtime/bfc_allocator.cc:1089] InUse at 53a309000 of size 9437184 next 265\n",
      "2022-11-04 22:07:03.626061: I tensorflow/core/common_runtime/bfc_allocator.cc:1089] InUse at 53ac09000 of size 9437184 next 266\n",
      "2022-11-04 22:07:03.626064: I tensorflow/core/common_runtime/bfc_allocator.cc:1089] InUse at 53b509000 of size 9437184 next 277\n",
      "2022-11-04 22:07:03.626066: I tensorflow/core/common_runtime/bfc_allocator.cc:1089] InUse at 53be09000 of size 9437184 next 278\n",
      "2022-11-04 22:07:03.626069: I tensorflow/core/common_runtime/bfc_allocator.cc:1089] InUse at 53c709000 of size 9437184 next 281\n",
      "2022-11-04 22:07:03.626073: I tensorflow/core/common_runtime/bfc_allocator.cc:1089] InUse at 53d009000 of size 15215616 next 221\n",
      "2022-11-04 22:07:03.626076: I tensorflow/core/common_runtime/bfc_allocator.cc:1089] InUse at 53de8bc00 of size 2359296 next 628\n",
      "2022-11-04 22:07:03.626079: I tensorflow/core/common_runtime/bfc_allocator.cc:1089] InUse at 53e0cbc00 of size 7077888 next 629\n",
      "2022-11-04 22:07:03.626082: I tensorflow/core/common_runtime/bfc_allocator.cc:1089] InUse at 53e78bc00 of size 9437184 next 630\n",
      "2022-11-04 22:07:03.626085: I tensorflow/core/common_runtime/bfc_allocator.cc:1089] InUse at 53f08bc00 of size 12288 next 842\n",
      "2022-11-04 22:07:03.626088: I tensorflow/core/common_runtime/bfc_allocator.cc:1089] InUse at 53f08ec00 of size 3072 next 1038\n",
      "2022-11-04 22:07:03.626091: I tensorflow/core/common_runtime/bfc_allocator.cc:1089] InUse at 53f08f800 of size 12288 next 1041\n",
      "2022-11-04 22:07:03.626094: I tensorflow/core/common_runtime/bfc_allocator.cc:1089] InUse at 53f092800 of size 3072 next 655\n",
      "2022-11-04 22:07:03.626097: I tensorflow/core/common_runtime/bfc_allocator.cc:1089] InUse at 53f093400 of size 3072 next 826\n",
      "2022-11-04 22:07:03.626100: I tensorflow/core/common_runtime/bfc_allocator.cc:1089] InUse at 53f094000 of size 3072 next 651\n",
      "2022-11-04 22:07:03.626103: I tensorflow/core/common_runtime/bfc_allocator.cc:1089] InUse at 53f094c00 of size 3072 next 853\n",
      "2022-11-04 22:07:03.626106: I tensorflow/core/common_runtime/bfc_allocator.cc:1089] InUse at 53f095800 of size 3072 next 821\n",
      "2022-11-04 22:07:03.626109: I tensorflow/core/common_runtime/bfc_allocator.cc:1089] InUse at 53f096400 of size 3072 next 1042\n",
      "2022-11-04 22:07:03.626111: I tensorflow/core/common_runtime/bfc_allocator.cc:1089] InUse at 53f097000 of size 3072 next 1043\n",
      "2022-11-04 22:07:03.626114: I tensorflow/core/common_runtime/bfc_allocator.cc:1089] InUse at 53f097c00 of size 3072 next 1044\n",
      "2022-11-04 22:07:03.626117: I tensorflow/core/common_runtime/bfc_allocator.cc:1089] InUse at 53f098800 of size 3072 next 845\n",
      "2022-11-04 22:07:03.626120: I tensorflow/core/common_runtime/bfc_allocator.cc:1089] InUse at 53f099400 of size 12288 next 854\n",
      "2022-11-04 22:07:03.626123: I tensorflow/core/common_runtime/bfc_allocator.cc:1089] InUse at 53f09c400 of size 3072 next 1047\n",
      "2022-11-04 22:07:03.626126: I tensorflow/core/common_runtime/bfc_allocator.cc:1089] InUse at 53f09d000 of size 3072 next 848\n",
      "2022-11-04 22:07:03.626129: I tensorflow/core/common_runtime/bfc_allocator.cc:1089] InUse at 53f09dc00 of size 3072 next 1048\n",
      "2022-11-04 22:07:03.626132: I tensorflow/core/common_runtime/bfc_allocator.cc:1089] InUse at 53f09e800 of size 3072 next 852\n",
      "2022-11-04 22:07:03.626135: I tensorflow/core/common_runtime/bfc_allocator.cc:1089] InUse at 53f09f400 of size 3072 next 1049\n",
      "2022-11-04 22:07:03.626137: I tensorflow/core/common_runtime/bfc_allocator.cc:1089] InUse at 53f0a0000 of size 3072 next 1051\n",
      "2022-11-04 22:07:03.626140: I tensorflow/core/common_runtime/bfc_allocator.cc:1089] InUse at 53f0a0c00 of size 3072 next 1052\n",
      "2022-11-04 22:07:03.626143: I tensorflow/core/common_runtime/bfc_allocator.cc:1089] InUse at 53f0a1800 of size 3072 next 857\n",
      "2022-11-04 22:07:03.626146: I tensorflow/core/common_runtime/bfc_allocator.cc:1089] InUse at 53f0a2400 of size 3072 next 1053\n",
      "2022-11-04 22:07:03.626149: I tensorflow/core/common_runtime/bfc_allocator.cc:1089] InUse at 53f0a3000 of size 12288 next 1054\n",
      "2022-11-04 22:07:03.626152: I tensorflow/core/common_runtime/bfc_allocator.cc:1089] InUse at 53f0a6000 of size 3072 next 1055\n",
      "2022-11-04 22:07:03.626155: I tensorflow/core/common_runtime/bfc_allocator.cc:1089] InUse at 53f0a6c00 of size 3072 next 860\n",
      "2022-11-04 22:07:03.626158: I tensorflow/core/common_runtime/bfc_allocator.cc:1089] InUse at 53f0a7800 of size 3072 next 1056\n",
      "2022-11-04 22:07:03.626161: I tensorflow/core/common_runtime/bfc_allocator.cc:1089] InUse at 53f0a8400 of size 3072 next 861\n",
      "2022-11-04 22:07:03.626164: I tensorflow/core/common_runtime/bfc_allocator.cc:1089] InUse at 53f0a9000 of size 3072 next 1057\n",
      "2022-11-04 22:07:03.626167: I tensorflow/core/common_runtime/bfc_allocator.cc:1089] InUse at 53f0a9c00 of size 3072 next 863\n",
      "2022-11-04 22:07:03.626170: I tensorflow/core/common_runtime/bfc_allocator.cc:1089] InUse at 53f0aa800 of size 3072 next 864\n",
      "2022-11-04 22:07:03.626172: I tensorflow/core/common_runtime/bfc_allocator.cc:1089] InUse at 53f0ab400 of size 3072 next 1061\n",
      "2022-11-04 22:07:03.626175: I tensorflow/core/common_runtime/bfc_allocator.cc:1089] InUse at 53f0ac000 of size 3072 next 865\n",
      "2022-11-04 22:07:03.626179: I tensorflow/core/common_runtime/bfc_allocator.cc:1089] InUse at 53f0acc00 of size 3072 next 867\n",
      "2022-11-04 22:07:03.626184: I tensorflow/core/common_runtime/bfc_allocator.cc:1089] InUse at 53f0ad800 of size 3072 next 659\n",
      "2022-11-04 22:07:03.626190: I tensorflow/core/common_runtime/bfc_allocator.cc:1089] InUse at 53f0ae400 of size 3072 next 685\n",
      "2022-11-04 22:07:03.626195: I tensorflow/core/common_runtime/bfc_allocator.cc:1089] InUse at 53f0af000 of size 3072 next 661\n",
      "2022-11-04 22:07:03.626200: I tensorflow/core/common_runtime/bfc_allocator.cc:1089] InUse at 53f0afc00 of size 3072 next 690\n",
      "2022-11-04 22:07:03.626204: I tensorflow/core/common_runtime/bfc_allocator.cc:1089] InUse at 53f0b0800 of size 3072 next 699\n",
      "2022-11-04 22:07:03.626208: I tensorflow/core/common_runtime/bfc_allocator.cc:1089] InUse at 53f0b1400 of size 3072 next 727\n",
      "2022-11-04 22:07:03.626227: I tensorflow/core/common_runtime/bfc_allocator.cc:1089] InUse at 53f0b2000 of size 3072 next 722\n",
      "2022-11-04 22:07:03.626231: I tensorflow/core/common_runtime/bfc_allocator.cc:1089] InUse at 53f0b2c00 of size 3072 next 697\n",
      "2022-11-04 22:07:03.626256: I tensorflow/core/common_runtime/bfc_allocator.cc:1089] InUse at 53f0b3800 of size 3072 next 713\n",
      "2022-11-04 22:07:03.626266: I tensorflow/core/common_runtime/bfc_allocator.cc:1089] InUse at 53f0b4400 of size 3072 next 706\n",
      "2022-11-04 22:07:03.626272: I tensorflow/core/common_runtime/bfc_allocator.cc:1089] InUse at 53f0b5000 of size 21504 next 695\n",
      "2022-11-04 22:07:03.626275: I tensorflow/core/common_runtime/bfc_allocator.cc:1089] InUse at 53f0ba400 of size 3072 next 700\n",
      "2022-11-04 22:07:03.626278: I tensorflow/core/common_runtime/bfc_allocator.cc:1089] InUse at 53f0bb000 of size 3072 next 817\n",
      "2022-11-04 22:07:03.626281: I tensorflow/core/common_runtime/bfc_allocator.cc:1089] InUse at 53f0bbc00 of size 3072 next 693\n",
      "2022-11-04 22:07:03.626284: I tensorflow/core/common_runtime/bfc_allocator.cc:1089] InUse at 53f0bc800 of size 3072 next 730\n",
      "2022-11-04 22:07:03.626287: I tensorflow/core/common_runtime/bfc_allocator.cc:1089] InUse at 53f0bd400 of size 3072 next 740\n",
      "2022-11-04 22:07:03.626290: I tensorflow/core/common_runtime/bfc_allocator.cc:1089] InUse at 53f0be000 of size 3072 next 707\n",
      "2022-11-04 22:07:03.626293: I tensorflow/core/common_runtime/bfc_allocator.cc:1089] InUse at 53f0bec00 of size 3072 next 704\n",
      "2022-11-04 22:07:03.626296: I tensorflow/core/common_runtime/bfc_allocator.cc:1089] InUse at 53f0bf800 of size 3072 next 728\n",
      "2022-11-04 22:07:03.626300: I tensorflow/core/common_runtime/bfc_allocator.cc:1089] InUse at 53f0c0400 of size 3072 next 731\n",
      "2022-11-04 22:07:03.626323: I tensorflow/core/common_runtime/bfc_allocator.cc:1089] InUse at 53f0c1000 of size 21504 next 701\n",
      "2022-11-04 22:07:03.626336: I tensorflow/core/common_runtime/bfc_allocator.cc:1089] InUse at 53f0c6400 of size 3072 next 711\n",
      "2022-11-04 22:07:03.626343: I tensorflow/core/common_runtime/bfc_allocator.cc:1089] InUse at 53f0c7000 of size 3072 next 694\n",
      "2022-11-04 22:07:03.626346: I tensorflow/core/common_runtime/bfc_allocator.cc:1089] InUse at 53f0c7c00 of size 3072 next 692\n",
      "2022-11-04 22:07:03.626350: I tensorflow/core/common_runtime/bfc_allocator.cc:1089] InUse at 53f0c8800 of size 3072 next 720\n",
      "2022-11-04 22:07:03.626352: I tensorflow/core/common_runtime/bfc_allocator.cc:1089] InUse at 53f0c9400 of size 3072 next 738\n",
      "2022-11-04 22:07:03.626355: I tensorflow/core/common_runtime/bfc_allocator.cc:1089] InUse at 53f0ca000 of size 3072 next 724\n",
      "2022-11-04 22:07:03.626358: I tensorflow/core/common_runtime/bfc_allocator.cc:1089] InUse at 53f0cac00 of size 3072 next 696\n",
      "2022-11-04 22:07:03.626361: I tensorflow/core/common_runtime/bfc_allocator.cc:1089] InUse at 53f0cb800 of size 3072 next 736\n",
      "2022-11-04 22:07:03.626364: I tensorflow/core/common_runtime/bfc_allocator.cc:1089] InUse at 53f0cc400 of size 3072 next 739\n",
      "2022-11-04 22:07:03.626367: I tensorflow/core/common_runtime/bfc_allocator.cc:1089] InUse at 53f0cd000 of size 21504 next 723\n",
      "2022-11-04 22:07:03.626370: I tensorflow/core/common_runtime/bfc_allocator.cc:1089] InUse at 53f0d2400 of size 3072 next 715\n",
      "2022-11-04 22:07:03.626372: I tensorflow/core/common_runtime/bfc_allocator.cc:1089] InUse at 53f0d3000 of size 3072 next 716\n",
      "2022-11-04 22:07:03.626375: I tensorflow/core/common_runtime/bfc_allocator.cc:1089] InUse at 53f0d3c00 of size 3072 next 745\n",
      "2022-11-04 22:07:03.626378: I tensorflow/core/common_runtime/bfc_allocator.cc:1089] InUse at 53f0d4800 of size 3072 next 708\n",
      "2022-11-04 22:07:03.626381: I tensorflow/core/common_runtime/bfc_allocator.cc:1089] InUse at 53f0d5400 of size 3072 next 770\n",
      "2022-11-04 22:07:03.626384: I tensorflow/core/common_runtime/bfc_allocator.cc:1089] InUse at 53f0d6000 of size 3072 next 725\n",
      "2022-11-04 22:07:03.626387: I tensorflow/core/common_runtime/bfc_allocator.cc:1089] InUse at 53f0d6c00 of size 3072 next 747\n",
      "2022-11-04 22:07:03.626390: I tensorflow/core/common_runtime/bfc_allocator.cc:1089] InUse at 53f0d7800 of size 3072 next 757\n",
      "2022-11-04 22:07:03.626393: I tensorflow/core/common_runtime/bfc_allocator.cc:1089] InUse at 53f0d8400 of size 3072 next 741\n",
      "2022-11-04 22:07:03.626395: I tensorflow/core/common_runtime/bfc_allocator.cc:1089] InUse at 53f0d9000 of size 21504 next 729\n",
      "2022-11-04 22:07:03.626398: I tensorflow/core/common_runtime/bfc_allocator.cc:1089] InUse at 53f0de400 of size 3072 next 726\n",
      "2022-11-04 22:07:03.626401: I tensorflow/core/common_runtime/bfc_allocator.cc:1089] InUse at 53f0df000 of size 3072 next 714\n",
      "2022-11-04 22:07:03.626404: I tensorflow/core/common_runtime/bfc_allocator.cc:1089] InUse at 53f0dfc00 of size 3072 next 761\n",
      "2022-11-04 22:07:03.626407: I tensorflow/core/common_runtime/bfc_allocator.cc:1089] InUse at 53f0e0800 of size 3072 next 765\n",
      "2022-11-04 22:07:03.626410: I tensorflow/core/common_runtime/bfc_allocator.cc:1089] InUse at 53f0e1400 of size 3072 next 775\n",
      "2022-11-04 22:07:03.626413: I tensorflow/core/common_runtime/bfc_allocator.cc:1089] InUse at 53f0e2000 of size 3072 next 675\n",
      "2022-11-04 22:07:03.626416: I tensorflow/core/common_runtime/bfc_allocator.cc:1089] InUse at 53f0e2c00 of size 3072 next 735\n",
      "2022-11-04 22:07:03.626419: I tensorflow/core/common_runtime/bfc_allocator.cc:1089] InUse at 53f0e3800 of size 3072 next 768\n",
      "2022-11-04 22:07:03.626422: I tensorflow/core/common_runtime/bfc_allocator.cc:1089] InUse at 53f0e4400 of size 3072 next 773\n",
      "2022-11-04 22:07:03.626425: I tensorflow/core/common_runtime/bfc_allocator.cc:1089] InUse at 53f0e5000 of size 21504 next 753\n",
      "2022-11-04 22:07:03.626428: I tensorflow/core/common_runtime/bfc_allocator.cc:1089] InUse at 53f0ea400 of size 3072 next 781\n",
      "2022-11-04 22:07:03.626431: I tensorflow/core/common_runtime/bfc_allocator.cc:1089] InUse at 53f0eb000 of size 3072 next 734\n",
      "2022-11-04 22:07:03.626434: I tensorflow/core/common_runtime/bfc_allocator.cc:1089] InUse at 53f0ebc00 of size 3072 next 774\n",
      "2022-11-04 22:07:03.626436: I tensorflow/core/common_runtime/bfc_allocator.cc:1089] InUse at 53f0ec800 of size 3072 next 786\n",
      "2022-11-04 22:07:03.626439: I tensorflow/core/common_runtime/bfc_allocator.cc:1089] InUse at 53f0ed400 of size 3072 next 806\n",
      "2022-11-04 22:07:03.626442: I tensorflow/core/common_runtime/bfc_allocator.cc:1089] InUse at 53f0ee000 of size 3072 next 802\n",
      "2022-11-04 22:07:03.626445: I tensorflow/core/common_runtime/bfc_allocator.cc:1089] InUse at 53f0eec00 of size 3072 next 776\n",
      "2022-11-04 22:07:03.626448: I tensorflow/core/common_runtime/bfc_allocator.cc:1089] InUse at 53f0ef800 of size 3072 next 791\n",
      "2022-11-04 22:07:03.626451: I tensorflow/core/common_runtime/bfc_allocator.cc:1089] InUse at 53f0f0400 of size 3072 next 794\n",
      "2022-11-04 22:07:03.626454: I tensorflow/core/common_runtime/bfc_allocator.cc:1089] InUse at 53f0f1000 of size 21504 next 779\n",
      "2022-11-04 22:07:03.626457: I tensorflow/core/common_runtime/bfc_allocator.cc:1089] InUse at 53f0f6400 of size 3072 next 777\n",
      "2022-11-04 22:07:03.626460: I tensorflow/core/common_runtime/bfc_allocator.cc:1089] InUse at 53f0f7000 of size 3072 next 742\n",
      "2022-11-04 22:07:03.626463: I tensorflow/core/common_runtime/bfc_allocator.cc:1089] InUse at 53f0f7c00 of size 3072 next 780\n",
      "2022-11-04 22:07:03.626465: I tensorflow/core/common_runtime/bfc_allocator.cc:1089] InUse at 53f0f8800 of size 3072 next 783\n",
      "2022-11-04 22:07:03.626468: I tensorflow/core/common_runtime/bfc_allocator.cc:1089] InUse at 53f0f9400 of size 3072 next 751\n",
      "2022-11-04 22:07:03.626471: I tensorflow/core/common_runtime/bfc_allocator.cc:1089] InUse at 53f0fa000 of size 3072 next 792\n",
      "2022-11-04 22:07:03.626474: I tensorflow/core/common_runtime/bfc_allocator.cc:1089] InUse at 53f0fac00 of size 3072 next 737\n",
      "2022-11-04 22:07:03.626477: I tensorflow/core/common_runtime/bfc_allocator.cc:1089] InUse at 53f0fb800 of size 3072 next 799\n",
      "2022-11-04 22:07:03.626480: I tensorflow/core/common_runtime/bfc_allocator.cc:1089] InUse at 53f0fc400 of size 3072 next 808\n",
      "2022-11-04 22:07:03.626483: I tensorflow/core/common_runtime/bfc_allocator.cc:1089] InUse at 53f0fd000 of size 3072 next 784\n",
      "2022-11-04 22:07:03.626486: I tensorflow/core/common_runtime/bfc_allocator.cc:1089] InUse at 53f0fdc00 of size 3072 next 1496\n",
      "2022-11-04 22:07:03.626489: I tensorflow/core/common_runtime/bfc_allocator.cc:1089] InUse at 53f0fe800 of size 3072 next 823\n",
      "2022-11-04 22:07:03.626492: I tensorflow/core/common_runtime/bfc_allocator.cc:1089] InUse at 53f0ff400 of size 3072 next 851\n",
      "2022-11-04 22:07:03.626495: I tensorflow/core/common_runtime/bfc_allocator.cc:1089] InUse at 53f100000 of size 3072 next 762\n",
      "2022-11-04 22:07:03.626497: I tensorflow/core/common_runtime/bfc_allocator.cc:1089] InUse at 53f100c00 of size 3072 next 662\n",
      "2022-11-04 22:07:03.626500: I tensorflow/core/common_runtime/bfc_allocator.cc:1089] InUse at 53f101800 of size 3072 next 766\n",
      "2022-11-04 22:07:03.626503: I tensorflow/core/common_runtime/bfc_allocator.cc:1089] InUse at 53f102400 of size 3072 next 710\n",
      "2022-11-04 22:07:03.626506: I tensorflow/core/common_runtime/bfc_allocator.cc:1089] InUse at 53f103000 of size 3072 next 772\n",
      "2022-11-04 22:07:03.626509: I tensorflow/core/common_runtime/bfc_allocator.cc:1089] InUse at 53f103c00 of size 3072 next 764\n",
      "2022-11-04 22:07:03.626512: I tensorflow/core/common_runtime/bfc_allocator.cc:1089] InUse at 53f104800 of size 3072 next 804\n",
      "2022-11-04 22:07:03.626515: I tensorflow/core/common_runtime/bfc_allocator.cc:1089] InUse at 53f105400 of size 3072 next 813\n",
      "2022-11-04 22:07:03.626517: I tensorflow/core/common_runtime/bfc_allocator.cc:1089] InUse at 53f106000 of size 3072 next 800\n",
      "2022-11-04 22:07:03.626520: I tensorflow/core/common_runtime/bfc_allocator.cc:1089] InUse at 53f106c00 of size 3072 next 782\n",
      "2022-11-04 22:07:03.626523: I tensorflow/core/common_runtime/bfc_allocator.cc:1089] InUse at 53f107800 of size 3072 next 828\n",
      "2022-11-04 22:07:03.626526: I tensorflow/core/common_runtime/bfc_allocator.cc:1089] InUse at 53f108400 of size 3072 next 822\n",
      "2022-11-04 22:07:03.626529: I tensorflow/core/common_runtime/bfc_allocator.cc:1089] InUse at 53f109000 of size 3072 next 816\n",
      "2022-11-04 22:07:03.626532: I tensorflow/core/common_runtime/bfc_allocator.cc:1089] InUse at 53f109c00 of size 12288 next 814\n",
      "2022-11-04 22:07:03.626535: I tensorflow/core/common_runtime/bfc_allocator.cc:1089] InUse at 53f10cc00 of size 2417664 next 837\n",
      "2022-11-04 22:07:03.626553: I tensorflow/core/common_runtime/bfc_allocator.cc:1089] InUse at 53f35b000 of size 2392832 next 840\n",
      "2022-11-04 22:07:03.626601: I tensorflow/core/common_runtime/bfc_allocator.cc:1089] InUse at 53f5a3300 of size 256 next 769\n",
      "2022-11-04 22:07:03.626606: I tensorflow/core/common_runtime/bfc_allocator.cc:1089] InUse at 53f5a3400 of size 256 next 841\n",
      "2022-11-04 22:07:03.626609: I tensorflow/core/common_runtime/bfc_allocator.cc:1089] InUse at 53f5a3500 of size 256 next 850\n",
      "2022-11-04 22:07:03.626612: I tensorflow/core/common_runtime/bfc_allocator.cc:1089] InUse at 53f5a3600 of size 256 next 819\n",
      "2022-11-04 22:07:03.626615: I tensorflow/core/common_runtime/bfc_allocator.cc:1089] InUse at 53f5a3700 of size 256 next 1236\n",
      "2022-11-04 22:07:03.626618: I tensorflow/core/common_runtime/bfc_allocator.cc:1089] InUse at 53f5a3800 of size 256 next 1843\n",
      "2022-11-04 22:07:03.626621: I tensorflow/core/common_runtime/bfc_allocator.cc:1089] InUse at 53f5a3900 of size 16515072 next 829\n",
      "2022-11-04 22:07:03.626625: I tensorflow/core/common_runtime/bfc_allocator.cc:1089] InUse at 540563900 of size 2359296 next 680\n",
      "2022-11-04 22:07:03.626628: I tensorflow/core/common_runtime/bfc_allocator.cc:1089] InUse at 5407a3900 of size 2359296 next 688\n",
      "2022-11-04 22:07:03.626630: I tensorflow/core/common_runtime/bfc_allocator.cc:1089] InUse at 5409e3900 of size 2359296 next 683\n",
      "2022-11-04 22:07:03.626633: I tensorflow/core/common_runtime/bfc_allocator.cc:1089] InUse at 540c23900 of size 2359296 next 809\n",
      "2022-11-04 22:07:03.626636: I tensorflow/core/common_runtime/bfc_allocator.cc:1089] InUse at 540e63900 of size 2359296 next 839\n",
      "2022-11-04 22:07:03.626639: I tensorflow/core/common_runtime/bfc_allocator.cc:1089] InUse at 5410a3900 of size 16515072 next 647\n",
      "2022-11-04 22:07:03.626642: I tensorflow/core/common_runtime/bfc_allocator.cc:1089] InUse at 542063900 of size 7077888 next 653\n",
      "2022-11-04 22:07:03.626660: I tensorflow/core/common_runtime/bfc_allocator.cc:1089] InUse at 542723900 of size 2359296 next 712\n",
      "2022-11-04 22:07:03.626663: I tensorflow/core/common_runtime/bfc_allocator.cc:1089] InUse at 542963900 of size 2359296 next 679\n",
      "2022-11-04 22:07:03.626665: I tensorflow/core/common_runtime/bfc_allocator.cc:1089] InUse at 542ba3900 of size 2359296 next 717\n",
      "2022-11-04 22:07:03.626690: I tensorflow/core/common_runtime/bfc_allocator.cc:1089] InUse at 542de3900 of size 2359296 next 676\n",
      "2022-11-04 22:07:03.626693: I tensorflow/core/common_runtime/bfc_allocator.cc:1089] InUse at 543023900 of size 9437184 next 670\n",
      "2022-11-04 22:07:03.626696: I tensorflow/core/common_runtime/bfc_allocator.cc:1089] InUse at 543923900 of size 16515072 next 673\n",
      "2022-11-04 22:07:03.626699: I tensorflow/core/common_runtime/bfc_allocator.cc:1089] InUse at 5448e3900 of size 2359296 next 705\n",
      "2022-11-04 22:07:03.626701: I tensorflow/core/common_runtime/bfc_allocator.cc:1089] InUse at 544b23900 of size 2359296 next 750\n",
      "2022-11-04 22:07:03.626704: I tensorflow/core/common_runtime/bfc_allocator.cc:1089] InUse at 544d63900 of size 2359296 next 759\n",
      "2022-11-04 22:07:03.626707: I tensorflow/core/common_runtime/bfc_allocator.cc:1089] InUse at 544fa3900 of size 2359296 next 702\n",
      "2022-11-04 22:07:03.626710: I tensorflow/core/common_runtime/bfc_allocator.cc:1089] InUse at 5451e3900 of size 9437184 next 797\n",
      "2022-11-04 22:07:03.626713: I tensorflow/core/common_runtime/bfc_allocator.cc:1089] InUse at 545ae3900 of size 9437184 next 732\n",
      "2022-11-04 22:07:03.626716: I tensorflow/core/common_runtime/bfc_allocator.cc:1089] InUse at 5463e3900 of size 14593792 next 3\n",
      "2022-11-04 22:07:03.626719: I tensorflow/core/common_runtime/bfc_allocator.cc:1089] InUse at 5471ce800 of size 154414080 next 91\n",
      "2022-11-04 22:07:03.626723: I tensorflow/core/common_runtime/bfc_allocator.cc:1089] InUse at 550511400 of size 9437184 next 292\n",
      "2022-11-04 22:07:03.626726: I tensorflow/core/common_runtime/bfc_allocator.cc:1089] InUse at 550e11400 of size 9437184 next 293\n",
      "2022-11-04 22:07:03.626728: I tensorflow/core/common_runtime/bfc_allocator.cc:1089] InUse at 551711400 of size 9437184 next 296\n",
      "2022-11-04 22:07:03.626731: I tensorflow/core/common_runtime/bfc_allocator.cc:1089] InUse at 552011400 of size 9437184 next 297\n",
      "2022-11-04 22:07:03.626734: I tensorflow/core/common_runtime/bfc_allocator.cc:1089] InUse at 552911400 of size 9437184 next 308\n",
      "2022-11-04 22:07:03.626737: I tensorflow/core/common_runtime/bfc_allocator.cc:1089] InUse at 553211400 of size 9437184 next 309\n",
      "2022-11-04 22:07:03.626740: I tensorflow/core/common_runtime/bfc_allocator.cc:1089] InUse at 553b11400 of size 9437184 next 312\n",
      "2022-11-04 22:07:03.626743: I tensorflow/core/common_runtime/bfc_allocator.cc:1089] InUse at 554411400 of size 9437184 next 313\n",
      "2022-11-04 22:07:03.626746: I tensorflow/core/common_runtime/bfc_allocator.cc:1089] InUse at 554d11400 of size 9437184 next 324\n",
      "2022-11-04 22:07:03.626749: I tensorflow/core/common_runtime/bfc_allocator.cc:1089] InUse at 555611400 of size 9437184 next 325\n",
      "2022-11-04 22:07:03.626752: I tensorflow/core/common_runtime/bfc_allocator.cc:1089] InUse at 555f11400 of size 9437184 next 328\n",
      "2022-11-04 22:07:03.626755: I tensorflow/core/common_runtime/bfc_allocator.cc:1089] InUse at 556811400 of size 9437184 next 329\n",
      "2022-11-04 22:07:03.626758: I tensorflow/core/common_runtime/bfc_allocator.cc:1089] InUse at 557111400 of size 9437184 next 339\n",
      "2022-11-04 22:07:03.626776: I tensorflow/core/common_runtime/bfc_allocator.cc:1089] InUse at 557a11400 of size 9437184 next 340\n",
      "2022-11-04 22:07:03.626779: I tensorflow/core/common_runtime/bfc_allocator.cc:1089] InUse at 558311400 of size 12288 next 341\n",
      "2022-11-04 22:07:03.626781: I tensorflow/core/common_runtime/bfc_allocator.cc:1089] InUse at 558314400 of size 12288 next 342\n",
      "2022-11-04 22:07:03.626805: I tensorflow/core/common_runtime/bfc_allocator.cc:1089] InUse at 558317400 of size 9437184 next 343\n",
      "2022-11-04 22:07:03.626808: I tensorflow/core/common_runtime/bfc_allocator.cc:1089] InUse at 558c17400 of size 9437184 next 344\n",
      "2022-11-04 22:07:03.626811: I tensorflow/core/common_runtime/bfc_allocator.cc:1089] InUse at 559517400 of size 3072 next 345\n",
      "2022-11-04 22:07:03.626814: I tensorflow/core/common_runtime/bfc_allocator.cc:1089] InUse at 559518000 of size 3072 next 346\n",
      "2022-11-04 22:07:03.626817: I tensorflow/core/common_runtime/bfc_allocator.cc:1089] InUse at 559518c00 of size 3072 next 347\n",
      "2022-11-04 22:07:03.626819: I tensorflow/core/common_runtime/bfc_allocator.cc:1089] InUse at 559519800 of size 3072 next 348\n",
      "2022-11-04 22:07:03.626822: I tensorflow/core/common_runtime/bfc_allocator.cc:1089] InUse at 55951a400 of size 3072 next 349\n",
      "2022-11-04 22:07:03.626825: I tensorflow/core/common_runtime/bfc_allocator.cc:1089] InUse at 55951b000 of size 3072 next 350\n",
      "2022-11-04 22:07:03.626828: I tensorflow/core/common_runtime/bfc_allocator.cc:1089] InUse at 55951bc00 of size 3072 next 351\n",
      "2022-11-04 22:07:03.626831: I tensorflow/core/common_runtime/bfc_allocator.cc:1089] InUse at 55951c800 of size 3072 next 352\n",
      "2022-11-04 22:07:03.626834: I tensorflow/core/common_runtime/bfc_allocator.cc:1089] InUse at 55951d400 of size 3072 next 353\n",
      "2022-11-04 22:07:03.626837: I tensorflow/core/common_runtime/bfc_allocator.cc:1089] InUse at 55951e000 of size 3072 next 354\n",
      "2022-11-04 22:07:03.626839: I tensorflow/core/common_runtime/bfc_allocator.cc:1089] InUse at 55951ec00 of size 9437184 next 355\n",
      "2022-11-04 22:07:03.626842: I tensorflow/core/common_runtime/bfc_allocator.cc:1089] InUse at 559e1ec00 of size 9437184 next 356\n",
      "2022-11-04 22:07:03.626845: I tensorflow/core/common_runtime/bfc_allocator.cc:1089] InUse at 55a71ec00 of size 12288 next 357\n",
      "2022-11-04 22:07:03.626848: I tensorflow/core/common_runtime/bfc_allocator.cc:1089] InUse at 55a721c00 of size 12288 next 358\n",
      "2022-11-04 22:07:03.626851: I tensorflow/core/common_runtime/bfc_allocator.cc:1089] InUse at 55a724c00 of size 9437184 next 359\n",
      "2022-11-04 22:07:03.626854: I tensorflow/core/common_runtime/bfc_allocator.cc:1089] InUse at 55b024c00 of size 9437184 next 360\n",
      "2022-11-04 22:07:03.626857: I tensorflow/core/common_runtime/bfc_allocator.cc:1089] InUse at 55b924c00 of size 3072 next 361\n",
      "2022-11-04 22:07:03.626860: I tensorflow/core/common_runtime/bfc_allocator.cc:1089] InUse at 55b925800 of size 3072 next 362\n",
      "2022-11-04 22:07:03.626863: I tensorflow/core/common_runtime/bfc_allocator.cc:1089] InUse at 55b926400 of size 3072 next 363\n",
      "2022-11-04 22:07:03.626865: I tensorflow/core/common_runtime/bfc_allocator.cc:1089] InUse at 55b927000 of size 3072 next 364\n",
      "2022-11-04 22:07:03.626868: I tensorflow/core/common_runtime/bfc_allocator.cc:1089] InUse at 55b927c00 of size 3072 next 365\n",
      "2022-11-04 22:07:03.626871: I tensorflow/core/common_runtime/bfc_allocator.cc:1089] InUse at 55b928800 of size 3072 next 366\n",
      "2022-11-04 22:07:03.626874: I tensorflow/core/common_runtime/bfc_allocator.cc:1089] InUse at 55b929400 of size 3072 next 367\n",
      "2022-11-04 22:07:03.626877: I tensorflow/core/common_runtime/bfc_allocator.cc:1089] InUse at 55b92a000 of size 3072 next 368\n",
      "2022-11-04 22:07:03.626880: I tensorflow/core/common_runtime/bfc_allocator.cc:1089] InUse at 55b92ac00 of size 3072 next 369\n",
      "2022-11-04 22:07:03.626883: I tensorflow/core/common_runtime/bfc_allocator.cc:1089] InUse at 55b92b800 of size 3072 next 370\n",
      "2022-11-04 22:07:03.626886: I tensorflow/core/common_runtime/bfc_allocator.cc:1089] InUse at 55b92c400 of size 9437184 next 371\n",
      "2022-11-04 22:07:03.626888: I tensorflow/core/common_runtime/bfc_allocator.cc:1089] InUse at 55c22c400 of size 9437184 next 372\n",
      "2022-11-04 22:07:03.626906: I tensorflow/core/common_runtime/bfc_allocator.cc:1089] InUse at 55cb2c400 of size 12288 next 373\n",
      "2022-11-04 22:07:03.626909: I tensorflow/core/common_runtime/bfc_allocator.cc:1089] InUse at 55cb2f400 of size 12288 next 374\n",
      "2022-11-04 22:07:03.626912: I tensorflow/core/common_runtime/bfc_allocator.cc:1089] InUse at 55cb32400 of size 9437184 next 375\n",
      "2022-11-04 22:07:03.626935: I tensorflow/core/common_runtime/bfc_allocator.cc:1089] InUse at 55d432400 of size 9437184 next 376\n",
      "2022-11-04 22:07:03.626938: I tensorflow/core/common_runtime/bfc_allocator.cc:1089] InUse at 55dd32400 of size 3072 next 377\n",
      "2022-11-04 22:07:03.626941: I tensorflow/core/common_runtime/bfc_allocator.cc:1089] InUse at 55dd33000 of size 3072 next 378\n",
      "2022-11-04 22:07:03.626944: I tensorflow/core/common_runtime/bfc_allocator.cc:1089] InUse at 55dd33c00 of size 3072 next 379\n",
      "2022-11-04 22:07:03.626947: I tensorflow/core/common_runtime/bfc_allocator.cc:1089] InUse at 55dd34800 of size 3072 next 380\n",
      "2022-11-04 22:07:03.626950: I tensorflow/core/common_runtime/bfc_allocator.cc:1089] InUse at 55dd35400 of size 3072 next 381\n",
      "2022-11-04 22:07:03.626953: I tensorflow/core/common_runtime/bfc_allocator.cc:1089] InUse at 55dd36000 of size 3072 next 382\n",
      "2022-11-04 22:07:03.626956: I tensorflow/core/common_runtime/bfc_allocator.cc:1089] InUse at 55dd36c00 of size 3072 next 383\n",
      "2022-11-04 22:07:03.626958: I tensorflow/core/common_runtime/bfc_allocator.cc:1089] InUse at 55dd37800 of size 3072 next 384\n",
      "2022-11-04 22:07:03.626961: I tensorflow/core/common_runtime/bfc_allocator.cc:1089] InUse at 55dd38400 of size 3072 next 385\n",
      "2022-11-04 22:07:03.626964: I tensorflow/core/common_runtime/bfc_allocator.cc:1089] InUse at 55dd39000 of size 3072 next 386\n",
      "2022-11-04 22:07:03.626967: I tensorflow/core/common_runtime/bfc_allocator.cc:1089] InUse at 55dd39c00 of size 9437184 next 387\n",
      "2022-11-04 22:07:03.626970: I tensorflow/core/common_runtime/bfc_allocator.cc:1089] InUse at 55e639c00 of size 9437184 next 388\n",
      "2022-11-04 22:07:03.626973: I tensorflow/core/common_runtime/bfc_allocator.cc:1089] InUse at 55ef39c00 of size 12288 next 389\n",
      "2022-11-04 22:07:03.626990: I tensorflow/core/common_runtime/bfc_allocator.cc:1089] InUse at 55ef3cc00 of size 12288 next 390\n",
      "2022-11-04 22:07:03.626993: I tensorflow/core/common_runtime/bfc_allocator.cc:1089] InUse at 55ef3fc00 of size 9437184 next 391\n",
      "2022-11-04 22:07:03.626996: I tensorflow/core/common_runtime/bfc_allocator.cc:1089] InUse at 55f83fc00 of size 9437184 next 392\n",
      "2022-11-04 22:07:03.627020: I tensorflow/core/common_runtime/bfc_allocator.cc:1089] InUse at 56013fc00 of size 3072 next 393\n",
      "2022-11-04 22:07:03.627022: I tensorflow/core/common_runtime/bfc_allocator.cc:1089] InUse at 560140800 of size 3072 next 394\n",
      "2022-11-04 22:07:03.627025: I tensorflow/core/common_runtime/bfc_allocator.cc:1089] InUse at 560141400 of size 3072 next 395\n",
      "2022-11-04 22:07:03.627028: I tensorflow/core/common_runtime/bfc_allocator.cc:1089] InUse at 560142000 of size 3072 next 396\n",
      "2022-11-04 22:07:03.627031: I tensorflow/core/common_runtime/bfc_allocator.cc:1089] InUse at 560142c00 of size 3072 next 397\n",
      "2022-11-04 22:07:03.627034: I tensorflow/core/common_runtime/bfc_allocator.cc:1089] InUse at 560143800 of size 3072 next 398\n",
      "2022-11-04 22:07:03.627037: I tensorflow/core/common_runtime/bfc_allocator.cc:1089] InUse at 560144400 of size 3072 next 399\n",
      "2022-11-04 22:07:03.627040: I tensorflow/core/common_runtime/bfc_allocator.cc:1089] InUse at 560145000 of size 3072 next 400\n",
      "2022-11-04 22:07:03.627042: I tensorflow/core/common_runtime/bfc_allocator.cc:1089] InUse at 560145c00 of size 3072 next 401\n",
      "2022-11-04 22:07:03.627045: I tensorflow/core/common_runtime/bfc_allocator.cc:1089] InUse at 560146800 of size 3072 next 402\n",
      "2022-11-04 22:07:03.627048: I tensorflow/core/common_runtime/bfc_allocator.cc:1089] InUse at 560147400 of size 9437184 next 403\n",
      "2022-11-04 22:07:03.627051: I tensorflow/core/common_runtime/bfc_allocator.cc:1089] InUse at 560a47400 of size 9437184 next 404\n",
      "2022-11-04 22:07:03.627054: I tensorflow/core/common_runtime/bfc_allocator.cc:1089] InUse at 561347400 of size 12288 next 405\n",
      "2022-11-04 22:07:03.627072: I tensorflow/core/common_runtime/bfc_allocator.cc:1089] InUse at 56134a400 of size 12288 next 406\n",
      "2022-11-04 22:07:03.627075: I tensorflow/core/common_runtime/bfc_allocator.cc:1089] InUse at 56134d400 of size 9437184 next 407\n",
      "2022-11-04 22:07:03.627077: I tensorflow/core/common_runtime/bfc_allocator.cc:1089] InUse at 561c4d400 of size 9437184 next 408\n",
      "2022-11-04 22:07:03.627101: I tensorflow/core/common_runtime/bfc_allocator.cc:1089] InUse at 56254d400 of size 3072 next 409\n",
      "2022-11-04 22:07:03.627104: I tensorflow/core/common_runtime/bfc_allocator.cc:1089] InUse at 56254e000 of size 3072 next 410\n",
      "2022-11-04 22:07:03.627107: I tensorflow/core/common_runtime/bfc_allocator.cc:1089] InUse at 56254ec00 of size 3072 next 411\n",
      "2022-11-04 22:07:03.627110: I tensorflow/core/common_runtime/bfc_allocator.cc:1089] InUse at 56254f800 of size 3072 next 412\n",
      "2022-11-04 22:07:03.627113: I tensorflow/core/common_runtime/bfc_allocator.cc:1089] InUse at 562550400 of size 3072 next 413\n",
      "2022-11-04 22:07:03.627116: I tensorflow/core/common_runtime/bfc_allocator.cc:1089] InUse at 562551000 of size 3072 next 414\n",
      "2022-11-04 22:07:03.627119: I tensorflow/core/common_runtime/bfc_allocator.cc:1089] InUse at 562551c00 of size 3072 next 415\n",
      "2022-11-04 22:07:03.627121: I tensorflow/core/common_runtime/bfc_allocator.cc:1089] InUse at 562552800 of size 3072 next 416\n",
      "2022-11-04 22:07:03.627124: I tensorflow/core/common_runtime/bfc_allocator.cc:1089] InUse at 562553400 of size 3072 next 417\n",
      "2022-11-04 22:07:03.627127: I tensorflow/core/common_runtime/bfc_allocator.cc:1089] InUse at 562554000 of size 3072 next 418\n",
      "2022-11-04 22:07:03.627130: I tensorflow/core/common_runtime/bfc_allocator.cc:1089] InUse at 562554c00 of size 9437184 next 419\n",
      "2022-11-04 22:07:03.627133: I tensorflow/core/common_runtime/bfc_allocator.cc:1089] InUse at 562e54c00 of size 9437184 next 420\n",
      "2022-11-04 22:07:03.627136: I tensorflow/core/common_runtime/bfc_allocator.cc:1089] InUse at 563754c00 of size 12288 next 421\n",
      "2022-11-04 22:07:03.627153: I tensorflow/core/common_runtime/bfc_allocator.cc:1089] InUse at 563757c00 of size 12288 next 422\n",
      "2022-11-04 22:07:03.627157: I tensorflow/core/common_runtime/bfc_allocator.cc:1089] InUse at 56375ac00 of size 9437184 next 423\n",
      "2022-11-04 22:07:03.627160: I tensorflow/core/common_runtime/bfc_allocator.cc:1089] InUse at 56405ac00 of size 9437184 next 424\n",
      "2022-11-04 22:07:03.627185: I tensorflow/core/common_runtime/bfc_allocator.cc:1089] InUse at 56495ac00 of size 3072 next 425\n",
      "2022-11-04 22:07:03.627191: I tensorflow/core/common_runtime/bfc_allocator.cc:1089] InUse at 56495b800 of size 3072 next 426\n",
      "2022-11-04 22:07:03.627196: I tensorflow/core/common_runtime/bfc_allocator.cc:1089] InUse at 56495c400 of size 3072 next 427\n",
      "2022-11-04 22:07:03.627201: I tensorflow/core/common_runtime/bfc_allocator.cc:1089] InUse at 56495d000 of size 3072 next 428\n",
      "2022-11-04 22:07:03.627206: I tensorflow/core/common_runtime/bfc_allocator.cc:1089] InUse at 56495dc00 of size 3072 next 429\n",
      "2022-11-04 22:07:03.627210: I tensorflow/core/common_runtime/bfc_allocator.cc:1089] InUse at 56495e800 of size 3072 next 430\n",
      "2022-11-04 22:07:03.627214: I tensorflow/core/common_runtime/bfc_allocator.cc:1089] InUse at 56495f400 of size 7077888 next 431\n",
      "2022-11-04 22:07:03.627218: I tensorflow/core/common_runtime/bfc_allocator.cc:1089] InUse at 56501f400 of size 7077888 next 432\n",
      "2022-11-04 22:07:03.627222: I tensorflow/core/common_runtime/bfc_allocator.cc:1089] InUse at 5656df400 of size 2359296 next 433\n",
      "2022-11-04 22:07:03.627227: I tensorflow/core/common_runtime/bfc_allocator.cc:1089] InUse at 56591f400 of size 2359296 next 434\n",
      "2022-11-04 22:07:03.627237: I tensorflow/core/common_runtime/bfc_allocator.cc:1089] InUse at 565b5f400 of size 2359296 next 435\n",
      "2022-11-04 22:07:03.627243: I tensorflow/core/common_runtime/bfc_allocator.cc:1089] InUse at 565d9f400 of size 2359296 next 436\n",
      "2022-11-04 22:07:03.627246: I tensorflow/core/common_runtime/bfc_allocator.cc:1089] InUse at 565fdf400 of size 3072 next 437\n",
      "2022-11-04 22:07:03.627249: I tensorflow/core/common_runtime/bfc_allocator.cc:1089] InUse at 565fe0000 of size 3072 next 438\n",
      "2022-11-04 22:07:03.627252: I tensorflow/core/common_runtime/bfc_allocator.cc:1089] InUse at 565fe0c00 of size 2359296 next 439\n",
      "2022-11-04 22:07:03.627255: I tensorflow/core/common_runtime/bfc_allocator.cc:1089] InUse at 566220c00 of size 2359296 next 440\n",
      "2022-11-04 22:07:03.627258: I tensorflow/core/common_runtime/bfc_allocator.cc:1089] InUse at 566460c00 of size 3072 next 441\n",
      "2022-11-04 22:07:03.627260: I tensorflow/core/common_runtime/bfc_allocator.cc:1089] InUse at 566461800 of size 3072 next 442\n",
      "2022-11-04 22:07:03.627278: I tensorflow/core/common_runtime/bfc_allocator.cc:1089] InUse at 566462400 of size 3072 next 443\n",
      "2022-11-04 22:07:03.627281: I tensorflow/core/common_runtime/bfc_allocator.cc:1089] InUse at 566463000 of size 3072 next 444\n",
      "2022-11-04 22:07:03.627284: I tensorflow/core/common_runtime/bfc_allocator.cc:1089] InUse at 566463c00 of size 3072 next 445\n",
      "2022-11-04 22:07:03.627287: I tensorflow/core/common_runtime/bfc_allocator.cc:1089] InUse at 566464800 of size 3072 next 446\n",
      "2022-11-04 22:07:03.627289: I tensorflow/core/common_runtime/bfc_allocator.cc:1089] InUse at 566465400 of size 7077888 next 447\n",
      "2022-11-04 22:07:03.627292: I tensorflow/core/common_runtime/bfc_allocator.cc:1089] InUse at 566b25400 of size 7077888 next 448\n",
      "2022-11-04 22:07:03.627295: I tensorflow/core/common_runtime/bfc_allocator.cc:1089] InUse at 5671e5400 of size 2359296 next 449\n",
      "2022-11-04 22:07:03.627298: I tensorflow/core/common_runtime/bfc_allocator.cc:1089] InUse at 567425400 of size 2359296 next 450\n",
      "2022-11-04 22:07:03.627322: I tensorflow/core/common_runtime/bfc_allocator.cc:1089] InUse at 567665400 of size 2359296 next 451\n",
      "2022-11-04 22:07:03.627345: I tensorflow/core/common_runtime/bfc_allocator.cc:1089] InUse at 5678a5400 of size 2359296 next 452\n",
      "2022-11-04 22:07:03.627350: I tensorflow/core/common_runtime/bfc_allocator.cc:1089] InUse at 567ae5400 of size 3072 next 453\n",
      "2022-11-04 22:07:03.627353: I tensorflow/core/common_runtime/bfc_allocator.cc:1089] InUse at 567ae6000 of size 3072 next 454\n",
      "2022-11-04 22:07:03.627356: I tensorflow/core/common_runtime/bfc_allocator.cc:1089] InUse at 567ae6c00 of size 2359296 next 455\n",
      "2022-11-04 22:07:03.627359: I tensorflow/core/common_runtime/bfc_allocator.cc:1089] InUse at 567d26c00 of size 2359296 next 456\n",
      "2022-11-04 22:07:03.627362: I tensorflow/core/common_runtime/bfc_allocator.cc:1089] InUse at 567f66c00 of size 3072 next 457\n",
      "2022-11-04 22:07:03.627365: I tensorflow/core/common_runtime/bfc_allocator.cc:1089] InUse at 567f67800 of size 3072 next 458\n",
      "2022-11-04 22:07:03.627368: I tensorflow/core/common_runtime/bfc_allocator.cc:1089] InUse at 567f68400 of size 3072 next 459\n",
      "2022-11-04 22:07:03.627371: I tensorflow/core/common_runtime/bfc_allocator.cc:1089] InUse at 567f69000 of size 3072 next 460\n",
      "2022-11-04 22:07:03.627374: I tensorflow/core/common_runtime/bfc_allocator.cc:1089] InUse at 567f69c00 of size 3072 next 461\n",
      "2022-11-04 22:07:03.627377: I tensorflow/core/common_runtime/bfc_allocator.cc:1089] InUse at 567f6a800 of size 3072 next 462\n",
      "2022-11-04 22:07:03.627380: I tensorflow/core/common_runtime/bfc_allocator.cc:1089] InUse at 567f6b400 of size 7077888 next 463\n",
      "2022-11-04 22:07:03.627383: I tensorflow/core/common_runtime/bfc_allocator.cc:1089] InUse at 56862b400 of size 7077888 next 464\n",
      "2022-11-04 22:07:03.627385: I tensorflow/core/common_runtime/bfc_allocator.cc:1089] InUse at 568ceb400 of size 2359296 next 465\n",
      "2022-11-04 22:07:03.627388: I tensorflow/core/common_runtime/bfc_allocator.cc:1089] InUse at 568f2b400 of size 2359296 next 466\n",
      "2022-11-04 22:07:03.627391: I tensorflow/core/common_runtime/bfc_allocator.cc:1089] InUse at 56916b400 of size 2359296 next 467\n",
      "2022-11-04 22:07:03.627394: I tensorflow/core/common_runtime/bfc_allocator.cc:1089] InUse at 5693ab400 of size 2359296 next 468\n",
      "2022-11-04 22:07:03.627397: I tensorflow/core/common_runtime/bfc_allocator.cc:1089] InUse at 5695eb400 of size 3072 next 469\n",
      "2022-11-04 22:07:03.627400: I tensorflow/core/common_runtime/bfc_allocator.cc:1089] InUse at 5695ec000 of size 3072 next 470\n",
      "2022-11-04 22:07:03.627418: I tensorflow/core/common_runtime/bfc_allocator.cc:1089] InUse at 5695ecc00 of size 2359296 next 471\n",
      "2022-11-04 22:07:03.627421: I tensorflow/core/common_runtime/bfc_allocator.cc:1089] InUse at 56982cc00 of size 2359296 next 472\n",
      "2022-11-04 22:07:03.627424: I tensorflow/core/common_runtime/bfc_allocator.cc:1089] InUse at 569a6cc00 of size 3072 next 473\n",
      "2022-11-04 22:07:03.627441: I tensorflow/core/common_runtime/bfc_allocator.cc:1089] InUse at 569a6d800 of size 3072 next 474\n",
      "2022-11-04 22:07:03.627444: I tensorflow/core/common_runtime/bfc_allocator.cc:1089] InUse at 569a6e400 of size 3072 next 475\n",
      "2022-11-04 22:07:03.627447: I tensorflow/core/common_runtime/bfc_allocator.cc:1089] InUse at 569a6f000 of size 3072 next 476\n",
      "2022-11-04 22:07:03.627450: I tensorflow/core/common_runtime/bfc_allocator.cc:1089] InUse at 569a6fc00 of size 3072 next 477\n",
      "2022-11-04 22:07:03.627453: I tensorflow/core/common_runtime/bfc_allocator.cc:1089] InUse at 569a70800 of size 3072 next 478\n",
      "2022-11-04 22:07:03.627456: I tensorflow/core/common_runtime/bfc_allocator.cc:1089] InUse at 569a71400 of size 7077888 next 479\n",
      "2022-11-04 22:07:03.627459: I tensorflow/core/common_runtime/bfc_allocator.cc:1089] InUse at 56a131400 of size 7077888 next 480\n",
      "2022-11-04 22:07:03.627462: I tensorflow/core/common_runtime/bfc_allocator.cc:1089] InUse at 56a7f1400 of size 2359296 next 481\n",
      "2022-11-04 22:07:03.627464: I tensorflow/core/common_runtime/bfc_allocator.cc:1089] InUse at 56aa31400 of size 2359296 next 482\n",
      "2022-11-04 22:07:03.627467: I tensorflow/core/common_runtime/bfc_allocator.cc:1089] InUse at 56ac71400 of size 2359296 next 483\n",
      "2022-11-04 22:07:03.627470: I tensorflow/core/common_runtime/bfc_allocator.cc:1089] InUse at 56aeb1400 of size 2359296 next 484\n",
      "2022-11-04 22:07:03.627473: I tensorflow/core/common_runtime/bfc_allocator.cc:1089] InUse at 56b0f1400 of size 3072 next 485\n",
      "2022-11-04 22:07:03.627476: I tensorflow/core/common_runtime/bfc_allocator.cc:1089] InUse at 56b0f2000 of size 3072 next 486\n",
      "2022-11-04 22:07:03.627479: I tensorflow/core/common_runtime/bfc_allocator.cc:1089] InUse at 56b0f2c00 of size 2359296 next 487\n",
      "2022-11-04 22:07:03.627482: I tensorflow/core/common_runtime/bfc_allocator.cc:1089] InUse at 56b332c00 of size 2359296 next 488\n",
      "2022-11-04 22:07:03.627484: I tensorflow/core/common_runtime/bfc_allocator.cc:1089] InUse at 56b572c00 of size 3072 next 489\n",
      "2022-11-04 22:07:03.627487: I tensorflow/core/common_runtime/bfc_allocator.cc:1089] InUse at 56b573800 of size 3072 next 490\n",
      "2022-11-04 22:07:03.627490: I tensorflow/core/common_runtime/bfc_allocator.cc:1089] InUse at 56b574400 of size 3072 next 491\n",
      "2022-11-04 22:07:03.627493: I tensorflow/core/common_runtime/bfc_allocator.cc:1089] InUse at 56b575000 of size 3072 next 492\n",
      "2022-11-04 22:07:03.627496: I tensorflow/core/common_runtime/bfc_allocator.cc:1089] InUse at 56b575c00 of size 3072 next 493\n",
      "2022-11-04 22:07:03.627499: I tensorflow/core/common_runtime/bfc_allocator.cc:1089] InUse at 56b576800 of size 3072 next 494\n",
      "2022-11-04 22:07:03.627502: I tensorflow/core/common_runtime/bfc_allocator.cc:1089] InUse at 56b577400 of size 7077888 next 495\n",
      "2022-11-04 22:07:03.627504: I tensorflow/core/common_runtime/bfc_allocator.cc:1089] InUse at 56bc37400 of size 7077888 next 496\n",
      "2022-11-04 22:07:03.627560: I tensorflow/core/common_runtime/bfc_allocator.cc:1089] InUse at 56c2f7400 of size 2359296 next 497\n",
      "2022-11-04 22:07:03.627566: I tensorflow/core/common_runtime/bfc_allocator.cc:1089] InUse at 56c537400 of size 2359296 next 498\n",
      "2022-11-04 22:07:03.627569: I tensorflow/core/common_runtime/bfc_allocator.cc:1089] InUse at 56c777400 of size 2359296 next 499\n",
      "2022-11-04 22:07:03.627573: I tensorflow/core/common_runtime/bfc_allocator.cc:1089] InUse at 56c9b7400 of size 2359296 next 500\n",
      "2022-11-04 22:07:03.627575: I tensorflow/core/common_runtime/bfc_allocator.cc:1089] InUse at 56cbf7400 of size 3072 next 501\n",
      "2022-11-04 22:07:03.627578: I tensorflow/core/common_runtime/bfc_allocator.cc:1089] InUse at 56cbf8000 of size 3072 next 502\n",
      "2022-11-04 22:07:03.627581: I tensorflow/core/common_runtime/bfc_allocator.cc:1089] InUse at 56cbf8c00 of size 2359296 next 503\n",
      "2022-11-04 22:07:03.627584: I tensorflow/core/common_runtime/bfc_allocator.cc:1089] InUse at 56ce38c00 of size 2359296 next 504\n",
      "2022-11-04 22:07:03.627587: I tensorflow/core/common_runtime/bfc_allocator.cc:1089] InUse at 56d078c00 of size 3072 next 505\n",
      "2022-11-04 22:07:03.627590: I tensorflow/core/common_runtime/bfc_allocator.cc:1089] InUse at 56d079800 of size 3072 next 506\n",
      "2022-11-04 22:07:03.627593: I tensorflow/core/common_runtime/bfc_allocator.cc:1089] InUse at 56d07a400 of size 3072 next 507\n",
      "2022-11-04 22:07:03.627596: I tensorflow/core/common_runtime/bfc_allocator.cc:1089] InUse at 56d07b000 of size 3072 next 508\n",
      "2022-11-04 22:07:03.627599: I tensorflow/core/common_runtime/bfc_allocator.cc:1089] InUse at 56d07bc00 of size 3072 next 509\n",
      "2022-11-04 22:07:03.627602: I tensorflow/core/common_runtime/bfc_allocator.cc:1089] InUse at 56d07c800 of size 3072 next 510\n",
      "2022-11-04 22:07:03.627604: I tensorflow/core/common_runtime/bfc_allocator.cc:1089] InUse at 56d07d400 of size 7077888 next 511\n",
      "2022-11-04 22:07:03.627622: I tensorflow/core/common_runtime/bfc_allocator.cc:1089] InUse at 56d73d400 of size 7077888 next 512\n",
      "2022-11-04 22:07:03.627625: I tensorflow/core/common_runtime/bfc_allocator.cc:1089] InUse at 56ddfd400 of size 2359296 next 513\n",
      "2022-11-04 22:07:03.627628: I tensorflow/core/common_runtime/bfc_allocator.cc:1089] InUse at 56e03d400 of size 2359296 next 514\n",
      "2022-11-04 22:07:03.627631: I tensorflow/core/common_runtime/bfc_allocator.cc:1089] InUse at 56e27d400 of size 2359296 next 515\n",
      "2022-11-04 22:07:03.627634: I tensorflow/core/common_runtime/bfc_allocator.cc:1089] InUse at 56e4bd400 of size 2359296 next 516\n",
      "2022-11-04 22:07:03.627652: I tensorflow/core/common_runtime/bfc_allocator.cc:1089] InUse at 56e6fd400 of size 3072 next 517\n",
      "2022-11-04 22:07:03.627655: I tensorflow/core/common_runtime/bfc_allocator.cc:1089] InUse at 56e6fe000 of size 3072 next 518\n",
      "2022-11-04 22:07:03.627658: I tensorflow/core/common_runtime/bfc_allocator.cc:1089] InUse at 56e6fec00 of size 2359296 next 519\n",
      "2022-11-04 22:07:03.627661: I tensorflow/core/common_runtime/bfc_allocator.cc:1089] InUse at 56e93ec00 of size 2359296 next 520\n",
      "2022-11-04 22:07:03.627664: I tensorflow/core/common_runtime/bfc_allocator.cc:1089] InUse at 56eb7ec00 of size 3072 next 521\n",
      "2022-11-04 22:07:03.627667: I tensorflow/core/common_runtime/bfc_allocator.cc:1089] InUse at 56eb7f800 of size 3072 next 522\n",
      "2022-11-04 22:07:03.627670: I tensorflow/core/common_runtime/bfc_allocator.cc:1089] InUse at 56eb80400 of size 3072 next 523\n",
      "2022-11-04 22:07:03.627673: I tensorflow/core/common_runtime/bfc_allocator.cc:1089] InUse at 56eb81000 of size 3072 next 524\n",
      "2022-11-04 22:07:03.627675: I tensorflow/core/common_runtime/bfc_allocator.cc:1089] InUse at 56eb81c00 of size 3072 next 525\n",
      "2022-11-04 22:07:03.627678: I tensorflow/core/common_runtime/bfc_allocator.cc:1089] InUse at 56eb82800 of size 3072 next 526\n",
      "2022-11-04 22:07:03.627681: I tensorflow/core/common_runtime/bfc_allocator.cc:1089] InUse at 56eb83400 of size 7077888 next 527\n",
      "2022-11-04 22:07:03.627684: I tensorflow/core/common_runtime/bfc_allocator.cc:1089] InUse at 56f243400 of size 7077888 next 528\n",
      "2022-11-04 22:07:03.627687: I tensorflow/core/common_runtime/bfc_allocator.cc:1089] InUse at 56f903400 of size 2359296 next 529\n",
      "2022-11-04 22:07:03.627690: I tensorflow/core/common_runtime/bfc_allocator.cc:1089] InUse at 56fb43400 of size 2359296 next 530\n",
      "2022-11-04 22:07:03.627693: I tensorflow/core/common_runtime/bfc_allocator.cc:1089] InUse at 56fd83400 of size 2359296 next 531\n",
      "2022-11-04 22:07:03.627696: I tensorflow/core/common_runtime/bfc_allocator.cc:1089] InUse at 56ffc3400 of size 2359296 next 532\n",
      "2022-11-04 22:07:03.627698: I tensorflow/core/common_runtime/bfc_allocator.cc:1089] InUse at 570203400 of size 3072 next 533\n",
      "2022-11-04 22:07:03.627701: I tensorflow/core/common_runtime/bfc_allocator.cc:1089] InUse at 570204000 of size 3072 next 534\n",
      "2022-11-04 22:07:03.627704: I tensorflow/core/common_runtime/bfc_allocator.cc:1089] InUse at 570204c00 of size 2359296 next 535\n",
      "2022-11-04 22:07:03.627707: I tensorflow/core/common_runtime/bfc_allocator.cc:1089] InUse at 570444c00 of size 2359296 next 536\n",
      "2022-11-04 22:07:03.627710: I tensorflow/core/common_runtime/bfc_allocator.cc:1089] InUse at 570684c00 of size 3072 next 537\n",
      "2022-11-04 22:07:03.627713: I tensorflow/core/common_runtime/bfc_allocator.cc:1089] InUse at 570685800 of size 3072 next 538\n",
      "2022-11-04 22:07:03.627731: I tensorflow/core/common_runtime/bfc_allocator.cc:1089] InUse at 570686400 of size 3072 next 539\n",
      "2022-11-04 22:07:03.627736: I tensorflow/core/common_runtime/bfc_allocator.cc:1089] InUse at 570687000 of size 3072 next 540\n",
      "2022-11-04 22:07:03.627761: I tensorflow/core/common_runtime/bfc_allocator.cc:1089] InUse at 570687c00 of size 3072 next 541\n",
      "2022-11-04 22:07:03.627768: I tensorflow/core/common_runtime/bfc_allocator.cc:1089] InUse at 570688800 of size 3072 next 542\n",
      "2022-11-04 22:07:03.627790: I tensorflow/core/common_runtime/bfc_allocator.cc:1089] InUse at 570689400 of size 7077888 next 543\n",
      "2022-11-04 22:07:03.627817: I tensorflow/core/common_runtime/bfc_allocator.cc:1089] InUse at 570d49400 of size 7077888 next 544\n",
      "2022-11-04 22:07:03.627823: I tensorflow/core/common_runtime/bfc_allocator.cc:1089] InUse at 571409400 of size 2359296 next 545\n",
      "2022-11-04 22:07:03.627829: I tensorflow/core/common_runtime/bfc_allocator.cc:1089] InUse at 571649400 of size 2359296 next 546\n",
      "2022-11-04 22:07:03.627834: I tensorflow/core/common_runtime/bfc_allocator.cc:1089] InUse at 571889400 of size 2359296 next 547\n",
      "2022-11-04 22:07:03.627841: I tensorflow/core/common_runtime/bfc_allocator.cc:1089] InUse at 571ac9400 of size 2359296 next 548\n",
      "2022-11-04 22:07:03.627848: I tensorflow/core/common_runtime/bfc_allocator.cc:1089] InUse at 571d09400 of size 3072 next 549\n",
      "2022-11-04 22:07:03.627856: I tensorflow/core/common_runtime/bfc_allocator.cc:1089] InUse at 571d0a000 of size 3072 next 550\n",
      "2022-11-04 22:07:03.627878: I tensorflow/core/common_runtime/bfc_allocator.cc:1089] InUse at 571d0ac00 of size 2359296 next 551\n",
      "2022-11-04 22:07:03.627884: I tensorflow/core/common_runtime/bfc_allocator.cc:1089] InUse at 571f4ac00 of size 2359296 next 552\n",
      "2022-11-04 22:07:03.627910: I tensorflow/core/common_runtime/bfc_allocator.cc:1089] InUse at 57218ac00 of size 3072 next 553\n",
      "2022-11-04 22:07:03.627917: I tensorflow/core/common_runtime/bfc_allocator.cc:1089] InUse at 57218b800 of size 3072 next 554\n",
      "2022-11-04 22:07:03.627924: I tensorflow/core/common_runtime/bfc_allocator.cc:1089] InUse at 57218c400 of size 3072 next 555\n",
      "2022-11-04 22:07:03.627930: I tensorflow/core/common_runtime/bfc_allocator.cc:1089] InUse at 57218d000 of size 3072 next 556\n",
      "2022-11-04 22:07:03.627936: I tensorflow/core/common_runtime/bfc_allocator.cc:1089] InUse at 57218dc00 of size 3072 next 557\n",
      "2022-11-04 22:07:03.627942: I tensorflow/core/common_runtime/bfc_allocator.cc:1089] InUse at 57218e800 of size 3072 next 558\n",
      "2022-11-04 22:07:03.627948: I tensorflow/core/common_runtime/bfc_allocator.cc:1089] InUse at 57218f400 of size 7077888 next 559\n",
      "2022-11-04 22:07:03.627955: I tensorflow/core/common_runtime/bfc_allocator.cc:1089] InUse at 57284f400 of size 7077888 next 560\n",
      "2022-11-04 22:07:03.627961: I tensorflow/core/common_runtime/bfc_allocator.cc:1089] InUse at 572f0f400 of size 2359296 next 561\n",
      "2022-11-04 22:07:03.627967: I tensorflow/core/common_runtime/bfc_allocator.cc:1089] InUse at 57314f400 of size 2359296 next 562\n",
      "2022-11-04 22:07:03.627974: I tensorflow/core/common_runtime/bfc_allocator.cc:1089] InUse at 57338f400 of size 2359296 next 563\n",
      "2022-11-04 22:07:03.627997: I tensorflow/core/common_runtime/bfc_allocator.cc:1089] InUse at 5735cf400 of size 2359296 next 564\n",
      "2022-11-04 22:07:03.628019: I tensorflow/core/common_runtime/bfc_allocator.cc:1089] InUse at 57380f400 of size 3072 next 565\n",
      "2022-11-04 22:07:03.628024: I tensorflow/core/common_runtime/bfc_allocator.cc:1089] InUse at 573810000 of size 3072 next 566\n",
      "2022-11-04 22:07:03.628031: I tensorflow/core/common_runtime/bfc_allocator.cc:1089] InUse at 573810c00 of size 2359296 next 567\n",
      "2022-11-04 22:07:03.628038: I tensorflow/core/common_runtime/bfc_allocator.cc:1089] InUse at 573a50c00 of size 2359296 next 568\n",
      "2022-11-04 22:07:03.628044: I tensorflow/core/common_runtime/bfc_allocator.cc:1089] InUse at 573c90c00 of size 3072 next 569\n",
      "2022-11-04 22:07:03.628050: I tensorflow/core/common_runtime/bfc_allocator.cc:1089] InUse at 573c91800 of size 3072 next 570\n",
      "2022-11-04 22:07:03.628057: I tensorflow/core/common_runtime/bfc_allocator.cc:1089] InUse at 573c92400 of size 3072 next 571\n",
      "2022-11-04 22:07:03.628064: I tensorflow/core/common_runtime/bfc_allocator.cc:1089] InUse at 573c93000 of size 3072 next 572\n",
      "2022-11-04 22:07:03.628070: I tensorflow/core/common_runtime/bfc_allocator.cc:1089] InUse at 573c93c00 of size 3072 next 573\n",
      "2022-11-04 22:07:03.628076: I tensorflow/core/common_runtime/bfc_allocator.cc:1089] InUse at 573c94800 of size 3072 next 574\n",
      "2022-11-04 22:07:03.628083: I tensorflow/core/common_runtime/bfc_allocator.cc:1089] InUse at 573c95400 of size 7077888 next 575\n",
      "2022-11-04 22:07:03.628089: I tensorflow/core/common_runtime/bfc_allocator.cc:1089] InUse at 574355400 of size 7077888 next 576\n",
      "2022-11-04 22:07:03.628096: I tensorflow/core/common_runtime/bfc_allocator.cc:1089] InUse at 574a15400 of size 2359296 next 577\n",
      "2022-11-04 22:07:03.628102: I tensorflow/core/common_runtime/bfc_allocator.cc:1089] InUse at 574c55400 of size 2359296 next 578\n",
      "2022-11-04 22:07:03.628107: I tensorflow/core/common_runtime/bfc_allocator.cc:1089] InUse at 574e95400 of size 2359296 next 579\n",
      "2022-11-04 22:07:03.628129: I tensorflow/core/common_runtime/bfc_allocator.cc:1089] InUse at 5750d5400 of size 2359296 next 580\n",
      "2022-11-04 22:07:03.628136: I tensorflow/core/common_runtime/bfc_allocator.cc:1089] InUse at 575315400 of size 3072 next 581\n",
      "2022-11-04 22:07:03.628156: I tensorflow/core/common_runtime/bfc_allocator.cc:1089] InUse at 575316000 of size 3072 next 582\n",
      "2022-11-04 22:07:03.628162: I tensorflow/core/common_runtime/bfc_allocator.cc:1089] InUse at 575316c00 of size 2359296 next 583\n",
      "2022-11-04 22:07:03.628168: I tensorflow/core/common_runtime/bfc_allocator.cc:1089] InUse at 575556c00 of size 2359296 next 584\n",
      "2022-11-04 22:07:03.628175: I tensorflow/core/common_runtime/bfc_allocator.cc:1089] InUse at 575796c00 of size 3072 next 585\n",
      "2022-11-04 22:07:03.628196: I tensorflow/core/common_runtime/bfc_allocator.cc:1089] InUse at 575797800 of size 3072 next 586\n",
      "2022-11-04 22:07:03.628203: I tensorflow/core/common_runtime/bfc_allocator.cc:1089] InUse at 575798400 of size 3072 next 587\n",
      "2022-11-04 22:07:03.628208: I tensorflow/core/common_runtime/bfc_allocator.cc:1089] InUse at 575799000 of size 3072 next 588\n",
      "2022-11-04 22:07:03.628214: I tensorflow/core/common_runtime/bfc_allocator.cc:1089] InUse at 575799c00 of size 3072 next 589\n",
      "2022-11-04 22:07:03.628221: I tensorflow/core/common_runtime/bfc_allocator.cc:1089] InUse at 57579a800 of size 3072 next 590\n",
      "2022-11-04 22:07:03.628227: I tensorflow/core/common_runtime/bfc_allocator.cc:1089] InUse at 57579b400 of size 7077888 next 591\n",
      "2022-11-04 22:07:03.628232: I tensorflow/core/common_runtime/bfc_allocator.cc:1089] InUse at 575e5b400 of size 7077888 next 592\n",
      "2022-11-04 22:07:03.628239: I tensorflow/core/common_runtime/bfc_allocator.cc:1089] InUse at 57651b400 of size 2359296 next 593\n",
      "2022-11-04 22:07:03.628246: I tensorflow/core/common_runtime/bfc_allocator.cc:1089] InUse at 57675b400 of size 2359296 next 594\n",
      "2022-11-04 22:07:03.628253: I tensorflow/core/common_runtime/bfc_allocator.cc:1089] InUse at 57699b400 of size 2359296 next 595\n",
      "2022-11-04 22:07:03.628258: I tensorflow/core/common_runtime/bfc_allocator.cc:1089] InUse at 576bdb400 of size 2359296 next 596\n",
      "2022-11-04 22:07:03.628264: I tensorflow/core/common_runtime/bfc_allocator.cc:1089] InUse at 576e1b400 of size 3072 next 597\n",
      "2022-11-04 22:07:03.628271: I tensorflow/core/common_runtime/bfc_allocator.cc:1089] InUse at 576e1c000 of size 3072 next 598\n",
      "2022-11-04 22:07:03.628278: I tensorflow/core/common_runtime/bfc_allocator.cc:1089] InUse at 576e1cc00 of size 2359296 next 599\n",
      "2022-11-04 22:07:03.628283: I tensorflow/core/common_runtime/bfc_allocator.cc:1089] InUse at 57705cc00 of size 2359296 next 600\n",
      "2022-11-04 22:07:03.628290: I tensorflow/core/common_runtime/bfc_allocator.cc:1089] InUse at 57729cc00 of size 3072 next 601\n",
      "2022-11-04 22:07:03.628316: I tensorflow/core/common_runtime/bfc_allocator.cc:1089] InUse at 57729d800 of size 3072 next 602\n",
      "2022-11-04 22:07:03.628338: I tensorflow/core/common_runtime/bfc_allocator.cc:1089] InUse at 57729e400 of size 3072 next 603\n",
      "2022-11-04 22:07:03.628351: I tensorflow/core/common_runtime/bfc_allocator.cc:1089] InUse at 57729f000 of size 3072 next 604\n",
      "2022-11-04 22:07:03.628361: I tensorflow/core/common_runtime/bfc_allocator.cc:1089] InUse at 57729fc00 of size 3072 next 605\n",
      "2022-11-04 22:07:03.628373: I tensorflow/core/common_runtime/bfc_allocator.cc:1089] InUse at 5772a0800 of size 3072 next 606\n",
      "2022-11-04 22:07:03.628379: I tensorflow/core/common_runtime/bfc_allocator.cc:1089] InUse at 5772a1400 of size 7077888 next 607\n",
      "2022-11-04 22:07:03.628386: I tensorflow/core/common_runtime/bfc_allocator.cc:1089] InUse at 577961400 of size 7077888 next 608\n",
      "2022-11-04 22:07:03.628393: I tensorflow/core/common_runtime/bfc_allocator.cc:1089] InUse at 578021400 of size 2359296 next 609\n",
      "2022-11-04 22:07:03.628401: I tensorflow/core/common_runtime/bfc_allocator.cc:1089] InUse at 578261400 of size 2359296 next 610\n",
      "2022-11-04 22:07:03.628408: I tensorflow/core/common_runtime/bfc_allocator.cc:1089] InUse at 5784a1400 of size 2359296 next 611\n",
      "2022-11-04 22:07:03.628416: I tensorflow/core/common_runtime/bfc_allocator.cc:1089] InUse at 5786e1400 of size 2359296 next 612\n",
      "2022-11-04 22:07:03.628422: I tensorflow/core/common_runtime/bfc_allocator.cc:1089] InUse at 578921400 of size 3072 next 613\n",
      "2022-11-04 22:07:03.628430: I tensorflow/core/common_runtime/bfc_allocator.cc:1089] InUse at 578922000 of size 3072 next 614\n",
      "2022-11-04 22:07:03.628438: I tensorflow/core/common_runtime/bfc_allocator.cc:1089] InUse at 578922c00 of size 2359296 next 615\n",
      "2022-11-04 22:07:03.628445: I tensorflow/core/common_runtime/bfc_allocator.cc:1089] InUse at 578b62c00 of size 2359296 next 616\n",
      "2022-11-04 22:07:03.628453: I tensorflow/core/common_runtime/bfc_allocator.cc:1089] InUse at 578da2c00 of size 3072 next 617\n",
      "2022-11-04 22:07:03.628461: I tensorflow/core/common_runtime/bfc_allocator.cc:1089] InUse at 578da3800 of size 3072 next 618\n",
      "2022-11-04 22:07:03.628468: I tensorflow/core/common_runtime/bfc_allocator.cc:1089] InUse at 578da4400 of size 3072 next 619\n",
      "2022-11-04 22:07:03.628480: I tensorflow/core/common_runtime/bfc_allocator.cc:1089] InUse at 578da5000 of size 3072 next 620\n",
      "2022-11-04 22:07:03.628493: I tensorflow/core/common_runtime/bfc_allocator.cc:1089] InUse at 578da5c00 of size 3072 next 621\n",
      "2022-11-04 22:07:03.628502: I tensorflow/core/common_runtime/bfc_allocator.cc:1089] InUse at 578da6800 of size 3072 next 622\n",
      "2022-11-04 22:07:03.628508: I tensorflow/core/common_runtime/bfc_allocator.cc:1089] InUse at 578da7400 of size 6144 next 624\n",
      "2022-11-04 22:07:03.628513: I tensorflow/core/common_runtime/bfc_allocator.cc:1089] InUse at 578da8c00 of size 9437184 next 718\n",
      "2022-11-04 22:07:03.628519: I tensorflow/core/common_runtime/bfc_allocator.cc:1089] InUse at 5796a8c00 of size 9437184 next 719\n",
      "2022-11-04 22:07:03.628524: I tensorflow/core/common_runtime/bfc_allocator.cc:1089] InUse at 579fa8c00 of size 2359296 next 760\n",
      "2022-11-04 22:07:03.628535: I tensorflow/core/common_runtime/bfc_allocator.cc:1089] InUse at 57a1e8c00 of size 2359296 next 748\n",
      "2022-11-04 22:07:03.628543: I tensorflow/core/common_runtime/bfc_allocator.cc:1089] InUse at 57a428c00 of size 2359296 next 752\n",
      "2022-11-04 22:07:03.628549: I tensorflow/core/common_runtime/bfc_allocator.cc:1089] InUse at 57a668c00 of size 2359296 next 733\n",
      "2022-11-04 22:07:03.628555: I tensorflow/core/common_runtime/bfc_allocator.cc:1089] InUse at 57a8a8c00 of size 9437184 next 744\n",
      "2022-11-04 22:07:03.628566: I tensorflow/core/common_runtime/bfc_allocator.cc:1089] InUse at 57b1a8c00 of size 9437184 next 795\n",
      "2022-11-04 22:07:03.628574: I tensorflow/core/common_runtime/bfc_allocator.cc:1089] InUse at 57baa8c00 of size 7077888 next 721\n",
      "2022-11-04 22:07:03.628579: I tensorflow/core/common_runtime/bfc_allocator.cc:1089] InUse at 57c168c00 of size 2359296 next 790\n",
      "2022-11-04 22:07:03.628589: I tensorflow/core/common_runtime/bfc_allocator.cc:1089] InUse at 57c3a8c00 of size 2359296 next 793\n",
      "2022-11-04 22:07:03.628595: I tensorflow/core/common_runtime/bfc_allocator.cc:1089] InUse at 57c5e8c00 of size 2359296 next 785\n",
      "2022-11-04 22:07:03.628598: I tensorflow/core/common_runtime/bfc_allocator.cc:1089] InUse at 57c828c00 of size 2359296 next 743\n",
      "2022-11-04 22:07:03.628601: I tensorflow/core/common_runtime/bfc_allocator.cc:1089] InUse at 57ca68c00 of size 9437184 next 755\n",
      "2022-11-04 22:07:03.628604: I tensorflow/core/common_runtime/bfc_allocator.cc:1089] InUse at 57d368c00 of size 16515072 next 749\n",
      "2022-11-04 22:07:03.628607: I tensorflow/core/common_runtime/bfc_allocator.cc:1089] InUse at 57e328c00 of size 2359296 next 805\n",
      "2022-11-04 22:07:03.628610: I tensorflow/core/common_runtime/bfc_allocator.cc:1089] InUse at 57e568c00 of size 2359296 next 807\n",
      "2022-11-04 22:07:03.628613: I tensorflow/core/common_runtime/bfc_allocator.cc:1089] InUse at 57e7a8c00 of size 2359296 next 815\n",
      "2022-11-04 22:07:03.628616: I tensorflow/core/common_runtime/bfc_allocator.cc:1089] InUse at 57e9e8c00 of size 2359296 next 763\n",
      "2022-11-04 22:07:03.628620: I tensorflow/core/common_runtime/bfc_allocator.cc:1089] InUse at 57ec28c00 of size 9437184 next 756\n",
      "2022-11-04 22:07:03.628623: I tensorflow/core/common_runtime/bfc_allocator.cc:1089] InUse at 57f528c00 of size 9437184 next 758\n",
      "2022-11-04 22:07:03.628626: I tensorflow/core/common_runtime/bfc_allocator.cc:1089] InUse at 57fe28c00 of size 16515072 next 778\n",
      "2022-11-04 22:07:03.628629: I tensorflow/core/common_runtime/bfc_allocator.cc:1089] InUse at 580de8c00 of size 9437184 next 771\n",
      "2022-11-04 22:07:03.628632: I tensorflow/core/common_runtime/bfc_allocator.cc:1089] InUse at 5816e8c00 of size 10497024 next 626\n",
      "2022-11-04 22:07:03.628636: I tensorflow/core/common_runtime/bfc_allocator.cc:1089] InUse at 5820eb800 of size 154414080 next 627\n",
      "2022-11-04 22:07:03.628639: I tensorflow/core/common_runtime/bfc_allocator.cc:1089] InUse at 58b42e400 of size 181666048 next 1392\n",
      "2022-11-04 22:07:03.628643: I tensorflow/core/common_runtime/bfc_allocator.cc:1089] InUse at 59616e500 of size 3072 next 1546\n",
      "2022-11-04 22:07:03.628646: I tensorflow/core/common_runtime/bfc_allocator.cc:1089] InUse at 59616f100 of size 3072 next 1273\n",
      "2022-11-04 22:07:03.628650: I tensorflow/core/common_runtime/bfc_allocator.cc:1089] InUse at 59616fd00 of size 3072 next 825\n",
      "2022-11-04 22:07:03.628653: I tensorflow/core/common_runtime/bfc_allocator.cc:1089] InUse at 596170900 of size 3072 next 1271\n",
      "2022-11-04 22:07:03.628656: I tensorflow/core/common_runtime/bfc_allocator.cc:1089] InUse at 596171500 of size 3072 next 1281\n",
      "2022-11-04 22:07:03.628659: I tensorflow/core/common_runtime/bfc_allocator.cc:1089] InUse at 596172100 of size 3072 next 1284\n",
      "2022-11-04 22:07:03.628661: I tensorflow/core/common_runtime/bfc_allocator.cc:1089] InUse at 596172d00 of size 3072 next 1255\n",
      "2022-11-04 22:07:03.628664: I tensorflow/core/common_runtime/bfc_allocator.cc:1089] InUse at 596173900 of size 3072 next 1262\n",
      "2022-11-04 22:07:03.628667: I tensorflow/core/common_runtime/bfc_allocator.cc:1089] InUse at 596174500 of size 3072 next 1260\n",
      "2022-11-04 22:07:03.628670: I tensorflow/core/common_runtime/bfc_allocator.cc:1089] InUse at 596175100 of size 3072 next 1256\n",
      "2022-11-04 22:07:03.628673: I tensorflow/core/common_runtime/bfc_allocator.cc:1089] InUse at 596175d00 of size 3072 next 1263\n",
      "2022-11-04 22:07:03.628677: I tensorflow/core/common_runtime/bfc_allocator.cc:1089] InUse at 596176900 of size 12288 next 1718\n",
      "2022-11-04 22:07:03.628680: I tensorflow/core/common_runtime/bfc_allocator.cc:1089] InUse at 596179900 of size 3072 next 1332\n",
      "2022-11-04 22:07:03.628683: I tensorflow/core/common_runtime/bfc_allocator.cc:1089] InUse at 59617a500 of size 3072 next 1278\n",
      "2022-11-04 22:07:03.628686: I tensorflow/core/common_runtime/bfc_allocator.cc:1089] InUse at 59617b100 of size 3072 next 1524\n",
      "2022-11-04 22:07:03.628689: I tensorflow/core/common_runtime/bfc_allocator.cc:1089] InUse at 59617bd00 of size 3072 next 1330\n",
      "2022-11-04 22:07:03.628692: I tensorflow/core/common_runtime/bfc_allocator.cc:1089] InUse at 59617c900 of size 3072 next 1466\n",
      "2022-11-04 22:07:03.628695: I tensorflow/core/common_runtime/bfc_allocator.cc:1089] InUse at 59617d500 of size 3072 next 1411\n",
      "2022-11-04 22:07:03.628697: I tensorflow/core/common_runtime/bfc_allocator.cc:1089] InUse at 59617e100 of size 6144 next 1352\n",
      "2022-11-04 22:07:03.628701: I tensorflow/core/common_runtime/bfc_allocator.cc:1089] InUse at 59617f900 of size 21504 next 1401\n",
      "2022-11-04 22:07:03.628704: I tensorflow/core/common_runtime/bfc_allocator.cc:1089] InUse at 596184d00 of size 3072 next 1268\n",
      "2022-11-04 22:07:03.628707: I tensorflow/core/common_runtime/bfc_allocator.cc:1089] InUse at 596185900 of size 3072 next 1252\n",
      "2022-11-04 22:07:03.628709: I tensorflow/core/common_runtime/bfc_allocator.cc:1089] InUse at 596186500 of size 3072 next 1526\n",
      "2022-11-04 22:07:03.628712: I tensorflow/core/common_runtime/bfc_allocator.cc:1089] InUse at 596187100 of size 3072 next 1288\n",
      "2022-11-04 22:07:03.628715: I tensorflow/core/common_runtime/bfc_allocator.cc:1089] InUse at 596187d00 of size 3072 next 1241\n",
      "2022-11-04 22:07:03.628718: I tensorflow/core/common_runtime/bfc_allocator.cc:1089] InUse at 596188900 of size 5888 next 1453\n",
      "2022-11-04 22:07:03.628721: I tensorflow/core/common_runtime/bfc_allocator.cc:1089] InUse at 59618a000 of size 3072 next 1311\n",
      "2022-11-04 22:07:03.628724: I tensorflow/core/common_runtime/bfc_allocator.cc:1089] InUse at 59618ac00 of size 3072 next 1482\n",
      "2022-11-04 22:07:03.628727: I tensorflow/core/common_runtime/bfc_allocator.cc:1089] InUse at 59618b800 of size 3072 next 1462\n",
      "2022-11-04 22:07:03.628730: I tensorflow/core/common_runtime/bfc_allocator.cc:1089] InUse at 59618c400 of size 19456 next 1630\n",
      "2022-11-04 22:07:03.628733: I tensorflow/core/common_runtime/bfc_allocator.cc:1089] Free  at 596191000 of size 256 next 1289\n",
      "2022-11-04 22:07:03.628736: I tensorflow/core/common_runtime/bfc_allocator.cc:1089] InUse at 596191100 of size 3072 next 1577\n",
      "2022-11-04 22:07:03.628739: I tensorflow/core/common_runtime/bfc_allocator.cc:1089] InUse at 596191d00 of size 3072 next 1458\n",
      "2022-11-04 22:07:03.628742: I tensorflow/core/common_runtime/bfc_allocator.cc:1089] InUse at 596192900 of size 3072 next 1690\n",
      "2022-11-04 22:07:03.628745: I tensorflow/core/common_runtime/bfc_allocator.cc:1089] InUse at 596193500 of size 3072 next 1461\n",
      "2022-11-04 22:07:03.628748: I tensorflow/core/common_runtime/bfc_allocator.cc:1089] InUse at 596194100 of size 3072 next 1542\n",
      "2022-11-04 22:07:03.628751: I tensorflow/core/common_runtime/bfc_allocator.cc:1089] InUse at 596194d00 of size 5888 next 1634\n",
      "2022-11-04 22:07:03.628754: I tensorflow/core/common_runtime/bfc_allocator.cc:1089] InUse at 596196400 of size 3072 next 1598\n",
      "2022-11-04 22:07:03.628757: I tensorflow/core/common_runtime/bfc_allocator.cc:1089] InUse at 596197000 of size 21760 next 1525\n",
      "2022-11-04 22:07:03.628760: I tensorflow/core/common_runtime/bfc_allocator.cc:1089] InUse at 59619c500 of size 3072 next 1481\n",
      "2022-11-04 22:07:03.628763: I tensorflow/core/common_runtime/bfc_allocator.cc:1089] InUse at 59619d100 of size 3072 next 1648\n",
      "2022-11-04 22:07:03.628766: I tensorflow/core/common_runtime/bfc_allocator.cc:1089] InUse at 59619dd00 of size 3072 next 1410\n",
      "2022-11-04 22:07:03.628769: I tensorflow/core/common_runtime/bfc_allocator.cc:1089] InUse at 59619e900 of size 3072 next 1514\n",
      "2022-11-04 22:07:03.628771: I tensorflow/core/common_runtime/bfc_allocator.cc:1089] InUse at 59619f500 of size 3072 next 1396\n",
      "2022-11-04 22:07:03.628774: I tensorflow/core/common_runtime/bfc_allocator.cc:1089] InUse at 5961a0100 of size 12288 next 1586\n",
      "2022-11-04 22:07:03.628777: I tensorflow/core/common_runtime/bfc_allocator.cc:1089] InUse at 5961a3100 of size 12288 next 1503\n",
      "2022-11-04 22:07:03.628781: I tensorflow/core/common_runtime/bfc_allocator.cc:1089] InUse at 5961a6100 of size 12288 next 1579\n",
      "2022-11-04 22:07:03.628784: I tensorflow/core/common_runtime/bfc_allocator.cc:1089] InUse at 5961a9100 of size 3072 next 1349\n",
      "2022-11-04 22:07:03.628787: I tensorflow/core/common_runtime/bfc_allocator.cc:1089] InUse at 5961a9d00 of size 3072 next 1301\n",
      "2022-11-04 22:07:03.628790: I tensorflow/core/common_runtime/bfc_allocator.cc:1089] InUse at 5961aa900 of size 3072 next 1615\n",
      "2022-11-04 22:07:03.628793: I tensorflow/core/common_runtime/bfc_allocator.cc:1089] InUse at 5961ab500 of size 3072 next 1613\n",
      "2022-11-04 22:07:03.628795: I tensorflow/core/common_runtime/bfc_allocator.cc:1089] InUse at 5961ac100 of size 3072 next 1303\n",
      "2022-11-04 22:07:03.628798: I tensorflow/core/common_runtime/bfc_allocator.cc:1089] InUse at 5961acd00 of size 3072 next 1361\n",
      "2022-11-04 22:07:03.628801: I tensorflow/core/common_runtime/bfc_allocator.cc:1089] InUse at 5961ad900 of size 3072 next 1649\n",
      "2022-11-04 22:07:03.628804: I tensorflow/core/common_runtime/bfc_allocator.cc:1089] InUse at 5961ae500 of size 3072 next 1394\n",
      "2022-11-04 22:07:03.628807: I tensorflow/core/common_runtime/bfc_allocator.cc:1089] InUse at 5961af100 of size 3072 next 1463\n",
      "2022-11-04 22:07:03.628810: I tensorflow/core/common_runtime/bfc_allocator.cc:1089] InUse at 5961afd00 of size 16640 next 1658\n",
      "2022-11-04 22:07:03.628813: I tensorflow/core/common_runtime/bfc_allocator.cc:1089] InUse at 5961b3e00 of size 256 next 1539\n",
      "2022-11-04 22:07:03.628816: I tensorflow/core/common_runtime/bfc_allocator.cc:1089] InUse at 5961b3f00 of size 3072 next 1402\n",
      "2022-11-04 22:07:03.628819: I tensorflow/core/common_runtime/bfc_allocator.cc:1089] InUse at 5961b4b00 of size 3072 next 1643\n",
      "2022-11-04 22:07:03.628823: I tensorflow/core/common_runtime/bfc_allocator.cc:1089] InUse at 5961b5700 of size 3072 next 1594\n",
      "2022-11-04 22:07:03.628825: I tensorflow/core/common_runtime/bfc_allocator.cc:1089] InUse at 5961b6300 of size 3072 next 1627\n",
      "2022-11-04 22:07:03.628828: I tensorflow/core/common_runtime/bfc_allocator.cc:1089] InUse at 5961b6f00 of size 3072 next 1638\n",
      "2022-11-04 22:07:03.628831: I tensorflow/core/common_runtime/bfc_allocator.cc:1089] InUse at 5961b7b00 of size 3072 next 1670\n",
      "2022-11-04 22:07:03.628834: I tensorflow/core/common_runtime/bfc_allocator.cc:1089] InUse at 5961b8700 of size 3072 next 1293\n",
      "2022-11-04 22:07:03.628837: I tensorflow/core/common_runtime/bfc_allocator.cc:1089] InUse at 5961b9300 of size 3072 next 1326\n",
      "2022-11-04 22:07:03.628840: I tensorflow/core/common_runtime/bfc_allocator.cc:1089] InUse at 5961b9f00 of size 3072 next 1364\n",
      "2022-11-04 22:07:03.628843: I tensorflow/core/common_runtime/bfc_allocator.cc:1089] InUse at 5961bab00 of size 18432 next 1534\n",
      "2022-11-04 22:07:03.628846: I tensorflow/core/common_runtime/bfc_allocator.cc:1089] InUse at 5961bf300 of size 3072 next 1393\n",
      "2022-11-04 22:07:03.628848: I tensorflow/core/common_runtime/bfc_allocator.cc:1089] InUse at 5961bff00 of size 3072 next 1647\n",
      "2022-11-04 22:07:03.628851: I tensorflow/core/common_runtime/bfc_allocator.cc:1089] InUse at 5961c0b00 of size 3072 next 1276\n",
      "2022-11-04 22:07:03.628854: I tensorflow/core/common_runtime/bfc_allocator.cc:1089] InUse at 5961c1700 of size 4864 next 1702\n",
      "2022-11-04 22:07:03.628857: I tensorflow/core/common_runtime/bfc_allocator.cc:1089] InUse at 5961c2a00 of size 5120 next 1265\n",
      "2022-11-04 22:07:03.628860: I tensorflow/core/common_runtime/bfc_allocator.cc:1089] InUse at 5961c3e00 of size 3072 next 1259\n",
      "2022-11-04 22:07:03.628877: I tensorflow/core/common_runtime/bfc_allocator.cc:1089] InUse at 5961c4a00 of size 3072 next 1253\n",
      "2022-11-04 22:07:03.628880: I tensorflow/core/common_runtime/bfc_allocator.cc:1089] InUse at 5961c5600 of size 3072 next 1254\n",
      "2022-11-04 22:07:03.628882: I tensorflow/core/common_runtime/bfc_allocator.cc:1089] InUse at 5961c6200 of size 3072 next 1246\n",
      "2022-11-04 22:07:03.628906: I tensorflow/core/common_runtime/bfc_allocator.cc:1089] InUse at 5961c6e00 of size 12288 next 1247\n",
      "2022-11-04 22:07:03.628909: I tensorflow/core/common_runtime/bfc_allocator.cc:1089] InUse at 5961c9e00 of size 3072 next 1237\n",
      "2022-11-04 22:07:03.628912: I tensorflow/core/common_runtime/bfc_allocator.cc:1089] InUse at 5961caa00 of size 3072 next 1283\n",
      "2022-11-04 22:07:03.628915: I tensorflow/core/common_runtime/bfc_allocator.cc:1089] InUse at 5961cb600 of size 3072 next 1277\n",
      "2022-11-04 22:07:03.628918: I tensorflow/core/common_runtime/bfc_allocator.cc:1089] InUse at 5961cc200 of size 3072 next 1270\n",
      "2022-11-04 22:07:03.628921: I tensorflow/core/common_runtime/bfc_allocator.cc:1089] InUse at 5961cce00 of size 3072 next 1238\n",
      "2022-11-04 22:07:03.628924: I tensorflow/core/common_runtime/bfc_allocator.cc:1089] InUse at 5961cda00 of size 3072 next 1242\n",
      "2022-11-04 22:07:03.628927: I tensorflow/core/common_runtime/bfc_allocator.cc:1089] InUse at 5961ce600 of size 3072 next 1243\n",
      "2022-11-04 22:07:03.628930: I tensorflow/core/common_runtime/bfc_allocator.cc:1089] InUse at 5961cf200 of size 5888 next 1245\n",
      "2022-11-04 22:07:03.628933: I tensorflow/core/common_runtime/bfc_allocator.cc:1089] InUse at 5961d0900 of size 3072 next 1249\n",
      "2022-11-04 22:07:03.628936: I tensorflow/core/common_runtime/bfc_allocator.cc:1089] InUse at 5961d1500 of size 18432 next 1473\n",
      "2022-11-04 22:07:03.628940: I tensorflow/core/common_runtime/bfc_allocator.cc:1089] InUse at 5961d5d00 of size 3072 next 1335\n",
      "2022-11-04 22:07:03.628942: I tensorflow/core/common_runtime/bfc_allocator.cc:1089] InUse at 5961d6900 of size 3072 next 1467\n",
      "2022-11-04 22:07:03.628946: I tensorflow/core/common_runtime/bfc_allocator.cc:1089] InUse at 5961d7500 of size 3072 next 1515\n",
      "2022-11-04 22:07:03.628949: I tensorflow/core/common_runtime/bfc_allocator.cc:1089] InUse at 5961d8100 of size 12288 next 1661\n",
      "2022-11-04 22:07:03.628952: I tensorflow/core/common_runtime/bfc_allocator.cc:1089] InUse at 5961db100 of size 3072 next 1668\n",
      "2022-11-04 22:07:03.628955: I tensorflow/core/common_runtime/bfc_allocator.cc:1089] InUse at 5961dbd00 of size 3072 next 1318\n",
      "2022-11-04 22:07:03.628958: I tensorflow/core/common_runtime/bfc_allocator.cc:1089] InUse at 5961dc900 of size 3072 next 1532\n",
      "2022-11-04 22:07:03.628961: I tensorflow/core/common_runtime/bfc_allocator.cc:1089] InUse at 5961dd500 of size 2427136 next 1258\n",
      "2022-11-04 22:07:03.628964: I tensorflow/core/common_runtime/bfc_allocator.cc:1089] InUse at 59642de00 of size 3694848 next 1527\n",
      "2022-11-04 22:07:03.628967: I tensorflow/core/common_runtime/bfc_allocator.cc:1089] InUse at 5967b3f00 of size 10223616 next 1285\n",
      "2022-11-04 22:07:03.628985: I tensorflow/core/common_runtime/bfc_allocator.cc:1089] InUse at 597173f00 of size 2359296 next 1266\n",
      "2022-11-04 22:07:03.628988: I tensorflow/core/common_runtime/bfc_allocator.cc:1089] InUse at 5973b3f00 of size 3072 next 1588\n",
      "2022-11-04 22:07:03.628991: I tensorflow/core/common_runtime/bfc_allocator.cc:1089] InUse at 5973b4b00 of size 3072 next 1300\n",
      "2022-11-04 22:07:03.629014: I tensorflow/core/common_runtime/bfc_allocator.cc:1089] InUse at 5973b5700 of size 5120 next 1346\n",
      "2022-11-04 22:07:03.629017: I tensorflow/core/common_runtime/bfc_allocator.cc:1089] InUse at 5973b6b00 of size 3072 next 1400\n",
      "2022-11-04 22:07:03.629020: I tensorflow/core/common_runtime/bfc_allocator.cc:1089] InUse at 5973b7700 of size 3072 next 1676\n",
      "2022-11-04 22:07:03.629023: I tensorflow/core/common_runtime/bfc_allocator.cc:1089] InUse at 5973b8300 of size 3072 next 1689\n",
      "2022-11-04 22:07:03.629025: I tensorflow/core/common_runtime/bfc_allocator.cc:1089] InUse at 5973b8f00 of size 3072 next 1382\n",
      "2022-11-04 22:07:03.629028: I tensorflow/core/common_runtime/bfc_allocator.cc:1089] InUse at 5973b9b00 of size 3072 next 1667\n",
      "2022-11-04 22:07:03.629031: I tensorflow/core/common_runtime/bfc_allocator.cc:1089] InUse at 5973ba700 of size 3072 next 1537\n",
      "2022-11-04 22:07:03.629035: I tensorflow/core/common_runtime/bfc_allocator.cc:1089] InUse at 5973bb300 of size 5888 next 1353\n",
      "2022-11-04 22:07:03.629038: I tensorflow/core/common_runtime/bfc_allocator.cc:1089] InUse at 5973bca00 of size 3072 next 1331\n",
      "2022-11-04 22:07:03.629041: I tensorflow/core/common_runtime/bfc_allocator.cc:1089] InUse at 5973bd600 of size 3072 next 1422\n",
      "2022-11-04 22:07:03.629044: I tensorflow/core/common_runtime/bfc_allocator.cc:1089] InUse at 5973be200 of size 3072 next 1696\n",
      "2022-11-04 22:07:03.629046: I tensorflow/core/common_runtime/bfc_allocator.cc:1089] InUse at 5973bee00 of size 3072 next 1686\n",
      "2022-11-04 22:07:03.629050: I tensorflow/core/common_runtime/bfc_allocator.cc:1089] InUse at 5973bfa00 of size 12288 next 1688\n",
      "2022-11-04 22:07:03.629053: I tensorflow/core/common_runtime/bfc_allocator.cc:1089] InUse at 5973c2a00 of size 3072 next 1239\n",
      "2022-11-04 22:07:03.629056: I tensorflow/core/common_runtime/bfc_allocator.cc:1089] InUse at 5973c3600 of size 3072 next 1493\n",
      "2022-11-04 22:07:03.629059: I tensorflow/core/common_runtime/bfc_allocator.cc:1089] InUse at 5973c4200 of size 3072 next 1308\n",
      "2022-11-04 22:07:03.629062: I tensorflow/core/common_runtime/bfc_allocator.cc:1089] InUse at 5973c4e00 of size 3072 next 1506\n",
      "2022-11-04 22:07:03.629065: I tensorflow/core/common_runtime/bfc_allocator.cc:1089] InUse at 5973c5a00 of size 3072 next 1487\n",
      "2022-11-04 22:07:03.629067: I tensorflow/core/common_runtime/bfc_allocator.cc:1089] InUse at 5973c6600 of size 3072 next 1544\n",
      "2022-11-04 22:07:03.629070: I tensorflow/core/common_runtime/bfc_allocator.cc:1089] InUse at 5973c7200 of size 3072 next 1653\n",
      "2022-11-04 22:07:03.629073: I tensorflow/core/common_runtime/bfc_allocator.cc:1089] InUse at 5973c7e00 of size 3072 next 1295\n",
      "2022-11-04 22:07:03.629076: I tensorflow/core/common_runtime/bfc_allocator.cc:1089] InUse at 5973c8a00 of size 3072 next 1309\n",
      "2022-11-04 22:07:03.629079: I tensorflow/core/common_runtime/bfc_allocator.cc:1089] InUse at 5973c9600 of size 18688 next 1697\n",
      "2022-11-04 22:07:03.629082: I tensorflow/core/common_runtime/bfc_allocator.cc:1089] InUse at 5973cdf00 of size 3072 next 1553\n",
      "2022-11-04 22:07:03.629085: I tensorflow/core/common_runtime/bfc_allocator.cc:1089] InUse at 5973ceb00 of size 3072 next 1404\n",
      "2022-11-04 22:07:03.629088: I tensorflow/core/common_runtime/bfc_allocator.cc:1089] InUse at 5973cf700 of size 3072 next 1440\n",
      "2022-11-04 22:07:03.629091: I tensorflow/core/common_runtime/bfc_allocator.cc:1089] InUse at 5973d0300 of size 3072 next 1710\n",
      "2022-11-04 22:07:03.629093: I tensorflow/core/common_runtime/bfc_allocator.cc:1089] InUse at 5973d0f00 of size 3072 next 1447\n",
      "2022-11-04 22:07:03.629096: I tensorflow/core/common_runtime/bfc_allocator.cc:1089] InUse at 5973d1b00 of size 5888 next 1484\n",
      "2022-11-04 22:07:03.629099: I tensorflow/core/common_runtime/bfc_allocator.cc:1089] InUse at 5973d3200 of size 3072 next 1452\n",
      "2022-11-04 22:07:03.629102: I tensorflow/core/common_runtime/bfc_allocator.cc:1089] InUse at 5973d3e00 of size 3072 next 1439\n",
      "2022-11-04 22:07:03.629105: I tensorflow/core/common_runtime/bfc_allocator.cc:1089] InUse at 5973d4a00 of size 3072 next 1339\n",
      "2022-11-04 22:07:03.629108: I tensorflow/core/common_runtime/bfc_allocator.cc:1089] InUse at 5973d5600 of size 3072 next 1611\n",
      "2022-11-04 22:07:03.629111: I tensorflow/core/common_runtime/bfc_allocator.cc:1089] InUse at 5973d6200 of size 3072 next 1528\n",
      "2022-11-04 22:07:03.629115: I tensorflow/core/common_runtime/bfc_allocator.cc:1089] InUse at 5973d6e00 of size 3072 next 1468\n",
      "2022-11-04 22:07:03.629118: I tensorflow/core/common_runtime/bfc_allocator.cc:1089] InUse at 5973d7a00 of size 3072 next 1712\n",
      "2022-11-04 22:07:03.629121: I tensorflow/core/common_runtime/bfc_allocator.cc:1089] InUse at 5973d8600 of size 3328 next 1424\n",
      "2022-11-04 22:07:03.629124: I tensorflow/core/common_runtime/bfc_allocator.cc:1089] InUse at 5973d9300 of size 3072 next 1728\n",
      "2022-11-04 22:07:03.629127: I tensorflow/core/common_runtime/bfc_allocator.cc:1089] InUse at 5973d9f00 of size 3072 next 1477\n",
      "2022-11-04 22:07:03.629130: I tensorflow/core/common_runtime/bfc_allocator.cc:1089] InUse at 5973dab00 of size 3072 next 1607\n",
      "2022-11-04 22:07:03.629133: I tensorflow/core/common_runtime/bfc_allocator.cc:1089] InUse at 5973db700 of size 3072 next 1433\n",
      "2022-11-04 22:07:03.629136: I tensorflow/core/common_runtime/bfc_allocator.cc:1089] InUse at 5973dc300 of size 3072 next 1508\n",
      "2022-11-04 22:07:03.629139: I tensorflow/core/common_runtime/bfc_allocator.cc:1089] InUse at 5973dcf00 of size 3072 next 1316\n",
      "2022-11-04 22:07:03.629142: I tensorflow/core/common_runtime/bfc_allocator.cc:1089] InUse at 5973ddb00 of size 3072 next 1362\n",
      "2022-11-04 22:07:03.629144: I tensorflow/core/common_runtime/bfc_allocator.cc:1089] InUse at 5973de700 of size 3072 next 1622\n",
      "2022-11-04 22:07:03.629147: I tensorflow/core/common_runtime/bfc_allocator.cc:1089] InUse at 5973df300 of size 3072 next 1444\n",
      "2022-11-04 22:07:03.629150: I tensorflow/core/common_runtime/bfc_allocator.cc:1089] InUse at 5973dff00 of size 3072 next 1621\n",
      "2022-11-04 22:07:03.629153: I tensorflow/core/common_runtime/bfc_allocator.cc:1089] InUse at 5973e0b00 of size 3072 next 1570\n",
      "2022-11-04 22:07:03.629156: I tensorflow/core/common_runtime/bfc_allocator.cc:1089] InUse at 5973e1700 of size 3072 next 1390\n",
      "2022-11-04 22:07:03.629159: I tensorflow/core/common_runtime/bfc_allocator.cc:1089] InUse at 5973e2300 of size 3072 next 1380\n",
      "2022-11-04 22:07:03.629162: I tensorflow/core/common_runtime/bfc_allocator.cc:1089] InUse at 5973e2f00 of size 3072 next 1370\n",
      "2022-11-04 22:07:03.629165: I tensorflow/core/common_runtime/bfc_allocator.cc:1089] InUse at 5973e3b00 of size 3072 next 1504\n",
      "2022-11-04 22:07:03.629167: I tensorflow/core/common_runtime/bfc_allocator.cc:1089] InUse at 5973e4700 of size 3072 next 1578\n",
      "2022-11-04 22:07:03.629170: I tensorflow/core/common_runtime/bfc_allocator.cc:1089] InUse at 5973e5300 of size 12288 next 1671\n",
      "2022-11-04 22:07:03.629173: I tensorflow/core/common_runtime/bfc_allocator.cc:1089] InUse at 5973e8300 of size 3072 next 1443\n",
      "2022-11-04 22:07:03.629176: I tensorflow/core/common_runtime/bfc_allocator.cc:1089] InUse at 5973e8f00 of size 3072 next 1436\n",
      "2022-11-04 22:07:03.629179: I tensorflow/core/common_runtime/bfc_allocator.cc:1089] InUse at 5973e9b00 of size 3072 next 1405\n",
      "2022-11-04 22:07:03.629182: I tensorflow/core/common_runtime/bfc_allocator.cc:1089] InUse at 5973ea700 of size 3072 next 1321\n",
      "2022-11-04 22:07:03.629185: I tensorflow/core/common_runtime/bfc_allocator.cc:1089] InUse at 5973eb300 of size 3072 next 1704\n",
      "2022-11-04 22:07:03.629188: I tensorflow/core/common_runtime/bfc_allocator.cc:1089] InUse at 5973ebf00 of size 3072 next 1399\n",
      "2022-11-04 22:07:03.629190: I tensorflow/core/common_runtime/bfc_allocator.cc:1089] InUse at 5973ecb00 of size 3072 next 1317\n",
      "2022-11-04 22:07:03.629193: I tensorflow/core/common_runtime/bfc_allocator.cc:1089] InUse at 5973ed700 of size 3072 next 1465\n",
      "2022-11-04 22:07:03.629196: I tensorflow/core/common_runtime/bfc_allocator.cc:1089] InUse at 5973ee300 of size 3072 next 1417\n",
      "2022-11-04 22:07:03.629199: I tensorflow/core/common_runtime/bfc_allocator.cc:1089] InUse at 5973eef00 of size 12288 next 1377\n",
      "2022-11-04 22:07:03.629202: I tensorflow/core/common_runtime/bfc_allocator.cc:1089] InUse at 5973f1f00 of size 3072 next 1554\n",
      "2022-11-04 22:07:03.629205: I tensorflow/core/common_runtime/bfc_allocator.cc:1089] InUse at 5973f2b00 of size 3072 next 1338\n",
      "2022-11-04 22:07:03.629208: I tensorflow/core/common_runtime/bfc_allocator.cc:1089] InUse at 5973f3700 of size 3072 next 1322\n",
      "2022-11-04 22:07:03.629211: I tensorflow/core/common_runtime/bfc_allocator.cc:1089] InUse at 5973f4300 of size 3072 next 1489\n",
      "2022-11-04 22:07:03.629213: I tensorflow/core/common_runtime/bfc_allocator.cc:1089] InUse at 5973f4f00 of size 3072 next 1711\n",
      "2022-11-04 22:07:03.629216: I tensorflow/core/common_runtime/bfc_allocator.cc:1089] InUse at 5973f5b00 of size 3072 next 1563\n",
      "2022-11-04 22:07:03.629219: I tensorflow/core/common_runtime/bfc_allocator.cc:1089] InUse at 5973f6700 of size 3072 next 1660\n",
      "2022-11-04 22:07:03.629222: I tensorflow/core/common_runtime/bfc_allocator.cc:1089] InUse at 5973f7300 of size 3072 next 1304\n",
      "2022-11-04 22:07:03.629225: I tensorflow/core/common_runtime/bfc_allocator.cc:1089] InUse at 5973f7f00 of size 3072 next 1333\n",
      "2022-11-04 22:07:03.629228: I tensorflow/core/common_runtime/bfc_allocator.cc:1089] InUse at 5973f8b00 of size 12288 next 1374\n",
      "2022-11-04 22:07:03.629231: I tensorflow/core/common_runtime/bfc_allocator.cc:1089] InUse at 5973fbb00 of size 3072 next 1345\n",
      "2022-11-04 22:07:03.629234: I tensorflow/core/common_runtime/bfc_allocator.cc:1089] InUse at 5973fc700 of size 3072 next 1679\n",
      "2022-11-04 22:07:03.629237: I tensorflow/core/common_runtime/bfc_allocator.cc:1089] InUse at 5973fd300 of size 3072 next 1310\n",
      "2022-11-04 22:07:03.629240: I tensorflow/core/common_runtime/bfc_allocator.cc:1089] InUse at 5973fdf00 of size 5120 next 1701\n",
      "2022-11-04 22:07:03.629243: I tensorflow/core/common_runtime/bfc_allocator.cc:1089] InUse at 5973ff300 of size 3072 next 1677\n",
      "2022-11-04 22:07:03.629246: I tensorflow/core/common_runtime/bfc_allocator.cc:1089] InUse at 5973fff00 of size 4407296 next 1387\n",
      "2022-11-04 22:07:03.629249: I tensorflow/core/common_runtime/bfc_allocator.cc:1089] InUse at 597833f00 of size 2359296 next 1282\n",
      "2022-11-04 22:07:03.629252: I tensorflow/core/common_runtime/bfc_allocator.cc:1089] InUse at 597a73f00 of size 2359296 next 1601\n",
      "2022-11-04 22:07:03.629256: I tensorflow/core/common_runtime/bfc_allocator.cc:1089] InUse at 597cb3f00 of size 2359296 next 1286\n",
      "2022-11-04 22:07:03.629258: I tensorflow/core/common_runtime/bfc_allocator.cc:1089] InUse at 597ef3f00 of size 2359296 next 1251\n",
      "2022-11-04 22:07:03.629262: I tensorflow/core/common_runtime/bfc_allocator.cc:1089] InUse at 598133f00 of size 2359296 next 1244\n",
      "2022-11-04 22:07:03.629265: I tensorflow/core/common_runtime/bfc_allocator.cc:1089] InUse at 598373f00 of size 14155776 next 1279\n",
      "2022-11-04 22:07:03.629268: I tensorflow/core/common_runtime/bfc_allocator.cc:1089] InUse at 5990f3f00 of size 9437184 next 1280\n",
      "2022-11-04 22:07:03.629271: I tensorflow/core/common_runtime/bfc_allocator.cc:1089] InUse at 5999f3f00 of size 9437184 next 1274\n",
      "2022-11-04 22:07:03.629273: I tensorflow/core/common_runtime/bfc_allocator.cc:1089] InUse at 59a2f3f00 of size 2359296 next 1250\n",
      "2022-11-04 22:07:03.629276: I tensorflow/core/common_runtime/bfc_allocator.cc:1089] InUse at 59a533f00 of size 2359296 next 1375\n",
      "2022-11-04 22:07:03.629279: I tensorflow/core/common_runtime/bfc_allocator.cc:1089] InUse at 59a773f00 of size 2359296 next 1267\n",
      "2022-11-04 22:07:03.629284: I tensorflow/core/common_runtime/bfc_allocator.cc:1089] InUse at 59a9b3f00 of size 11796480 next 1264\n",
      "2022-11-04 22:07:03.629290: I tensorflow/core/common_runtime/bfc_allocator.cc:1089] InUse at 59b4f3f00 of size 9437184 next 1257\n",
      "2022-11-04 22:07:03.629295: I tensorflow/core/common_runtime/bfc_allocator.cc:1089] InUse at 59bdf3f00 of size 9437184 next 1261\n",
      "2022-11-04 22:07:03.629299: I tensorflow/core/common_runtime/bfc_allocator.cc:1089] InUse at 59c6f3f00 of size 2359296 next 1325\n",
      "2022-11-04 22:07:03.629303: I tensorflow/core/common_runtime/bfc_allocator.cc:1089] InUse at 59c933f00 of size 2359296 next 1434\n",
      "2022-11-04 22:07:03.629327: I tensorflow/core/common_runtime/bfc_allocator.cc:1089] InUse at 59cb73f00 of size 14155776 next 1240\n",
      "2022-11-04 22:07:03.629333: I tensorflow/core/common_runtime/bfc_allocator.cc:1089] InUse at 59d8f3f00 of size 9437184 next 1248\n",
      "2022-11-04 22:07:03.629339: I tensorflow/core/common_runtime/bfc_allocator.cc:1089] InUse at 59e1f3f00 of size 9437184 next 1269\n",
      "2022-11-04 22:07:03.629350: I tensorflow/core/common_runtime/bfc_allocator.cc:1089] InUse at 59eaf3f00 of size 10211584 next 650\n",
      "2022-11-04 22:07:03.629357: I tensorflow/core/common_runtime/bfc_allocator.cc:1089] InUse at 59f4b1000 of size 3072 next 874\n",
      "2022-11-04 22:07:03.629362: I tensorflow/core/common_runtime/bfc_allocator.cc:1089] InUse at 59f4b1c00 of size 3072 next 1071\n",
      "2022-11-04 22:07:03.629368: I tensorflow/core/common_runtime/bfc_allocator.cc:1089] InUse at 59f4b2800 of size 3072 next 875\n",
      "2022-11-04 22:07:03.629373: I tensorflow/core/common_runtime/bfc_allocator.cc:1089] InUse at 59f4b3400 of size 3072 next 1072\n",
      "2022-11-04 22:07:03.629379: I tensorflow/core/common_runtime/bfc_allocator.cc:1089] InUse at 59f4b4000 of size 3072 next 876\n",
      "2022-11-04 22:07:03.629391: I tensorflow/core/common_runtime/bfc_allocator.cc:1089] InUse at 59f4b4c00 of size 7077888 next 1073\n",
      "2022-11-04 22:07:03.629398: I tensorflow/core/common_runtime/bfc_allocator.cc:1089] InUse at 59fb74c00 of size 2359296 next 877\n",
      "2022-11-04 22:07:03.629408: I tensorflow/core/common_runtime/bfc_allocator.cc:1089] InUse at 59fdb4c00 of size 2359296 next 1074\n",
      "2022-11-04 22:07:03.629414: I tensorflow/core/common_runtime/bfc_allocator.cc:1089] InUse at 59fff4c00 of size 3072 next 878\n",
      "2022-11-04 22:07:03.629417: I tensorflow/core/common_runtime/bfc_allocator.cc:1089] InUse at 59fff5800 of size 2359296 next 1075\n",
      "2022-11-04 22:07:03.629420: I tensorflow/core/common_runtime/bfc_allocator.cc:1089] InUse at 5a0235800 of size 3072 next 879\n",
      "2022-11-04 22:07:03.629423: I tensorflow/core/common_runtime/bfc_allocator.cc:1089] InUse at 5a0236400 of size 3072 next 1076\n",
      "2022-11-04 22:07:03.629440: I tensorflow/core/common_runtime/bfc_allocator.cc:1089] InUse at 5a0237000 of size 3072 next 880\n",
      "2022-11-04 22:07:03.629444: I tensorflow/core/common_runtime/bfc_allocator.cc:1089] InUse at 5a0237c00 of size 9437184 next 1077\n",
      "2022-11-04 22:07:03.629447: I tensorflow/core/common_runtime/bfc_allocator.cc:1089] InUse at 5a0b37c00 of size 12288 next 881\n",
      "2022-11-04 22:07:03.629470: I tensorflow/core/common_runtime/bfc_allocator.cc:1089] InUse at 5a0b3ac00 of size 9437184 next 1078\n",
      "2022-11-04 22:07:03.629473: I tensorflow/core/common_runtime/bfc_allocator.cc:1089] InUse at 5a143ac00 of size 3072 next 882\n",
      "2022-11-04 22:07:03.629476: I tensorflow/core/common_runtime/bfc_allocator.cc:1089] InUse at 5a143b800 of size 3072 next 1079\n",
      "2022-11-04 22:07:03.629479: I tensorflow/core/common_runtime/bfc_allocator.cc:1089] InUse at 5a143c400 of size 3072 next 883\n",
      "2022-11-04 22:07:03.629482: I tensorflow/core/common_runtime/bfc_allocator.cc:1089] InUse at 5a143d000 of size 3072 next 1080\n",
      "2022-11-04 22:07:03.629485: I tensorflow/core/common_runtime/bfc_allocator.cc:1089] InUse at 5a143dc00 of size 3072 next 884\n",
      "2022-11-04 22:07:03.629488: I tensorflow/core/common_runtime/bfc_allocator.cc:1089] InUse at 5a143e800 of size 7077888 next 1081\n",
      "2022-11-04 22:07:03.629491: I tensorflow/core/common_runtime/bfc_allocator.cc:1089] InUse at 5a1afe800 of size 2359296 next 885\n",
      "2022-11-04 22:07:03.629493: I tensorflow/core/common_runtime/bfc_allocator.cc:1089] InUse at 5a1d3e800 of size 2359296 next 1082\n",
      "2022-11-04 22:07:03.629496: I tensorflow/core/common_runtime/bfc_allocator.cc:1089] InUse at 5a1f7e800 of size 3072 next 886\n",
      "2022-11-04 22:07:03.629499: I tensorflow/core/common_runtime/bfc_allocator.cc:1089] InUse at 5a1f7f400 of size 2359296 next 1083\n",
      "2022-11-04 22:07:03.629502: I tensorflow/core/common_runtime/bfc_allocator.cc:1089] InUse at 5a21bf400 of size 3072 next 887\n",
      "2022-11-04 22:07:03.629505: I tensorflow/core/common_runtime/bfc_allocator.cc:1089] InUse at 5a21c0000 of size 3072 next 1084\n",
      "2022-11-04 22:07:03.629508: I tensorflow/core/common_runtime/bfc_allocator.cc:1089] InUse at 5a21c0c00 of size 3072 next 888\n",
      "2022-11-04 22:07:03.629511: I tensorflow/core/common_runtime/bfc_allocator.cc:1089] InUse at 5a21c1800 of size 9437184 next 1085\n",
      "2022-11-04 22:07:03.629514: I tensorflow/core/common_runtime/bfc_allocator.cc:1089] InUse at 5a2ac1800 of size 12288 next 889\n",
      "2022-11-04 22:07:03.629517: I tensorflow/core/common_runtime/bfc_allocator.cc:1089] InUse at 5a2ac4800 of size 9437184 next 1086\n",
      "2022-11-04 22:07:03.629520: I tensorflow/core/common_runtime/bfc_allocator.cc:1089] InUse at 5a33c4800 of size 3072 next 890\n",
      "2022-11-04 22:07:03.629522: I tensorflow/core/common_runtime/bfc_allocator.cc:1089] InUse at 5a33c5400 of size 3072 next 1087\n",
      "2022-11-04 22:07:03.629525: I tensorflow/core/common_runtime/bfc_allocator.cc:1089] InUse at 5a33c6000 of size 3072 next 891\n",
      "2022-11-04 22:07:03.629528: I tensorflow/core/common_runtime/bfc_allocator.cc:1089] InUse at 5a33c6c00 of size 3072 next 1088\n",
      "2022-11-04 22:07:03.629531: I tensorflow/core/common_runtime/bfc_allocator.cc:1089] InUse at 5a33c7800 of size 3072 next 892\n",
      "2022-11-04 22:07:03.629534: I tensorflow/core/common_runtime/bfc_allocator.cc:1089] InUse at 5a33c8400 of size 7077888 next 1089\n",
      "2022-11-04 22:07:03.629537: I tensorflow/core/common_runtime/bfc_allocator.cc:1089] InUse at 5a3a88400 of size 2359296 next 893\n",
      "2022-11-04 22:07:03.629540: I tensorflow/core/common_runtime/bfc_allocator.cc:1089] InUse at 5a3cc8400 of size 2359296 next 1090\n",
      "2022-11-04 22:07:03.629543: I tensorflow/core/common_runtime/bfc_allocator.cc:1089] InUse at 5a3f08400 of size 3072 next 894\n",
      "2022-11-04 22:07:03.629546: I tensorflow/core/common_runtime/bfc_allocator.cc:1089] InUse at 5a3f09000 of size 2359296 next 1091\n",
      "2022-11-04 22:07:03.629548: I tensorflow/core/common_runtime/bfc_allocator.cc:1089] InUse at 5a4149000 of size 3072 next 895\n",
      "2022-11-04 22:07:03.629551: I tensorflow/core/common_runtime/bfc_allocator.cc:1089] InUse at 5a4149c00 of size 3072 next 1092\n",
      "2022-11-04 22:07:03.629554: I tensorflow/core/common_runtime/bfc_allocator.cc:1089] InUse at 5a414a800 of size 3072 next 896\n",
      "2022-11-04 22:07:03.629557: I tensorflow/core/common_runtime/bfc_allocator.cc:1089] InUse at 5a414b400 of size 9437184 next 1093\n",
      "2022-11-04 22:07:03.629575: I tensorflow/core/common_runtime/bfc_allocator.cc:1089] InUse at 5a4a4b400 of size 12288 next 897\n",
      "2022-11-04 22:07:03.629578: I tensorflow/core/common_runtime/bfc_allocator.cc:1089] InUse at 5a4a4e400 of size 9437184 next 1094\n",
      "2022-11-04 22:07:03.629580: I tensorflow/core/common_runtime/bfc_allocator.cc:1089] InUse at 5a534e400 of size 3072 next 898\n",
      "2022-11-04 22:07:03.629604: I tensorflow/core/common_runtime/bfc_allocator.cc:1089] InUse at 5a534f000 of size 3072 next 1095\n",
      "2022-11-04 22:07:03.629607: I tensorflow/core/common_runtime/bfc_allocator.cc:1089] InUse at 5a534fc00 of size 3072 next 899\n",
      "2022-11-04 22:07:03.629609: I tensorflow/core/common_runtime/bfc_allocator.cc:1089] InUse at 5a5350800 of size 3072 next 1096\n",
      "2022-11-04 22:07:03.629612: I tensorflow/core/common_runtime/bfc_allocator.cc:1089] InUse at 5a5351400 of size 3072 next 900\n",
      "2022-11-04 22:07:03.629615: I tensorflow/core/common_runtime/bfc_allocator.cc:1089] InUse at 5a5352000 of size 7077888 next 1097\n",
      "2022-11-04 22:07:03.629618: I tensorflow/core/common_runtime/bfc_allocator.cc:1089] InUse at 5a5a12000 of size 2359296 next 901\n",
      "2022-11-04 22:07:03.629621: I tensorflow/core/common_runtime/bfc_allocator.cc:1089] InUse at 5a5c52000 of size 2359296 next 1098\n",
      "2022-11-04 22:07:03.629624: I tensorflow/core/common_runtime/bfc_allocator.cc:1089] InUse at 5a5e92000 of size 3072 next 902\n",
      "2022-11-04 22:07:03.629627: I tensorflow/core/common_runtime/bfc_allocator.cc:1089] InUse at 5a5e92c00 of size 2359296 next 1099\n",
      "2022-11-04 22:07:03.629630: I tensorflow/core/common_runtime/bfc_allocator.cc:1089] InUse at 5a60d2c00 of size 3072 next 903\n",
      "2022-11-04 22:07:03.629632: I tensorflow/core/common_runtime/bfc_allocator.cc:1089] InUse at 5a60d3800 of size 3072 next 1100\n",
      "2022-11-04 22:07:03.629635: I tensorflow/core/common_runtime/bfc_allocator.cc:1089] InUse at 5a60d4400 of size 3072 next 904\n",
      "2022-11-04 22:07:03.629638: I tensorflow/core/common_runtime/bfc_allocator.cc:1089] InUse at 5a60d5000 of size 9437184 next 1101\n",
      "2022-11-04 22:07:03.629668: I tensorflow/core/common_runtime/bfc_allocator.cc:1089] InUse at 5a69d5000 of size 12288 next 905\n",
      "2022-11-04 22:07:03.629675: I tensorflow/core/common_runtime/bfc_allocator.cc:1089] InUse at 5a69d8000 of size 9437184 next 1102\n",
      "2022-11-04 22:07:03.629678: I tensorflow/core/common_runtime/bfc_allocator.cc:1089] InUse at 5a72d8000 of size 3072 next 906\n",
      "2022-11-04 22:07:03.629681: I tensorflow/core/common_runtime/bfc_allocator.cc:1089] InUse at 5a72d8c00 of size 3072 next 1103\n",
      "2022-11-04 22:07:03.629684: I tensorflow/core/common_runtime/bfc_allocator.cc:1089] InUse at 5a72d9800 of size 3072 next 907\n",
      "2022-11-04 22:07:03.629687: I tensorflow/core/common_runtime/bfc_allocator.cc:1089] InUse at 5a72da400 of size 3072 next 1104\n",
      "2022-11-04 22:07:03.629690: I tensorflow/core/common_runtime/bfc_allocator.cc:1089] InUse at 5a72db000 of size 3072 next 908\n",
      "2022-11-04 22:07:03.629693: I tensorflow/core/common_runtime/bfc_allocator.cc:1089] InUse at 5a72dbc00 of size 7077888 next 1105\n",
      "2022-11-04 22:07:03.629696: I tensorflow/core/common_runtime/bfc_allocator.cc:1089] InUse at 5a799bc00 of size 2359296 next 1106\n",
      "2022-11-04 22:07:03.629699: I tensorflow/core/common_runtime/bfc_allocator.cc:1089] InUse at 5a7bdbc00 of size 2359296 next 909\n",
      "2022-11-04 22:07:03.629702: I tensorflow/core/common_runtime/bfc_allocator.cc:1089] InUse at 5a7e1bc00 of size 3072 next 1107\n",
      "2022-11-04 22:07:03.629705: I tensorflow/core/common_runtime/bfc_allocator.cc:1089] InUse at 5a7e1c800 of size 2359296 next 910\n",
      "2022-11-04 22:07:03.629707: I tensorflow/core/common_runtime/bfc_allocator.cc:1089] InUse at 5a805c800 of size 3072 next 1108\n",
      "2022-11-04 22:07:03.629710: I tensorflow/core/common_runtime/bfc_allocator.cc:1089] InUse at 5a805d400 of size 3072 next 911\n",
      "2022-11-04 22:07:03.629713: I tensorflow/core/common_runtime/bfc_allocator.cc:1089] InUse at 5a805e000 of size 3072 next 1109\n",
      "2022-11-04 22:07:03.629716: I tensorflow/core/common_runtime/bfc_allocator.cc:1089] InUse at 5a805ec00 of size 9437184 next 912\n",
      "2022-11-04 22:07:03.629719: I tensorflow/core/common_runtime/bfc_allocator.cc:1089] InUse at 5a895ec00 of size 12288 next 1110\n",
      "2022-11-04 22:07:03.629722: I tensorflow/core/common_runtime/bfc_allocator.cc:1089] InUse at 5a8961c00 of size 9437184 next 913\n",
      "2022-11-04 22:07:03.629725: I tensorflow/core/common_runtime/bfc_allocator.cc:1089] InUse at 5a9261c00 of size 3072 next 1111\n",
      "2022-11-04 22:07:03.629742: I tensorflow/core/common_runtime/bfc_allocator.cc:1089] InUse at 5a9262800 of size 3072 next 914\n",
      "2022-11-04 22:07:03.629745: I tensorflow/core/common_runtime/bfc_allocator.cc:1089] InUse at 5a9263400 of size 3072 next 1112\n",
      "2022-11-04 22:07:03.629748: I tensorflow/core/common_runtime/bfc_allocator.cc:1089] InUse at 5a9264000 of size 3072 next 915\n",
      "2022-11-04 22:07:03.629751: I tensorflow/core/common_runtime/bfc_allocator.cc:1089] InUse at 5a9264c00 of size 3072 next 1113\n",
      "2022-11-04 22:07:03.629754: I tensorflow/core/common_runtime/bfc_allocator.cc:1089] InUse at 5a9265800 of size 7077888 next 916\n",
      "2022-11-04 22:07:03.629757: I tensorflow/core/common_runtime/bfc_allocator.cc:1089] InUse at 5a9925800 of size 2359296 next 1114\n",
      "2022-11-04 22:07:03.629775: I tensorflow/core/common_runtime/bfc_allocator.cc:1089] InUse at 5a9b65800 of size 2359296 next 917\n",
      "2022-11-04 22:07:03.629778: I tensorflow/core/common_runtime/bfc_allocator.cc:1089] InUse at 5a9da5800 of size 3072 next 1115\n",
      "2022-11-04 22:07:03.629781: I tensorflow/core/common_runtime/bfc_allocator.cc:1089] InUse at 5a9da6400 of size 2359296 next 918\n",
      "2022-11-04 22:07:03.629784: I tensorflow/core/common_runtime/bfc_allocator.cc:1089] InUse at 5a9fe6400 of size 3072 next 1116\n",
      "2022-11-04 22:07:03.629787: I tensorflow/core/common_runtime/bfc_allocator.cc:1089] InUse at 5a9fe7000 of size 3072 next 919\n",
      "2022-11-04 22:07:03.629790: I tensorflow/core/common_runtime/bfc_allocator.cc:1089] InUse at 5a9fe7c00 of size 3072 next 1117\n",
      "2022-11-04 22:07:03.629793: I tensorflow/core/common_runtime/bfc_allocator.cc:1089] InUse at 5a9fe8800 of size 9437184 next 920\n",
      "2022-11-04 22:07:03.629796: I tensorflow/core/common_runtime/bfc_allocator.cc:1089] InUse at 5aa8e8800 of size 12288 next 1118\n",
      "2022-11-04 22:07:03.629799: I tensorflow/core/common_runtime/bfc_allocator.cc:1089] InUse at 5aa8eb800 of size 9437184 next 921\n",
      "2022-11-04 22:07:03.629801: I tensorflow/core/common_runtime/bfc_allocator.cc:1089] InUse at 5ab1eb800 of size 3072 next 1119\n",
      "2022-11-04 22:07:03.629804: I tensorflow/core/common_runtime/bfc_allocator.cc:1089] InUse at 5ab1ec400 of size 3072 next 922\n",
      "2022-11-04 22:07:03.629807: I tensorflow/core/common_runtime/bfc_allocator.cc:1089] InUse at 5ab1ed000 of size 3072 next 1120\n",
      "2022-11-04 22:07:03.629810: I tensorflow/core/common_runtime/bfc_allocator.cc:1089] InUse at 5ab1edc00 of size 3072 next 923\n",
      "2022-11-04 22:07:03.629813: I tensorflow/core/common_runtime/bfc_allocator.cc:1089] InUse at 5ab1ee800 of size 3072 next 1121\n",
      "2022-11-04 22:07:03.629830: I tensorflow/core/common_runtime/bfc_allocator.cc:1089] InUse at 5ab1ef400 of size 7077888 next 924\n",
      "2022-11-04 22:07:03.629833: I tensorflow/core/common_runtime/bfc_allocator.cc:1089] InUse at 5ab8af400 of size 2359296 next 1122\n",
      "2022-11-04 22:07:03.629835: I tensorflow/core/common_runtime/bfc_allocator.cc:1089] InUse at 5abaef400 of size 2359296 next 925\n",
      "2022-11-04 22:07:03.629853: I tensorflow/core/common_runtime/bfc_allocator.cc:1089] InUse at 5abd2f400 of size 3072 next 1123\n",
      "2022-11-04 22:07:03.629856: I tensorflow/core/common_runtime/bfc_allocator.cc:1089] InUse at 5abd30000 of size 2359296 next 926\n",
      "2022-11-04 22:07:03.629858: I tensorflow/core/common_runtime/bfc_allocator.cc:1089] InUse at 5abf70000 of size 3072 next 1124\n",
      "2022-11-04 22:07:03.629861: I tensorflow/core/common_runtime/bfc_allocator.cc:1089] InUse at 5abf70c00 of size 3072 next 927\n",
      "2022-11-04 22:07:03.629864: I tensorflow/core/common_runtime/bfc_allocator.cc:1089] InUse at 5abf71800 of size 3072 next 1125\n",
      "2022-11-04 22:07:03.629867: I tensorflow/core/common_runtime/bfc_allocator.cc:1089] InUse at 5abf72400 of size 9437184 next 928\n",
      "2022-11-04 22:07:03.629870: I tensorflow/core/common_runtime/bfc_allocator.cc:1089] InUse at 5ac872400 of size 12288 next 1126\n",
      "2022-11-04 22:07:03.629873: I tensorflow/core/common_runtime/bfc_allocator.cc:1089] InUse at 5ac875400 of size 9437184 next 929\n",
      "2022-11-04 22:07:03.629876: I tensorflow/core/common_runtime/bfc_allocator.cc:1089] InUse at 5ad175400 of size 3072 next 1127\n",
      "2022-11-04 22:07:03.629879: I tensorflow/core/common_runtime/bfc_allocator.cc:1089] InUse at 5ad176000 of size 3072 next 930\n",
      "2022-11-04 22:07:03.629882: I tensorflow/core/common_runtime/bfc_allocator.cc:1089] InUse at 5ad176c00 of size 3072 next 1128\n",
      "2022-11-04 22:07:03.629885: I tensorflow/core/common_runtime/bfc_allocator.cc:1089] InUse at 5ad177800 of size 2359296 next 931\n",
      "2022-11-04 22:07:03.629887: I tensorflow/core/common_runtime/bfc_allocator.cc:1089] InUse at 5ad3b7800 of size 3072 next 1129\n",
      "2022-11-04 22:07:03.629890: I tensorflow/core/common_runtime/bfc_allocator.cc:1089] InUse at 5ad3b8400 of size 6144 next 932\n",
      "2022-11-04 22:07:03.629893: I tensorflow/core/common_runtime/bfc_allocator.cc:1089] InUse at 5ad3b9c00 of size 3072 next 933\n",
      "2022-11-04 22:07:03.629896: I tensorflow/core/common_runtime/bfc_allocator.cc:1089] InUse at 5ad3ba800 of size 3072 next 1131\n",
      "2022-11-04 22:07:03.629899: I tensorflow/core/common_runtime/bfc_allocator.cc:1089] InUse at 5ad3bb400 of size 3145728 next 934\n",
      "2022-11-04 22:07:03.629902: I tensorflow/core/common_runtime/bfc_allocator.cc:1089] InUse at 5ad6bb400 of size 3072 next 1132\n",
      "2022-11-04 22:07:03.629905: I tensorflow/core/common_runtime/bfc_allocator.cc:1089] InUse at 5ad6bc000 of size 3072 next 935\n",
      "2022-11-04 22:07:03.629908: I tensorflow/core/common_runtime/bfc_allocator.cc:1089] InUse at 5ad6bcc00 of size 7077888 next 1133\n",
      "2022-11-04 22:07:03.629911: I tensorflow/core/common_runtime/bfc_allocator.cc:1089] InUse at 5add7cc00 of size 2359296 next 936\n",
      "2022-11-04 22:07:03.629914: I tensorflow/core/common_runtime/bfc_allocator.cc:1089] InUse at 5adfbcc00 of size 2359296 next 1134\n",
      "2022-11-04 22:07:03.629917: I tensorflow/core/common_runtime/bfc_allocator.cc:1089] InUse at 5ae1fcc00 of size 3072 next 937\n",
      "2022-11-04 22:07:03.629920: I tensorflow/core/common_runtime/bfc_allocator.cc:1089] InUse at 5ae1fd800 of size 2359296 next 1135\n",
      "2022-11-04 22:07:03.629922: I tensorflow/core/common_runtime/bfc_allocator.cc:1089] InUse at 5ae43d800 of size 3072 next 938\n",
      "2022-11-04 22:07:03.629925: I tensorflow/core/common_runtime/bfc_allocator.cc:1089] InUse at 5ae43e400 of size 3072 next 1136\n",
      "2022-11-04 22:07:03.629928: I tensorflow/core/common_runtime/bfc_allocator.cc:1089] InUse at 5ae43f000 of size 3072 next 939\n",
      "2022-11-04 22:07:03.629931: I tensorflow/core/common_runtime/bfc_allocator.cc:1089] InUse at 5ae43fc00 of size 9437184 next 1137\n",
      "2022-11-04 22:07:03.629934: I tensorflow/core/common_runtime/bfc_allocator.cc:1089] InUse at 5aed3fc00 of size 12288 next 940\n",
      "2022-11-04 22:07:03.629937: I tensorflow/core/common_runtime/bfc_allocator.cc:1089] InUse at 5aed42c00 of size 9437184 next 1138\n",
      "2022-11-04 22:07:03.629940: I tensorflow/core/common_runtime/bfc_allocator.cc:1089] InUse at 5af642c00 of size 3072 next 941\n",
      "2022-11-04 22:07:03.629943: I tensorflow/core/common_runtime/bfc_allocator.cc:1089] InUse at 5af643800 of size 3072 next 1139\n",
      "2022-11-04 22:07:03.629945: I tensorflow/core/common_runtime/bfc_allocator.cc:1089] InUse at 5af644400 of size 3072 next 942\n",
      "2022-11-04 22:07:03.629948: I tensorflow/core/common_runtime/bfc_allocator.cc:1089] InUse at 5af645000 of size 3072 next 1140\n",
      "2022-11-04 22:07:03.629951: I tensorflow/core/common_runtime/bfc_allocator.cc:1089] InUse at 5af645c00 of size 3072 next 943\n",
      "2022-11-04 22:07:03.629955: I tensorflow/core/common_runtime/bfc_allocator.cc:1089] InUse at 5af646800 of size 11480064 next 847\n",
      "2022-11-04 22:07:03.629958: I tensorflow/core/common_runtime/bfc_allocator.cc:1089] InUse at 5b0139400 of size 2359296 next 1441\n",
      "2022-11-04 22:07:03.629961: I tensorflow/core/common_runtime/bfc_allocator.cc:1089] InUse at 5b0379400 of size 2359296 next 1418\n",
      "2022-11-04 22:07:03.629964: I tensorflow/core/common_runtime/bfc_allocator.cc:1089] InUse at 5b05b9400 of size 2359296 next 1618\n",
      "2022-11-04 22:07:03.629967: I tensorflow/core/common_runtime/bfc_allocator.cc:1089] InUse at 5b07f9400 of size 2359296 next 1520\n",
      "2022-11-04 22:07:03.629970: I tensorflow/core/common_runtime/bfc_allocator.cc:1089] InUse at 5b0a39400 of size 9437184 next 1296\n",
      "2022-11-04 22:07:03.629973: I tensorflow/core/common_runtime/bfc_allocator.cc:1089] InUse at 5b1339400 of size 9437184 next 1486\n",
      "2022-11-04 22:07:03.629976: I tensorflow/core/common_runtime/bfc_allocator.cc:1089] InUse at 5b1c39400 of size 2359296 next 1538\n",
      "2022-11-04 22:07:03.629979: I tensorflow/core/common_runtime/bfc_allocator.cc:1089] InUse at 5b1e79400 of size 2359296 next 1492\n",
      "2022-11-04 22:07:03.629982: I tensorflow/core/common_runtime/bfc_allocator.cc:1089] InUse at 5b20b9400 of size 2359296 next 1547\n",
      "2022-11-04 22:07:03.629985: I tensorflow/core/common_runtime/bfc_allocator.cc:1089] InUse at 5b22f9400 of size 11796480 next 1320\n",
      "2022-11-04 22:07:03.629988: I tensorflow/core/common_runtime/bfc_allocator.cc:1089] InUse at 5b2e39400 of size 9437184 next 1363\n",
      "2022-11-04 22:07:03.629991: I tensorflow/core/common_runtime/bfc_allocator.cc:1089] InUse at 5b3739400 of size 9437184 next 1315\n",
      "2022-11-04 22:07:03.629994: I tensorflow/core/common_runtime/bfc_allocator.cc:1089] InUse at 5b4039400 of size 2359296 next 1617\n",
      "2022-11-04 22:07:03.629997: I tensorflow/core/common_runtime/bfc_allocator.cc:1089] InUse at 5b4279400 of size 2359296 next 1694\n",
      "2022-11-04 22:07:03.630000: I tensorflow/core/common_runtime/bfc_allocator.cc:1089] InUse at 5b44b9400 of size 2359296 next 1652\n",
      "2022-11-04 22:07:03.630003: I tensorflow/core/common_runtime/bfc_allocator.cc:1089] InUse at 5b46f9400 of size 11796480 next 1413\n",
      "2022-11-04 22:07:03.630005: I tensorflow/core/common_runtime/bfc_allocator.cc:1089] InUse at 5b5239400 of size 9437184 next 1604\n",
      "2022-11-04 22:07:03.630009: I tensorflow/core/common_runtime/bfc_allocator.cc:1089] InUse at 5b5b39400 of size 9437184 next 1726\n",
      "2022-11-04 22:07:03.630034: I tensorflow/core/common_runtime/bfc_allocator.cc:1089] InUse at 5b6439400 of size 2359296 next 1372\n",
      "2022-11-04 22:07:03.630040: I tensorflow/core/common_runtime/bfc_allocator.cc:1089] InUse at 5b6679400 of size 9437184 next 1715\n",
      "2022-11-04 22:07:03.630043: I tensorflow/core/common_runtime/bfc_allocator.cc:1089] InUse at 5b6f79400 of size 2359296 next 1356\n",
      "2022-11-04 22:07:03.630046: I tensorflow/core/common_runtime/bfc_allocator.cc:1089] InUse at 5b71b9400 of size 2359296 next 1562\n",
      "2022-11-04 22:07:03.630065: I tensorflow/core/common_runtime/bfc_allocator.cc:1089] InUse at 5b73f9400 of size 2359296 next 1663\n",
      "2022-11-04 22:07:03.630068: I tensorflow/core/common_runtime/bfc_allocator.cc:1089] InUse at 5b7639400 of size 9437184 next 1600\n",
      "2022-11-04 22:07:03.630071: I tensorflow/core/common_runtime/bfc_allocator.cc:1089] InUse at 5b7f39400 of size 9437184 next 1687\n",
      "2022-11-04 22:07:03.630088: I tensorflow/core/common_runtime/bfc_allocator.cc:1089] InUse at 5b8839400 of size 12856320 next 844\n",
      "2022-11-04 22:07:03.630091: I tensorflow/core/common_runtime/bfc_allocator.cc:1089] InUse at 5b947c000 of size 9437184 next 1033\n",
      "2022-11-04 22:07:03.630094: I tensorflow/core/common_runtime/bfc_allocator.cc:1089] InUse at 5b9d7c000 of size 7077888 next 2000\n",
      "2022-11-04 22:07:03.630097: I tensorflow/core/common_runtime/bfc_allocator.cc:1089] InUse at 5ba43c000 of size 2359296 next 1982\n",
      "2022-11-04 22:07:03.630100: I tensorflow/core/common_runtime/bfc_allocator.cc:1089] InUse at 5ba67c000 of size 2359296 next 2046\n",
      "2022-11-04 22:07:03.630103: I tensorflow/core/common_runtime/bfc_allocator.cc:1089] InUse at 5ba8bc000 of size 2359296 next 2054\n",
      "2022-11-04 22:07:03.630106: I tensorflow/core/common_runtime/bfc_allocator.cc:1089] Free  at 5baafc000 of size 2359296 next 2123\n",
      "2022-11-04 22:07:03.630109: I tensorflow/core/common_runtime/bfc_allocator.cc:1089] InUse at 5bad3c000 of size 9437184 next 2115\n",
      "2022-11-04 22:07:03.630112: I tensorflow/core/common_runtime/bfc_allocator.cc:1089] InUse at 5bb63c000 of size 9437184 next 1925\n",
      "2022-11-04 22:07:03.630115: I tensorflow/core/common_runtime/bfc_allocator.cc:1089] InUse at 5bbf3c000 of size 7077888 next 2056\n",
      "2022-11-04 22:07:03.630118: I tensorflow/core/common_runtime/bfc_allocator.cc:1089] InUse at 5bc5fc000 of size 2359296 next 2169\n",
      "2022-11-04 22:07:03.630121: I tensorflow/core/common_runtime/bfc_allocator.cc:1089] InUse at 5bc83c000 of size 2359296 next 2066\n",
      "2022-11-04 22:07:03.630124: I tensorflow/core/common_runtime/bfc_allocator.cc:1089] InUse at 5bca7c000 of size 2359296 next 2232\n",
      "2022-11-04 22:07:03.630127: I tensorflow/core/common_runtime/bfc_allocator.cc:1089] Free  at 5bccbc000 of size 2359296 next 2095\n",
      "2022-11-04 22:07:03.630130: I tensorflow/core/common_runtime/bfc_allocator.cc:1089] InUse at 5bcefc000 of size 9437184 next 2274\n",
      "2022-11-04 22:07:03.630134: I tensorflow/core/common_runtime/bfc_allocator.cc:1089] InUse at 5bd7fc000 of size 9437184 next 1926\n",
      "2022-11-04 22:07:03.630137: I tensorflow/core/common_runtime/bfc_allocator.cc:1089] InUse at 5be0fc000 of size 7077888 next 2052\n",
      "2022-11-04 22:07:03.630139: I tensorflow/core/common_runtime/bfc_allocator.cc:1089] InUse at 5be7bc000 of size 2359296 next 1918\n",
      "2022-11-04 22:07:03.630142: I tensorflow/core/common_runtime/bfc_allocator.cc:1089] InUse at 5be9fc000 of size 2359296 next 2148\n",
      "2022-11-04 22:07:03.630145: I tensorflow/core/common_runtime/bfc_allocator.cc:1089] InUse at 5bec3c000 of size 2359296 next 2125\n",
      "2022-11-04 22:07:03.630148: I tensorflow/core/common_runtime/bfc_allocator.cc:1089] InUse at 5bee7c000 of size 2359296 next 2307\n",
      "2022-11-04 22:07:03.630151: I tensorflow/core/common_runtime/bfc_allocator.cc:1089] InUse at 5bf0bc000 of size 9437184 next 2237\n",
      "2022-11-04 22:07:03.630154: I tensorflow/core/common_runtime/bfc_allocator.cc:1089] InUse at 5bf9bc000 of size 9437184 next 2020\n",
      "2022-11-04 22:07:03.630172: I tensorflow/core/common_runtime/bfc_allocator.cc:1089] InUse at 5c02bc000 of size 2359296 next 2168\n",
      "2022-11-04 22:07:03.630175: I tensorflow/core/common_runtime/bfc_allocator.cc:1089] InUse at 5c04fc000 of size 2359296 next 2154\n",
      "2022-11-04 22:07:03.630178: I tensorflow/core/common_runtime/bfc_allocator.cc:1089] InUse at 5c073c000 of size 2359296 next 2153\n",
      "2022-11-04 22:07:03.630195: I tensorflow/core/common_runtime/bfc_allocator.cc:1089] InUse at 5c097c000 of size 2359296 next 2177\n",
      "2022-11-04 22:07:03.630198: I tensorflow/core/common_runtime/bfc_allocator.cc:1089] InUse at 5c0bbc000 of size 9437184 next 2012\n",
      "2022-11-04 22:07:03.630201: I tensorflow/core/common_runtime/bfc_allocator.cc:1089] InUse at 5c14bc000 of size 9437184 next 1987\n",
      "2022-11-04 22:07:03.630204: I tensorflow/core/common_runtime/bfc_allocator.cc:1089] InUse at 5c1dbc000 of size 7077888 next 1954\n",
      "2022-11-04 22:07:03.630207: I tensorflow/core/common_runtime/bfc_allocator.cc:1089] InUse at 5c247c000 of size 2359296 next 1897\n",
      "2022-11-04 22:07:03.630210: I tensorflow/core/common_runtime/bfc_allocator.cc:1089] InUse at 5c26bc000 of size 2359296 next 1986\n",
      "2022-11-04 22:07:03.630213: I tensorflow/core/common_runtime/bfc_allocator.cc:1089] InUse at 5c28fc000 of size 2359296 next 2041\n",
      "2022-11-04 22:07:03.630215: I tensorflow/core/common_runtime/bfc_allocator.cc:1089] InUse at 5c2b3c000 of size 2359296 next 2320\n",
      "2022-11-04 22:07:03.630218: I tensorflow/core/common_runtime/bfc_allocator.cc:1089] InUse at 5c2d7c000 of size 9437184 next 1920\n",
      "2022-11-04 22:07:03.630221: I tensorflow/core/common_runtime/bfc_allocator.cc:1089] InUse at 5c367c000 of size 9437184 next 2141\n",
      "2022-11-04 22:07:03.630224: I tensorflow/core/common_runtime/bfc_allocator.cc:1089] InUse at 5c3f7c000 of size 7077888 next 2075\n",
      "2022-11-04 22:07:03.630227: I tensorflow/core/common_runtime/bfc_allocator.cc:1089] InUse at 5c463c000 of size 2359296 next 1956\n",
      "2022-11-04 22:07:03.630230: I tensorflow/core/common_runtime/bfc_allocator.cc:1089] Free  at 5c487c000 of size 7077888 next 2097\n",
      "2022-11-04 22:07:03.630233: I tensorflow/core/common_runtime/bfc_allocator.cc:1089] InUse at 5c4f3c000 of size 9437184 next 1989\n",
      "2022-11-04 22:07:03.630236: I tensorflow/core/common_runtime/bfc_allocator.cc:1089] InUse at 5c583c000 of size 9437184 next 1896\n",
      "2022-11-04 22:07:03.630239: I tensorflow/core/common_runtime/bfc_allocator.cc:1089] InUse at 5c613c000 of size 7077888 next 2297\n",
      "2022-11-04 22:07:03.630242: I tensorflow/core/common_runtime/bfc_allocator.cc:1089] InUse at 5c67fc000 of size 7077888 next 2172\n",
      "2022-11-04 22:07:03.630244: I tensorflow/core/common_runtime/bfc_allocator.cc:1089] Free  at 5c6ebc000 of size 10951936 next 1913\n",
      "2022-11-04 22:07:03.630247: I tensorflow/core/common_runtime/bfc_allocator.cc:1089] InUse at 5c792dd00 of size 154414080 next 2130\n",
      "2022-11-04 22:07:03.630250: I tensorflow/core/common_runtime/bfc_allocator.cc:1089] InUse at 5d0c70900 of size 264118016 next 1235\n",
      "2022-11-04 22:07:03.630254: I tensorflow/core/common_runtime/bfc_allocator.cc:1089] InUse at 5e0852800 of size 3072 next 1505\n",
      "2022-11-04 22:07:03.630256: I tensorflow/core/common_runtime/bfc_allocator.cc:1089] InUse at 5e0853400 of size 3072 next 1681\n",
      "2022-11-04 22:07:03.630260: I tensorflow/core/common_runtime/bfc_allocator.cc:1089] InUse at 5e0854000 of size 5376 next 1287\n",
      "2022-11-04 22:07:03.630263: I tensorflow/core/common_runtime/bfc_allocator.cc:1089] InUse at 5e0855500 of size 256 next 1464\n",
      "2022-11-04 22:07:03.630266: I tensorflow/core/common_runtime/bfc_allocator.cc:1089] InUse at 5e0855600 of size 256 next 1384\n",
      "2022-11-04 22:07:03.630268: I tensorflow/core/common_runtime/bfc_allocator.cc:1089] InUse at 5e0855700 of size 256 next 1459\n",
      "2022-11-04 22:07:03.630271: I tensorflow/core/common_runtime/bfc_allocator.cc:1089] InUse at 5e0855800 of size 256 next 1307\n",
      "2022-11-04 22:07:03.630274: I tensorflow/core/common_runtime/bfc_allocator.cc:1089] InUse at 5e0855900 of size 256 next 1305\n",
      "2022-11-04 22:07:03.630277: I tensorflow/core/common_runtime/bfc_allocator.cc:1089] InUse at 5e0855a00 of size 154414336 next 1474\n",
      "2022-11-04 22:07:03.630281: I tensorflow/core/common_runtime/bfc_allocator.cc:1089] InUse at 5e9b98700 of size 9437184 next 1556\n",
      "2022-11-04 22:07:03.630284: I tensorflow/core/common_runtime/bfc_allocator.cc:1089] InUse at 5ea498700 of size 16515072 next 1616\n",
      "2022-11-04 22:07:03.630287: I tensorflow/core/common_runtime/bfc_allocator.cc:1089] InUse at 5eb458700 of size 2359296 next 1357\n",
      "2022-11-04 22:07:03.630290: I tensorflow/core/common_runtime/bfc_allocator.cc:1089] InUse at 5eb698700 of size 2359296 next 1521\n",
      "2022-11-04 22:07:03.630295: I tensorflow/core/common_runtime/bfc_allocator.cc:1089] InUse at 5eb8d8700 of size 2359296 next 1564\n",
      "2022-11-04 22:07:03.630301: I tensorflow/core/common_runtime/bfc_allocator.cc:1089] InUse at 5ebb18700 of size 2359296 next 1523\n",
      "2022-11-04 22:07:03.630322: I tensorflow/core/common_runtime/bfc_allocator.cc:1089] InUse at 5ebd58700 of size 9437184 next 1420\n",
      "2022-11-04 22:07:03.630331: I tensorflow/core/common_runtime/bfc_allocator.cc:1089] InUse at 5ec658700 of size 2359296 next 1692\n",
      "2022-11-04 22:07:03.630336: I tensorflow/core/common_runtime/bfc_allocator.cc:1089] InUse at 5ec898700 of size 7077888 next 1674\n",
      "2022-11-04 22:07:03.630341: I tensorflow/core/common_runtime/bfc_allocator.cc:1089] InUse at 5ecf58700 of size 7077888 next 1720\n",
      "2022-11-04 22:07:03.630345: I tensorflow/core/common_runtime/bfc_allocator.cc:1089] InUse at 5ed618700 of size 2359296 next 1641\n",
      "2022-11-04 22:07:03.630350: I tensorflow/core/common_runtime/bfc_allocator.cc:1089] InUse at 5ed858700 of size 2359296 next 1343\n",
      "2022-11-04 22:07:03.630369: I tensorflow/core/common_runtime/bfc_allocator.cc:1089] InUse at 5eda98700 of size 2359296 next 1599\n",
      "2022-11-04 22:07:03.630374: I tensorflow/core/common_runtime/bfc_allocator.cc:1089] InUse at 5edcd8700 of size 2359296 next 1337\n",
      "2022-11-04 22:07:03.630394: I tensorflow/core/common_runtime/bfc_allocator.cc:1089] InUse at 5edf18700 of size 9437184 next 1460\n",
      "2022-11-04 22:07:03.630397: I tensorflow/core/common_runtime/bfc_allocator.cc:1089] InUse at 5ee818700 of size 9437184 next 1409\n",
      "2022-11-04 22:07:03.630401: I tensorflow/core/common_runtime/bfc_allocator.cc:1089] InUse at 5ef118700 of size 2359296 next 1319\n",
      "2022-11-04 22:07:03.630405: I tensorflow/core/common_runtime/bfc_allocator.cc:1089] InUse at 5ef358700 of size 7077888 next 1541\n",
      "2022-11-04 22:07:03.630415: I tensorflow/core/common_runtime/bfc_allocator.cc:1089] InUse at 5efa18700 of size 9437184 next 1680\n",
      "2022-11-04 22:07:03.630422: I tensorflow/core/common_runtime/bfc_allocator.cc:1089] InUse at 5f0318700 of size 9437184 next 1700\n",
      "2022-11-04 22:07:03.630425: I tensorflow/core/common_runtime/bfc_allocator.cc:1089] InUse at 5f0c18700 of size 3145728 next 1512\n",
      "2022-11-04 22:07:03.630429: I tensorflow/core/common_runtime/bfc_allocator.cc:1089] InUse at 5f0f18700 of size 13369344 next 1597\n",
      "2022-11-04 22:07:03.630432: I tensorflow/core/common_runtime/bfc_allocator.cc:1089] InUse at 5f1bd8700 of size 3145728 next 1428\n",
      "2022-11-04 22:07:03.630435: I tensorflow/core/common_runtime/bfc_allocator.cc:1089] InUse at 5f1ed8700 of size 2359296 next 1328\n",
      "2022-11-04 22:07:03.630438: I tensorflow/core/common_runtime/bfc_allocator.cc:1089] InUse at 5f2118700 of size 3932160 next 1438\n",
      "2022-11-04 22:07:03.630441: I tensorflow/core/common_runtime/bfc_allocator.cc:1089] InUse at 5f24d8700 of size 10497024 next 1299\n",
      "2022-11-04 22:07:03.630444: I tensorflow/core/common_runtime/bfc_allocator.cc:1089] InUse at 5f2edb300 of size 9437184 next 1714\n",
      "2022-11-04 22:07:03.630447: I tensorflow/core/common_runtime/bfc_allocator.cc:1089] InUse at 5f37db300 of size 9437184 next 1275\n",
      "2022-11-04 22:07:03.630450: I tensorflow/core/common_runtime/bfc_allocator.cc:1089] InUse at 5f40db300 of size 9437184 next 1656\n",
      "2022-11-04 22:07:03.630453: I tensorflow/core/common_runtime/bfc_allocator.cc:1089] InUse at 5f49db300 of size 9437184 next 1347\n",
      "2022-11-04 22:07:03.630456: I tensorflow/core/common_runtime/bfc_allocator.cc:1089] InUse at 5f52db300 of size 7077888 next 1314\n",
      "2022-11-04 22:07:03.630482: I tensorflow/core/common_runtime/bfc_allocator.cc:1089] InUse at 5f599b300 of size 2359296 next 1574\n",
      "2022-11-04 22:07:03.630489: I tensorflow/core/common_runtime/bfc_allocator.cc:1089] InUse at 5f5bdb300 of size 2359296 next 1500\n",
      "2022-11-04 22:07:03.630492: I tensorflow/core/common_runtime/bfc_allocator.cc:1089] InUse at 5f5e1b300 of size 2359296 next 1645\n",
      "2022-11-04 22:07:03.630495: I tensorflow/core/common_runtime/bfc_allocator.cc:1089] InUse at 5f605b300 of size 9437184 next 1529\n",
      "2022-11-04 22:07:03.630498: I tensorflow/core/common_runtime/bfc_allocator.cc:1089] InUse at 5f695b300 of size 9437184 next 1545\n",
      "2022-11-04 22:07:03.630501: I tensorflow/core/common_runtime/bfc_allocator.cc:1089] InUse at 5f725b300 of size 7077888 next 1491\n",
      "2022-11-04 22:07:03.630504: I tensorflow/core/common_runtime/bfc_allocator.cc:1089] InUse at 5f791b300 of size 2359296 next 1567\n",
      "2022-11-04 22:07:03.630507: I tensorflow/core/common_runtime/bfc_allocator.cc:1089] InUse at 5f7b5b300 of size 2359296 next 1633\n",
      "2022-11-04 22:07:03.630510: I tensorflow/core/common_runtime/bfc_allocator.cc:1089] InUse at 5f7d9b300 of size 2359296 next 1705\n",
      "2022-11-04 22:07:03.630512: I tensorflow/core/common_runtime/bfc_allocator.cc:1089] InUse at 5f7fdb300 of size 9437184 next 1655\n",
      "2022-11-04 22:07:03.630515: I tensorflow/core/common_runtime/bfc_allocator.cc:1089] InUse at 5f88db300 of size 9437184 next 1391\n",
      "2022-11-04 22:07:03.630518: I tensorflow/core/common_runtime/bfc_allocator.cc:1089] InUse at 5f91db300 of size 7077888 next 1629\n",
      "2022-11-04 22:07:03.630521: I tensorflow/core/common_runtime/bfc_allocator.cc:1089] InUse at 5f989b300 of size 2359296 next 1511\n",
      "2022-11-04 22:07:03.630524: I tensorflow/core/common_runtime/bfc_allocator.cc:1089] InUse at 5f9adb300 of size 2359296 next 1518\n",
      "2022-11-04 22:07:03.630527: I tensorflow/core/common_runtime/bfc_allocator.cc:1089] InUse at 5f9d1b300 of size 2359296 next 1612\n",
      "2022-11-04 22:07:03.630530: I tensorflow/core/common_runtime/bfc_allocator.cc:1089] InUse at 5f9f5b300 of size 9437184 next 1717\n",
      "2022-11-04 22:07:03.630533: I tensorflow/core/common_runtime/bfc_allocator.cc:1089] InUse at 5fa85b300 of size 9437184 next 1430\n",
      "2022-11-04 22:07:03.630536: I tensorflow/core/common_runtime/bfc_allocator.cc:1089] InUse at 5fb15b300 of size 7077888 next 1427\n",
      "2022-11-04 22:07:03.630539: I tensorflow/core/common_runtime/bfc_allocator.cc:1089] InUse at 5fb81b300 of size 2359296 next 1699\n",
      "2022-11-04 22:07:03.630542: I tensorflow/core/common_runtime/bfc_allocator.cc:1089] InUse at 5fba5b300 of size 2359296 next 1673\n",
      "2022-11-04 22:07:03.630544: I tensorflow/core/common_runtime/bfc_allocator.cc:1089] InUse at 5fbc9b300 of size 2359296 next 1291\n",
      "2022-11-04 22:07:03.630548: I tensorflow/core/common_runtime/bfc_allocator.cc:1089] InUse at 5fbedb300 of size 3072 next 1336\n",
      "2022-11-04 22:07:03.630551: I tensorflow/core/common_runtime/bfc_allocator.cc:1089] InUse at 5fbedbf00 of size 3416064 next 1646\n",
      "2022-11-04 22:07:03.630554: I tensorflow/core/common_runtime/bfc_allocator.cc:1089] InUse at 5fc21df00 of size 2359296 next 2145\n",
      "2022-11-04 22:07:03.630557: I tensorflow/core/common_runtime/bfc_allocator.cc:1089] InUse at 5fc45df00 of size 2359296 next 1859\n",
      "2022-11-04 22:07:03.630560: I tensorflow/core/common_runtime/bfc_allocator.cc:1089] InUse at 5fc69df00 of size 2359296 next 1999\n",
      "2022-11-04 22:07:03.630563: I tensorflow/core/common_runtime/bfc_allocator.cc:1089] InUse at 5fc8ddf00 of size 2359296 next 1872\n",
      "2022-11-04 22:07:03.630566: I tensorflow/core/common_runtime/bfc_allocator.cc:1089] InUse at 5fcb1df00 of size 3072 next 2176\n",
      "2022-11-04 22:07:03.630569: I tensorflow/core/common_runtime/bfc_allocator.cc:1089] InUse at 5fcb1eb00 of size 3072 next 2016\n",
      "2022-11-04 22:07:03.630572: I tensorflow/core/common_runtime/bfc_allocator.cc:1089] InUse at 5fcb1f700 of size 3072 next 1977\n",
      "2022-11-04 22:07:03.630575: I tensorflow/core/common_runtime/bfc_allocator.cc:1089] InUse at 5fcb20300 of size 3072 next 2256\n",
      "2022-11-04 22:07:03.630578: I tensorflow/core/common_runtime/bfc_allocator.cc:1089] InUse at 5fcb20f00 of size 3072 next 2031\n",
      "2022-11-04 22:07:03.630581: I tensorflow/core/common_runtime/bfc_allocator.cc:1089] InUse at 5fcb21b00 of size 3072 next 2260\n",
      "2022-11-04 22:07:03.630584: I tensorflow/core/common_runtime/bfc_allocator.cc:1089] InUse at 5fcb22700 of size 3072 next 1990\n",
      "2022-11-04 22:07:03.630587: I tensorflow/core/common_runtime/bfc_allocator.cc:1089] InUse at 5fcb23300 of size 3840 next 1998\n",
      "2022-11-04 22:07:03.630590: I tensorflow/core/common_runtime/bfc_allocator.cc:1089] InUse at 5fcb24200 of size 3072 next 1953\n",
      "2022-11-04 22:07:03.630594: I tensorflow/core/common_runtime/bfc_allocator.cc:1089] InUse at 5fcb24e00 of size 20736 next 2073\n",
      "2022-11-04 22:07:03.630597: I tensorflow/core/common_runtime/bfc_allocator.cc:1089] InUse at 5fcb29f00 of size 3072 next 2065\n",
      "2022-11-04 22:07:03.630600: I tensorflow/core/common_runtime/bfc_allocator.cc:1089] InUse at 5fcb2ab00 of size 3072 next 2104\n",
      "2022-11-04 22:07:03.630603: I tensorflow/core/common_runtime/bfc_allocator.cc:1089] InUse at 5fcb2b700 of size 12288 next 2158\n",
      "2022-11-04 22:07:03.630606: I tensorflow/core/common_runtime/bfc_allocator.cc:1089] InUse at 5fcb2e700 of size 3072 next 2322\n",
      "2022-11-04 22:07:03.630609: I tensorflow/core/common_runtime/bfc_allocator.cc:1089] InUse at 5fcb2f300 of size 3072 next 2058\n",
      "2022-11-04 22:07:03.630612: I tensorflow/core/common_runtime/bfc_allocator.cc:1089] InUse at 5fcb2ff00 of size 3072 next 1921\n",
      "2022-11-04 22:07:03.630615: I tensorflow/core/common_runtime/bfc_allocator.cc:1089] Free  at 5fcb30b00 of size 105216 next 2202\n",
      "2022-11-04 22:07:03.630618: I tensorflow/core/common_runtime/bfc_allocator.cc:1089] InUse at 5fcb4a600 of size 3072 next 1927\n",
      "2022-11-04 22:07:03.630621: I tensorflow/core/common_runtime/bfc_allocator.cc:1089] InUse at 5fcb4b200 of size 3072 next 2084\n",
      "2022-11-04 22:07:03.630624: I tensorflow/core/common_runtime/bfc_allocator.cc:1089] InUse at 5fcb4be00 of size 3072 next 2281\n",
      "2022-11-04 22:07:03.630627: I tensorflow/core/common_runtime/bfc_allocator.cc:1089] InUse at 5fcb4ca00 of size 3072 next 2257\n",
      "2022-11-04 22:07:03.630629: I tensorflow/core/common_runtime/bfc_allocator.cc:1089] InUse at 5fcb4d600 of size 12288 next 2071\n",
      "2022-11-04 22:07:03.630632: I tensorflow/core/common_runtime/bfc_allocator.cc:1089] InUse at 5fcb50600 of size 3072 next 1972\n",
      "2022-11-04 22:07:03.630635: I tensorflow/core/common_runtime/bfc_allocator.cc:1089] InUse at 5fcb51200 of size 3072 next 2303\n",
      "2022-11-04 22:07:03.630638: I tensorflow/core/common_runtime/bfc_allocator.cc:1089] InUse at 5fcb51e00 of size 3072 next 2126\n",
      "2022-11-04 22:07:03.630641: I tensorflow/core/common_runtime/bfc_allocator.cc:1089] InUse at 5fcb52a00 of size 3072 next 2009\n",
      "2022-11-04 22:07:03.630644: I tensorflow/core/common_runtime/bfc_allocator.cc:1089] InUse at 5fcb53600 of size 3072 next 2064\n",
      "2022-11-04 22:07:03.630647: I tensorflow/core/common_runtime/bfc_allocator.cc:1089] InUse at 5fcb54200 of size 3072 next 1846\n",
      "2022-11-04 22:07:03.630650: I tensorflow/core/common_runtime/bfc_allocator.cc:1089] InUse at 5fcb54e00 of size 5632 next 1929\n",
      "2022-11-04 22:07:03.630653: I tensorflow/core/common_runtime/bfc_allocator.cc:1089] InUse at 5fcb56400 of size 3072 next 2215\n",
      "2022-11-04 22:07:03.630656: I tensorflow/core/common_runtime/bfc_allocator.cc:1089] InUse at 5fcb57000 of size 3072 next 2194\n",
      "2022-11-04 22:07:03.630659: I tensorflow/core/common_runtime/bfc_allocator.cc:1089] InUse at 5fcb57c00 of size 3072 next 2290\n",
      "2022-11-04 22:07:03.630662: I tensorflow/core/common_runtime/bfc_allocator.cc:1089] InUse at 5fcb58800 of size 3072 next 2305\n",
      "2022-11-04 22:07:03.630665: I tensorflow/core/common_runtime/bfc_allocator.cc:1089] InUse at 5fcb59400 of size 3072 next 2210\n",
      "2022-11-04 22:07:03.630668: I tensorflow/core/common_runtime/bfc_allocator.cc:1089] Free  at 5fcb5a000 of size 142080 next 1976\n",
      "2022-11-04 22:07:03.630671: I tensorflow/core/common_runtime/bfc_allocator.cc:1089] InUse at 5fcb7cb00 of size 3072 next 2166\n",
      "2022-11-04 22:07:03.630674: I tensorflow/core/common_runtime/bfc_allocator.cc:1089] InUse at 5fcb7d700 of size 3072 next 2222\n",
      "2022-11-04 22:07:03.630677: I tensorflow/core/common_runtime/bfc_allocator.cc:1089] InUse at 5fcb7e300 of size 3072 next 1962\n",
      "2022-11-04 22:07:03.630680: I tensorflow/core/common_runtime/bfc_allocator.cc:1089] InUse at 5fcb7ef00 of size 3072 next 2099\n",
      "2022-11-04 22:07:03.630683: I tensorflow/core/common_runtime/bfc_allocator.cc:1089] InUse at 5fcb7fb00 of size 3072 next 1941\n",
      "2022-11-04 22:07:03.630686: I tensorflow/core/common_runtime/bfc_allocator.cc:1089] InUse at 5fcb80700 of size 3072 next 2313\n",
      "2022-11-04 22:07:03.630688: I tensorflow/core/common_runtime/bfc_allocator.cc:1089] InUse at 5fcb81300 of size 3072 next 2135\n",
      "2022-11-04 22:07:03.630692: I tensorflow/core/common_runtime/bfc_allocator.cc:1089] InUse at 5fcb81f00 of size 3072 next 1967\n",
      "2022-11-04 22:07:03.630695: I tensorflow/core/common_runtime/bfc_allocator.cc:1089] InUse at 5fcb82b00 of size 3840 next 1938\n",
      "2022-11-04 22:07:03.630697: I tensorflow/core/common_runtime/bfc_allocator.cc:1089] InUse at 5fcb83a00 of size 3072 next 2326\n",
      "2022-11-04 22:07:03.630700: I tensorflow/core/common_runtime/bfc_allocator.cc:1089] InUse at 5fcb84600 of size 20736 next 1844\n",
      "2022-11-04 22:07:03.630703: I tensorflow/core/common_runtime/bfc_allocator.cc:1089] Free  at 5fcb89700 of size 1918976 next 1893\n",
      "2022-11-04 22:07:03.630706: I tensorflow/core/common_runtime/bfc_allocator.cc:1089] InUse at 5fcd5df00 of size 2359296 next 2102\n",
      "2022-11-04 22:07:03.630709: I tensorflow/core/common_runtime/bfc_allocator.cc:1089] InUse at 5fcf9df00 of size 7077888 next 2134\n",
      "2022-11-04 22:07:03.630712: I tensorflow/core/common_runtime/bfc_allocator.cc:1089] InUse at 5fd65df00 of size 2359296 next 1877\n",
      "2022-11-04 22:07:03.630715: I tensorflow/core/common_runtime/bfc_allocator.cc:1089] InUse at 5fd89df00 of size 2359296 next 1889\n",
      "2022-11-04 22:07:03.630718: I tensorflow/core/common_runtime/bfc_allocator.cc:1089] InUse at 5fdaddf00 of size 2359296 next 1856\n",
      "2022-11-04 22:07:03.630722: I tensorflow/core/common_runtime/bfc_allocator.cc:1089] InUse at 5fdd1df00 of size 11796480 next 2332\n",
      "2022-11-04 22:07:03.630725: I tensorflow/core/common_runtime/bfc_allocator.cc:1089] InUse at 5fe85df00 of size 9437184 next 2070\n",
      "2022-11-04 22:07:03.630728: I tensorflow/core/common_runtime/bfc_allocator.cc:1089] InUse at 5ff15df00 of size 9437184 next 1863\n",
      "2022-11-04 22:07:03.630731: I tensorflow/core/common_runtime/bfc_allocator.cc:1089] InUse at 5ffa5df00 of size 2359296 next 1232\n",
      "2022-11-04 22:07:03.630734: I tensorflow/core/common_runtime/bfc_allocator.cc:1089] InUse at 5ffc9df00 of size 2359296 next 1991\n",
      "2022-11-04 22:07:03.630736: I tensorflow/core/common_runtime/bfc_allocator.cc:1089] InUse at 5ffeddf00 of size 2359296 next 2110\n",
      "2022-11-04 22:07:03.630739: I tensorflow/core/common_runtime/bfc_allocator.cc:1089] InUse at 60011df00 of size 2359296 next 1032\n",
      "2022-11-04 22:07:03.630742: I tensorflow/core/common_runtime/bfc_allocator.cc:1089] InUse at 60035df00 of size 9437184 next 1919\n",
      "2022-11-04 22:07:03.630745: I tensorflow/core/common_runtime/bfc_allocator.cc:1089] InUse at 600c5df00 of size 9437184 next 1873\n",
      "2022-11-04 22:07:03.630748: I tensorflow/core/common_runtime/bfc_allocator.cc:1089] InUse at 60155df00 of size 9437184 next 1881\n",
      "2022-11-04 22:07:03.630751: I tensorflow/core/common_runtime/bfc_allocator.cc:1089] InUse at 601e5df00 of size 7077888 next 1875\n",
      "2022-11-04 22:07:03.630754: I tensorflow/core/common_runtime/bfc_allocator.cc:1089] InUse at 60251df00 of size 2359296 next 2280\n",
      "2022-11-04 22:07:03.630757: I tensorflow/core/common_runtime/bfc_allocator.cc:1089] InUse at 60275df00 of size 2359296 next 2027\n",
      "2022-11-04 22:07:03.630760: I tensorflow/core/common_runtime/bfc_allocator.cc:1089] InUse at 60299df00 of size 2359296 next 2171\n",
      "2022-11-04 22:07:03.630763: I tensorflow/core/common_runtime/bfc_allocator.cc:1089] InUse at 602bddf00 of size 2359296 next 1036\n",
      "2022-11-04 22:07:03.630766: I tensorflow/core/common_runtime/bfc_allocator.cc:1089] InUse at 602e1df00 of size 9437184 next 1034\n",
      "2022-11-04 22:07:03.630769: I tensorflow/core/common_runtime/bfc_allocator.cc:1089] InUse at 60371df00 of size 9437184 next 1887\n",
      "2022-11-04 22:07:03.630772: I tensorflow/core/common_runtime/bfc_allocator.cc:1089] InUse at 60401df00 of size 9437184 next 2008\n",
      "2022-11-04 22:07:03.630775: I tensorflow/core/common_runtime/bfc_allocator.cc:1089] InUse at 60491df00 of size 12856320 next 1130\n",
      "2022-11-04 22:07:03.630778: I tensorflow/core/common_runtime/bfc_allocator.cc:1089] InUse at 605560b00 of size 2359296 next 1141\n",
      "2022-11-04 22:07:03.630780: I tensorflow/core/common_runtime/bfc_allocator.cc:1089] InUse at 6057a0b00 of size 2359296 next 944\n",
      "2022-11-04 22:07:03.630783: I tensorflow/core/common_runtime/bfc_allocator.cc:1089] InUse at 6059e0b00 of size 3072 next 1142\n",
      "2022-11-04 22:07:03.630786: I tensorflow/core/common_runtime/bfc_allocator.cc:1089] InUse at 6059e1700 of size 2359296 next 945\n",
      "2022-11-04 22:07:03.630789: I tensorflow/core/common_runtime/bfc_allocator.cc:1089] InUse at 605c21700 of size 3072 next 1143\n",
      "2022-11-04 22:07:03.630792: I tensorflow/core/common_runtime/bfc_allocator.cc:1089] InUse at 605c22300 of size 3072 next 946\n",
      "2022-11-04 22:07:03.630795: I tensorflow/core/common_runtime/bfc_allocator.cc:1089] InUse at 605c22f00 of size 3072 next 1144\n",
      "2022-11-04 22:07:03.630798: I tensorflow/core/common_runtime/bfc_allocator.cc:1089] InUse at 605c23b00 of size 9437184 next 947\n",
      "2022-11-04 22:07:03.630801: I tensorflow/core/common_runtime/bfc_allocator.cc:1089] InUse at 606523b00 of size 12288 next 1145\n",
      "2022-11-04 22:07:03.630804: I tensorflow/core/common_runtime/bfc_allocator.cc:1089] InUse at 606526b00 of size 9437184 next 948\n",
      "2022-11-04 22:07:03.630807: I tensorflow/core/common_runtime/bfc_allocator.cc:1089] InUse at 606e26b00 of size 3072 next 1146\n",
      "2022-11-04 22:07:03.630810: I tensorflow/core/common_runtime/bfc_allocator.cc:1089] InUse at 606e27700 of size 3072 next 949\n",
      "2022-11-04 22:07:03.630813: I tensorflow/core/common_runtime/bfc_allocator.cc:1089] InUse at 606e28300 of size 3072 next 1147\n",
      "2022-11-04 22:07:03.630816: I tensorflow/core/common_runtime/bfc_allocator.cc:1089] InUse at 606e28f00 of size 3072 next 950\n",
      "2022-11-04 22:07:03.630818: I tensorflow/core/common_runtime/bfc_allocator.cc:1089] InUse at 606e29b00 of size 3072 next 1148\n",
      "2022-11-04 22:07:03.630823: I tensorflow/core/common_runtime/bfc_allocator.cc:1089] InUse at 606e2a700 of size 7077888 next 951\n",
      "2022-11-04 22:07:03.630827: I tensorflow/core/common_runtime/bfc_allocator.cc:1089] InUse at 6074ea700 of size 2359296 next 1149\n",
      "2022-11-04 22:07:03.630832: I tensorflow/core/common_runtime/bfc_allocator.cc:1089] InUse at 60772a700 of size 2359296 next 952\n",
      "2022-11-04 22:07:03.630837: I tensorflow/core/common_runtime/bfc_allocator.cc:1089] InUse at 60796a700 of size 3072 next 1150\n",
      "2022-11-04 22:07:03.630841: I tensorflow/core/common_runtime/bfc_allocator.cc:1089] InUse at 60796b300 of size 2359296 next 953\n",
      "2022-11-04 22:07:03.630860: I tensorflow/core/common_runtime/bfc_allocator.cc:1089] InUse at 607bab300 of size 3072 next 1151\n",
      "2022-11-04 22:07:03.630865: I tensorflow/core/common_runtime/bfc_allocator.cc:1089] InUse at 607babf00 of size 3072 next 954\n",
      "2022-11-04 22:07:03.630885: I tensorflow/core/common_runtime/bfc_allocator.cc:1089] InUse at 607bacb00 of size 3072 next 1152\n",
      "2022-11-04 22:07:03.630890: I tensorflow/core/common_runtime/bfc_allocator.cc:1089] InUse at 607bad700 of size 9437184 next 955\n",
      "2022-11-04 22:07:03.630896: I tensorflow/core/common_runtime/bfc_allocator.cc:1089] InUse at 6084ad700 of size 12288 next 1153\n",
      "2022-11-04 22:07:03.630901: I tensorflow/core/common_runtime/bfc_allocator.cc:1089] InUse at 6084b0700 of size 9437184 next 956\n",
      "2022-11-04 22:07:03.630906: I tensorflow/core/common_runtime/bfc_allocator.cc:1089] InUse at 608db0700 of size 3072 next 1154\n",
      "2022-11-04 22:07:03.630911: I tensorflow/core/common_runtime/bfc_allocator.cc:1089] InUse at 608db1300 of size 3072 next 957\n",
      "2022-11-04 22:07:03.630916: I tensorflow/core/common_runtime/bfc_allocator.cc:1089] InUse at 608db1f00 of size 3072 next 1155\n",
      "2022-11-04 22:07:03.630935: I tensorflow/core/common_runtime/bfc_allocator.cc:1089] InUse at 608db2b00 of size 3072 next 958\n",
      "2022-11-04 22:07:03.630942: I tensorflow/core/common_runtime/bfc_allocator.cc:1089] InUse at 608db3700 of size 3072 next 1156\n",
      "2022-11-04 22:07:03.630962: I tensorflow/core/common_runtime/bfc_allocator.cc:1089] InUse at 608db4300 of size 7077888 next 959\n",
      "2022-11-04 22:07:03.630967: I tensorflow/core/common_runtime/bfc_allocator.cc:1089] InUse at 609474300 of size 2359296 next 1157\n",
      "2022-11-04 22:07:03.630972: I tensorflow/core/common_runtime/bfc_allocator.cc:1089] InUse at 6096b4300 of size 2359296 next 960\n",
      "2022-11-04 22:07:03.630977: I tensorflow/core/common_runtime/bfc_allocator.cc:1089] InUse at 6098f4300 of size 3072 next 1158\n",
      "2022-11-04 22:07:03.630982: I tensorflow/core/common_runtime/bfc_allocator.cc:1089] InUse at 6098f4f00 of size 2359296 next 961\n",
      "2022-11-04 22:07:03.630987: I tensorflow/core/common_runtime/bfc_allocator.cc:1089] InUse at 609b34f00 of size 3072 next 1159\n",
      "2022-11-04 22:07:03.630992: I tensorflow/core/common_runtime/bfc_allocator.cc:1089] InUse at 609b35b00 of size 3072 next 962\n",
      "2022-11-04 22:07:03.630997: I tensorflow/core/common_runtime/bfc_allocator.cc:1089] InUse at 609b36700 of size 3072 next 1160\n",
      "2022-11-04 22:07:03.631003: I tensorflow/core/common_runtime/bfc_allocator.cc:1089] InUse at 609b37300 of size 9437184 next 963\n",
      "2022-11-04 22:07:03.631008: I tensorflow/core/common_runtime/bfc_allocator.cc:1089] InUse at 60a437300 of size 12288 next 1161\n",
      "2022-11-04 22:07:03.631013: I tensorflow/core/common_runtime/bfc_allocator.cc:1089] InUse at 60a43a300 of size 9437184 next 964\n",
      "2022-11-04 22:07:03.631018: I tensorflow/core/common_runtime/bfc_allocator.cc:1089] InUse at 60ad3a300 of size 3072 next 1162\n",
      "2022-11-04 22:07:03.631038: I tensorflow/core/common_runtime/bfc_allocator.cc:1089] InUse at 60ad3af00 of size 3072 next 965\n",
      "2022-11-04 22:07:03.631043: I tensorflow/core/common_runtime/bfc_allocator.cc:1089] InUse at 60ad3bb00 of size 3072 next 1163\n",
      "2022-11-04 22:07:03.631048: I tensorflow/core/common_runtime/bfc_allocator.cc:1089] InUse at 60ad3c700 of size 3072 next 966\n",
      "2022-11-04 22:07:03.631053: I tensorflow/core/common_runtime/bfc_allocator.cc:1089] InUse at 60ad3d300 of size 3072 next 1164\n",
      "2022-11-04 22:07:03.631073: I tensorflow/core/common_runtime/bfc_allocator.cc:1089] InUse at 60ad3df00 of size 7077888 next 967\n",
      "2022-11-04 22:07:03.631078: I tensorflow/core/common_runtime/bfc_allocator.cc:1089] InUse at 60b3fdf00 of size 2359296 next 1165\n",
      "2022-11-04 22:07:03.631082: I tensorflow/core/common_runtime/bfc_allocator.cc:1089] InUse at 60b63df00 of size 2359296 next 968\n",
      "2022-11-04 22:07:03.631087: I tensorflow/core/common_runtime/bfc_allocator.cc:1089] InUse at 60b87df00 of size 3072 next 1166\n",
      "2022-11-04 22:07:03.631092: I tensorflow/core/common_runtime/bfc_allocator.cc:1089] InUse at 60b87eb00 of size 2359296 next 969\n",
      "2022-11-04 22:07:03.631097: I tensorflow/core/common_runtime/bfc_allocator.cc:1089] InUse at 60babeb00 of size 3072 next 1167\n",
      "2022-11-04 22:07:03.631101: I tensorflow/core/common_runtime/bfc_allocator.cc:1089] InUse at 60babf700 of size 3072 next 970\n",
      "2022-11-04 22:07:03.631106: I tensorflow/core/common_runtime/bfc_allocator.cc:1089] InUse at 60bac0300 of size 3072 next 1168\n",
      "2022-11-04 22:07:03.631110: I tensorflow/core/common_runtime/bfc_allocator.cc:1089] InUse at 60bac0f00 of size 9437184 next 971\n",
      "2022-11-04 22:07:03.631115: I tensorflow/core/common_runtime/bfc_allocator.cc:1089] InUse at 60c3c0f00 of size 12288 next 1169\n",
      "2022-11-04 22:07:03.631119: I tensorflow/core/common_runtime/bfc_allocator.cc:1089] InUse at 60c3c3f00 of size 9437184 next 972\n",
      "2022-11-04 22:07:03.631124: I tensorflow/core/common_runtime/bfc_allocator.cc:1089] InUse at 60ccc3f00 of size 3072 next 1170\n",
      "2022-11-04 22:07:03.631129: I tensorflow/core/common_runtime/bfc_allocator.cc:1089] InUse at 60ccc4b00 of size 3072 next 973\n",
      "2022-11-04 22:07:03.631150: I tensorflow/core/common_runtime/bfc_allocator.cc:1089] InUse at 60ccc5700 of size 3072 next 1171\n",
      "2022-11-04 22:07:03.631154: I tensorflow/core/common_runtime/bfc_allocator.cc:1089] InUse at 60ccc6300 of size 3072 next 974\n",
      "2022-11-04 22:07:03.631172: I tensorflow/core/common_runtime/bfc_allocator.cc:1089] InUse at 60ccc6f00 of size 3072 next 1172\n",
      "2022-11-04 22:07:03.631177: I tensorflow/core/common_runtime/bfc_allocator.cc:1089] InUse at 60ccc7b00 of size 7077888 next 975\n",
      "2022-11-04 22:07:03.631182: I tensorflow/core/common_runtime/bfc_allocator.cc:1089] InUse at 60d387b00 of size 2359296 next 1173\n",
      "2022-11-04 22:07:03.631186: I tensorflow/core/common_runtime/bfc_allocator.cc:1089] InUse at 60d5c7b00 of size 2359296 next 976\n",
      "2022-11-04 22:07:03.631191: I tensorflow/core/common_runtime/bfc_allocator.cc:1089] InUse at 60d807b00 of size 3072 next 1174\n",
      "2022-11-04 22:07:03.631196: I tensorflow/core/common_runtime/bfc_allocator.cc:1089] InUse at 60d808700 of size 2359296 next 977\n",
      "2022-11-04 22:07:03.631201: I tensorflow/core/common_runtime/bfc_allocator.cc:1089] InUse at 60da48700 of size 3072 next 1175\n",
      "2022-11-04 22:07:03.631206: I tensorflow/core/common_runtime/bfc_allocator.cc:1089] InUse at 60da49300 of size 3072 next 978\n",
      "2022-11-04 22:07:03.631210: I tensorflow/core/common_runtime/bfc_allocator.cc:1089] InUse at 60da49f00 of size 3072 next 1176\n",
      "2022-11-04 22:07:03.631216: I tensorflow/core/common_runtime/bfc_allocator.cc:1089] InUse at 60da4ab00 of size 15043584 next 1334\n",
      "2022-11-04 22:07:03.631222: I tensorflow/core/common_runtime/bfc_allocator.cc:1089] InUse at 60e8a3700 of size 9437184 next 1596\n",
      "2022-11-04 22:07:03.631227: I tensorflow/core/common_runtime/bfc_allocator.cc:1089] InUse at 60f1a3700 of size 9437184 next 1376\n",
      "2022-11-04 22:07:03.631232: I tensorflow/core/common_runtime/bfc_allocator.cc:1089] InUse at 60faa3700 of size 7077888 next 1502\n",
      "2022-11-04 22:07:03.631237: I tensorflow/core/common_runtime/bfc_allocator.cc:1089] InUse at 610163700 of size 2359296 next 1636\n",
      "2022-11-04 22:07:03.631241: I tensorflow/core/common_runtime/bfc_allocator.cc:1089] InUse at 6103a3700 of size 3072 next 1722\n",
      "2022-11-04 22:07:03.631246: I tensorflow/core/common_runtime/bfc_allocator.cc:1089] InUse at 6103a4300 of size 2359296 next 1479\n",
      "2022-11-04 22:07:03.631251: I tensorflow/core/common_runtime/bfc_allocator.cc:1089] InUse at 6105e4300 of size 3072 next 1559\n",
      "2022-11-04 22:07:03.631256: I tensorflow/core/common_runtime/bfc_allocator.cc:1089] InUse at 6105e4f00 of size 3072 next 1683\n",
      "2022-11-04 22:07:03.631275: I tensorflow/core/common_runtime/bfc_allocator.cc:1089] InUse at 6105e5b00 of size 3072 next 1501\n",
      "2022-11-04 22:07:03.631280: I tensorflow/core/common_runtime/bfc_allocator.cc:1089] InUse at 6105e6700 of size 9437184 next 1385\n",
      "2022-11-04 22:07:03.631300: I tensorflow/core/common_runtime/bfc_allocator.cc:1089] InUse at 610ee6700 of size 12288 next 1575\n",
      "2022-11-04 22:07:03.631305: I tensorflow/core/common_runtime/bfc_allocator.cc:1089] InUse at 610ee9700 of size 9437184 next 1412\n",
      "2022-11-04 22:07:03.631330: I tensorflow/core/common_runtime/bfc_allocator.cc:1089] InUse at 6117e9700 of size 3072 next 1716\n",
      "2022-11-04 22:07:03.631337: I tensorflow/core/common_runtime/bfc_allocator.cc:1089] InUse at 6117ea300 of size 3072 next 1684\n",
      "2022-11-04 22:07:03.631341: I tensorflow/core/common_runtime/bfc_allocator.cc:1089] InUse at 6117eaf00 of size 3072 next 1628\n",
      "2022-11-04 22:07:03.631346: I tensorflow/core/common_runtime/bfc_allocator.cc:1089] InUse at 6117ebb00 of size 3072 next 1360\n",
      "2022-11-04 22:07:03.631351: I tensorflow/core/common_runtime/bfc_allocator.cc:1089] InUse at 6117ec700 of size 3072 next 1350\n",
      "2022-11-04 22:07:03.631370: I tensorflow/core/common_runtime/bfc_allocator.cc:1089] InUse at 6117ed300 of size 7077888 next 1609\n",
      "2022-11-04 22:07:03.631375: I tensorflow/core/common_runtime/bfc_allocator.cc:1089] InUse at 611ead300 of size 2359296 next 1341\n",
      "2022-11-04 22:07:03.631395: I tensorflow/core/common_runtime/bfc_allocator.cc:1089] InUse at 6120ed300 of size 2359296 next 1664\n",
      "2022-11-04 22:07:03.631400: I tensorflow/core/common_runtime/bfc_allocator.cc:1089] InUse at 61232d300 of size 3072 next 1469\n",
      "2022-11-04 22:07:03.631405: I tensorflow/core/common_runtime/bfc_allocator.cc:1089] InUse at 61232df00 of size 2359296 next 1713\n",
      "2022-11-04 22:07:03.631410: I tensorflow/core/common_runtime/bfc_allocator.cc:1089] InUse at 61256df00 of size 3072 next 1398\n",
      "2022-11-04 22:07:03.631415: I tensorflow/core/common_runtime/bfc_allocator.cc:1089] InUse at 61256eb00 of size 3072 next 1355\n",
      "2022-11-04 22:07:03.631420: I tensorflow/core/common_runtime/bfc_allocator.cc:1089] InUse at 61256f700 of size 3072 next 1421\n",
      "2022-11-04 22:07:03.631425: I tensorflow/core/common_runtime/bfc_allocator.cc:1089] InUse at 612570300 of size 9437184 next 1533\n",
      "2022-11-04 22:07:03.631429: I tensorflow/core/common_runtime/bfc_allocator.cc:1089] InUse at 612e70300 of size 12288 next 1369\n",
      "2022-11-04 22:07:03.631434: I tensorflow/core/common_runtime/bfc_allocator.cc:1089] InUse at 612e73300 of size 9437184 next 1472\n",
      "2022-11-04 22:07:03.631439: I tensorflow/core/common_runtime/bfc_allocator.cc:1089] InUse at 613773300 of size 3072 next 1313\n",
      "2022-11-04 22:07:03.631443: I tensorflow/core/common_runtime/bfc_allocator.cc:1089] InUse at 613773f00 of size 3072 next 1654\n",
      "2022-11-04 22:07:03.631448: I tensorflow/core/common_runtime/bfc_allocator.cc:1089] InUse at 613774b00 of size 3072 next 1327\n",
      "2022-11-04 22:07:03.631453: I tensorflow/core/common_runtime/bfc_allocator.cc:1089] InUse at 613775700 of size 3072 next 1340\n",
      "2022-11-04 22:07:03.631471: I tensorflow/core/common_runtime/bfc_allocator.cc:1089] InUse at 613776300 of size 3072 next 1302\n",
      "2022-11-04 22:07:03.631476: I tensorflow/core/common_runtime/bfc_allocator.cc:1089] InUse at 613776f00 of size 7077888 next 1558\n",
      "2022-11-04 22:07:03.631497: I tensorflow/core/common_runtime/bfc_allocator.cc:1089] InUse at 613e36f00 of size 2359296 next 1620\n",
      "2022-11-04 22:07:03.631502: I tensorflow/core/common_runtime/bfc_allocator.cc:1089] InUse at 614076f00 of size 2359296 next 1454\n",
      "2022-11-04 22:07:03.631507: I tensorflow/core/common_runtime/bfc_allocator.cc:1089] InUse at 6142b6f00 of size 3072 next 1659\n",
      "2022-11-04 22:07:03.631511: I tensorflow/core/common_runtime/bfc_allocator.cc:1089] InUse at 6142b7b00 of size 2359296 next 1449\n",
      "2022-11-04 22:07:03.631516: I tensorflow/core/common_runtime/bfc_allocator.cc:1089] InUse at 6144f7b00 of size 3072 next 1639\n",
      "2022-11-04 22:07:03.631521: I tensorflow/core/common_runtime/bfc_allocator.cc:1089] InUse at 6144f8700 of size 3072 next 1456\n",
      "2022-11-04 22:07:03.631526: I tensorflow/core/common_runtime/bfc_allocator.cc:1089] InUse at 6144f9300 of size 3072 next 1675\n",
      "2022-11-04 22:07:03.631531: I tensorflow/core/common_runtime/bfc_allocator.cc:1089] InUse at 6144f9f00 of size 9437184 next 1582\n",
      "2022-11-04 22:07:03.631536: I tensorflow/core/common_runtime/bfc_allocator.cc:1089] InUse at 614df9f00 of size 12288 next 1709\n",
      "2022-11-04 22:07:03.631541: I tensorflow/core/common_runtime/bfc_allocator.cc:1089] InUse at 614dfcf00 of size 9437184 next 1290\n",
      "2022-11-04 22:07:03.631546: I tensorflow/core/common_runtime/bfc_allocator.cc:1089] InUse at 6156fcf00 of size 3072 next 1581\n",
      "2022-11-04 22:07:03.631565: I tensorflow/core/common_runtime/bfc_allocator.cc:1089] InUse at 6156fdb00 of size 3072 next 1450\n",
      "2022-11-04 22:07:03.631569: I tensorflow/core/common_runtime/bfc_allocator.cc:1089] InUse at 6156fe700 of size 3072 next 1426\n",
      "2022-11-04 22:07:03.631607: I tensorflow/core/common_runtime/bfc_allocator.cc:1089] InUse at 6156ff300 of size 3072 next 1585\n",
      "2022-11-04 22:07:03.631614: I tensorflow/core/common_runtime/bfc_allocator.cc:1089] InUse at 6156fff00 of size 3072 next 1691\n",
      "2022-11-04 22:07:03.631620: I tensorflow/core/common_runtime/bfc_allocator.cc:1089] InUse at 615700b00 of size 7077888 next 1312\n",
      "2022-11-04 22:07:03.631625: I tensorflow/core/common_runtime/bfc_allocator.cc:1089] InUse at 615dc0b00 of size 2359296 next 1414\n",
      "2022-11-04 22:07:03.631630: I tensorflow/core/common_runtime/bfc_allocator.cc:1089] InUse at 616000b00 of size 2359296 next 1669\n",
      "2022-11-04 22:07:03.631635: I tensorflow/core/common_runtime/bfc_allocator.cc:1089] InUse at 616240b00 of size 3072 next 1682\n",
      "2022-11-04 22:07:03.631640: I tensorflow/core/common_runtime/bfc_allocator.cc:1089] InUse at 616241700 of size 2359296 next 1623\n",
      "2022-11-04 22:07:03.631645: I tensorflow/core/common_runtime/bfc_allocator.cc:1089] InUse at 616481700 of size 3072 next 1342\n",
      "2022-11-04 22:07:03.631649: I tensorflow/core/common_runtime/bfc_allocator.cc:1089] InUse at 616482300 of size 3072 next 1344\n",
      "2022-11-04 22:07:03.631654: I tensorflow/core/common_runtime/bfc_allocator.cc:1089] InUse at 616482f00 of size 3072 next 1358\n",
      "2022-11-04 22:07:03.631659: I tensorflow/core/common_runtime/bfc_allocator.cc:1089] InUse at 616483b00 of size 9437184 next 1706\n",
      "2022-11-04 22:07:03.631679: I tensorflow/core/common_runtime/bfc_allocator.cc:1089] InUse at 616d83b00 of size 12288 next 1519\n",
      "2022-11-04 22:07:03.631685: I tensorflow/core/common_runtime/bfc_allocator.cc:1089] InUse at 616d86b00 of size 15071232 next 1557\n",
      "2022-11-04 22:07:03.631691: I tensorflow/core/common_runtime/bfc_allocator.cc:1089] InUse at 617be6300 of size 154414080 next 1272\n",
      "2022-11-04 22:07:03.631696: I tensorflow/core/common_runtime/bfc_allocator.cc:1089] InUse at 620f28f00 of size 3072 next 1721\n",
      "2022-11-04 22:07:03.631701: I tensorflow/core/common_runtime/bfc_allocator.cc:1089] InUse at 620f29b00 of size 3072 next 1672\n",
      "2022-11-04 22:07:03.631706: I tensorflow/core/common_runtime/bfc_allocator.cc:1089] InUse at 620f2a700 of size 3072 next 1632\n",
      "2022-11-04 22:07:03.631711: I tensorflow/core/common_runtime/bfc_allocator.cc:1089] InUse at 620f2b300 of size 3072 next 1324\n",
      "2022-11-04 22:07:03.631730: I tensorflow/core/common_runtime/bfc_allocator.cc:1089] InUse at 620f2bf00 of size 3072 next 1366\n",
      "2022-11-04 22:07:03.631735: I tensorflow/core/common_runtime/bfc_allocator.cc:1089] InUse at 620f2cb00 of size 7077888 next 1576\n",
      "2022-11-04 22:07:03.631739: I tensorflow/core/common_runtime/bfc_allocator.cc:1089] InUse at 6215ecb00 of size 2359296 next 1476\n",
      "2022-11-04 22:07:03.631744: I tensorflow/core/common_runtime/bfc_allocator.cc:1089] InUse at 62182cb00 of size 2359296 next 1351\n",
      "2022-11-04 22:07:03.631748: I tensorflow/core/common_runtime/bfc_allocator.cc:1089] InUse at 621a6cb00 of size 3072 next 1610\n",
      "2022-11-04 22:07:03.631753: I tensorflow/core/common_runtime/bfc_allocator.cc:1089] InUse at 621a6d700 of size 2359296 next 1595\n",
      "2022-11-04 22:07:03.631757: I tensorflow/core/common_runtime/bfc_allocator.cc:1089] InUse at 621cad700 of size 3072 next 1549\n",
      "2022-11-04 22:07:03.631762: I tensorflow/core/common_runtime/bfc_allocator.cc:1089] InUse at 621cae300 of size 3072 next 1348\n",
      "2022-11-04 22:07:03.631766: I tensorflow/core/common_runtime/bfc_allocator.cc:1089] InUse at 621caef00 of size 3072 next 1725\n",
      "2022-11-04 22:07:03.631771: I tensorflow/core/common_runtime/bfc_allocator.cc:1089] InUse at 621cafb00 of size 9437184 next 1550\n",
      "2022-11-04 22:07:03.631775: I tensorflow/core/common_runtime/bfc_allocator.cc:1089] InUse at 6225afb00 of size 12288 next 1693\n",
      "2022-11-04 22:07:03.631780: I tensorflow/core/common_runtime/bfc_allocator.cc:1089] InUse at 6225b2b00 of size 9437184 next 1637\n",
      "2022-11-04 22:07:03.631784: I tensorflow/core/common_runtime/bfc_allocator.cc:1089] InUse at 622eb2b00 of size 3072 next 1708\n",
      "2022-11-04 22:07:03.631788: I tensorflow/core/common_runtime/bfc_allocator.cc:1089] InUse at 622eb3700 of size 3072 next 1416\n",
      "2022-11-04 22:07:03.631809: I tensorflow/core/common_runtime/bfc_allocator.cc:1089] InUse at 622eb4300 of size 3072 next 1666\n",
      "2022-11-04 22:07:03.631813: I tensorflow/core/common_runtime/bfc_allocator.cc:1089] InUse at 622eb4f00 of size 3072 next 1552\n",
      "2022-11-04 22:07:03.631831: I tensorflow/core/common_runtime/bfc_allocator.cc:1089] InUse at 622eb5b00 of size 3072 next 1451\n",
      "2022-11-04 22:07:03.631836: I tensorflow/core/common_runtime/bfc_allocator.cc:1089] InUse at 622eb6700 of size 7077888 next 1478\n",
      "2022-11-04 22:07:03.631840: I tensorflow/core/common_runtime/bfc_allocator.cc:1089] InUse at 623576700 of size 2359296 next 1423\n",
      "2022-11-04 22:07:03.631845: I tensorflow/core/common_runtime/bfc_allocator.cc:1089] InUse at 6237b6700 of size 2359296 next 1437\n",
      "2022-11-04 22:07:03.631849: I tensorflow/core/common_runtime/bfc_allocator.cc:1089] InUse at 6239f6700 of size 3072 next 1580\n",
      "2022-11-04 22:07:03.631853: I tensorflow/core/common_runtime/bfc_allocator.cc:1089] InUse at 6239f7300 of size 2359296 next 1457\n",
      "2022-11-04 22:07:03.631858: I tensorflow/core/common_runtime/bfc_allocator.cc:1089] InUse at 623c37300 of size 3072 next 1510\n",
      "2022-11-04 22:07:03.631862: I tensorflow/core/common_runtime/bfc_allocator.cc:1089] InUse at 623c37f00 of size 3072 next 1407\n",
      "2022-11-04 22:07:03.631867: I tensorflow/core/common_runtime/bfc_allocator.cc:1089] InUse at 623c38b00 of size 3072 next 1727\n",
      "2022-11-04 22:07:03.631871: I tensorflow/core/common_runtime/bfc_allocator.cc:1089] InUse at 623c39700 of size 9437184 next 1569\n",
      "2022-11-04 22:07:03.631876: I tensorflow/core/common_runtime/bfc_allocator.cc:1089] InUse at 624539700 of size 12288 next 1650\n",
      "2022-11-04 22:07:03.631895: I tensorflow/core/common_runtime/bfc_allocator.cc:1089] InUse at 62453c700 of size 9437184 next 1695\n",
      "2022-11-04 22:07:03.631899: I tensorflow/core/common_runtime/bfc_allocator.cc:1089] InUse at 624e3c700 of size 3072 next 1603\n",
      "2022-11-04 22:07:03.631919: I tensorflow/core/common_runtime/bfc_allocator.cc:1089] InUse at 624e3d300 of size 3072 next 1497\n",
      "2022-11-04 22:07:03.631924: I tensorflow/core/common_runtime/bfc_allocator.cc:1089] InUse at 624e3df00 of size 3072 next 1583\n",
      "2022-11-04 22:07:03.631928: I tensorflow/core/common_runtime/bfc_allocator.cc:1089] InUse at 624e3eb00 of size 3072 next 1386\n",
      "2022-11-04 22:07:03.631933: I tensorflow/core/common_runtime/bfc_allocator.cc:1089] InUse at 624e3f700 of size 3072 next 1602\n",
      "2022-11-04 22:07:03.631937: I tensorflow/core/common_runtime/bfc_allocator.cc:1089] InUse at 624e40300 of size 7077888 next 1435\n",
      "2022-11-04 22:07:03.631942: I tensorflow/core/common_runtime/bfc_allocator.cc:1089] InUse at 625500300 of size 2359296 next 1371\n",
      "2022-11-04 22:07:03.631946: I tensorflow/core/common_runtime/bfc_allocator.cc:1089] InUse at 625740300 of size 2359296 next 1323\n",
      "2022-11-04 22:07:03.631950: I tensorflow/core/common_runtime/bfc_allocator.cc:1089] InUse at 625980300 of size 3072 next 1425\n",
      "2022-11-04 22:07:03.631955: I tensorflow/core/common_runtime/bfc_allocator.cc:1089] InUse at 625980f00 of size 2359296 next 1593\n",
      "2022-11-04 22:07:03.631959: I tensorflow/core/common_runtime/bfc_allocator.cc:1089] InUse at 625bc0f00 of size 3072 next 1587\n",
      "2022-11-04 22:07:03.631964: I tensorflow/core/common_runtime/bfc_allocator.cc:1089] InUse at 625bc1b00 of size 3072 next 1292\n",
      "2022-11-04 22:07:03.631968: I tensorflow/core/common_runtime/bfc_allocator.cc:1089] InUse at 625bc2700 of size 3072 next 1591\n",
      "2022-11-04 22:07:03.631974: I tensorflow/core/common_runtime/bfc_allocator.cc:1089] InUse at 625bc3300 of size 9437184 next 1499\n",
      "2022-11-04 22:07:03.631979: I tensorflow/core/common_runtime/bfc_allocator.cc:1089] InUse at 6264c3300 of size 12288 next 1381\n",
      "2022-11-04 22:07:03.631983: I tensorflow/core/common_runtime/bfc_allocator.cc:1089] InUse at 6264c6300 of size 9437184 next 1470\n",
      "2022-11-04 22:07:03.631988: I tensorflow/core/common_runtime/bfc_allocator.cc:1089] InUse at 626dc6300 of size 3072 next 1626\n",
      "2022-11-04 22:07:03.631992: I tensorflow/core/common_runtime/bfc_allocator.cc:1089] InUse at 626dc6f00 of size 3072 next 1483\n",
      "2022-11-04 22:07:03.631997: I tensorflow/core/common_runtime/bfc_allocator.cc:1089] InUse at 626dc7b00 of size 3072 next 1408\n",
      "2022-11-04 22:07:03.632001: I tensorflow/core/common_runtime/bfc_allocator.cc:1089] InUse at 626dc8700 of size 2359296 next 1561\n",
      "2022-11-04 22:07:03.632006: I tensorflow/core/common_runtime/bfc_allocator.cc:1089] InUse at 627008700 of size 3072 next 1431\n",
      "2022-11-04 22:07:03.632010: I tensorflow/core/common_runtime/bfc_allocator.cc:1089] InUse at 627009300 of size 6144 next 1548\n",
      "2022-11-04 22:07:03.632015: I tensorflow/core/common_runtime/bfc_allocator.cc:1089] InUse at 62700ab00 of size 2359296 next 831\n",
      "2022-11-04 22:07:03.632019: I tensorflow/core/common_runtime/bfc_allocator.cc:1089] InUse at 62724ab00 of size 2359296 next 830\n",
      "2022-11-04 22:07:03.632024: I tensorflow/core/common_runtime/bfc_allocator.cc:1089] InUse at 62748ab00 of size 2359296 next 836\n",
      "2022-11-04 22:07:03.632028: I tensorflow/core/common_runtime/bfc_allocator.cc:1089] InUse at 6276cab00 of size 2359296 next 767\n",
      "2022-11-04 22:07:03.632033: I tensorflow/core/common_runtime/bfc_allocator.cc:1089] InUse at 62790ab00 of size 9437184 next 812\n",
      "2022-11-04 22:07:03.632037: I tensorflow/core/common_runtime/bfc_allocator.cc:1089] InUse at 62820ab00 of size 9437184 next 796\n",
      "2022-11-04 22:07:03.632042: I tensorflow/core/common_runtime/bfc_allocator.cc:1089] InUse at 628b0ab00 of size 3145728 next 788\n",
      "2022-11-04 22:07:03.632047: I tensorflow/core/common_runtime/bfc_allocator.cc:1089] InUse at 628e0ab00 of size 3932160 next 787\n",
      "2022-11-04 22:07:03.632051: I tensorflow/core/common_runtime/bfc_allocator.cc:1089] InUse at 6291cab00 of size 3145728 next 644\n",
      "2022-11-04 22:07:03.632056: I tensorflow/core/common_runtime/bfc_allocator.cc:1089] InUse at 6294cab00 of size 7077888 next 754\n",
      "2022-11-04 22:07:03.632060: I tensorflow/core/common_runtime/bfc_allocator.cc:1089] InUse at 629b8ab00 of size 9437184 next 803\n",
      "2022-11-04 22:07:03.632065: I tensorflow/core/common_runtime/bfc_allocator.cc:1089] InUse at 62a48ab00 of size 15728640 next 810\n",
      "2022-11-04 22:07:03.632070: I tensorflow/core/common_runtime/bfc_allocator.cc:1089] InUse at 62b38ab00 of size 9437184 next 838\n",
      "2022-11-04 22:07:03.632075: I tensorflow/core/common_runtime/bfc_allocator.cc:1089] InUse at 62bc8ab00 of size 9437184 next 827\n",
      "2022-11-04 22:07:03.632080: I tensorflow/core/common_runtime/bfc_allocator.cc:1089] InUse at 62c58ab00 of size 3145728 next 636\n",
      "2022-11-04 22:07:03.632085: I tensorflow/core/common_runtime/bfc_allocator.cc:1089] InUse at 62c88ab00 of size 15728640 next 835\n",
      "2022-11-04 22:07:03.632089: I tensorflow/core/common_runtime/bfc_allocator.cc:1089] InUse at 62d78ab00 of size 9437184 next 645\n",
      "2022-11-04 22:07:03.632093: I tensorflow/core/common_runtime/bfc_allocator.cc:1089] InUse at 62e08ab00 of size 9437184 next 746\n",
      "2022-11-04 22:07:03.632098: I tensorflow/core/common_runtime/bfc_allocator.cc:1089] InUse at 62e98ab00 of size 7077888 next 1040\n",
      "2022-11-04 22:07:03.632102: I tensorflow/core/common_runtime/bfc_allocator.cc:1089] InUse at 62f04ab00 of size 9437184 next 664\n",
      "2022-11-04 22:07:03.632107: I tensorflow/core/common_runtime/bfc_allocator.cc:1089] InUse at 62f94ab00 of size 10497024 next 1378\n",
      "2022-11-04 22:07:03.632112: I tensorflow/core/common_runtime/bfc_allocator.cc:1089] InUse at 63034d700 of size 3072 next 1640\n",
      "2022-11-04 22:07:03.632116: I tensorflow/core/common_runtime/bfc_allocator.cc:1089] InUse at 63034e300 of size 3072 next 1448\n",
      "2022-11-04 22:07:03.632121: I tensorflow/core/common_runtime/bfc_allocator.cc:1089] InUse at 63034ef00 of size 3145728 next 1724\n",
      "2022-11-04 22:07:03.632126: I tensorflow/core/common_runtime/bfc_allocator.cc:1089] InUse at 63064ef00 of size 3072 next 1590\n",
      "2022-11-04 22:07:03.632130: I tensorflow/core/common_runtime/bfc_allocator.cc:1089] InUse at 63064fb00 of size 3072 next 1513\n",
      "2022-11-04 22:07:03.632135: I tensorflow/core/common_runtime/bfc_allocator.cc:1089] InUse at 630650700 of size 7077888 next 1678\n",
      "2022-11-04 22:07:03.632140: I tensorflow/core/common_runtime/bfc_allocator.cc:1089] InUse at 630d10700 of size 2359296 next 1367\n",
      "2022-11-04 22:07:03.632145: I tensorflow/core/common_runtime/bfc_allocator.cc:1089] InUse at 630f50700 of size 2359296 next 1566\n",
      "2022-11-04 22:07:03.632149: I tensorflow/core/common_runtime/bfc_allocator.cc:1089] InUse at 631190700 of size 3072 next 1379\n",
      "2022-11-04 22:07:03.632153: I tensorflow/core/common_runtime/bfc_allocator.cc:1089] InUse at 631191300 of size 2359296 next 1662\n",
      "2022-11-04 22:07:03.632157: I tensorflow/core/common_runtime/bfc_allocator.cc:1089] InUse at 6313d1300 of size 3072 next 1723\n",
      "2022-11-04 22:07:03.632164: I tensorflow/core/common_runtime/bfc_allocator.cc:1089] InUse at 6313d1f00 of size 3072 next 1605\n",
      "2022-11-04 22:07:03.632168: I tensorflow/core/common_runtime/bfc_allocator.cc:1089] InUse at 6313d2b00 of size 3072 next 1494\n",
      "2022-11-04 22:07:03.632173: I tensorflow/core/common_runtime/bfc_allocator.cc:1089] InUse at 6313d3700 of size 9437184 next 1719\n",
      "2022-11-04 22:07:03.632178: I tensorflow/core/common_runtime/bfc_allocator.cc:1089] InUse at 631cd3700 of size 12288 next 1480\n",
      "2022-11-04 22:07:03.632182: I tensorflow/core/common_runtime/bfc_allocator.cc:1089] InUse at 631cd6700 of size 9437184 next 1415\n",
      "2022-11-04 22:07:03.632187: I tensorflow/core/common_runtime/bfc_allocator.cc:1089] InUse at 6325d6700 of size 3072 next 1555\n",
      "2022-11-04 22:07:03.632191: I tensorflow/core/common_runtime/bfc_allocator.cc:1089] InUse at 6325d7300 of size 3072 next 1388\n",
      "2022-11-04 22:07:03.632196: I tensorflow/core/common_runtime/bfc_allocator.cc:1089] InUse at 6325d7f00 of size 3072 next 1573\n",
      "2022-11-04 22:07:03.632201: I tensorflow/core/common_runtime/bfc_allocator.cc:1089] InUse at 6325d8b00 of size 3072 next 1698\n",
      "2022-11-04 22:07:03.632206: I tensorflow/core/common_runtime/bfc_allocator.cc:1089] InUse at 6325d9700 of size 3072 next 1536\n",
      "2022-11-04 22:07:03.632211: I tensorflow/core/common_runtime/bfc_allocator.cc:1089] InUse at 6325da300 of size 7077888 next 1516\n",
      "2022-11-04 22:07:03.632216: I tensorflow/core/common_runtime/bfc_allocator.cc:1089] InUse at 632c9a300 of size 2359296 next 1395\n",
      "2022-11-04 22:07:03.632221: I tensorflow/core/common_runtime/bfc_allocator.cc:1089] InUse at 632eda300 of size 2359296 next 1471\n",
      "2022-11-04 22:07:03.632226: I tensorflow/core/common_runtime/bfc_allocator.cc:1089] InUse at 63311a300 of size 3072 next 1568\n",
      "2022-11-04 22:07:03.632231: I tensorflow/core/common_runtime/bfc_allocator.cc:1089] InUse at 63311af00 of size 2359296 next 1624\n",
      "2022-11-04 22:07:03.632236: I tensorflow/core/common_runtime/bfc_allocator.cc:1089] InUse at 63335af00 of size 3072 next 1665\n",
      "2022-11-04 22:07:03.632242: I tensorflow/core/common_runtime/bfc_allocator.cc:1089] InUse at 63335bb00 of size 3072 next 1498\n",
      "2022-11-04 22:07:03.632247: I tensorflow/core/common_runtime/bfc_allocator.cc:1089] InUse at 63335c700 of size 3072 next 1445\n",
      "2022-11-04 22:07:03.632252: I tensorflow/core/common_runtime/bfc_allocator.cc:1089] InUse at 63335d300 of size 9437184 next 1644\n",
      "2022-11-04 22:07:03.632257: I tensorflow/core/common_runtime/bfc_allocator.cc:1089] InUse at 633c5d300 of size 12288 next 1383\n",
      "2022-11-04 22:07:03.632262: I tensorflow/core/common_runtime/bfc_allocator.cc:1089] InUse at 633c60300 of size 9437184 next 1619\n",
      "2022-11-04 22:07:03.632267: I tensorflow/core/common_runtime/bfc_allocator.cc:1089] InUse at 634560300 of size 3072 next 1608\n",
      "2022-11-04 22:07:03.632272: I tensorflow/core/common_runtime/bfc_allocator.cc:1089] InUse at 634560f00 of size 3072 next 1572\n",
      "2022-11-04 22:07:03.632277: I tensorflow/core/common_runtime/bfc_allocator.cc:1089] InUse at 634561b00 of size 3072 next 1589\n",
      "2022-11-04 22:07:03.632282: I tensorflow/core/common_runtime/bfc_allocator.cc:1089] InUse at 634562700 of size 3072 next 1642\n",
      "2022-11-04 22:07:03.632287: I tensorflow/core/common_runtime/bfc_allocator.cc:1089] InUse at 634563300 of size 3072 next 1571\n",
      "2022-11-04 22:07:03.632292: I tensorflow/core/common_runtime/bfc_allocator.cc:1089] InUse at 634563f00 of size 7077888 next 1298\n",
      "2022-11-04 22:07:03.632297: I tensorflow/core/common_runtime/bfc_allocator.cc:1089] InUse at 634c23f00 of size 2359296 next 1442\n",
      "2022-11-04 22:07:03.632317: I tensorflow/core/common_runtime/bfc_allocator.cc:1089] InUse at 634e63f00 of size 2359296 next 1606\n",
      "2022-11-04 22:07:03.632346: I tensorflow/core/common_runtime/bfc_allocator.cc:1089] InUse at 6350a3f00 of size 3072 next 1406\n",
      "2022-11-04 22:07:03.632352: I tensorflow/core/common_runtime/bfc_allocator.cc:1089] InUse at 6350a4b00 of size 2359296 next 1592\n",
      "2022-11-04 22:07:03.632358: I tensorflow/core/common_runtime/bfc_allocator.cc:1089] InUse at 6352e4b00 of size 3072 next 1531\n",
      "2022-11-04 22:07:03.632363: I tensorflow/core/common_runtime/bfc_allocator.cc:1089] InUse at 6352e5700 of size 3072 next 1359\n",
      "2022-11-04 22:07:03.632368: I tensorflow/core/common_runtime/bfc_allocator.cc:1089] InUse at 6352e6300 of size 3072 next 1584\n",
      "2022-11-04 22:07:03.632373: I tensorflow/core/common_runtime/bfc_allocator.cc:1089] InUse at 6352e6f00 of size 9437184 next 1540\n",
      "2022-11-04 22:07:03.632378: I tensorflow/core/common_runtime/bfc_allocator.cc:1089] InUse at 635be6f00 of size 12288 next 1373\n",
      "2022-11-04 22:07:03.632383: I tensorflow/core/common_runtime/bfc_allocator.cc:1089] InUse at 635be9f00 of size 9437184 next 1354\n",
      "2022-11-04 22:07:03.632389: I tensorflow/core/common_runtime/bfc_allocator.cc:1089] InUse at 6364e9f00 of size 3072 next 1530\n",
      "2022-11-04 22:07:03.632394: I tensorflow/core/common_runtime/bfc_allocator.cc:1089] InUse at 6364eab00 of size 3072 next 1485\n",
      "2022-11-04 22:07:03.632399: I tensorflow/core/common_runtime/bfc_allocator.cc:1089] InUse at 6364eb700 of size 3072 next 1509\n",
      "2022-11-04 22:07:03.632404: I tensorflow/core/common_runtime/bfc_allocator.cc:1089] InUse at 6364ec300 of size 3072 next 1294\n",
      "2022-11-04 22:07:03.632409: I tensorflow/core/common_runtime/bfc_allocator.cc:1089] InUse at 6364ecf00 of size 3072 next 1368\n",
      "2022-11-04 22:07:03.632414: I tensorflow/core/common_runtime/bfc_allocator.cc:1089] InUse at 6364edb00 of size 7077888 next 1475\n",
      "2022-11-04 22:07:03.632419: I tensorflow/core/common_runtime/bfc_allocator.cc:1089] InUse at 636badb00 of size 2359296 next 1397\n",
      "2022-11-04 22:07:03.632424: I tensorflow/core/common_runtime/bfc_allocator.cc:1089] InUse at 636dedb00 of size 2359296 next 1707\n",
      "2022-11-04 22:07:03.632429: I tensorflow/core/common_runtime/bfc_allocator.cc:1089] InUse at 63702db00 of size 3072 next 1657\n",
      "2022-11-04 22:07:03.632434: I tensorflow/core/common_runtime/bfc_allocator.cc:1089] InUse at 63702e700 of size 2359296 next 1685\n",
      "2022-11-04 22:07:03.632439: I tensorflow/core/common_runtime/bfc_allocator.cc:1089] InUse at 63726e700 of size 3072 next 1703\n",
      "2022-11-04 22:07:03.632444: I tensorflow/core/common_runtime/bfc_allocator.cc:1089] InUse at 63726f300 of size 3072 next 1560\n",
      "2022-11-04 22:07:03.632449: I tensorflow/core/common_runtime/bfc_allocator.cc:1089] InUse at 63726ff00 of size 3072 next 1365\n",
      "2022-11-04 22:07:03.632455: I tensorflow/core/common_runtime/bfc_allocator.cc:1089] InUse at 637270b00 of size 9437184 next 1403\n",
      "2022-11-04 22:07:03.632460: I tensorflow/core/common_runtime/bfc_allocator.cc:1089] InUse at 637b70b00 of size 12288 next 1432\n",
      "2022-11-04 22:07:03.632464: I tensorflow/core/common_runtime/bfc_allocator.cc:1089] InUse at 637b73b00 of size 9437184 next 1631\n",
      "2022-11-04 22:07:03.632470: I tensorflow/core/common_runtime/bfc_allocator.cc:1089] InUse at 638473b00 of size 3072 next 1495\n",
      "2022-11-04 22:07:03.632475: I tensorflow/core/common_runtime/bfc_allocator.cc:1089] InUse at 638474700 of size 3072 next 1419\n",
      "2022-11-04 22:07:03.632480: I tensorflow/core/common_runtime/bfc_allocator.cc:1089] InUse at 638475300 of size 3072 next 1614\n",
      "2022-11-04 22:07:03.632485: I tensorflow/core/common_runtime/bfc_allocator.cc:1089] InUse at 638475f00 of size 3072 next 1625\n",
      "2022-11-04 22:07:03.632490: I tensorflow/core/common_runtime/bfc_allocator.cc:1089] InUse at 638476b00 of size 3072 next 1389\n",
      "2022-11-04 22:07:03.632495: I tensorflow/core/common_runtime/bfc_allocator.cc:1089] InUse at 638477700 of size 7077888 next 1490\n",
      "2022-11-04 22:07:03.632500: I tensorflow/core/common_runtime/bfc_allocator.cc:1089] InUse at 638b37700 of size 2359296 next 1488\n",
      "2022-11-04 22:07:03.632505: I tensorflow/core/common_runtime/bfc_allocator.cc:1089] InUse at 638d77700 of size 2359296 next 1297\n",
      "2022-11-04 22:07:03.632510: I tensorflow/core/common_runtime/bfc_allocator.cc:1089] InUse at 638fb7700 of size 3072 next 1329\n",
      "2022-11-04 22:07:03.632515: I tensorflow/core/common_runtime/bfc_allocator.cc:1089] InUse at 638fb8300 of size 2359296 next 1507\n",
      "2022-11-04 22:07:03.632520: I tensorflow/core/common_runtime/bfc_allocator.cc:1089] InUse at 6391f8300 of size 3072 next 1522\n",
      "2022-11-04 22:07:03.632525: I tensorflow/core/common_runtime/bfc_allocator.cc:1089] InUse at 6391f8f00 of size 3072 next 1535\n",
      "2022-11-04 22:07:03.632530: I tensorflow/core/common_runtime/bfc_allocator.cc:1089] InUse at 6391f9b00 of size 3072 next 1429\n",
      "2022-11-04 22:07:03.632535: I tensorflow/core/common_runtime/bfc_allocator.cc:1089] InUse at 6391fa700 of size 9437184 next 1543\n",
      "2022-11-04 22:07:03.632540: I tensorflow/core/common_runtime/bfc_allocator.cc:1089] InUse at 639afa700 of size 12288 next 1651\n",
      "2022-11-04 22:07:03.632546: I tensorflow/core/common_runtime/bfc_allocator.cc:1089] InUse at 639afd700 of size 9437184 next 1446\n",
      "2022-11-04 22:07:03.632550: I tensorflow/core/common_runtime/bfc_allocator.cc:1089] InUse at 63a3fd700 of size 3072 next 1565\n",
      "2022-11-04 22:07:03.632556: I tensorflow/core/common_runtime/bfc_allocator.cc:1089] InUse at 63a3fe300 of size 3072 next 1517\n",
      "2022-11-04 22:07:03.632561: I tensorflow/core/common_runtime/bfc_allocator.cc:1089] InUse at 63a3fef00 of size 3072 next 1455\n",
      "2022-11-04 22:07:03.632566: I tensorflow/core/common_runtime/bfc_allocator.cc:1089] InUse at 63a3ffb00 of size 3072 next 1635\n",
      "2022-11-04 22:07:03.632571: I tensorflow/core/common_runtime/bfc_allocator.cc:1089] InUse at 63a400700 of size 3072 next 1729\n",
      "2022-11-04 22:07:03.632576: I tensorflow/core/common_runtime/bfc_allocator.cc:1089] InUse at 63a401300 of size 7077888 next 1730\n",
      "2022-11-04 22:07:03.632581: I tensorflow/core/common_runtime/bfc_allocator.cc:1089] InUse at 63aac1300 of size 2359296 next 1731\n",
      "2022-11-04 22:07:03.632585: I tensorflow/core/common_runtime/bfc_allocator.cc:1089] InUse at 63ad01300 of size 2359296 next 1732\n",
      "2022-11-04 22:07:03.632590: I tensorflow/core/common_runtime/bfc_allocator.cc:1089] InUse at 63af41300 of size 3072 next 1733\n",
      "2022-11-04 22:07:03.632595: I tensorflow/core/common_runtime/bfc_allocator.cc:1089] InUse at 63af41f00 of size 2359296 next 1734\n",
      "2022-11-04 22:07:03.632600: I tensorflow/core/common_runtime/bfc_allocator.cc:1089] InUse at 63b181f00 of size 3072 next 1735\n",
      "2022-11-04 22:07:03.632604: I tensorflow/core/common_runtime/bfc_allocator.cc:1089] InUse at 63b182b00 of size 3072 next 1736\n",
      "2022-11-04 22:07:03.632609: I tensorflow/core/common_runtime/bfc_allocator.cc:1089] InUse at 63b183700 of size 3072 next 1737\n",
      "2022-11-04 22:07:03.632617: I tensorflow/core/common_runtime/bfc_allocator.cc:1089] InUse at 63b184300 of size 9437184 next 1738\n",
      "2022-11-04 22:07:03.632622: I tensorflow/core/common_runtime/bfc_allocator.cc:1089] InUse at 63ba84300 of size 12288 next 1739\n",
      "2022-11-04 22:07:03.632627: I tensorflow/core/common_runtime/bfc_allocator.cc:1089] InUse at 63ba87300 of size 9437184 next 1740\n",
      "2022-11-04 22:07:03.632634: I tensorflow/core/common_runtime/bfc_allocator.cc:1089] InUse at 63c387300 of size 3072 next 1741\n",
      "2022-11-04 22:07:03.632639: I tensorflow/core/common_runtime/bfc_allocator.cc:1089] InUse at 63c387f00 of size 3072 next 1742\n",
      "2022-11-04 22:07:03.632644: I tensorflow/core/common_runtime/bfc_allocator.cc:1089] InUse at 63c388b00 of size 3072 next 1743\n",
      "2022-11-04 22:07:03.632649: I tensorflow/core/common_runtime/bfc_allocator.cc:1089] InUse at 63c389700 of size 3072 next 1744\n",
      "2022-11-04 22:07:03.632653: I tensorflow/core/common_runtime/bfc_allocator.cc:1089] InUse at 63c38a300 of size 3072 next 1745\n",
      "2022-11-04 22:07:03.632658: I tensorflow/core/common_runtime/bfc_allocator.cc:1089] InUse at 63c38af00 of size 7077888 next 1746\n",
      "2022-11-04 22:07:03.632663: I tensorflow/core/common_runtime/bfc_allocator.cc:1089] InUse at 63ca4af00 of size 2359296 next 1747\n",
      "2022-11-04 22:07:03.632668: I tensorflow/core/common_runtime/bfc_allocator.cc:1089] InUse at 63cc8af00 of size 2359296 next 1748\n",
      "2022-11-04 22:07:03.632674: I tensorflow/core/common_runtime/bfc_allocator.cc:1089] InUse at 63cecaf00 of size 3072 next 1749\n",
      "2022-11-04 22:07:03.632679: I tensorflow/core/common_runtime/bfc_allocator.cc:1089] InUse at 63cecbb00 of size 2359296 next 1750\n",
      "2022-11-04 22:07:03.632684: I tensorflow/core/common_runtime/bfc_allocator.cc:1089] InUse at 63d10bb00 of size 3072 next 1751\n",
      "2022-11-04 22:07:03.632688: I tensorflow/core/common_runtime/bfc_allocator.cc:1089] InUse at 63d10c700 of size 3072 next 1752\n",
      "2022-11-04 22:07:03.632693: I tensorflow/core/common_runtime/bfc_allocator.cc:1089] InUse at 63d10d300 of size 3072 next 1753\n",
      "2022-11-04 22:07:03.632698: I tensorflow/core/common_runtime/bfc_allocator.cc:1089] InUse at 63d10df00 of size 9437184 next 1754\n",
      "2022-11-04 22:07:03.632702: I tensorflow/core/common_runtime/bfc_allocator.cc:1089] InUse at 63da0df00 of size 12288 next 1755\n",
      "2022-11-04 22:07:03.632707: I tensorflow/core/common_runtime/bfc_allocator.cc:1089] InUse at 63da10f00 of size 9437184 next 1756\n",
      "2022-11-04 22:07:03.632742: I tensorflow/core/common_runtime/bfc_allocator.cc:1089] InUse at 63e310f00 of size 3072 next 1757\n",
      "2022-11-04 22:07:03.632755: I tensorflow/core/common_runtime/bfc_allocator.cc:1089] InUse at 63e311b00 of size 3072 next 1758\n",
      "2022-11-04 22:07:03.632760: I tensorflow/core/common_runtime/bfc_allocator.cc:1089] InUse at 63e312700 of size 3072 next 1759\n",
      "2022-11-04 22:07:03.632765: I tensorflow/core/common_runtime/bfc_allocator.cc:1089] InUse at 63e313300 of size 3072 next 1760\n",
      "2022-11-04 22:07:03.632770: I tensorflow/core/common_runtime/bfc_allocator.cc:1089] InUse at 63e313f00 of size 3072 next 1761\n",
      "2022-11-04 22:07:03.632775: I tensorflow/core/common_runtime/bfc_allocator.cc:1089] InUse at 63e314b00 of size 7077888 next 1762\n",
      "2022-11-04 22:07:03.632780: I tensorflow/core/common_runtime/bfc_allocator.cc:1089] InUse at 63e9d4b00 of size 2359296 next 1763\n",
      "2022-11-04 22:07:03.632785: I tensorflow/core/common_runtime/bfc_allocator.cc:1089] InUse at 63ec14b00 of size 2359296 next 1764\n",
      "2022-11-04 22:07:03.632789: I tensorflow/core/common_runtime/bfc_allocator.cc:1089] InUse at 63ee54b00 of size 3072 next 1765\n",
      "2022-11-04 22:07:03.632794: I tensorflow/core/common_runtime/bfc_allocator.cc:1089] InUse at 63ee55700 of size 2359296 next 1766\n",
      "2022-11-04 22:07:03.632798: I tensorflow/core/common_runtime/bfc_allocator.cc:1089] InUse at 63f095700 of size 3072 next 1767\n",
      "2022-11-04 22:07:03.632803: I tensorflow/core/common_runtime/bfc_allocator.cc:1089] InUse at 63f096300 of size 3072 next 1768\n",
      "2022-11-04 22:07:03.632807: I tensorflow/core/common_runtime/bfc_allocator.cc:1089] InUse at 63f096f00 of size 3072 next 1769\n",
      "2022-11-04 22:07:03.632812: I tensorflow/core/common_runtime/bfc_allocator.cc:1089] InUse at 63f097b00 of size 9437184 next 1770\n",
      "2022-11-04 22:07:03.632817: I tensorflow/core/common_runtime/bfc_allocator.cc:1089] InUse at 63f997b00 of size 12288 next 1771\n",
      "2022-11-04 22:07:03.632823: I tensorflow/core/common_runtime/bfc_allocator.cc:1089] InUse at 63f99ab00 of size 9437184 next 1772\n",
      "2022-11-04 22:07:03.632827: I tensorflow/core/common_runtime/bfc_allocator.cc:1089] InUse at 64029ab00 of size 3072 next 1773\n",
      "2022-11-04 22:07:03.632832: I tensorflow/core/common_runtime/bfc_allocator.cc:1089] InUse at 64029b700 of size 3072 next 1774\n",
      "2022-11-04 22:07:03.632836: I tensorflow/core/common_runtime/bfc_allocator.cc:1089] InUse at 64029c300 of size 3072 next 1775\n",
      "2022-11-04 22:07:03.632841: I tensorflow/core/common_runtime/bfc_allocator.cc:1089] InUse at 64029cf00 of size 3072 next 1776\n",
      "2022-11-04 22:07:03.632845: I tensorflow/core/common_runtime/bfc_allocator.cc:1089] InUse at 64029db00 of size 3072 next 1777\n",
      "2022-11-04 22:07:03.632850: I tensorflow/core/common_runtime/bfc_allocator.cc:1089] InUse at 64029e700 of size 7077888 next 1778\n",
      "2022-11-04 22:07:03.632854: I tensorflow/core/common_runtime/bfc_allocator.cc:1089] InUse at 64095e700 of size 2359296 next 1779\n",
      "2022-11-04 22:07:03.632859: I tensorflow/core/common_runtime/bfc_allocator.cc:1089] InUse at 640b9e700 of size 2359296 next 1780\n",
      "2022-11-04 22:07:03.632863: I tensorflow/core/common_runtime/bfc_allocator.cc:1089] InUse at 640dde700 of size 3072 next 1781\n",
      "2022-11-04 22:07:03.632868: I tensorflow/core/common_runtime/bfc_allocator.cc:1089] InUse at 640ddf300 of size 2359296 next 1782\n",
      "2022-11-04 22:07:03.632873: I tensorflow/core/common_runtime/bfc_allocator.cc:1089] InUse at 64101f300 of size 3072 next 1783\n",
      "2022-11-04 22:07:03.632877: I tensorflow/core/common_runtime/bfc_allocator.cc:1089] InUse at 64101ff00 of size 3072 next 1784\n",
      "2022-11-04 22:07:03.632882: I tensorflow/core/common_runtime/bfc_allocator.cc:1089] InUse at 641020b00 of size 3072 next 1785\n",
      "2022-11-04 22:07:03.632887: I tensorflow/core/common_runtime/bfc_allocator.cc:1089] InUse at 641021700 of size 9437184 next 1786\n",
      "2022-11-04 22:07:03.632892: I tensorflow/core/common_runtime/bfc_allocator.cc:1089] InUse at 641921700 of size 12288 next 1787\n",
      "2022-11-04 22:07:03.632896: I tensorflow/core/common_runtime/bfc_allocator.cc:1089] InUse at 641924700 of size 9437184 next 1788\n",
      "2022-11-04 22:07:03.632901: I tensorflow/core/common_runtime/bfc_allocator.cc:1089] InUse at 642224700 of size 3072 next 1789\n",
      "2022-11-04 22:07:03.632906: I tensorflow/core/common_runtime/bfc_allocator.cc:1089] InUse at 642225300 of size 3072 next 1790\n",
      "2022-11-04 22:07:03.632910: I tensorflow/core/common_runtime/bfc_allocator.cc:1089] InUse at 642225f00 of size 3072 next 1791\n",
      "2022-11-04 22:07:03.632914: I tensorflow/core/common_runtime/bfc_allocator.cc:1089] InUse at 642226b00 of size 3072 next 1792\n",
      "2022-11-04 22:07:03.632919: I tensorflow/core/common_runtime/bfc_allocator.cc:1089] InUse at 642227700 of size 3072 next 1793\n",
      "2022-11-04 22:07:03.632924: I tensorflow/core/common_runtime/bfc_allocator.cc:1089] InUse at 642228300 of size 7077888 next 1794\n",
      "2022-11-04 22:07:03.632928: I tensorflow/core/common_runtime/bfc_allocator.cc:1089] InUse at 6428e8300 of size 2359296 next 1795\n",
      "2022-11-04 22:07:03.632933: I tensorflow/core/common_runtime/bfc_allocator.cc:1089] InUse at 642b28300 of size 2359296 next 1796\n",
      "2022-11-04 22:07:03.632938: I tensorflow/core/common_runtime/bfc_allocator.cc:1089] InUse at 642d68300 of size 3072 next 1797\n",
      "2022-11-04 22:07:03.632943: I tensorflow/core/common_runtime/bfc_allocator.cc:1089] InUse at 642d68f00 of size 2359296 next 1798\n",
      "2022-11-04 22:07:03.632948: I tensorflow/core/common_runtime/bfc_allocator.cc:1089] InUse at 642fa8f00 of size 3072 next 1799\n",
      "2022-11-04 22:07:03.632952: I tensorflow/core/common_runtime/bfc_allocator.cc:1089] InUse at 642fa9b00 of size 3072 next 1800\n",
      "2022-11-04 22:07:03.632957: I tensorflow/core/common_runtime/bfc_allocator.cc:1089] InUse at 642faa700 of size 3072 next 1801\n",
      "2022-11-04 22:07:03.632962: I tensorflow/core/common_runtime/bfc_allocator.cc:1089] InUse at 642fab300 of size 9437184 next 1802\n",
      "2022-11-04 22:07:03.632967: I tensorflow/core/common_runtime/bfc_allocator.cc:1089] InUse at 6438ab300 of size 12288 next 1803\n",
      "2022-11-04 22:07:03.632972: I tensorflow/core/common_runtime/bfc_allocator.cc:1089] InUse at 6438ae300 of size 9437184 next 1804\n",
      "2022-11-04 22:07:03.632977: I tensorflow/core/common_runtime/bfc_allocator.cc:1089] InUse at 6441ae300 of size 3072 next 1805\n",
      "2022-11-04 22:07:03.632981: I tensorflow/core/common_runtime/bfc_allocator.cc:1089] InUse at 6441aef00 of size 3072 next 1806\n",
      "2022-11-04 22:07:03.632986: I tensorflow/core/common_runtime/bfc_allocator.cc:1089] InUse at 6441afb00 of size 3072 next 1807\n",
      "2022-11-04 22:07:03.632991: I tensorflow/core/common_runtime/bfc_allocator.cc:1089] InUse at 6441b0700 of size 3072 next 1808\n",
      "2022-11-04 22:07:03.632996: I tensorflow/core/common_runtime/bfc_allocator.cc:1089] InUse at 6441b1300 of size 3072 next 1809\n",
      "2022-11-04 22:07:03.633001: I tensorflow/core/common_runtime/bfc_allocator.cc:1089] InUse at 6441b1f00 of size 7077888 next 1810\n",
      "2022-11-04 22:07:03.633006: I tensorflow/core/common_runtime/bfc_allocator.cc:1089] InUse at 644871f00 of size 2359296 next 1811\n",
      "2022-11-04 22:07:03.633011: I tensorflow/core/common_runtime/bfc_allocator.cc:1089] InUse at 644ab1f00 of size 2359296 next 1812\n",
      "2022-11-04 22:07:03.633016: I tensorflow/core/common_runtime/bfc_allocator.cc:1089] InUse at 644cf1f00 of size 3072 next 1813\n",
      "2022-11-04 22:07:03.633021: I tensorflow/core/common_runtime/bfc_allocator.cc:1089] InUse at 644cf2b00 of size 2359296 next 1814\n",
      "2022-11-04 22:07:03.633025: I tensorflow/core/common_runtime/bfc_allocator.cc:1089] InUse at 644f32b00 of size 3072 next 1815\n",
      "2022-11-04 22:07:03.633030: I tensorflow/core/common_runtime/bfc_allocator.cc:1089] InUse at 644f33700 of size 3072 next 1816\n",
      "2022-11-04 22:07:03.633034: I tensorflow/core/common_runtime/bfc_allocator.cc:1089] InUse at 644f34300 of size 3072 next 1817\n",
      "2022-11-04 22:07:03.633039: I tensorflow/core/common_runtime/bfc_allocator.cc:1089] InUse at 644f34f00 of size 9437184 next 1818\n",
      "2022-11-04 22:07:03.633045: I tensorflow/core/common_runtime/bfc_allocator.cc:1089] InUse at 645834f00 of size 12288 next 1819\n",
      "2022-11-04 22:07:03.633050: I tensorflow/core/common_runtime/bfc_allocator.cc:1089] InUse at 645837f00 of size 9437184 next 1820\n",
      "2022-11-04 22:07:03.633054: I tensorflow/core/common_runtime/bfc_allocator.cc:1089] InUse at 646137f00 of size 3072 next 1821\n",
      "2022-11-04 22:07:03.633059: I tensorflow/core/common_runtime/bfc_allocator.cc:1089] InUse at 646138b00 of size 3072 next 1822\n",
      "2022-11-04 22:07:03.633063: I tensorflow/core/common_runtime/bfc_allocator.cc:1089] InUse at 646139700 of size 3072 next 1823\n",
      "2022-11-04 22:07:03.633068: I tensorflow/core/common_runtime/bfc_allocator.cc:1089] InUse at 64613a300 of size 3072 next 1824\n",
      "2022-11-04 22:07:03.633073: I tensorflow/core/common_runtime/bfc_allocator.cc:1089] InUse at 64613af00 of size 3072 next 1825\n",
      "2022-11-04 22:07:03.633077: I tensorflow/core/common_runtime/bfc_allocator.cc:1089] InUse at 64613bb00 of size 7077888 next 1826\n",
      "2022-11-04 22:07:03.633082: I tensorflow/core/common_runtime/bfc_allocator.cc:1089] InUse at 6467fbb00 of size 2359296 next 1827\n",
      "2022-11-04 22:07:03.633087: I tensorflow/core/common_runtime/bfc_allocator.cc:1089] InUse at 646a3bb00 of size 2359296 next 1828\n",
      "2022-11-04 22:07:03.633092: I tensorflow/core/common_runtime/bfc_allocator.cc:1089] InUse at 646c7bb00 of size 3072 next 1829\n",
      "2022-11-04 22:07:03.633096: I tensorflow/core/common_runtime/bfc_allocator.cc:1089] InUse at 646c7c700 of size 2359296 next 1830\n",
      "2022-11-04 22:07:03.633101: I tensorflow/core/common_runtime/bfc_allocator.cc:1089] InUse at 646ebc700 of size 3072 next 1831\n",
      "2022-11-04 22:07:03.633106: I tensorflow/core/common_runtime/bfc_allocator.cc:1089] InUse at 646ebd300 of size 3072 next 1832\n",
      "2022-11-04 22:07:03.633110: I tensorflow/core/common_runtime/bfc_allocator.cc:1089] InUse at 646ebdf00 of size 3072 next 1833\n",
      "2022-11-04 22:07:03.633115: I tensorflow/core/common_runtime/bfc_allocator.cc:1089] InUse at 646ebeb00 of size 9437184 next 1834\n",
      "2022-11-04 22:07:03.633120: I tensorflow/core/common_runtime/bfc_allocator.cc:1089] InUse at 6477beb00 of size 12288 next 1835\n",
      "2022-11-04 22:07:03.633125: I tensorflow/core/common_runtime/bfc_allocator.cc:1089] InUse at 6477c1b00 of size 9437184 next 1836\n",
      "2022-11-04 22:07:03.633130: I tensorflow/core/common_runtime/bfc_allocator.cc:1089] InUse at 6480c1b00 of size 3072 next 1837\n",
      "2022-11-04 22:07:03.633134: I tensorflow/core/common_runtime/bfc_allocator.cc:1089] InUse at 6480c2700 of size 3072 next 1838\n",
      "2022-11-04 22:07:03.633139: I tensorflow/core/common_runtime/bfc_allocator.cc:1089] InUse at 6480c3300 of size 3072 next 1839\n",
      "2022-11-04 22:07:03.633144: I tensorflow/core/common_runtime/bfc_allocator.cc:1089] InUse at 6480c3f00 of size 2359296 next 1840\n",
      "2022-11-04 22:07:03.633148: I tensorflow/core/common_runtime/bfc_allocator.cc:1089] InUse at 648303f00 of size 3072 next 1841\n",
      "2022-11-04 22:07:03.633153: I tensorflow/core/common_runtime/bfc_allocator.cc:1089] InUse at 648304b00 of size 6144 next 1842\n",
      "2022-11-04 22:07:03.633157: I tensorflow/core/common_runtime/bfc_allocator.cc:1089] InUse at 648306300 of size 3072 next 789\n",
      "2022-11-04 22:07:03.633161: I tensorflow/core/common_runtime/bfc_allocator.cc:1089] InUse at 648306f00 of size 3072 next 642\n",
      "2022-11-04 22:07:03.633166: I tensorflow/core/common_runtime/bfc_allocator.cc:1089] InUse at 648307b00 of size 5632 next 1894\n",
      "2022-11-04 22:07:03.633171: I tensorflow/core/common_runtime/bfc_allocator.cc:1089] InUse at 648309100 of size 256 next 2028\n",
      "2022-11-04 22:07:03.633175: I tensorflow/core/common_runtime/bfc_allocator.cc:1089] InUse at 648309200 of size 5120 next 2217\n",
      "2022-11-04 22:07:03.633180: I tensorflow/core/common_runtime/bfc_allocator.cc:1089] InUse at 64830a600 of size 256 next 2318\n",
      "2022-11-04 22:07:03.633184: I tensorflow/core/common_runtime/bfc_allocator.cc:1089] InUse at 64830a700 of size 256 next 1928\n",
      "2022-11-04 22:07:03.633188: I tensorflow/core/common_runtime/bfc_allocator.cc:1089] InUse at 64830a800 of size 4608 next 2275\n",
      "2022-11-04 22:07:03.633192: I tensorflow/core/common_runtime/bfc_allocator.cc:1089] InUse at 64830ba00 of size 256 next 2088\n",
      "2022-11-04 22:07:03.633197: I tensorflow/core/common_runtime/bfc_allocator.cc:1089] InUse at 64830bb00 of size 2359296 next 703\n",
      "2022-11-04 22:07:03.633202: I tensorflow/core/common_runtime/bfc_allocator.cc:1089] InUse at 64854bb00 of size 2359296 next 671\n",
      "2022-11-04 22:07:03.633206: I tensorflow/core/common_runtime/bfc_allocator.cc:1089] InUse at 64878bb00 of size 2359296 next 824\n",
      "2022-11-04 22:07:03.633212: I tensorflow/core/common_runtime/bfc_allocator.cc:1089] InUse at 6489cbb00 of size 11796480 next 666\n",
      "2022-11-04 22:07:03.633217: I tensorflow/core/common_runtime/bfc_allocator.cc:1089] InUse at 64950bb00 of size 2359296 next 665\n",
      "2022-11-04 22:07:03.633221: I tensorflow/core/common_runtime/bfc_allocator.cc:1089] InUse at 64974bb00 of size 2359296 next 638\n",
      "2022-11-04 22:07:03.633226: I tensorflow/core/common_runtime/bfc_allocator.cc:1089] InUse at 64998bb00 of size 7077888 next 811\n",
      "2022-11-04 22:07:03.633232: I tensorflow/core/common_runtime/bfc_allocator.cc:1089] InUse at 64a04bb00 of size 7883520 next 2323\n",
      "2022-11-04 22:07:03.633237: I tensorflow/core/common_runtime/bfc_allocator.cc:1089] InUse at 64a7d0600 of size 256 next 2324\n",
      "2022-11-04 22:07:03.633242: I tensorflow/core/common_runtime/bfc_allocator.cc:1089] InUse at 64a7d0700 of size 9437184 next 687\n",
      "2022-11-04 22:07:03.633247: I tensorflow/core/common_runtime/bfc_allocator.cc:1089] InUse at 64b0d0700 of size 9437184 next 709\n",
      "2022-11-04 22:07:03.633252: I tensorflow/core/common_runtime/bfc_allocator.cc:1089] InUse at 64b9d0700 of size 7077888 next 1039\n",
      "2022-11-04 22:07:03.633256: I tensorflow/core/common_runtime/bfc_allocator.cc:1089] InUse at 64c090700 of size 2359296 next 849\n",
      "2022-11-04 22:07:03.633261: I tensorflow/core/common_runtime/bfc_allocator.cc:1089] InUse at 64c2d0700 of size 2359296 next 834\n",
      "2022-11-04 22:07:03.633265: I tensorflow/core/common_runtime/bfc_allocator.cc:1089] InUse at 64c510700 of size 2359296 next 686\n",
      "2022-11-04 22:07:03.633269: I tensorflow/core/common_runtime/bfc_allocator.cc:1089] InUse at 64c750700 of size 9437184 next 1045\n",
      "2022-11-04 22:07:03.633274: I tensorflow/core/common_runtime/bfc_allocator.cc:1089] InUse at 64d050700 of size 9437184 next 1046\n",
      "2022-11-04 22:07:03.633278: I tensorflow/core/common_runtime/bfc_allocator.cc:1089] InUse at 64d950700 of size 7077888 next 855\n",
      "2022-11-04 22:07:03.633283: I tensorflow/core/common_runtime/bfc_allocator.cc:1089] InUse at 64e010700 of size 2359296 next 1050\n",
      "2022-11-04 22:07:03.633288: I tensorflow/core/common_runtime/bfc_allocator.cc:1089] InUse at 64e250700 of size 2359296 next 635\n",
      "2022-11-04 22:07:03.633293: I tensorflow/core/common_runtime/bfc_allocator.cc:1089] InUse at 64e490700 of size 2359296 next 856\n",
      "2022-11-04 22:07:03.633298: I tensorflow/core/common_runtime/bfc_allocator.cc:1089] InUse at 64e6d0700 of size 9437184 next 858\n",
      "2022-11-04 22:07:03.633318: I tensorflow/core/common_runtime/bfc_allocator.cc:1089] InUse at 64efd0700 of size 9437184 next 859\n",
      "2022-11-04 22:07:03.633329: I tensorflow/core/common_runtime/bfc_allocator.cc:1089] InUse at 64f8d0700 of size 7077888 next 862\n",
      "2022-11-04 22:07:03.633334: I tensorflow/core/common_runtime/bfc_allocator.cc:1089] InUse at 64ff90700 of size 2359296 next 1058\n",
      "2022-11-04 22:07:03.633338: I tensorflow/core/common_runtime/bfc_allocator.cc:1089] InUse at 6501d0700 of size 2359296 next 1059\n",
      "2022-11-04 22:07:03.633342: I tensorflow/core/common_runtime/bfc_allocator.cc:1089] InUse at 650410700 of size 2359296 next 1060\n",
      "2022-11-04 22:07:03.633346: I tensorflow/core/common_runtime/bfc_allocator.cc:1089] InUse at 650650700 of size 9437184 next 1062\n",
      "2022-11-04 22:07:03.633351: I tensorflow/core/common_runtime/bfc_allocator.cc:1089] InUse at 650f50700 of size 12288 next 866\n",
      "2022-11-04 22:07:03.633355: I tensorflow/core/common_runtime/bfc_allocator.cc:1089] InUse at 650f53700 of size 9437184 next 1063\n",
      "2022-11-04 22:07:03.633359: I tensorflow/core/common_runtime/bfc_allocator.cc:1089] InUse at 651853700 of size 3072 next 1064\n",
      "2022-11-04 22:07:03.633364: I tensorflow/core/common_runtime/bfc_allocator.cc:1089] InUse at 651854300 of size 3072 next 868\n",
      "2022-11-04 22:07:03.633368: I tensorflow/core/common_runtime/bfc_allocator.cc:1089] InUse at 651854f00 of size 3072 next 1065\n",
      "2022-11-04 22:07:03.633372: I tensorflow/core/common_runtime/bfc_allocator.cc:1089] InUse at 651855b00 of size 7077888 next 869\n",
      "2022-11-04 22:07:03.633376: I tensorflow/core/common_runtime/bfc_allocator.cc:1089] InUse at 651f15b00 of size 2359296 next 1066\n",
      "2022-11-04 22:07:03.633381: I tensorflow/core/common_runtime/bfc_allocator.cc:1089] InUse at 652155b00 of size 2359296 next 870\n",
      "2022-11-04 22:07:03.633386: I tensorflow/core/common_runtime/bfc_allocator.cc:1089] InUse at 652395b00 of size 3072 next 1067\n",
      "2022-11-04 22:07:03.633391: I tensorflow/core/common_runtime/bfc_allocator.cc:1089] InUse at 652396700 of size 2359296 next 871\n",
      "2022-11-04 22:07:03.633395: I tensorflow/core/common_runtime/bfc_allocator.cc:1089] InUse at 6525d6700 of size 3072 next 1068\n",
      "2022-11-04 22:07:03.633400: I tensorflow/core/common_runtime/bfc_allocator.cc:1089] InUse at 6525d7300 of size 3072 next 872\n",
      "2022-11-04 22:07:03.633404: I tensorflow/core/common_runtime/bfc_allocator.cc:1089] InUse at 6525d7f00 of size 3072 next 1069\n",
      "2022-11-04 22:07:03.633409: I tensorflow/core/common_runtime/bfc_allocator.cc:1089] InUse at 6525d8b00 of size 9437184 next 873\n",
      "2022-11-04 22:07:03.633413: I tensorflow/core/common_runtime/bfc_allocator.cc:1089] InUse at 652ed8b00 of size 12288 next 1070\n",
      "2022-11-04 22:07:03.633418: I tensorflow/core/common_runtime/bfc_allocator.cc:1089] InUse at 652edbb00 of size 12810240 next 2255\n",
      "2022-11-04 22:07:03.633424: I tensorflow/core/common_runtime/bfc_allocator.cc:1089] InUse at 653b13300 of size 154414080 next 2250\n",
      "2022-11-04 22:07:03.633428: I tensorflow/core/common_runtime/bfc_allocator.cc:1089] InUse at 65ce55f00 of size 154414080 next 2167\n",
      "2022-11-04 22:07:03.633433: I tensorflow/core/common_runtime/bfc_allocator.cc:1089] InUse at 666198b00 of size 12288 next 979\n",
      "2022-11-04 22:07:03.633438: I tensorflow/core/common_runtime/bfc_allocator.cc:1089] InUse at 66619bb00 of size 9437184 next 1177\n",
      "2022-11-04 22:07:03.633442: I tensorflow/core/common_runtime/bfc_allocator.cc:1089] InUse at 666a9bb00 of size 3072 next 980\n",
      "2022-11-04 22:07:03.633447: I tensorflow/core/common_runtime/bfc_allocator.cc:1089] InUse at 666a9c700 of size 3072 next 1178\n",
      "2022-11-04 22:07:03.633451: I tensorflow/core/common_runtime/bfc_allocator.cc:1089] InUse at 666a9d300 of size 3072 next 981\n",
      "2022-11-04 22:07:03.633456: I tensorflow/core/common_runtime/bfc_allocator.cc:1089] InUse at 666a9df00 of size 3072 next 1179\n",
      "2022-11-04 22:07:03.633460: I tensorflow/core/common_runtime/bfc_allocator.cc:1089] InUse at 666a9eb00 of size 3072 next 982\n",
      "2022-11-04 22:07:03.633465: I tensorflow/core/common_runtime/bfc_allocator.cc:1089] InUse at 666a9f700 of size 7077888 next 1180\n",
      "2022-11-04 22:07:03.633469: I tensorflow/core/common_runtime/bfc_allocator.cc:1089] InUse at 66715f700 of size 2359296 next 1181\n",
      "2022-11-04 22:07:03.633474: I tensorflow/core/common_runtime/bfc_allocator.cc:1089] InUse at 66739f700 of size 2359296 next 983\n",
      "2022-11-04 22:07:03.633479: I tensorflow/core/common_runtime/bfc_allocator.cc:1089] InUse at 6675df700 of size 3072 next 1182\n",
      "2022-11-04 22:07:03.633484: I tensorflow/core/common_runtime/bfc_allocator.cc:1089] InUse at 6675e0300 of size 2359296 next 984\n",
      "2022-11-04 22:07:03.633489: I tensorflow/core/common_runtime/bfc_allocator.cc:1089] InUse at 667820300 of size 3072 next 1183\n",
      "2022-11-04 22:07:03.633493: I tensorflow/core/common_runtime/bfc_allocator.cc:1089] InUse at 667820f00 of size 3072 next 985\n",
      "2022-11-04 22:07:03.633498: I tensorflow/core/common_runtime/bfc_allocator.cc:1089] InUse at 667821b00 of size 3072 next 1184\n",
      "2022-11-04 22:07:03.633503: I tensorflow/core/common_runtime/bfc_allocator.cc:1089] InUse at 667822700 of size 9437184 next 986\n",
      "2022-11-04 22:07:03.633508: I tensorflow/core/common_runtime/bfc_allocator.cc:1089] InUse at 668122700 of size 12288 next 1185\n",
      "2022-11-04 22:07:03.633513: I tensorflow/core/common_runtime/bfc_allocator.cc:1089] InUse at 668125700 of size 9437184 next 987\n",
      "2022-11-04 22:07:03.633518: I tensorflow/core/common_runtime/bfc_allocator.cc:1089] InUse at 668a25700 of size 3072 next 1186\n",
      "2022-11-04 22:07:03.633522: I tensorflow/core/common_runtime/bfc_allocator.cc:1089] InUse at 668a26300 of size 3072 next 988\n",
      "2022-11-04 22:07:03.633527: I tensorflow/core/common_runtime/bfc_allocator.cc:1089] InUse at 668a26f00 of size 3072 next 1187\n",
      "2022-11-04 22:07:03.633531: I tensorflow/core/common_runtime/bfc_allocator.cc:1089] InUse at 668a27b00 of size 3072 next 989\n",
      "2022-11-04 22:07:03.633535: I tensorflow/core/common_runtime/bfc_allocator.cc:1089] InUse at 668a28700 of size 3072 next 1188\n",
      "2022-11-04 22:07:03.633540: I tensorflow/core/common_runtime/bfc_allocator.cc:1089] InUse at 668a29300 of size 7077888 next 990\n",
      "2022-11-04 22:07:03.633544: I tensorflow/core/common_runtime/bfc_allocator.cc:1089] InUse at 6690e9300 of size 2359296 next 1189\n",
      "2022-11-04 22:07:03.633549: I tensorflow/core/common_runtime/bfc_allocator.cc:1089] InUse at 669329300 of size 2359296 next 991\n",
      "2022-11-04 22:07:03.633554: I tensorflow/core/common_runtime/bfc_allocator.cc:1089] InUse at 669569300 of size 3072 next 1190\n",
      "2022-11-04 22:07:03.633558: I tensorflow/core/common_runtime/bfc_allocator.cc:1089] InUse at 669569f00 of size 2359296 next 992\n",
      "2022-11-04 22:07:03.633563: I tensorflow/core/common_runtime/bfc_allocator.cc:1089] InUse at 6697a9f00 of size 3072 next 1191\n",
      "2022-11-04 22:07:03.633567: I tensorflow/core/common_runtime/bfc_allocator.cc:1089] InUse at 6697aab00 of size 3072 next 993\n",
      "2022-11-04 22:07:03.633572: I tensorflow/core/common_runtime/bfc_allocator.cc:1089] InUse at 6697ab700 of size 3072 next 1192\n",
      "2022-11-04 22:07:03.633577: I tensorflow/core/common_runtime/bfc_allocator.cc:1089] InUse at 6697ac300 of size 9437184 next 994\n",
      "2022-11-04 22:07:03.633582: I tensorflow/core/common_runtime/bfc_allocator.cc:1089] InUse at 66a0ac300 of size 12288 next 1193\n",
      "2022-11-04 22:07:03.633587: I tensorflow/core/common_runtime/bfc_allocator.cc:1089] InUse at 66a0af300 of size 9437184 next 1194\n",
      "2022-11-04 22:07:03.633592: I tensorflow/core/common_runtime/bfc_allocator.cc:1089] InUse at 66a9af300 of size 3072 next 995\n",
      "2022-11-04 22:07:03.633596: I tensorflow/core/common_runtime/bfc_allocator.cc:1089] InUse at 66a9aff00 of size 3072 next 1195\n",
      "2022-11-04 22:07:03.633601: I tensorflow/core/common_runtime/bfc_allocator.cc:1089] InUse at 66a9b0b00 of size 3072 next 996\n",
      "2022-11-04 22:07:03.633606: I tensorflow/core/common_runtime/bfc_allocator.cc:1089] InUse at 66a9b1700 of size 3072 next 1196\n",
      "2022-11-04 22:07:03.633612: I tensorflow/core/common_runtime/bfc_allocator.cc:1089] InUse at 66a9b2300 of size 3072 next 997\n",
      "2022-11-04 22:07:03.633617: I tensorflow/core/common_runtime/bfc_allocator.cc:1089] InUse at 66a9b2f00 of size 7077888 next 1197\n",
      "2022-11-04 22:07:03.633622: I tensorflow/core/common_runtime/bfc_allocator.cc:1089] InUse at 66b072f00 of size 2359296 next 998\n",
      "2022-11-04 22:07:03.633627: I tensorflow/core/common_runtime/bfc_allocator.cc:1089] InUse at 66b2b2f00 of size 2359296 next 1198\n",
      "2022-11-04 22:07:03.633632: I tensorflow/core/common_runtime/bfc_allocator.cc:1089] InUse at 66b4f2f00 of size 3072 next 999\n",
      "2022-11-04 22:07:03.633637: I tensorflow/core/common_runtime/bfc_allocator.cc:1089] InUse at 66b4f3b00 of size 2359296 next 1199\n",
      "2022-11-04 22:07:03.633642: I tensorflow/core/common_runtime/bfc_allocator.cc:1089] InUse at 66b733b00 of size 3072 next 1000\n",
      "2022-11-04 22:07:03.633647: I tensorflow/core/common_runtime/bfc_allocator.cc:1089] InUse at 66b734700 of size 3072 next 1200\n",
      "2022-11-04 22:07:03.633652: I tensorflow/core/common_runtime/bfc_allocator.cc:1089] InUse at 66b735300 of size 3072 next 1001\n",
      "2022-11-04 22:07:03.633657: I tensorflow/core/common_runtime/bfc_allocator.cc:1089] InUse at 66b735f00 of size 9437184 next 1201\n",
      "2022-11-04 22:07:03.633662: I tensorflow/core/common_runtime/bfc_allocator.cc:1089] InUse at 66c035f00 of size 12288 next 1002\n",
      "2022-11-04 22:07:03.633666: I tensorflow/core/common_runtime/bfc_allocator.cc:1089] InUse at 66c038f00 of size 9437184 next 1202\n",
      "2022-11-04 22:07:03.633671: I tensorflow/core/common_runtime/bfc_allocator.cc:1089] InUse at 66c938f00 of size 3072 next 1003\n",
      "2022-11-04 22:07:03.633676: I tensorflow/core/common_runtime/bfc_allocator.cc:1089] InUse at 66c939b00 of size 3072 next 1203\n",
      "2022-11-04 22:07:03.633681: I tensorflow/core/common_runtime/bfc_allocator.cc:1089] InUse at 66c93a700 of size 3072 next 1004\n",
      "2022-11-04 22:07:03.633685: I tensorflow/core/common_runtime/bfc_allocator.cc:1089] InUse at 66c93b300 of size 3072 next 1204\n",
      "2022-11-04 22:07:03.633690: I tensorflow/core/common_runtime/bfc_allocator.cc:1089] InUse at 66c93bf00 of size 3072 next 1005\n",
      "2022-11-04 22:07:03.633696: I tensorflow/core/common_runtime/bfc_allocator.cc:1089] InUse at 66c93cb00 of size 7077888 next 1205\n",
      "2022-11-04 22:07:03.633701: I tensorflow/core/common_runtime/bfc_allocator.cc:1089] InUse at 66cffcb00 of size 2359296 next 1006\n",
      "2022-11-04 22:07:03.633706: I tensorflow/core/common_runtime/bfc_allocator.cc:1089] InUse at 66d23cb00 of size 2359296 next 1206\n",
      "2022-11-04 22:07:03.633711: I tensorflow/core/common_runtime/bfc_allocator.cc:1089] InUse at 66d47cb00 of size 3072 next 1007\n",
      "2022-11-04 22:07:03.633716: I tensorflow/core/common_runtime/bfc_allocator.cc:1089] InUse at 66d47d700 of size 2359296 next 1207\n",
      "2022-11-04 22:07:03.633721: I tensorflow/core/common_runtime/bfc_allocator.cc:1089] InUse at 66d6bd700 of size 3072 next 1008\n",
      "2022-11-04 22:07:03.633726: I tensorflow/core/common_runtime/bfc_allocator.cc:1089] InUse at 66d6be300 of size 3072 next 1208\n",
      "2022-11-04 22:07:03.633731: I tensorflow/core/common_runtime/bfc_allocator.cc:1089] InUse at 66d6bef00 of size 3072 next 1009\n",
      "2022-11-04 22:07:03.633736: I tensorflow/core/common_runtime/bfc_allocator.cc:1089] InUse at 66d6bfb00 of size 9437184 next 1209\n",
      "2022-11-04 22:07:03.633741: I tensorflow/core/common_runtime/bfc_allocator.cc:1089] InUse at 66dfbfb00 of size 12288 next 1010\n",
      "2022-11-04 22:07:03.633746: I tensorflow/core/common_runtime/bfc_allocator.cc:1089] InUse at 66dfc2b00 of size 9437184 next 1210\n",
      "2022-11-04 22:07:03.633751: I tensorflow/core/common_runtime/bfc_allocator.cc:1089] InUse at 66e8c2b00 of size 3072 next 1011\n",
      "2022-11-04 22:07:03.633756: I tensorflow/core/common_runtime/bfc_allocator.cc:1089] InUse at 66e8c3700 of size 3072 next 1211\n",
      "2022-11-04 22:07:03.633761: I tensorflow/core/common_runtime/bfc_allocator.cc:1089] InUse at 66e8c4300 of size 3072 next 1012\n",
      "2022-11-04 22:07:03.633767: I tensorflow/core/common_runtime/bfc_allocator.cc:1089] InUse at 66e8c4f00 of size 3072 next 1212\n",
      "2022-11-04 22:07:03.633772: I tensorflow/core/common_runtime/bfc_allocator.cc:1089] InUse at 66e8c5b00 of size 3072 next 1013\n",
      "2022-11-04 22:07:03.633777: I tensorflow/core/common_runtime/bfc_allocator.cc:1089] InUse at 66e8c6700 of size 7077888 next 1213\n",
      "2022-11-04 22:07:03.633782: I tensorflow/core/common_runtime/bfc_allocator.cc:1089] InUse at 66ef86700 of size 2359296 next 1014\n",
      "2022-11-04 22:07:03.633787: I tensorflow/core/common_runtime/bfc_allocator.cc:1089] InUse at 66f1c6700 of size 2359296 next 1214\n",
      "2022-11-04 22:07:03.633792: I tensorflow/core/common_runtime/bfc_allocator.cc:1089] InUse at 66f406700 of size 3072 next 1015\n",
      "2022-11-04 22:07:03.633797: I tensorflow/core/common_runtime/bfc_allocator.cc:1089] InUse at 66f407300 of size 2359296 next 1215\n",
      "2022-11-04 22:07:03.633801: I tensorflow/core/common_runtime/bfc_allocator.cc:1089] InUse at 66f647300 of size 3072 next 1016\n",
      "2022-11-04 22:07:03.633806: I tensorflow/core/common_runtime/bfc_allocator.cc:1089] InUse at 66f647f00 of size 3072 next 1216\n",
      "2022-11-04 22:07:03.633811: I tensorflow/core/common_runtime/bfc_allocator.cc:1089] InUse at 66f648b00 of size 3072 next 1017\n",
      "2022-11-04 22:07:03.633816: I tensorflow/core/common_runtime/bfc_allocator.cc:1089] InUse at 66f649700 of size 9437184 next 1217\n",
      "2022-11-04 22:07:03.633821: I tensorflow/core/common_runtime/bfc_allocator.cc:1089] InUse at 66ff49700 of size 12288 next 1018\n",
      "2022-11-04 22:07:03.633826: I tensorflow/core/common_runtime/bfc_allocator.cc:1089] InUse at 66ff4c700 of size 9437184 next 1218\n",
      "2022-11-04 22:07:03.633831: I tensorflow/core/common_runtime/bfc_allocator.cc:1089] InUse at 67084c700 of size 3072 next 1019\n",
      "2022-11-04 22:07:03.633836: I tensorflow/core/common_runtime/bfc_allocator.cc:1089] InUse at 67084d300 of size 3072 next 1219\n",
      "2022-11-04 22:07:03.633841: I tensorflow/core/common_runtime/bfc_allocator.cc:1089] InUse at 67084df00 of size 3072 next 1020\n",
      "2022-11-04 22:07:03.633846: I tensorflow/core/common_runtime/bfc_allocator.cc:1089] InUse at 67084eb00 of size 3072 next 1220\n",
      "2022-11-04 22:07:03.633851: I tensorflow/core/common_runtime/bfc_allocator.cc:1089] InUse at 67084f700 of size 3072 next 1021\n",
      "2022-11-04 22:07:03.633855: I tensorflow/core/common_runtime/bfc_allocator.cc:1089] InUse at 670850300 of size 7077888 next 1221\n",
      "2022-11-04 22:07:03.633860: I tensorflow/core/common_runtime/bfc_allocator.cc:1089] InUse at 670f10300 of size 2359296 next 1022\n",
      "2022-11-04 22:07:03.633865: I tensorflow/core/common_runtime/bfc_allocator.cc:1089] InUse at 671150300 of size 2359296 next 1222\n",
      "2022-11-04 22:07:03.633870: I tensorflow/core/common_runtime/bfc_allocator.cc:1089] InUse at 671390300 of size 3072 next 1023\n",
      "2022-11-04 22:07:03.633875: I tensorflow/core/common_runtime/bfc_allocator.cc:1089] InUse at 671390f00 of size 2359296 next 1223\n",
      "2022-11-04 22:07:03.633880: I tensorflow/core/common_runtime/bfc_allocator.cc:1089] InUse at 6715d0f00 of size 3072 next 1024\n",
      "2022-11-04 22:07:03.633884: I tensorflow/core/common_runtime/bfc_allocator.cc:1089] InUse at 6715d1b00 of size 3072 next 1224\n",
      "2022-11-04 22:07:03.633890: I tensorflow/core/common_runtime/bfc_allocator.cc:1089] InUse at 6715d2700 of size 3072 next 1025\n",
      "2022-11-04 22:07:03.633895: I tensorflow/core/common_runtime/bfc_allocator.cc:1089] InUse at 6715d3300 of size 9437184 next 1225\n",
      "2022-11-04 22:07:03.633900: I tensorflow/core/common_runtime/bfc_allocator.cc:1089] InUse at 671ed3300 of size 12288 next 1026\n",
      "2022-11-04 22:07:03.633905: I tensorflow/core/common_runtime/bfc_allocator.cc:1089] InUse at 671ed6300 of size 9437184 next 1226\n",
      "2022-11-04 22:07:03.633910: I tensorflow/core/common_runtime/bfc_allocator.cc:1089] InUse at 6727d6300 of size 3072 next 1027\n",
      "2022-11-04 22:07:03.633915: I tensorflow/core/common_runtime/bfc_allocator.cc:1089] InUse at 6727d6f00 of size 3072 next 1227\n",
      "2022-11-04 22:07:03.633920: I tensorflow/core/common_runtime/bfc_allocator.cc:1089] InUse at 6727d7b00 of size 3072 next 1028\n",
      "2022-11-04 22:07:03.633925: I tensorflow/core/common_runtime/bfc_allocator.cc:1089] InUse at 6727d8700 of size 2359296 next 1228\n",
      "2022-11-04 22:07:03.633931: I tensorflow/core/common_runtime/bfc_allocator.cc:1089] InUse at 672a18700 of size 3072 next 1029\n",
      "2022-11-04 22:07:03.633936: I tensorflow/core/common_runtime/bfc_allocator.cc:1089] InUse at 672a19300 of size 6144 next 1229\n",
      "2022-11-04 22:07:03.633940: I tensorflow/core/common_runtime/bfc_allocator.cc:1089] InUse at 672a1ab00 of size 3072 next 2189\n",
      "2022-11-04 22:07:03.633945: I tensorflow/core/common_runtime/bfc_allocator.cc:1089] InUse at 672a1b700 of size 3072 next 2059\n",
      "2022-11-04 22:07:03.633950: I tensorflow/core/common_runtime/bfc_allocator.cc:1089] Free  at 672a1c300 of size 512 next 2103\n",
      "2022-11-04 22:07:03.633955: I tensorflow/core/common_runtime/bfc_allocator.cc:1089] InUse at 672a1c500 of size 3072 next 1957\n",
      "2022-11-04 22:07:03.633960: I tensorflow/core/common_runtime/bfc_allocator.cc:1089] InUse at 672a1d100 of size 3072 next 1853\n",
      "2022-11-04 22:07:03.633965: I tensorflow/core/common_runtime/bfc_allocator.cc:1089] InUse at 672a1dd00 of size 256 next 2132\n",
      "2022-11-04 22:07:03.633970: I tensorflow/core/common_runtime/bfc_allocator.cc:1089] InUse at 672a1de00 of size 256 next 1948\n",
      "2022-11-04 22:07:03.633975: I tensorflow/core/common_runtime/bfc_allocator.cc:1089] InUse at 672a1df00 of size 3072 next 2162\n",
      "2022-11-04 22:07:03.633980: I tensorflow/core/common_runtime/bfc_allocator.cc:1089] InUse at 672a1eb00 of size 3072 next 1861\n",
      "2022-11-04 22:07:03.633985: I tensorflow/core/common_runtime/bfc_allocator.cc:1089] InUse at 672a1f700 of size 3072 next 1862\n",
      "2022-11-04 22:07:03.633990: I tensorflow/core/common_runtime/bfc_allocator.cc:1089] InUse at 672a20300 of size 12288 next 1860\n",
      "2022-11-04 22:07:03.633995: I tensorflow/core/common_runtime/bfc_allocator.cc:1089] InUse at 672a23300 of size 3072 next 1854\n",
      "2022-11-04 22:07:03.633999: I tensorflow/core/common_runtime/bfc_allocator.cc:1089] InUse at 672a23f00 of size 3072 next 1978\n",
      "2022-11-04 22:07:03.634004: I tensorflow/core/common_runtime/bfc_allocator.cc:1089] InUse at 672a24b00 of size 3072 next 1864\n",
      "2022-11-04 22:07:03.634010: I tensorflow/core/common_runtime/bfc_allocator.cc:1089] InUse at 672a25700 of size 3072 next 1855\n",
      "2022-11-04 22:07:03.634015: I tensorflow/core/common_runtime/bfc_allocator.cc:1089] InUse at 672a26300 of size 3072 next 2067\n",
      "2022-11-04 22:07:03.634020: I tensorflow/core/common_runtime/bfc_allocator.cc:1089] InUse at 672a26f00 of size 3072 next 1880\n",
      "2022-11-04 22:07:03.634025: I tensorflow/core/common_runtime/bfc_allocator.cc:1089] InUse at 672a27b00 of size 3072 next 1879\n",
      "2022-11-04 22:07:03.634030: I tensorflow/core/common_runtime/bfc_allocator.cc:1089] InUse at 672a28700 of size 3072 next 2285\n",
      "2022-11-04 22:07:03.634035: I tensorflow/core/common_runtime/bfc_allocator.cc:1089] Free  at 672a29300 of size 9216 next 1994\n",
      "2022-11-04 22:07:03.634040: I tensorflow/core/common_runtime/bfc_allocator.cc:1089] InUse at 672a2b700 of size 3072 next 2025\n",
      "2022-11-04 22:07:03.634045: I tensorflow/core/common_runtime/bfc_allocator.cc:1089] Free  at 672a2c300 of size 6144 next 2187\n",
      "2022-11-04 22:07:03.634050: I tensorflow/core/common_runtime/bfc_allocator.cc:1089] InUse at 672a2db00 of size 6144 next 2109\n",
      "2022-11-04 22:07:03.634055: I tensorflow/core/common_runtime/bfc_allocator.cc:1089] Free  at 672a2f300 of size 21504 next 1934\n",
      "2022-11-04 22:07:03.634060: I tensorflow/core/common_runtime/bfc_allocator.cc:1089] InUse at 672a34700 of size 12288 next 2127\n",
      "2022-11-04 22:07:03.634065: I tensorflow/core/common_runtime/bfc_allocator.cc:1089] InUse at 672a37700 of size 3072 next 2321\n",
      "2022-11-04 22:07:03.634070: I tensorflow/core/common_runtime/bfc_allocator.cc:1089] InUse at 672a38300 of size 3072 next 2231\n",
      "2022-11-04 22:07:03.634075: I tensorflow/core/common_runtime/bfc_allocator.cc:1089] InUse at 672a38f00 of size 3072 next 2072\n",
      "2022-11-04 22:07:03.634080: I tensorflow/core/common_runtime/bfc_allocator.cc:1089] InUse at 672a39b00 of size 3072 next 2021\n",
      "2022-11-04 22:07:03.634085: I tensorflow/core/common_runtime/bfc_allocator.cc:1089] InUse at 672a3a700 of size 3072 next 1939\n",
      "2022-11-04 22:07:03.634090: I tensorflow/core/common_runtime/bfc_allocator.cc:1089] InUse at 672a3b300 of size 3072 next 1958\n",
      "2022-11-04 22:07:03.634094: I tensorflow/core/common_runtime/bfc_allocator.cc:1089] InUse at 672a3bf00 of size 3840 next 2017\n",
      "2022-11-04 22:07:03.634099: I tensorflow/core/common_runtime/bfc_allocator.cc:1089] InUse at 672a3ce00 of size 3072 next 1937\n",
      "2022-11-04 22:07:03.634105: I tensorflow/core/common_runtime/bfc_allocator.cc:1089] InUse at 672a3da00 of size 18944 next 1960\n",
      "2022-11-04 22:07:03.634110: I tensorflow/core/common_runtime/bfc_allocator.cc:1089] InUse at 672a42400 of size 256 next 2181\n",
      "2022-11-04 22:07:03.634115: I tensorflow/core/common_runtime/bfc_allocator.cc:1089] InUse at 672a42500 of size 3072 next 1891\n",
      "2022-11-04 22:07:03.634120: I tensorflow/core/common_runtime/bfc_allocator.cc:1089] InUse at 672a43100 of size 3072 next 1890\n",
      "2022-11-04 22:07:03.634125: I tensorflow/core/common_runtime/bfc_allocator.cc:1089] InUse at 672a43d00 of size 3072 next 1230\n",
      "2022-11-04 22:07:03.634130: I tensorflow/core/common_runtime/bfc_allocator.cc:1089] InUse at 672a44900 of size 3072 next 2143\n",
      "2022-11-04 22:07:03.634135: I tensorflow/core/common_runtime/bfc_allocator.cc:1089] InUse at 672a45500 of size 3072 next 1907\n",
      "2022-11-04 22:07:03.634140: I tensorflow/core/common_runtime/bfc_allocator.cc:1089] InUse at 672a46100 of size 3072 next 1031\n",
      "2022-11-04 22:07:03.634145: I tensorflow/core/common_runtime/bfc_allocator.cc:1089] InUse at 672a46d00 of size 3840 next 2128\n",
      "2022-11-04 22:07:03.634150: I tensorflow/core/common_runtime/bfc_allocator.cc:1089] InUse at 672a47c00 of size 3072 next 2119\n",
      "2022-11-04 22:07:03.634155: I tensorflow/core/common_runtime/bfc_allocator.cc:1089] InUse at 672a48800 of size 20736 next 1883\n",
      "2022-11-04 22:07:03.634160: I tensorflow/core/common_runtime/bfc_allocator.cc:1089] InUse at 672a4d900 of size 3072 next 1886\n",
      "2022-11-04 22:07:03.634165: I tensorflow/core/common_runtime/bfc_allocator.cc:1089] InUse at 672a4e500 of size 3072 next 1885\n",
      "2022-11-04 22:07:03.634170: I tensorflow/core/common_runtime/bfc_allocator.cc:1089] InUse at 672a4f100 of size 3072 next 1231\n",
      "2022-11-04 22:07:03.634175: I tensorflow/core/common_runtime/bfc_allocator.cc:1089] InUse at 672a4fd00 of size 3072 next 1910\n",
      "2022-11-04 22:07:03.634180: I tensorflow/core/common_runtime/bfc_allocator.cc:1089] InUse at 672a50900 of size 3072 next 1895\n",
      "2022-11-04 22:07:03.634184: I tensorflow/core/common_runtime/bfc_allocator.cc:1089] InUse at 672a51500 of size 3072 next 2316\n",
      "2022-11-04 22:07:03.634189: I tensorflow/core/common_runtime/bfc_allocator.cc:1089] InUse at 672a52100 of size 3072 next 1965\n",
      "2022-11-04 22:07:03.634195: I tensorflow/core/common_runtime/bfc_allocator.cc:1089] InUse at 672a52d00 of size 3840 next 1898\n",
      "2022-11-04 22:07:03.634200: I tensorflow/core/common_runtime/bfc_allocator.cc:1089] InUse at 672a53c00 of size 3072 next 2240\n",
      "2022-11-04 22:07:03.634205: I tensorflow/core/common_runtime/bfc_allocator.cc:1089] InUse at 672a54800 of size 20992 next 2197\n",
      "2022-11-04 22:07:03.634210: I tensorflow/core/common_runtime/bfc_allocator.cc:1089] InUse at 672a59a00 of size 3072 next 2044\n",
      "2022-11-04 22:07:03.634215: I tensorflow/core/common_runtime/bfc_allocator.cc:1089] InUse at 672a5a600 of size 3072 next 1849\n",
      "2022-11-04 22:07:03.634220: I tensorflow/core/common_runtime/bfc_allocator.cc:1089] InUse at 672a5b200 of size 12288 next 1914\n",
      "2022-11-04 22:07:03.634225: I tensorflow/core/common_runtime/bfc_allocator.cc:1089] InUse at 672a5e200 of size 3072 next 1945\n",
      "2022-11-04 22:07:03.634230: I tensorflow/core/common_runtime/bfc_allocator.cc:1089] InUse at 672a5ee00 of size 3072 next 2006\n",
      "2022-11-04 22:07:03.634235: I tensorflow/core/common_runtime/bfc_allocator.cc:1089] InUse at 672a5fa00 of size 3072 next 1969\n",
      "2022-11-04 22:07:03.634240: I tensorflow/core/common_runtime/bfc_allocator.cc:1089] InUse at 672a60600 of size 3072 next 2296\n",
      "2022-11-04 22:07:03.634245: I tensorflow/core/common_runtime/bfc_allocator.cc:1089] InUse at 672a61200 of size 3072 next 2276\n",
      "2022-11-04 22:07:03.634250: I tensorflow/core/common_runtime/bfc_allocator.cc:1089] InUse at 672a61e00 of size 4864 next 2131\n",
      "2022-11-04 22:07:03.634255: I tensorflow/core/common_runtime/bfc_allocator.cc:1089] InUse at 672a63100 of size 4096 next 2175\n",
      "2022-11-04 22:07:03.634260: I tensorflow/core/common_runtime/bfc_allocator.cc:1089] InUse at 672a64100 of size 3072 next 2140\n",
      "2022-11-04 22:07:03.634265: I tensorflow/core/common_runtime/bfc_allocator.cc:1089] InUse at 672a64d00 of size 3072 next 2201\n",
      "2022-11-04 22:07:03.634269: I tensorflow/core/common_runtime/bfc_allocator.cc:1089] InUse at 672a65900 of size 3072 next 1984\n",
      "2022-11-04 22:07:03.634274: I tensorflow/core/common_runtime/bfc_allocator.cc:1089] InUse at 672a66500 of size 3072 next 1857\n",
      "2022-11-04 22:07:03.634279: I tensorflow/core/common_runtime/bfc_allocator.cc:1089] InUse at 672a67100 of size 3072 next 1858\n",
      "2022-11-04 22:07:03.634284: I tensorflow/core/common_runtime/bfc_allocator.cc:1089] InUse at 672a67d00 of size 12288 next 1878\n",
      "2022-11-04 22:07:03.634289: I tensorflow/core/common_runtime/bfc_allocator.cc:1089] InUse at 672a6ad00 of size 3072 next 1865\n",
      "2022-11-04 22:07:03.634294: I tensorflow/core/common_runtime/bfc_allocator.cc:1089] InUse at 672a6b900 of size 3072 next 1882\n",
      "2022-11-04 22:07:03.634298: I tensorflow/core/common_runtime/bfc_allocator.cc:1089] InUse at 672a6c500 of size 3072 next 1993\n",
      "2022-11-04 22:07:03.634317: I tensorflow/core/common_runtime/bfc_allocator.cc:1089] InUse at 672a6d100 of size 3072 next 2040\n",
      "2022-11-04 22:07:03.634328: I tensorflow/core/common_runtime/bfc_allocator.cc:1089] InUse at 672a6dd00 of size 3072 next 2317\n",
      "2022-11-04 22:07:03.634334: I tensorflow/core/common_runtime/bfc_allocator.cc:1089] InUse at 672a6e900 of size 3072 next 1911\n",
      "2022-11-04 22:07:03.634339: I tensorflow/core/common_runtime/bfc_allocator.cc:1089] Free  at 672a6f500 of size 61440 next 1867\n",
      "2022-11-04 22:07:03.634344: I tensorflow/core/common_runtime/bfc_allocator.cc:1089] InUse at 672a7e500 of size 3840 next 1870\n",
      "2022-11-04 22:07:03.634349: I tensorflow/core/common_runtime/bfc_allocator.cc:1089] InUse at 672a7f400 of size 3072 next 1874\n",
      "2022-11-04 22:07:03.634354: I tensorflow/core/common_runtime/bfc_allocator.cc:1089] InUse at 672a80000 of size 3072 next 1866\n",
      "2022-11-04 22:07:03.634359: I tensorflow/core/common_runtime/bfc_allocator.cc:1089] InUse at 672a80c00 of size 3072 next 1871\n",
      "2022-11-04 22:07:03.634363: I tensorflow/core/common_runtime/bfc_allocator.cc:1089] InUse at 672a81800 of size 3072 next 1869\n",
      "2022-11-04 22:07:03.634369: I tensorflow/core/common_runtime/bfc_allocator.cc:1089] InUse at 672a82400 of size 3072 next 1233\n",
      "2022-11-04 22:07:03.634373: I tensorflow/core/common_runtime/bfc_allocator.cc:1089] InUse at 672a83000 of size 3072 next 1234\n",
      "2022-11-04 22:07:03.634378: I tensorflow/core/common_runtime/bfc_allocator.cc:1089] InUse at 672a83c00 of size 3072 next 1868\n",
      "2022-11-04 22:07:03.634383: I tensorflow/core/common_runtime/bfc_allocator.cc:1089] InUse at 672a84800 of size 3840 next 1892\n",
      "2022-11-04 22:07:03.634388: I tensorflow/core/common_runtime/bfc_allocator.cc:1089] InUse at 672a85700 of size 3072 next 1888\n",
      "2022-11-04 22:07:03.634393: I tensorflow/core/common_runtime/bfc_allocator.cc:1089] InUse at 672a86300 of size 20736 next 1884\n",
      "2022-11-04 22:07:03.634398: I tensorflow/core/common_runtime/bfc_allocator.cc:1089] InUse at 672a8b400 of size 2398464 next 1876\n",
      "2022-11-04 22:07:03.634404: I tensorflow/core/common_runtime/bfc_allocator.cc:1089] InUse at 672cd4d00 of size 3594240 next 2238\n",
      "2022-11-04 22:07:03.634410: I tensorflow/core/common_runtime/bfc_allocator.cc:1089] InUse at 673042500 of size 3348736 next 2292\n",
      "2022-11-04 22:07:03.634416: I tensorflow/core/common_runtime/bfc_allocator.cc:1089] InUse at 673373e00 of size 256 next 1899\n",
      "2022-11-04 22:07:03.634421: I tensorflow/core/common_runtime/bfc_allocator.cc:1089] InUse at 673373f00 of size 256 next 1932\n",
      "2022-11-04 22:07:03.634426: I tensorflow/core/common_runtime/bfc_allocator.cc:1089] InUse at 673374000 of size 9437184 next 2112\n",
      "2022-11-04 22:07:03.634431: I tensorflow/core/common_runtime/bfc_allocator.cc:1089] InUse at 673c74000 of size 9437184 next 1950\n",
      "2022-11-04 22:07:03.634435: I tensorflow/core/common_runtime/bfc_allocator.cc:1089] InUse at 674574000 of size 9437184 next 1923\n",
      "2022-11-04 22:07:03.634440: I tensorflow/core/common_runtime/bfc_allocator.cc:1089] InUse at 674e74000 of size 9437184 next 2308\n",
      "2022-11-04 22:07:03.634446: I tensorflow/core/common_runtime/bfc_allocator.cc:1089] InUse at 675774000 of size 244891648 next 18446744073709551615\n",
      "2022-11-04 22:07:03.634452: I tensorflow/core/common_runtime/bfc_allocator.cc:1094]      Summary of in-use Chunks by size: \n",
      "2022-11-04 22:07:03.634466: I tensorflow/core/common_runtime/bfc_allocator.cc:1097] 56 Chunks of size 256 totalling 14.0KiB\n",
      "2022-11-04 22:07:03.634473: I tensorflow/core/common_runtime/bfc_allocator.cc:1097] 1 Chunks of size 1280 totalling 1.2KiB\n",
      "2022-11-04 22:07:03.634479: I tensorflow/core/common_runtime/bfc_allocator.cc:1097] 1071 Chunks of size 3072 totalling 3.14MiB\n",
      "2022-11-04 22:07:03.634486: I tensorflow/core/common_runtime/bfc_allocator.cc:1097] 5 Chunks of size 3328 totalling 16.2KiB\n",
      "2022-11-04 22:07:03.634492: I tensorflow/core/common_runtime/bfc_allocator.cc:1097] 7 Chunks of size 3840 totalling 26.2KiB\n",
      "2022-11-04 22:07:03.634498: I tensorflow/core/common_runtime/bfc_allocator.cc:1097] 4 Chunks of size 4096 totalling 16.0KiB\n",
      "2022-11-04 22:07:03.634504: I tensorflow/core/common_runtime/bfc_allocator.cc:1097] 1 Chunks of size 4352 totalling 4.2KiB\n",
      "2022-11-04 22:07:03.634510: I tensorflow/core/common_runtime/bfc_allocator.cc:1097] 2 Chunks of size 4608 totalling 9.0KiB\n",
      "2022-11-04 22:07:03.634516: I tensorflow/core/common_runtime/bfc_allocator.cc:1097] 3 Chunks of size 4864 totalling 14.2KiB\n",
      "2022-11-04 22:07:03.634522: I tensorflow/core/common_runtime/bfc_allocator.cc:1097] 7 Chunks of size 5120 totalling 35.0KiB\n",
      "2022-11-04 22:07:03.634528: I tensorflow/core/common_runtime/bfc_allocator.cc:1097] 2 Chunks of size 5376 totalling 10.5KiB\n",
      "2022-11-04 22:07:03.634534: I tensorflow/core/common_runtime/bfc_allocator.cc:1097] 3 Chunks of size 5632 totalling 16.5KiB\n",
      "2022-11-04 22:07:03.634540: I tensorflow/core/common_runtime/bfc_allocator.cc:1097] 5 Chunks of size 5888 totalling 28.8KiB\n",
      "2022-11-04 22:07:03.634546: I tensorflow/core/common_runtime/bfc_allocator.cc:1097] 10 Chunks of size 6144 totalling 60.0KiB\n",
      "2022-11-04 22:07:03.634555: I tensorflow/core/common_runtime/bfc_allocator.cc:1097] 93 Chunks of size 12288 totalling 1.09MiB\n",
      "2022-11-04 22:07:03.634561: I tensorflow/core/common_runtime/bfc_allocator.cc:1097] 1 Chunks of size 15360 totalling 15.0KiB\n",
      "2022-11-04 22:07:03.634567: I tensorflow/core/common_runtime/bfc_allocator.cc:1097] 1 Chunks of size 16384 totalling 16.0KiB\n",
      "2022-11-04 22:07:03.634572: I tensorflow/core/common_runtime/bfc_allocator.cc:1097] 1 Chunks of size 16640 totalling 16.2KiB\n",
      "2022-11-04 22:07:03.634578: I tensorflow/core/common_runtime/bfc_allocator.cc:1097] 1 Chunks of size 17664 totalling 17.2KiB\n",
      "2022-11-04 22:07:03.634584: I tensorflow/core/common_runtime/bfc_allocator.cc:1097] 3 Chunks of size 18432 totalling 54.0KiB\n",
      "2022-11-04 22:07:03.634589: I tensorflow/core/common_runtime/bfc_allocator.cc:1097] 1 Chunks of size 18688 totalling 18.2KiB\n",
      "2022-11-04 22:07:03.634599: I tensorflow/core/common_runtime/bfc_allocator.cc:1097] 1 Chunks of size 18944 totalling 18.5KiB\n",
      "2022-11-04 22:07:03.634604: I tensorflow/core/common_runtime/bfc_allocator.cc:1097] 2 Chunks of size 19456 totalling 38.0KiB\n",
      "2022-11-04 22:07:03.634610: I tensorflow/core/common_runtime/bfc_allocator.cc:1097] 4 Chunks of size 20736 totalling 81.0KiB\n",
      "2022-11-04 22:07:03.634616: I tensorflow/core/common_runtime/bfc_allocator.cc:1097] 1 Chunks of size 20992 totalling 20.5KiB\n",
      "2022-11-04 22:07:03.634623: I tensorflow/core/common_runtime/bfc_allocator.cc:1097] 8 Chunks of size 21504 totalling 168.0KiB\n",
      "2022-11-04 22:07:03.634628: I tensorflow/core/common_runtime/bfc_allocator.cc:1097] 2 Chunks of size 21760 totalling 42.5KiB\n",
      "2022-11-04 22:07:03.634637: I tensorflow/core/common_runtime/bfc_allocator.cc:1097] 1 Chunks of size 22272 totalling 21.8KiB\n",
      "2022-11-04 22:07:03.634643: I tensorflow/core/common_runtime/bfc_allocator.cc:1097] 352 Chunks of size 2359296 totalling 792.00MiB\n",
      "2022-11-04 22:07:03.634649: I tensorflow/core/common_runtime/bfc_allocator.cc:1097] 1 Chunks of size 2392832 totalling 2.28MiB\n",
      "2022-11-04 22:07:03.634655: I tensorflow/core/common_runtime/bfc_allocator.cc:1097] 1 Chunks of size 2398464 totalling 2.29MiB\n",
      "2022-11-04 22:07:03.634660: I tensorflow/core/common_runtime/bfc_allocator.cc:1097] 1 Chunks of size 2417664 totalling 2.31MiB\n",
      "2022-11-04 22:07:03.634666: I tensorflow/core/common_runtime/bfc_allocator.cc:1097] 1 Chunks of size 2427136 totalling 2.31MiB\n",
      "2022-11-04 22:07:03.634672: I tensorflow/core/common_runtime/bfc_allocator.cc:1097] 13 Chunks of size 3145728 totalling 39.00MiB\n",
      "2022-11-04 22:07:03.634678: I tensorflow/core/common_runtime/bfc_allocator.cc:1097] 1 Chunks of size 3348736 totalling 3.19MiB\n",
      "2022-11-04 22:07:03.634683: I tensorflow/core/common_runtime/bfc_allocator.cc:1097] 1 Chunks of size 3416064 totalling 3.26MiB\n",
      "2022-11-04 22:07:03.634689: I tensorflow/core/common_runtime/bfc_allocator.cc:1097] 1 Chunks of size 3425024 totalling 3.27MiB\n",
      "2022-11-04 22:07:03.634695: I tensorflow/core/common_runtime/bfc_allocator.cc:1097] 1 Chunks of size 3594240 totalling 3.43MiB\n",
      "2022-11-04 22:07:03.634700: I tensorflow/core/common_runtime/bfc_allocator.cc:1097] 1 Chunks of size 3694848 totalling 3.52MiB\n",
      "2022-11-04 22:07:03.634706: I tensorflow/core/common_runtime/bfc_allocator.cc:1097] 1 Chunks of size 3787776 totalling 3.61MiB\n",
      "2022-11-04 22:07:03.634712: I tensorflow/core/common_runtime/bfc_allocator.cc:1097] 1 Chunks of size 3919872 totalling 3.74MiB\n",
      "2022-11-04 22:07:03.634717: I tensorflow/core/common_runtime/bfc_allocator.cc:1097] 2 Chunks of size 3932160 totalling 7.50MiB\n",
      "2022-11-04 22:07:03.634724: I tensorflow/core/common_runtime/bfc_allocator.cc:1097] 1 Chunks of size 4380416 totalling 4.18MiB\n",
      "2022-11-04 22:07:03.634730: I tensorflow/core/common_runtime/bfc_allocator.cc:1097] 1 Chunks of size 4407296 totalling 4.20MiB\n",
      "2022-11-04 22:07:03.634736: I tensorflow/core/common_runtime/bfc_allocator.cc:1097] 93 Chunks of size 7077888 totalling 627.75MiB\n",
      "2022-11-04 22:07:03.634745: I tensorflow/core/common_runtime/bfc_allocator.cc:1097] 1 Chunks of size 7883520 totalling 7.52MiB\n",
      "2022-11-04 22:07:03.634750: I tensorflow/core/common_runtime/bfc_allocator.cc:1097] 231 Chunks of size 9437184 totalling 2.03GiB\n",
      "2022-11-04 22:07:03.634756: I tensorflow/core/common_runtime/bfc_allocator.cc:1097] 1 Chunks of size 10211584 totalling 9.74MiB\n",
      "2022-11-04 22:07:03.634762: I tensorflow/core/common_runtime/bfc_allocator.cc:1097] 2 Chunks of size 10223616 totalling 19.50MiB\n",
      "2022-11-04 22:07:03.634768: I tensorflow/core/common_runtime/bfc_allocator.cc:1097] 3 Chunks of size 10497024 totalling 30.03MiB\n",
      "2022-11-04 22:07:03.634774: I tensorflow/core/common_runtime/bfc_allocator.cc:1097] 1 Chunks of size 11480064 totalling 10.95MiB\n",
      "2022-11-04 22:07:03.634780: I tensorflow/core/common_runtime/bfc_allocator.cc:1097] 8 Chunks of size 11796480 totalling 90.00MiB\n",
      "2022-11-04 22:07:03.634786: I tensorflow/core/common_runtime/bfc_allocator.cc:1097] 1 Chunks of size 12810240 totalling 12.22MiB\n",
      "2022-11-04 22:07:03.634792: I tensorflow/core/common_runtime/bfc_allocator.cc:1097] 2 Chunks of size 12856320 totalling 24.52MiB\n",
      "2022-11-04 22:07:03.634797: I tensorflow/core/common_runtime/bfc_allocator.cc:1097] 2 Chunks of size 13369344 totalling 25.50MiB\n",
      "2022-11-04 22:07:03.634805: I tensorflow/core/common_runtime/bfc_allocator.cc:1097] 2 Chunks of size 14155776 totalling 27.00MiB\n",
      "2022-11-04 22:07:03.634811: I tensorflow/core/common_runtime/bfc_allocator.cc:1097] 1 Chunks of size 14593792 totalling 13.92MiB\n",
      "2022-11-04 22:07:03.634817: I tensorflow/core/common_runtime/bfc_allocator.cc:1097] 1 Chunks of size 15043584 totalling 14.35MiB\n",
      "2022-11-04 22:07:03.634823: I tensorflow/core/common_runtime/bfc_allocator.cc:1097] 1 Chunks of size 15071232 totalling 14.37MiB\n",
      "2022-11-04 22:07:03.634831: I tensorflow/core/common_runtime/bfc_allocator.cc:1097] 1 Chunks of size 15215616 totalling 14.51MiB\n",
      "2022-11-04 22:07:03.634837: I tensorflow/core/common_runtime/bfc_allocator.cc:1097] 2 Chunks of size 15728640 totalling 30.00MiB\n",
      "2022-11-04 22:07:03.634844: I tensorflow/core/common_runtime/bfc_allocator.cc:1097] 7 Chunks of size 16515072 totalling 110.25MiB\n",
      "2022-11-04 22:07:03.634850: I tensorflow/core/common_runtime/bfc_allocator.cc:1097] 6 Chunks of size 154414080 totalling 883.56MiB\n",
      "2022-11-04 22:07:03.634856: I tensorflow/core/common_runtime/bfc_allocator.cc:1097] 1 Chunks of size 154414336 totalling 147.26MiB\n",
      "2022-11-04 22:07:03.634862: I tensorflow/core/common_runtime/bfc_allocator.cc:1097] 1 Chunks of size 181666048 totalling 173.25MiB\n",
      "2022-11-04 22:07:03.634868: I tensorflow/core/common_runtime/bfc_allocator.cc:1097] 1 Chunks of size 196542464 totalling 187.44MiB\n",
      "2022-11-04 22:07:03.634874: I tensorflow/core/common_runtime/bfc_allocator.cc:1097] 1 Chunks of size 244891648 totalling 233.55MiB\n",
      "2022-11-04 22:07:03.634880: I tensorflow/core/common_runtime/bfc_allocator.cc:1097] 1 Chunks of size 264118016 totalling 251.88MiB\n",
      "2022-11-04 22:07:03.634887: I tensorflow/core/common_runtime/bfc_allocator.cc:1101] Sum Total of in-use chunks: 5.78GiB\n",
      "2022-11-04 22:07:03.634893: I tensorflow/core/common_runtime/bfc_allocator.cc:1103] total_region_allocated_bytes_: 6235881472 memory_limit_: 6235881472 available bytes: 0 curr_region_allocation_bytes_: 12471762944\n",
      "2022-11-04 22:07:03.634907: I tensorflow/core/common_runtime/bfc_allocator.cc:1109] Stats: \n",
      "Limit:                      6235881472\n",
      "InUse:                      6210867456\n",
      "MaxInUse:                   6210867456\n",
      "NumAllocs:                    10226042\n",
      "MaxAllocSize:                285527552\n",
      "Reserved:                            0\n",
      "PeakReserved:                        0\n",
      "LargestFreeBlock:                    0\n",
      "\n",
      "2022-11-04 22:07:03.635004: W tensorflow/core/common_runtime/bfc_allocator.cc:491] *******************************************************x*******************************************x\n",
      "2022-11-04 22:07:03.635112: W tensorflow/core/framework/op_kernel.cc:1780] OP_REQUIRES failed at resource_variable_ops.cc:457 : RESOURCE_EXHAUSTED: OOM when allocating tensor with shape[50265,768] and type float on /job:localhost/replica:0/task:0/device:GPU:0 by allocator GPU_0_bfc\n"
     ]
    },
    {
     "ename": "ResourceExhaustedError",
     "evalue": "{{function_node __wrapped__AssignVariableOp_device_/job:localhost/replica:0/task:0/device:GPU:0}} OOM when allocating tensor with shape[50265,768] and type float on /job:localhost/replica:0/task:0/device:GPU:0 by allocator GPU_0_bfc [Op:AssignVariableOp]",
     "output_type": "error",
     "traceback": [
      "\u001b[0;31m---------------------------------------------------------------------------\u001b[0m",
      "\u001b[0;31mResourceExhaustedError\u001b[0m                    Traceback (most recent call last)",
      "Cell \u001b[0;32mIn [12], line 2\u001b[0m\n\u001b[1;32m      1\u001b[0m \u001b[38;5;66;03m# Sg1 \u001b[39;00m\n\u001b[0;32m----> 2\u001b[0m results \u001b[38;5;241m=\u001b[39m measure(\u001b[43mrun_model_5fold\u001b[49m\u001b[43m(\u001b[49m\u001b[38;5;124;43m'\u001b[39;49m\u001b[38;5;124;43msg1\u001b[39;49m\u001b[38;5;124;43m'\u001b[39;49m\u001b[43m,\u001b[49m\u001b[43m \u001b[49m\u001b[43mdf_sg1\u001b[49m\u001b[43m,\u001b[49m\u001b[43m \u001b[49m\u001b[38;5;124;43m'\u001b[39;49m\u001b[38;5;124;43mdeberta\u001b[39;49m\u001b[38;5;124;43m'\u001b[39;49m\u001b[43m,\u001b[49m\u001b[43m \u001b[49m\u001b[43mfreeze_encoder\u001b[49m\u001b[38;5;241;43m=\u001b[39;49m\u001b[38;5;28;43;01mFalse\u001b[39;49;00m\u001b[43m,\u001b[49m\u001b[43m \u001b[49m\u001b[43mpretrained\u001b[49m\u001b[38;5;241;43m=\u001b[39;49m\u001b[38;5;28;43;01mTrue\u001b[39;49;00m\u001b[43m,\u001b[49m\u001b[43m \u001b[49m\u001b[43mplot\u001b[49m\u001b[38;5;241;43m=\u001b[39;49m\u001b[38;5;28;43;01mFalse\u001b[39;49;00m\u001b[43m,\u001b[49m\u001b[43m \u001b[49m\u001b[43mbatch_size\u001b[49m\u001b[38;5;241;43m=\u001b[39;49m\u001b[38;5;241;43m1\u001b[39;49m\u001b[43m)\u001b[49m, results)\n\u001b[1;32m      3\u001b[0m \u001b[38;5;28mprint\u001b[39m(results)\n",
      "Cell \u001b[0;32mIn [9], line 65\u001b[0m, in \u001b[0;36mrun_model_5fold\u001b[0;34m(df_name, df_train, model_name, freeze_encoder, pretrained, plot, batch_size)\u001b[0m\n\u001b[1;32m     63\u001b[0m     model \u001b[38;5;241m=\u001b[39m TFXLNetForSequenceClassification\u001b[38;5;241m.\u001b[39mfrom_pretrained(\u001b[38;5;124m'\u001b[39m\u001b[38;5;124mxlnet-base-cased\u001b[39m\u001b[38;5;124m'\u001b[39m)\n\u001b[1;32m     64\u001b[0m \u001b[38;5;28;01melif\u001b[39;00m model_name \u001b[38;5;241m==\u001b[39m \u001b[38;5;124m'\u001b[39m\u001b[38;5;124mdeberta\u001b[39m\u001b[38;5;124m'\u001b[39m:\n\u001b[0;32m---> 65\u001b[0m     model \u001b[38;5;241m=\u001b[39m \u001b[43mTFDebertaForSequenceClassification\u001b[49m\u001b[38;5;241;43m.\u001b[39;49m\u001b[43mfrom_pretrained\u001b[49m\u001b[43m(\u001b[49m\u001b[38;5;124;43m\"\u001b[39;49m\u001b[38;5;124;43mkamalkraj/deberta-base\u001b[39;49m\u001b[38;5;124;43m\"\u001b[39;49m\u001b[43m)\u001b[49m\n\u001b[1;32m     68\u001b[0m \u001b[38;5;28;01mif\u001b[39;00m freeze_encoder \u001b[38;5;241m==\u001b[39m \u001b[38;5;28;01mTrue\u001b[39;00m:\n\u001b[1;32m     69\u001b[0m     \u001b[38;5;28;01mfor\u001b[39;00m w \u001b[38;5;129;01min\u001b[39;00m model\u001b[38;5;241m.\u001b[39mget_layer(index\u001b[38;5;241m=\u001b[39m\u001b[38;5;241m0\u001b[39m)\u001b[38;5;241m.\u001b[39mweights:\n",
      "File \u001b[0;32m~/.local/lib/python3.10/site-packages/transformers/modeling_tf_utils.py:2558\u001b[0m, in \u001b[0;36mTFPreTrainedModel.from_pretrained\u001b[0;34m(cls, pretrained_model_name_or_path, *model_args, **kwargs)\u001b[0m\n\u001b[1;32m   2552\u001b[0m         missing_keys, unexpected_keys, mismatched_keys \u001b[38;5;241m=\u001b[39m load_tf_sharded_weights(\n\u001b[1;32m   2553\u001b[0m             model,\n\u001b[1;32m   2554\u001b[0m             resolved_archive_file,\n\u001b[1;32m   2555\u001b[0m             ignore_mismatched_sizes\u001b[38;5;241m=\u001b[39mignore_mismatched_sizes,\n\u001b[1;32m   2556\u001b[0m         )\n\u001b[1;32m   2557\u001b[0m     \u001b[38;5;28;01melse\u001b[39;00m:\n\u001b[0;32m-> 2558\u001b[0m         missing_keys, unexpected_keys, mismatched_keys \u001b[38;5;241m=\u001b[39m \u001b[43mload_tf_weights\u001b[49m\u001b[43m(\u001b[49m\n\u001b[1;32m   2559\u001b[0m \u001b[43m            \u001b[49m\u001b[43mmodel\u001b[49m\u001b[43m,\u001b[49m\n\u001b[1;32m   2560\u001b[0m \u001b[43m            \u001b[49m\u001b[43mresolved_archive_file\u001b[49m\u001b[43m,\u001b[49m\n\u001b[1;32m   2561\u001b[0m \u001b[43m            \u001b[49m\u001b[43mignore_mismatched_sizes\u001b[49m\u001b[38;5;241;43m=\u001b[39;49m\u001b[43mignore_mismatched_sizes\u001b[49m\u001b[43m,\u001b[49m\n\u001b[1;32m   2562\u001b[0m \u001b[43m            \u001b[49m\u001b[43m_prefix\u001b[49m\u001b[38;5;241;43m=\u001b[39;49m\u001b[43mload_weight_prefix\u001b[49m\u001b[43m,\u001b[49m\n\u001b[1;32m   2563\u001b[0m \u001b[43m        \u001b[49m\u001b[43m)\u001b[49m\n\u001b[1;32m   2564\u001b[0m \u001b[38;5;28;01mexcept\u001b[39;00m \u001b[38;5;167;01mOSError\u001b[39;00m \u001b[38;5;28;01mas\u001b[39;00m e:\n\u001b[1;32m   2565\u001b[0m     \u001b[38;5;28;01mtry\u001b[39;00m:\n",
      "File \u001b[0;32m~/.local/lib/python3.10/site-packages/transformers/modeling_tf_utils.py:939\u001b[0m, in \u001b[0;36mload_tf_weights\u001b[0;34m(model, resolved_archive_file, ignore_mismatched_sizes, _prefix)\u001b[0m\n\u001b[1;32m    936\u001b[0m                     weight_value_tuples\u001b[38;5;241m.\u001b[39mappend((symbolic_weight, array))\n\u001b[1;32m    938\u001b[0m \u001b[38;5;66;03m# Load all the weights\u001b[39;00m\n\u001b[0;32m--> 939\u001b[0m \u001b[43mK\u001b[49m\u001b[38;5;241;43m.\u001b[39;49m\u001b[43mbatch_set_value\u001b[49m\u001b[43m(\u001b[49m\u001b[43mweight_value_tuples\u001b[49m\u001b[43m)\u001b[49m\n\u001b[1;32m    941\u001b[0m \u001b[38;5;66;03m# Compute the missing and unexpected layers\u001b[39;00m\n\u001b[1;32m    942\u001b[0m missing_layers\u001b[38;5;241m.\u001b[39mextend(\u001b[38;5;28mlist\u001b[39m(symbolic_weights_names \u001b[38;5;241m-\u001b[39m saved_weight_names_set))\n",
      "File \u001b[0;32m~/miniconda3/envs/tf/lib/python3.10/site-packages/tensorflow/python/util/traceback_utils.py:153\u001b[0m, in \u001b[0;36mfilter_traceback.<locals>.error_handler\u001b[0;34m(*args, **kwargs)\u001b[0m\n\u001b[1;32m    151\u001b[0m \u001b[38;5;28;01mexcept\u001b[39;00m \u001b[38;5;167;01mException\u001b[39;00m \u001b[38;5;28;01mas\u001b[39;00m e:\n\u001b[1;32m    152\u001b[0m   filtered_tb \u001b[38;5;241m=\u001b[39m _process_traceback_frames(e\u001b[38;5;241m.\u001b[39m__traceback__)\n\u001b[0;32m--> 153\u001b[0m   \u001b[38;5;28;01mraise\u001b[39;00m e\u001b[38;5;241m.\u001b[39mwith_traceback(filtered_tb) \u001b[38;5;28;01mfrom\u001b[39;00m \u001b[38;5;28mNone\u001b[39m\n\u001b[1;32m    154\u001b[0m \u001b[38;5;28;01mfinally\u001b[39;00m:\n\u001b[1;32m    155\u001b[0m   \u001b[38;5;28;01mdel\u001b[39;00m filtered_tb\n",
      "File \u001b[0;32m~/miniconda3/envs/tf/lib/python3.10/site-packages/tensorflow/python/framework/ops.py:7209\u001b[0m, in \u001b[0;36mraise_from_not_ok_status\u001b[0;34m(e, name)\u001b[0m\n\u001b[1;32m   7207\u001b[0m \u001b[38;5;28;01mdef\u001b[39;00m \u001b[38;5;21mraise_from_not_ok_status\u001b[39m(e, name):\n\u001b[1;32m   7208\u001b[0m   e\u001b[38;5;241m.\u001b[39mmessage \u001b[38;5;241m+\u001b[39m\u001b[38;5;241m=\u001b[39m (\u001b[38;5;124m\"\u001b[39m\u001b[38;5;124m name: \u001b[39m\u001b[38;5;124m\"\u001b[39m \u001b[38;5;241m+\u001b[39m name \u001b[38;5;28;01mif\u001b[39;00m name \u001b[38;5;129;01mis\u001b[39;00m \u001b[38;5;129;01mnot\u001b[39;00m \u001b[38;5;28;01mNone\u001b[39;00m \u001b[38;5;28;01melse\u001b[39;00m \u001b[38;5;124m\"\u001b[39m\u001b[38;5;124m\"\u001b[39m)\n\u001b[0;32m-> 7209\u001b[0m   \u001b[38;5;28;01mraise\u001b[39;00m core\u001b[38;5;241m.\u001b[39m_status_to_exception(e) \u001b[38;5;28;01mfrom\u001b[39;00m \u001b[38;5;28mNone\u001b[39m\n",
      "\u001b[0;31mResourceExhaustedError\u001b[0m: {{function_node __wrapped__AssignVariableOp_device_/job:localhost/replica:0/task:0/device:GPU:0}} OOM when allocating tensor with shape[50265,768] and type float on /job:localhost/replica:0/task:0/device:GPU:0 by allocator GPU_0_bfc [Op:AssignVariableOp]"
     ]
    }
   ],
   "source": [
    "# Sg1 \n",
    "results = measure(run_model_5fold('sg1', df_sg1, 'deberta', freeze_encoder=False, pretrained=True, plot=False, batch_size=1), results)\n",
    "print(results)"
   ]
  },
  {
   "cell_type": "code",
   "execution_count": 17,
   "id": "e4c176ab",
   "metadata": {},
   "outputs": [
    {
     "name": "stderr",
     "output_type": "stream",
     "text": [
      "All model checkpoint layers were used when initializing TFDebertaForSequenceClassification.\n",
      "\n",
      "Some layers of TFDebertaForSequenceClassification were not initialized from the model checkpoint at kamalkraj/deberta-base and are newly initialized: ['cls_dropout', 'pooler', 'classifier']\n",
      "You should probably TRAIN this model on a down-stream task to be able to use it for predictions and inference.\n"
     ]
    },
    {
     "name": "stdout",
     "output_type": "stream",
     "text": [
      "### Start fold 1\n"
     ]
    },
    {
     "name": "stderr",
     "output_type": "stream",
     "text": [
      "Asking to truncate to max_length but no maximum length is provided and the model has no predefined maximum length. Default to no truncation.\n",
      "Asking to truncate to max_length but no maximum length is provided and the model has no predefined maximum length. Default to no truncation.\n",
      "All model checkpoint layers were used when initializing TFDebertaForSequenceClassification.\n",
      "\n",
      "Some layers of TFDebertaForSequenceClassification were not initialized from the model checkpoint at kamalkraj/deberta-base and are newly initialized: ['cls_dropout', 'pooler', 'classifier']\n",
      "You should probably TRAIN this model on a down-stream task to be able to use it for predictions and inference.\n"
     ]
    },
    {
     "name": "stdout",
     "output_type": "stream",
     "text": [
      "13/13 [==============================] - 40s 1s/step - loss: 2.3796 - val_loss: 0.7459\n",
      "4/4 [==============================] - 0s 84ms/step - loss: 0.7459\n",
      "4/4 [==============================] - 5s 91ms/step\n",
      "WARNING:tensorflow:Detecting that an object or model or tf.train.Checkpoint is being deleted with unrestored values. See the following logs for the specific values in question. To silence these warnings, use `status.expect_partial()`. See https://www.tensorflow.org/api_docs/python/tf/train/Checkpoint#restorefor details about the status object returned by the restore function.\n",
      "WARNING:tensorflow:Value in checkpoint could not be found in the restored object: (root).optimizer.iter\n",
      "WARNING:tensorflow:Value in checkpoint could not be found in the restored object: (root).optimizer.beta_1\n",
      "WARNING:tensorflow:Value in checkpoint could not be found in the restored object: (root).optimizer.beta_2\n",
      "WARNING:tensorflow:Value in checkpoint could not be found in the restored object: (root).optimizer.decay\n",
      "WARNING:tensorflow:Value in checkpoint could not be found in the restored object: (root).optimizer.learning_rate\n",
      "{'Dataset': 'sg2', 'Model': 'deberta', 'Distant': True, 'Loss': 0.7459329962730408, 'Accuracy': 0.43243243243243246, 'Precision': 0.43243243243243246, 'Recall': 1.0, 'F1': 0.6037735849056604, 'F1 Micro': 0.43243243243243246, 'F1 Weighted': 0.2610912799592045}\n",
      "  Dataset    Model Distant      Loss  Accuracy  Precision  Recall        F1  \\\n",
      "0     sg1  deberta    True  4.138522  0.500000   0.000000     0.0  0.000000   \n",
      "1     sg2  roberta    True  0.769735  0.459459   0.444444     1.0  0.615385   \n",
      "2     sg2  deberta    True  0.745933  0.432432   0.432432     1.0  0.603774   \n",
      "\n",
      "   F1 Micro  F1 Weighted  \n",
      "0  0.500000     0.333333  \n",
      "1  0.459459     0.317709  \n",
      "2  0.432432     0.261091  \n"
     ]
    },
    {
     "name": "stderr",
     "output_type": "stream",
     "text": [
      "/tmp/ipykernel_27636/70255357.py:23: FutureWarning: The frame.append method is deprecated and will be removed from pandas in a future version. Use pandas.concat instead.\n",
      "  results = results.append(row, ignore_index=True)\n",
      "/tmp/ipykernel_27636/70255357.py:23: FutureWarning: In a future version, object-dtype columns with all-bool values will not be included in reductions with bool_only=True. Explicitly cast to bool dtype instead.\n",
      "  results = results.append(row, ignore_index=True)\n"
     ]
    }
   ],
   "source": [
    "# Sg2 \n",
    "results = measure(run_model_5fold('sg2', df_sg2, 'deberta', freeze_encoder=False, pretrained=True, plot=False), results)\n",
    "print(results)"
   ]
  },
  {
   "cell_type": "markdown",
   "id": "0318ca89",
   "metadata": {},
   "source": [
    "## Distilbert"
   ]
  },
  {
   "cell_type": "code",
   "execution_count": 23,
   "id": "b3883467",
   "metadata": {},
   "outputs": [
    {
     "name": "stdout",
     "output_type": "stream",
     "text": [
      "### Start fold 1\n"
     ]
    },
    {
     "data": {
      "application/vnd.jupyter.widget-view+json": {
       "model_id": "c2690fc5c04a4ed891040f2c4d5e8baf",
       "version_major": 2,
       "version_minor": 0
      },
      "text/plain": [
       "Downloading:   0%|          | 0.00/232k [00:00<?, ?B/s]"
      ]
     },
     "metadata": {},
     "output_type": "display_data"
    },
    {
     "data": {
      "application/vnd.jupyter.widget-view+json": {
       "model_id": "0654f6daf688441e9ccf9655ef701d75",
       "version_major": 2,
       "version_minor": 0
      },
      "text/plain": [
       "Downloading:   0%|          | 0.00/28.0 [00:00<?, ?B/s]"
      ]
     },
     "metadata": {},
     "output_type": "display_data"
    },
    {
     "data": {
      "application/vnd.jupyter.widget-view+json": {
       "model_id": "076844c9d23f4bef81e37ed931362f63",
       "version_major": 2,
       "version_minor": 0
      },
      "text/plain": [
       "Downloading:   0%|          | 0.00/483 [00:00<?, ?B/s]"
      ]
     },
     "metadata": {},
     "output_type": "display_data"
    },
    {
     "data": {
      "application/vnd.jupyter.widget-view+json": {
       "model_id": "f701ef9e1454496580763f63792f1e7f",
       "version_major": 2,
       "version_minor": 0
      },
      "text/plain": [
       "Downloading:   0%|          | 0.00/363M [00:00<?, ?B/s]"
      ]
     },
     "metadata": {},
     "output_type": "display_data"
    },
    {
     "name": "stderr",
     "output_type": "stream",
     "text": [
      "Some layers from the model checkpoint at distilbert-base-uncased were not used when initializing TFDistilBertForSequenceClassification: ['activation_13', 'vocab_layer_norm', 'vocab_transform', 'vocab_projector']\n",
      "- This IS expected if you are initializing TFDistilBertForSequenceClassification from the checkpoint of a model trained on another task or with another architecture (e.g. initializing a BertForSequenceClassification model from a BertForPreTraining model).\n",
      "- This IS NOT expected if you are initializing TFDistilBertForSequenceClassification from the checkpoint of a model that you expect to be exactly identical (initializing a BertForSequenceClassification model from a BertForSequenceClassification model).\n",
      "Some layers of TFDistilBertForSequenceClassification were not initialized from the model checkpoint at distilbert-base-uncased and are newly initialized: ['dropout_19', 'classifier', 'pre_classifier']\n",
      "You should probably TRAIN this model on a down-stream task to be able to use it for predictions and inference.\n"
     ]
    },
    {
     "name": "stdout",
     "output_type": "stream",
     "text": [
      "6/6 [==============================] - 9s 424ms/step - loss: 1.6819 - val_loss: 0.8514\n",
      "2/2 [==============================] - 0s 43ms/step - loss: 0.8514\n",
      "2/2 [==============================] - 1s 34ms/step\n",
      "{'Dataset': 'sg1', 'Model': 'distilbert', 'Distant': False, 'Loss': 0.8513896465301514, 'Accuracy': 0.5, 'Precision': 0.0, 'Recall': 0.0, 'F1': 0.0, 'F1 Micro': 0.5, 'F1 Weighted': 0.3333333333333333}\n",
      "  Dataset       Model Distant      Loss  Accuracy  Precision  Recall  \\\n",
      "0     sg1     deberta    True  4.138522  0.500000   0.000000    0.00   \n",
      "1     sg2     roberta    True  0.769735  0.459459   0.444444    1.00   \n",
      "2     sg2     deberta    True  0.745933  0.432432   0.432432    1.00   \n",
      "3     sg1     electra   False  1.042484  0.437500   0.461538    0.75   \n",
      "4     sg1       xlnet   False  3.889588  0.500000   0.500000    1.00   \n",
      "5     sg1  distilbert   False  0.851390  0.500000   0.000000    0.00   \n",
      "\n",
      "         F1  F1 Micro  F1 Weighted  \n",
      "0  0.000000  0.500000     0.333333  \n",
      "1  0.615385  0.459459     0.317709  \n",
      "2  0.603774  0.432432     0.261091  \n",
      "3  0.571429  0.437500     0.376623  \n",
      "4  0.666667  0.500000     0.333333  \n",
      "5  0.000000  0.500000     0.333333  \n"
     ]
    },
    {
     "name": "stderr",
     "output_type": "stream",
     "text": [
      "/home/jstil/.local/lib/python3.10/site-packages/sklearn/metrics/_classification.py:1334: UndefinedMetricWarning: Precision is ill-defined and being set to 0.0 due to no predicted samples. Use `zero_division` parameter to control this behavior.\n",
      "  _warn_prf(average, modifier, msg_start, len(result))\n",
      "/tmp/ipykernel_27636/70255357.py:23: FutureWarning: The frame.append method is deprecated and will be removed from pandas in a future version. Use pandas.concat instead.\n",
      "  results = results.append(row, ignore_index=True)\n",
      "/tmp/ipykernel_27636/70255357.py:23: FutureWarning: In a future version, object-dtype columns with all-bool values will not be included in reductions with bool_only=True. Explicitly cast to bool dtype instead.\n",
      "  results = results.append(row, ignore_index=True)\n"
     ]
    }
   ],
   "source": [
    "# Sg1 \n",
    "results = measure(run_model_5fold('sg1', df_sg1, 'distilbert', freeze_encoder=False, pretrained=False, plot=False), results)\n",
    "print(results)"
   ]
  },
  {
   "cell_type": "code",
   "execution_count": null,
   "id": "6f067395",
   "metadata": {},
   "outputs": [],
   "source": [
    "# Sg2 \n",
    "results = measure(run_model_5fold('sg2', df_sg2, 'distilbert', freeze_encoder=False, pretrained=False, plot=False), results)\n",
    "print(results)"
   ]
  },
  {
   "cell_type": "markdown",
   "id": "920adc2e",
   "metadata": {},
   "source": [
    "## Xlnet"
   ]
  },
  {
   "cell_type": "code",
   "execution_count": 22,
   "id": "a4e5a107",
   "metadata": {},
   "outputs": [
    {
     "name": "stdout",
     "output_type": "stream",
     "text": [
      "### Start fold 1\n"
     ]
    },
    {
     "name": "stderr",
     "output_type": "stream",
     "text": [
      "Asking to truncate to max_length but no maximum length is provided and the model has no predefined maximum length. Default to no truncation.\n",
      "Asking to truncate to max_length but no maximum length is provided and the model has no predefined maximum length. Default to no truncation.\n",
      "/home/jstil/miniconda3/envs/tf/lib/python3.10/site-packages/keras/initializers/initializers_v2.py:120: UserWarning: The initializer TruncatedNormal is unseeded and being called multiple times, which will return identical values  each time (even if the initializer is unseeded). Please update your code to provide a seed to the initializer, or avoid using the same initalizer instance more than once.\n",
      "  warnings.warn(\n",
      "Some layers from the model checkpoint at xlnet-base-cased were not used when initializing TFXLNetForSequenceClassification: ['lm_loss']\n",
      "- This IS expected if you are initializing TFXLNetForSequenceClassification from the checkpoint of a model trained on another task or with another architecture (e.g. initializing a BertForSequenceClassification model from a BertForPreTraining model).\n",
      "- This IS NOT expected if you are initializing TFXLNetForSequenceClassification from the checkpoint of a model that you expect to be exactly identical (initializing a BertForSequenceClassification model from a BertForSequenceClassification model).\n",
      "Some layers of TFXLNetForSequenceClassification were not initialized from the model checkpoint at xlnet-base-cased and are newly initialized: ['sequence_summary', 'logits_proj']\n",
      "You should probably TRAIN this model on a down-stream task to be able to use it for predictions and inference.\n"
     ]
    },
    {
     "name": "stdout",
     "output_type": "stream",
     "text": [
      "WARNING:tensorflow:Gradients do not exist for variables ['tfxl_net_for_sequence_classification_1/transformer/mask_emb:0'] when minimizing the loss. If you're using `model.compile()`, did you forget to provide a `loss` argument?\n",
      "WARNING:tensorflow:Gradients do not exist for variables ['tfxl_net_for_sequence_classification_1/transformer/mask_emb:0'] when minimizing the loss. If you're using `model.compile()`, did you forget to provide a `loss` argument?\n",
      "6/6 [==============================] - 16s 830ms/step - loss: 2.5299 - val_loss: 3.8896\n",
      "2/2 [==============================] - 0s 60ms/step - loss: 3.8896\n",
      "{'Dataset': 'sg1', 'Model': 'xlnet', 'Distant': False, 'Loss': 3.8895883560180664, 'Accuracy': 0.5, 'Precision': 0.5, 'Recall': 1.0, 'F1': 0.6666666666666666, 'F1 Micro': 0.5, 'F1 Weighted': 0.3333333333333333}\n",
      "  Dataset    Model Distant      Loss  Accuracy  Precision  Recall        F1  \\\n",
      "0     sg1  deberta    True  4.138522  0.500000   0.000000    0.00  0.000000   \n",
      "1     sg2  roberta    True  0.769735  0.459459   0.444444    1.00  0.615385   \n",
      "2     sg2  deberta    True  0.745933  0.432432   0.432432    1.00  0.603774   \n",
      "3     sg1  electra   False  1.042484  0.437500   0.461538    0.75  0.571429   \n",
      "4     sg1    xlnet   False  3.889588  0.500000   0.500000    1.00  0.666667   \n",
      "\n",
      "   F1 Micro  F1 Weighted  \n",
      "0  0.500000     0.333333  \n",
      "1  0.459459     0.317709  \n",
      "2  0.432432     0.261091  \n",
      "3  0.437500     0.376623  \n",
      "4  0.500000     0.333333  \n"
     ]
    },
    {
     "name": "stderr",
     "output_type": "stream",
     "text": [
      "/tmp/ipykernel_27636/70255357.py:23: FutureWarning: The frame.append method is deprecated and will be removed from pandas in a future version. Use pandas.concat instead.\n",
      "  results = results.append(row, ignore_index=True)\n",
      "/tmp/ipykernel_27636/70255357.py:23: FutureWarning: In a future version, object-dtype columns with all-bool values will not be included in reductions with bool_only=True. Explicitly cast to bool dtype instead.\n",
      "  results = results.append(row, ignore_index=True)\n"
     ]
    }
   ],
   "source": [
    "# Sg1 \n",
    "results = measure(run_model_5fold('sg1', df_sg1, 'xlnet', freeze_encoder=False, pretrained=False, plot=False), results)\n",
    "print(results)"
   ]
  },
  {
   "cell_type": "code",
   "execution_count": null,
   "id": "d64444ee",
   "metadata": {},
   "outputs": [],
   "source": [
    "# Sg2 \n",
    "results = measure(run_model_5fold('sg2', df_sg2, 'xlnet', freeze_encoder=False, pretrained=False, plot=False), results)\n",
    "print(results)"
   ]
  },
  {
   "cell_type": "markdown",
   "id": "4477bc36",
   "metadata": {},
   "source": [
    "## Electra"
   ]
  },
  {
   "cell_type": "code",
   "execution_count": 18,
   "id": "02019c24",
   "metadata": {},
   "outputs": [
    {
     "name": "stdout",
     "output_type": "stream",
     "text": [
      "### Start fold 1\n"
     ]
    },
    {
     "data": {
      "application/vnd.jupyter.widget-view+json": {
       "model_id": "a8c069312bd54694ae317112b8d0d7c7",
       "version_major": 2,
       "version_minor": 0
      },
      "text/plain": [
       "Downloading:   0%|          | 0.00/232k [00:00<?, ?B/s]"
      ]
     },
     "metadata": {},
     "output_type": "display_data"
    },
    {
     "data": {
      "application/vnd.jupyter.widget-view+json": {
       "model_id": "11196178ded844b7a1369d9cd31acfcc",
       "version_major": 2,
       "version_minor": 0
      },
      "text/plain": [
       "Downloading:   0%|          | 0.00/29.0 [00:00<?, ?B/s]"
      ]
     },
     "metadata": {},
     "output_type": "display_data"
    },
    {
     "data": {
      "application/vnd.jupyter.widget-view+json": {
       "model_id": "c78a6d4fa60647dfb75da096913c5984",
       "version_major": 2,
       "version_minor": 0
      },
      "text/plain": [
       "Downloading:   0%|          | 0.00/665 [00:00<?, ?B/s]"
      ]
     },
     "metadata": {},
     "output_type": "display_data"
    },
    {
     "data": {
      "application/vnd.jupyter.widget-view+json": {
       "model_id": "953f6402070447a6a667637fbd9a730b",
       "version_major": 2,
       "version_minor": 0
      },
      "text/plain": [
       "Downloading:   0%|          | 0.00/54.5M [00:00<?, ?B/s]"
      ]
     },
     "metadata": {},
     "output_type": "display_data"
    },
    {
     "name": "stderr",
     "output_type": "stream",
     "text": [
      "Some layers from the model checkpoint at google/electra-small-discriminator were not used when initializing TFElectraForSequenceClassification: ['discriminator_predictions']\n",
      "- This IS expected if you are initializing TFElectraForSequenceClassification from the checkpoint of a model trained on another task or with another architecture (e.g. initializing a BertForSequenceClassification model from a BertForPreTraining model).\n",
      "- This IS NOT expected if you are initializing TFElectraForSequenceClassification from the checkpoint of a model that you expect to be exactly identical (initializing a BertForSequenceClassification model from a BertForSequenceClassification model).\n",
      "Some layers of TFElectraForSequenceClassification were not initialized from the model checkpoint at google/electra-small-discriminator and are newly initialized: ['classifier']\n",
      "You should probably TRAIN this model on a down-stream task to be able to use it for predictions and inference.\n"
     ]
    },
    {
     "name": "stdout",
     "output_type": "stream",
     "text": [
      "6/6 [==============================] - 19s 652ms/step - loss: 1.9600 - val_loss: 1.0425\n",
      "2/2 [==============================] - 0s 61ms/step - loss: 1.0425\n",
      "2/2 [==============================] - 3s 104ms/step\n",
      "{'Dataset': 'sg1', 'Model': 'electra', 'Distant': False, 'Loss': 1.0424840450286865, 'Accuracy': 0.4375, 'Precision': 0.46153846153846156, 'Recall': 0.75, 'F1': 0.5714285714285714, 'F1 Micro': 0.4375, 'F1 Weighted': 0.37662337662337664}\n",
      "  Dataset    Model Distant      Loss  Accuracy  Precision  Recall        F1  \\\n",
      "0     sg1  deberta    True  4.138522  0.500000   0.000000    0.00  0.000000   \n",
      "1     sg2  roberta    True  0.769735  0.459459   0.444444    1.00  0.615385   \n",
      "2     sg2  deberta    True  0.745933  0.432432   0.432432    1.00  0.603774   \n",
      "3     sg1  electra   False  1.042484  0.437500   0.461538    0.75  0.571429   \n",
      "\n",
      "   F1 Micro  F1 Weighted  \n",
      "0  0.500000     0.333333  \n",
      "1  0.459459     0.317709  \n",
      "2  0.432432     0.261091  \n",
      "3  0.437500     0.376623  \n"
     ]
    },
    {
     "name": "stderr",
     "output_type": "stream",
     "text": [
      "/tmp/ipykernel_27636/70255357.py:23: FutureWarning: The frame.append method is deprecated and will be removed from pandas in a future version. Use pandas.concat instead.\n",
      "  results = results.append(row, ignore_index=True)\n",
      "/tmp/ipykernel_27636/70255357.py:23: FutureWarning: In a future version, object-dtype columns with all-bool values will not be included in reductions with bool_only=True. Explicitly cast to bool dtype instead.\n",
      "  results = results.append(row, ignore_index=True)\n"
     ]
    }
   ],
   "source": [
    "# Sg1 \n",
    "results = measure(run_model_5fold('sg1', df_sg1, 'electra', freeze_encoder=False, pretrained=False, plot=False), results)\n",
    "print(results)"
   ]
  },
  {
   "cell_type": "code",
   "execution_count": null,
   "id": "8073b131",
   "metadata": {},
   "outputs": [],
   "source": [
    "# Sg2 \n",
    "results = measure(run_model_5fold('sg2', df_sg2, 'electra', freeze_encoder=False, pretrained=False, plot=False), results)\n",
    "print(results)"
   ]
  }
 ],
 "metadata": {
  "kernelspec": {
   "display_name": "tf",
   "language": "python",
   "name": "tf"
  },
  "language_info": {
   "codemirror_mode": {
    "name": "ipython",
    "version": 3
   },
   "file_extension": ".py",
   "mimetype": "text/x-python",
   "name": "python",
   "nbconvert_exporter": "python",
   "pygments_lexer": "ipython3",
   "version": "3.10.6"
  }
 },
 "nbformat": 4,
 "nbformat_minor": 5
}
